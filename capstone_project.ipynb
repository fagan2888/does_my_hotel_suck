{
 "cells": [
  {
   "cell_type": "markdown",
   "metadata": {},
   "source": [
    "**Preparing the environment.  Importing all the goodies.**"
   ]
  },
  {
   "cell_type": "code",
   "execution_count": 1,
   "metadata": {},
   "outputs": [
    {
     "name": "stdout",
     "output_type": "stream",
     "text": [
      "[nltk_data] Downloading package stopwords to\n",
      "[nltk_data]     /home/fablabep/nltk_data...\n",
      "[nltk_data]   Package stopwords is already up-to-date!\n"
     ]
    }
   ],
   "source": [
    "import re\n",
    "import pandas as pd\n",
    "import numpy as np\n",
    "from pprint import pprint\n",
    "\n",
    "# Get NLTK stopwords\n",
    "import nltk; nltk.download('stopwords')\n",
    "from nltk.corpus import stopwords\n",
    "\n",
    "# Import gensim goodies\n",
    "import gensim\n",
    "import gensim.corpora as corpora\n",
    "from gensim.utils import simple_preprocess\n",
    "from gensim.models import CoherenceModel\n",
    "\n",
    "# Import spacy for lemmatization\n",
    "import spacy\n",
    "from spacy.lang.en import English\n",
    "\n",
    "# Import plotting goodies\n",
    "import pyLDAvis\n",
    "import pyLDAvis.gensim\n",
    "import matplotlib.pyplot as plt\n",
    "%matplotlib inline\n",
    "\n",
    "import warnings\n",
    "warnings.filterwarnings('ignore', category=DeprecationWarning)"
   ]
  },
  {
   "cell_type": "markdown",
   "metadata": {},
   "source": [
    "**Set English stopwords**"
   ]
  },
  {
   "cell_type": "code",
   "execution_count": 2,
   "metadata": {},
   "outputs": [],
   "source": [
    "stop_words = stopwords.words('english')"
   ]
  },
  {
   "cell_type": "markdown",
   "metadata": {},
   "source": [
    "**Get dataset from file.  Drop rows lacking a classification code.**"
   ]
  },
  {
   "cell_type": "code",
   "execution_count": 3,
   "metadata": {},
   "outputs": [],
   "source": [
    "source_file = '/home/fablabep/Downloads/renovation_labeled copy.csv'\n",
    "reviews = pd.read_csv(source_file, sep='\\t', error_bad_lines=False)[['text', 'Code']].dropna()"
   ]
  },
  {
   "cell_type": "markdown",
   "metadata": {},
   "source": [
    "**Let's look at the data!**"
   ]
  },
  {
   "cell_type": "code",
   "execution_count": 4,
   "metadata": {},
   "outputs": [
    {
     "data": {
      "text/html": [
       "<div>\n",
       "<style scoped>\n",
       "    .dataframe tbody tr th:only-of-type {\n",
       "        vertical-align: middle;\n",
       "    }\n",
       "\n",
       "    .dataframe tbody tr th {\n",
       "        vertical-align: top;\n",
       "    }\n",
       "\n",
       "    .dataframe thead th {\n",
       "        text-align: right;\n",
       "    }\n",
       "</style>\n",
       "<table border=\"1\" class=\"dataframe\">\n",
       "  <thead>\n",
       "    <tr style=\"text-align: right;\">\n",
       "      <th></th>\n",
       "      <th>text</th>\n",
       "      <th>Code</th>\n",
       "    </tr>\n",
       "  </thead>\n",
       "  <tbody>\n",
       "    <tr>\n",
       "      <th>0</th>\n",
       "      <td>Our room was across a warren of stairs and rat...</td>\n",
       "      <td>1.0</td>\n",
       "    </tr>\n",
       "    <tr>\n",
       "      <th>1</th>\n",
       "      <td>The whole room was in urgent need of renovation .</td>\n",
       "      <td>1.0</td>\n",
       "    </tr>\n",
       "    <tr>\n",
       "      <th>2</th>\n",
       "      <td>Completely run down and in need of room renova...</td>\n",
       "      <td>1.0</td>\n",
       "    </tr>\n",
       "    <tr>\n",
       "      <th>3</th>\n",
       "      <td>Although ideally located but this needs lot of...</td>\n",
       "      <td>1.0</td>\n",
       "    </tr>\n",
       "    <tr>\n",
       "      <th>4</th>\n",
       "      <td>Having just spent the previous 5 days of my vi...</td>\n",
       "      <td>1.0</td>\n",
       "    </tr>\n",
       "  </tbody>\n",
       "</table>\n",
       "</div>"
      ],
      "text/plain": [
       "                                                text  Code\n",
       "0  Our room was across a warren of stairs and rat...   1.0\n",
       "1  The whole room was in urgent need of renovation .   1.0\n",
       "2  Completely run down and in need of room renova...   1.0\n",
       "3  Although ideally located but this needs lot of...   1.0\n",
       "4  Having just spent the previous 5 days of my vi...   1.0"
      ]
     },
     "execution_count": 4,
     "metadata": {},
     "output_type": "execute_result"
    }
   ],
   "source": [
    "reviews.head()"
   ]
  },
  {
   "cell_type": "markdown",
   "metadata": {},
   "source": [
    "**Data contains some review text and a code corresponding to: 1 = Needs Renovation; 2 = Currently Renovating; 3 = Recently Renovated.**"
   ]
  },
  {
   "cell_type": "markdown",
   "metadata": {},
   "source": [
    "**Set English as language for lemmatization**"
   ]
  },
  {
   "cell_type": "code",
   "execution_count": 5,
   "metadata": {},
   "outputs": [
    {
     "data": {
      "text/plain": [
       "<spacy.lang.en.English at 0x7f8412fd5ac8>"
      ]
     },
     "execution_count": 5,
     "metadata": {},
     "output_type": "execute_result"
    }
   ],
   "source": [
    "spacy.load('en')"
   ]
  },
  {
   "cell_type": "markdown",
   "metadata": {},
   "source": [
    "**Preprocess review text**"
   ]
  },
  {
   "cell_type": "code",
   "execution_count": 6,
   "metadata": {},
   "outputs": [],
   "source": [
    "reviews_processed = [gensim.utils.simple_preprocess(sentence, deacc=True) for sentence in reviews['text']]"
   ]
  },
  {
   "cell_type": "markdown",
   "metadata": {},
   "source": [
    "**Generate bigram and trigram models for preprocessing text.  This should reduce the number of features used later for training models.**"
   ]
  },
  {
   "cell_type": "code",
   "execution_count": 7,
   "metadata": {},
   "outputs": [
    {
     "name": "stderr",
     "output_type": "stream",
     "text": [
      "/home/fablabep/anaconda3/envs/capstone/lib/python3.6/site-packages/gensim/models/phrases.py:494: UserWarning: For a faster implementation, use the gensim.models.phrases.Phraser class\n",
      "  warnings.warn(\"For a faster implementation, use the gensim.models.phrases.Phraser class\")\n"
     ]
    }
   ],
   "source": [
    "bigram = gensim.models.Phrases(reviews_processed, min_count=3, threshold=30)\n",
    "bigram_mod = gensim.models.phrases.Phraser(bigram)\n",
    "\n",
    "trigram = gensim.models.Phrases(bigram[reviews_processed], threshold=30)\n",
    "trigram_mod = gensim.models.phrases.Phraser(trigram)"
   ]
  },
  {
   "cell_type": "markdown",
   "metadata": {},
   "source": [
    "**Set up some functions to remove stopwords, make bigrams & trigrams, and lemmatize the preprocessed text from reviews**"
   ]
  },
  {
   "cell_type": "code",
   "execution_count": 8,
   "metadata": {},
   "outputs": [],
   "source": [
    "def remove_stopwords(reviews):\n",
    "    return [[word for word in review if word not in stop_words] for review in reviews]\n",
    "\n",
    "def make_bigrams(reviews):\n",
    "    return [bigram_mod[review] for review in reviews]\n",
    "\n",
    "def make_trigrams(reviews):\n",
    "    return [trigram_mod[bigram_mod[review]] for review in reviews]\n",
    "\n",
    "def lemmatization(reviews, allowed_postags=['NOUN', 'ADJ', 'VERB', 'ADV']):\n",
    "    reviews_out = []\n",
    "    for review in reviews:\n",
    "        doc = nlp(\" \".join(review))\n",
    "        #reviews_out.append([token.lemma_ for token in doc])\n",
    "        reviews_out.append([token.lemma_ for token in doc if token.pos_ in allowed_postags]) #filters POS tags\n",
    "    return reviews_out"
   ]
  },
  {
   "cell_type": "markdown",
   "metadata": {},
   "source": [
    "**Finish up pre-processing**"
   ]
  },
  {
   "cell_type": "code",
   "execution_count": 9,
   "metadata": {},
   "outputs": [],
   "source": [
    "nlp = spacy.load('en', disable=['parser', 'ner'])\n",
    "\n",
    "reviews_processed_nostops = remove_stopwords(reviews_processed)\n",
    "\n",
    "reviews_processed_bigrams = make_bigrams(reviews_processed_nostops)\n",
    "\n",
    "reviews_processed_trigrams = make_trigrams(reviews_processed_bigrams)\n",
    "\n",
    "reviews_lemmatized = lemmatization(reviews_processed_trigrams)"
   ]
  },
  {
   "cell_type": "markdown",
   "metadata": {},
   "source": [
    "**Let's look at a lemmatized review!**"
   ]
  },
  {
   "cell_type": "code",
   "execution_count": 10,
   "metadata": {},
   "outputs": [
    {
     "name": "stdout",
     "output_type": "stream",
     "text": [
      "['room', 'warren', 'stair', 'rat', 'run', 'arrive', 'heart', 'sink', 'dark', 'dingy', 'bathroom', 'last', 'renovate', 'late', 'look', 'state']\n"
     ]
    }
   ],
   "source": [
    "print(reviews_lemmatized[0])"
   ]
  },
  {
   "cell_type": "markdown",
   "metadata": {},
   "source": [
    "**Let's start building a corpus from the lemmatized review text.  Start by assigning each word an integer ID.**"
   ]
  },
  {
   "cell_type": "code",
   "execution_count": 11,
   "metadata": {},
   "outputs": [],
   "source": [
    "id2word = corpora.Dictionary(reviews_lemmatized)"
   ]
  },
  {
   "cell_type": "markdown",
   "metadata": {},
   "source": [
    "**Filter out common and rare words from the corpus**"
   ]
  },
  {
   "cell_type": "code",
   "execution_count": 12,
   "metadata": {},
   "outputs": [],
   "source": [
    "id2word.filter_extremes(no_below=10, no_above=0.7)"
   ]
  },
  {
   "cell_type": "markdown",
   "metadata": {},
   "source": [
    "**Convert each review into bag of words**"
   ]
  },
  {
   "cell_type": "code",
   "execution_count": 13,
   "metadata": {},
   "outputs": [],
   "source": [
    "corpus = [id2word.doc2bow(review) for review in reviews_lemmatized]"
   ]
  },
  {
   "cell_type": "code",
   "execution_count": 14,
   "metadata": {},
   "outputs": [
    {
     "data": {
      "text/plain": [
       "971"
      ]
     },
     "execution_count": 14,
     "metadata": {},
     "output_type": "execute_result"
    }
   ],
   "source": [
    "len(id2word)"
   ]
  },
  {
   "cell_type": "markdown",
   "metadata": {},
   "source": [
    "**Let's take a look at a processed review and the frequency of occurence for each word**"
   ]
  },
  {
   "cell_type": "code",
   "execution_count": 15,
   "metadata": {},
   "outputs": [
    {
     "data": {
      "text/plain": [
       "[[('arrive', 1),\n",
       "  ('bathroom', 1),\n",
       "  ('dark', 1),\n",
       "  ('last', 1),\n",
       "  ('late', 1),\n",
       "  ('look', 1),\n",
       "  ('renovate', 1),\n",
       "  ('room', 1),\n",
       "  ('run', 1),\n",
       "  ('sink', 1),\n",
       "  ('stair', 1),\n",
       "  ('state', 1)]]"
      ]
     },
     "execution_count": 15,
     "metadata": {},
     "output_type": "execute_result"
    }
   ],
   "source": [
    "[[(id2word[id], freq) for id, freq in word] for word in corpus[:1]]"
   ]
  },
  {
   "cell_type": "markdown",
   "metadata": {},
   "source": [
    "**Function to compute coherence values for LDA models to help pick the optimal number of topics**"
   ]
  },
  {
   "cell_type": "code",
   "execution_count": 16,
   "metadata": {},
   "outputs": [],
   "source": [
    "def compute_coherence_values(dictionary, corpus, texts, limit, start, step):\n",
    "    coherence_values = []\n",
    "    model_list = []\n",
    "    for num_topics in range(start, limit, step):\n",
    "        model = gensim.models.ldamodel.LdaModel(corpus=corpus,\n",
    "                                           id2word=id2word,\n",
    "                                           num_topics=num_topics,\n",
    "                                           random_state=100,\n",
    "                                           update_every=1,\n",
    "                                           chunksize=chunk_size,\n",
    "                                           passes=30,\n",
    "                                           alpha='auto',\n",
    "                                           per_word_topics=True)\n",
    "        model_list.append(model)\n",
    "        coherencemodel = CoherenceModel(model=model, texts=texts, dictionary=dictionary, coherence='c_v')\n",
    "        coherence_values.append(coherencemodel.get_coherence())\n",
    "\n",
    "    return model_list, coherence_values"
   ]
  },
  {
   "cell_type": "markdown",
   "metadata": {},
   "source": [
    "**Set some values for generating LDA topic models**"
   ]
  },
  {
   "cell_type": "code",
   "execution_count": 17,
   "metadata": {},
   "outputs": [],
   "source": [
    "limit = 100\n",
    "start = 60\n",
    "step = 10\n",
    "chunk_size = len(corpus)/20"
   ]
  },
  {
   "cell_type": "markdown",
   "metadata": {},
   "source": [
    "**Generate the LDA topic models and plot coherence as a function of number of topics**"
   ]
  },
  {
   "cell_type": "code",
   "execution_count": 346,
   "metadata": {},
   "outputs": [
    {
     "data": {
      "image/png": "[encoded data removed]",
      "text/plain": [
       "<Figure size 432x288 with 1 Axes>"
      ]
     },
     "metadata": {
      "needs_background": "light"
     },
     "output_type": "display_data"
    }
   ],
   "source": [
    "model_list, coherence_values = compute_coherence_values(dictionary=id2word, corpus=corpus, texts=reviews_lemmatized, start=start, limit=limit, step=step)\n",
    "x = range(start, limit, step)\n",
    "plt.plot(x, coherence_values)\n",
    "plt.xlabel(\"Num Topics\")\n",
    "plt.ylabel(\"Coherence score\")\n",
    "plt.legend((\"coherence_values\"), loc='best')\n",
    "plt.show()"
   ]
  },
  {
   "cell_type": "markdown",
   "metadata": {},
   "source": [
    "**Select the model with greatest coherence**"
   ]
  },
  {
   "cell_type": "code",
   "execution_count": 347,
   "metadata": {},
   "outputs": [],
   "source": [
    "lda_model = model_list[1]"
   ]
  },
  {
   "cell_type": "markdown",
   "metadata": {},
   "source": [
    "**Print the coherence of the selected model**"
   ]
  },
  {
   "cell_type": "code",
   "execution_count": 348,
   "metadata": {},
   "outputs": [
    {
     "name": "stdout",
     "output_type": "stream",
     "text": [
      "\n",
      "Coherence Score:  0.573509409858555\n"
     ]
    }
   ],
   "source": [
    "coherence_model_lda = CoherenceModel(model=lda_model, texts=reviews_lemmatized, dictionary=id2word, coherence='c_v')\n",
    "coherence_lda = coherence_model_lda.get_coherence()\n",
    "print('\\nCoherence Score: ', coherence_lda)"
   ]
  },
  {
   "cell_type": "markdown",
   "metadata": {},
   "source": [
    "**Let's visualize the topics in the selected model**"
   ]
  },
  {
   "cell_type": "code",
   "execution_count": 20,
   "metadata": {},
   "outputs": [
    {
     "name": "stderr",
     "output_type": "stream",
     "text": [
      "/home/fablabep/anaconda3/envs/capstone/lib/python3.6/site-packages/pyLDAvis/_prepare.py:257: FutureWarning: Sorting because non-concatenation axis is not aligned. A future version\n",
      "of pandas will change to not sort by default.\n",
      "\n",
      "To accept the future behavior, pass 'sort=False'.\n",
      "\n",
      "To retain the current behavior and silence the warning, pass 'sort=True'.\n",
      "\n",
      "  return pd.concat([default_term_info] + list(topic_dfs))\n"
     ]
    },
    {
     "data": {
      "text/html": [
       "\n",
       "<link rel=\"stylesheet\" type=\"text/css\" href=\"https://cdn.rawgit.com/bmabey/pyLDAvis/files/ldavis.v1.0.0.css\">\n",
       "\n",
       "\n",
       "<div id=\"ldavis_el43141402048726290087517770072\"></div>\n",
       "<script type=\"text/javascript\">\n",
       "\n",
       "var ldavis_el43141402048726290087517770072_data = {\"mdsDat\": {\"x\": [0.06011364884058995, 0.03070995318939191, -0.013244387179735681, 0.07487910932488988, -0.029014724128182692, 0.04691893664510829, -0.01900856712025232, 0.02849848281273771, -0.1404169217852003, -0.11688573215214663, -0.07090345105625204, 0.0013166372379615212, 0.07262314079930599, 0.0013223094556425955, -0.04350246760348889, 0.05609638807493859, 0.05531721144091578, 0.09054384832694894, -0.03171289515065516, -0.23095909829327835, 0.018501714622726876, -0.011778333063061685, -0.023501915871515133, -0.09785146633668339, 0.053752509047505975, -0.04298506458777709, -0.017975447946251246, -0.0005409609954956355, 0.0761191227535294, -0.16298106864088466, -0.024384403053606864, 0.039431187888489906, 0.08962445636697176, 0.018598570977790205, -0.007853141253940944, -0.06172033688256567, 0.05110060430850113, -0.017807144212227906, 0.045230134092056874, -0.03518222138729816, 0.007096617364753457, 0.03392474782524813, 0.003362513219672798, 0.025210290821278004, 0.028628137001635818, 0.044716625794727155, -0.0141853491338597, -0.0009439575838147311, -0.015834420753626666, -0.052364048152405515, -0.01527437520870485, 0.040232905076139455, 0.08006323027151513, 0.07005486911592271, 0.011342353966333082, 0.04489200325041584, -0.04667633682393809, 0.06756650347749765, 0.06020795564362423, 0.03888248203179214, 0.06075539818835567, -0.09780815878107119, -0.05496005974901724, -0.08436554059906426, -0.03782459435117276, 0.04531092162426429, 0.012053526384209524, -0.06745483655404472, -0.03284569118645733, 0.13574807031428587], \"y\": [0.014501659822152162, 0.012198817552733617, -0.0035334996629634804, 0.015879893566197106, -0.012560996351188626, 0.013211672108154843, -0.009092069518279759, 0.005450182155663451, -0.09790816994509492, -0.07032742242878158, -0.037997664152331266, -0.003977442677715463, 0.015328922161287424, -0.002725245780846669, -0.01603221211622564, 0.011672517661152392, 0.01237086613567418, 0.018679022477529, -0.013617415156459653, 0.42815750302085115, 0.0042081167621863804, -0.007092378601932173, -0.011695036923604822, -0.0556255617422313, 0.01190512751296952, -0.019918403479806696, -0.007683465828092155, -0.0008398798056857069, 0.016426889783693496, -0.1472280492311528, -0.014134124738568446, 0.010038957256991023, 0.018396332105332442, 0.005708445572850596, 0.005953750408647377, -0.030132531493293934, 0.01136457877735597, -0.006830183229150658, 0.00990130334404693, -0.016023383420998162, -0.0008185171559713872, 0.008005643311959893, 0.0010928991296120442, 0.0041849432904390756, 0.006079343537537027, 0.010955554677888928, -0.00801742214722171, -0.004815873145340521, -0.0026404364185331057, -0.023710033311165567, 0.004522076758800608, 0.008993684312165096, 0.017742554017992115, 0.015550727490973951, 8.918506993193902e-06, 0.011044485144000494, -0.02102172232134465, 0.014457870958176747, 0.013396207393573266, 0.01020417985098829, 0.012995770061699123, -0.05204257947683815, -0.026077841435431928, -0.03323501263259182, -0.021025026611571566, 0.013249512329978043, 0.0085802840052737, -0.03207864918465206, -0.015492269612091264, 0.023531306773636913], \"topics\": [1, 2, 3, 4, 5, 6, 7, 8, 9, 10, 11, 12, 13, 14, 15, 16, 17, 18, 19, 20, 21, 22, 23, 24, 25, 26, 27, 28, 29, 30, 31, 32, 33, 34, 35, 36, 37, 38, 39, 40, 41, 42, 43, 44, 45, 46, 47, 48, 49, 50, 51, 52, 53, 54, 55, 56, 57, 58, 59, 60, 61, 62, 63, 64, 65, 66, 67, 68, 69, 70], \"cluster\": [1, 1, 1, 1, 1, 1, 1, 1, 1, 1, 1, 1, 1, 1, 1, 1, 1, 1, 1, 1, 1, 1, 1, 1, 1, 1, 1, 1, 1, 1, 1, 1, 1, 1, 1, 1, 1, 1, 1, 1, 1, 1, 1, 1, 1, 1, 1, 1, 1, 1, 1, 1, 1, 1, 1, 1, 1, 1, 1, 1, 1, 1, 1, 1, 1, 1, 1, 1, 1, 1], \"Freq\": [0.6612791419029236, 0.9321348071098328, 1.1382577419281006, 0.48341891169548035, 1.1911262273788452, 0.7823376059532166, 0.96389240026474, 0.6467748880386353, 3.2247684001922607, 2.1977639198303223, 1.6283100843429565, 0.853009819984436, 0.5307255983352661, 0.975070059299469, 1.3117048740386963, 0.7052239775657654, 0.7343023419380188, 0.4703594446182251, 1.1761119365692139, 19.502975463867188, 0.9739057421684265, 1.0614262819290161, 1.0240018367767334, 1.9632031917572021, 0.8831862211227417, 1.127573013305664, 1.0109926462173462, 1.0978002548217773, 0.5181691646575928, 6.839107036590576, 1.1676921844482422, 0.7044619917869568, 0.579878568649292, 0.8941925764083862, 1.1653975248336792, 1.7341198921203613, 0.7666285037994385, 1.208919882774353, 0.6847094297409058, 1.4297500848770142, 0.9998860955238342, 0.856144368648529, 0.9509041905403137, 0.9107629656791687, 0.7880216240882874, 0.7606956958770752, 1.1334550380706787, 1.1935410499572754, 1.2555129528045654, 1.613885760307312, 1.6026690006256104, 0.6864485740661621, 0.6571261286735535, 0.7061684727668762, 0.7863099575042725, 0.7538183331489563, 1.5654586553573608, 0.8320196270942688, 0.7793742418289185, 0.6698799729347229, 0.870089054107666, 1.8664151430130005, 1.6299124956130981, 2.696474552154541, 1.3261418342590332, 0.7641038298606873, 1.0516830682754517, 1.8939628601074219, 1.1697741746902466, 0.28470757603645325]}, \"tinfo\": {\"Category\": [\"Default\", \"Default\", \"Default\", \"Default\", \"Default\", \"Default\", \"Default\", \"Default\", \"Default\", \"Default\", \"Default\", \"Default\", \"Default\", \"Default\", \"Default\", \"Default\", \"Default\", \"Default\", \"Default\", \"Default\", \"Default\", \"Default\", \"Default\", \"Default\", \"Default\", \"Default\", \"Default\", \"Default\", \"Default\", \"Default\", \"Topic1\", \"Topic1\", \"Topic1\", \"Topic1\", \"Topic1\", \"Topic1\", \"Topic1\", \"Topic1\", \"Topic1\", \"Topic1\", \"Topic1\", \"Topic1\", \"Topic1\", \"Topic1\", \"Topic1\", \"Topic1\", \"Topic1\", \"Topic1\", \"Topic1\", \"Topic1\", \"Topic1\", \"Topic1\", \"Topic1\", \"Topic1\", \"Topic1\", \"Topic1\", \"Topic1\", \"Topic1\", \"Topic1\", \"Topic1\", \"Topic1\", \"Topic1\", \"Topic1\", \"Topic1\", \"Topic1\", \"Topic1\", \"Topic1\", \"Topic1\", \"Topic1\", \"Topic1\", \"Topic1\", \"Topic1\", \"Topic2\", \"Topic2\", \"Topic2\", \"Topic2\", \"Topic2\", \"Topic2\", \"Topic2\", \"Topic2\", \"Topic2\", \"Topic2\", \"Topic2\", \"Topic2\", \"Topic2\", \"Topic2\", \"Topic2\", \"Topic2\", \"Topic2\", \"Topic2\", \"Topic2\", \"Topic2\", \"Topic2\", \"Topic2\", \"Topic2\", \"Topic2\", \"Topic2\", \"Topic2\", \"Topic2\", \"Topic2\", \"Topic2\", \"Topic2\", \"Topic3\", \"Topic3\", \"Topic3\", \"Topic3\", \"Topic3\", \"Topic3\", \"Topic3\", \"Topic3\", \"Topic3\", \"Topic3\", \"Topic3\", \"Topic3\", \"Topic3\", \"Topic3\", \"Topic3\", \"Topic3\", \"Topic3\", \"Topic3\", \"Topic3\", \"Topic3\", \"Topic3\", \"Topic3\", \"Topic3\", \"Topic3\", \"Topic3\", \"Topic3\", \"Topic3\", \"Topic3\", \"Topic3\", \"Topic3\", \"Topic3\", \"Topic3\", \"Topic3\", \"Topic3\", \"Topic3\", \"Topic3\", \"Topic3\", \"Topic3\", \"Topic3\", \"Topic3\", \"Topic3\", \"Topic4\", \"Topic4\", \"Topic4\", \"Topic4\", \"Topic4\", \"Topic4\", \"Topic4\", \"Topic4\", \"Topic4\", \"Topic4\", \"Topic4\", \"Topic4\", \"Topic4\", \"Topic4\", \"Topic4\", \"Topic4\", \"Topic4\", \"Topic4\", \"Topic4\", \"Topic4\", \"Topic4\", \"Topic4\", \"Topic4\", \"Topic4\", \"Topic4\", \"Topic4\", \"Topic4\", \"Topic4\", \"Topic4\", \"Topic4\", \"Topic4\", \"Topic4\", \"Topic4\", \"Topic4\", \"Topic4\", \"Topic4\", \"Topic4\", \"Topic4\", \"Topic4\", \"Topic4\", \"Topic4\", \"Topic4\", \"Topic4\", \"Topic4\", \"Topic4\", \"Topic4\", \"Topic4\", \"Topic4\", \"Topic4\", \"Topic5\", \"Topic5\", \"Topic5\", \"Topic5\", \"Topic5\", \"Topic5\", \"Topic5\", \"Topic5\", \"Topic5\", \"Topic5\", \"Topic5\", \"Topic5\", \"Topic5\", \"Topic5\", \"Topic5\", \"Topic5\", \"Topic5\", \"Topic5\", \"Topic5\", \"Topic5\", \"Topic5\", \"Topic5\", \"Topic5\", \"Topic5\", \"Topic5\", \"Topic5\", \"Topic5\", \"Topic5\", \"Topic5\", \"Topic5\", \"Topic5\", \"Topic5\", \"Topic5\", \"Topic5\", \"Topic5\", \"Topic5\", \"Topic5\", \"Topic5\", \"Topic5\", \"Topic5\", \"Topic5\", \"Topic5\", \"Topic5\", \"Topic5\", \"Topic5\", \"Topic5\", \"Topic6\", \"Topic6\", \"Topic6\", \"Topic6\", \"Topic6\", \"Topic6\", \"Topic6\", \"Topic6\", \"Topic6\", \"Topic6\", \"Topic6\", \"Topic6\", \"Topic6\", \"Topic6\", \"Topic6\", \"Topic6\", \"Topic6\", \"Topic6\", \"Topic6\", \"Topic6\", \"Topic6\", \"Topic6\", \"Topic6\", \"Topic6\", \"Topic6\", \"Topic6\", \"Topic6\", \"Topic6\", \"Topic6\", \"Topic6\", \"Topic6\", \"Topic6\", \"Topic6\", \"Topic6\", \"Topic6\", \"Topic6\", \"Topic7\", \"Topic7\", \"Topic7\", \"Topic7\", \"Topic7\", \"Topic7\", \"Topic7\", \"Topic7\", \"Topic7\", \"Topic7\", \"Topic7\", \"Topic7\", \"Topic7\", \"Topic7\", \"Topic7\", \"Topic7\", \"Topic7\", \"Topic7\", \"Topic7\", \"Topic7\", \"Topic7\", \"Topic7\", \"Topic7\", \"Topic7\", \"Topic7\", \"Topic7\", \"Topic7\", \"Topic7\", \"Topic7\", \"Topic7\", \"Topic7\", \"Topic7\", \"Topic7\", \"Topic7\", \"Topic7\", \"Topic7\", \"Topic7\", \"Topic7\", \"Topic7\", \"Topic7\", \"Topic7\", \"Topic7\", \"Topic7\", \"Topic7\", \"Topic7\", \"Topic7\", \"Topic7\", \"Topic7\", \"Topic8\", \"Topic8\", \"Topic8\", \"Topic8\", \"Topic8\", \"Topic8\", \"Topic8\", \"Topic8\", \"Topic8\", \"Topic8\", \"Topic8\", \"Topic8\", \"Topic8\", \"Topic8\", \"Topic8\", \"Topic8\", \"Topic8\", \"Topic8\", \"Topic8\", \"Topic8\", \"Topic8\", \"Topic8\", \"Topic8\", \"Topic8\", \"Topic8\", \"Topic8\", \"Topic8\", \"Topic8\", \"Topic8\", \"Topic8\", \"Topic8\", \"Topic8\", \"Topic8\", \"Topic8\", \"Topic8\", \"Topic8\", \"Topic8\", \"Topic8\", \"Topic8\", \"Topic8\", \"Topic8\", \"Topic8\", \"Topic8\", \"Topic8\", \"Topic8\", \"Topic8\", \"Topic8\", \"Topic8\", \"Topic8\", \"Topic8\", \"Topic9\", \"Topic9\", \"Topic9\", \"Topic9\", \"Topic9\", \"Topic9\", \"Topic9\", \"Topic9\", \"Topic9\", \"Topic9\", \"Topic9\", \"Topic9\", \"Topic9\", \"Topic9\", \"Topic9\", \"Topic9\", \"Topic9\", \"Topic9\", \"Topic9\", \"Topic9\", \"Topic9\", \"Topic9\", \"Topic9\", \"Topic9\", \"Topic9\", \"Topic9\", \"Topic9\", \"Topic9\", \"Topic9\", \"Topic9\", \"Topic9\", \"Topic9\", \"Topic9\", \"Topic9\", \"Topic9\", \"Topic9\", \"Topic9\", \"Topic9\", \"Topic9\", \"Topic9\", \"Topic9\", \"Topic9\", \"Topic9\", \"Topic9\", \"Topic9\", \"Topic9\", \"Topic9\", \"Topic9\", \"Topic10\", \"Topic10\", \"Topic10\", \"Topic10\", \"Topic10\", \"Topic10\", \"Topic10\", \"Topic10\", \"Topic10\", \"Topic10\", \"Topic10\", \"Topic10\", \"Topic10\", \"Topic10\", \"Topic10\", \"Topic10\", \"Topic10\", \"Topic10\", \"Topic10\", \"Topic10\", \"Topic10\", \"Topic10\", \"Topic10\", \"Topic10\", \"Topic10\", \"Topic10\", \"Topic10\", \"Topic10\", \"Topic10\", \"Topic10\", \"Topic10\", \"Topic10\", \"Topic10\", \"Topic10\", \"Topic10\", \"Topic10\", \"Topic10\", \"Topic10\", \"Topic10\", \"Topic10\", \"Topic10\", \"Topic10\", \"Topic10\", \"Topic10\", \"Topic10\", \"Topic10\", \"Topic10\", \"Topic10\", \"Topic11\", \"Topic11\", \"Topic11\", \"Topic11\", \"Topic11\", \"Topic11\", \"Topic11\", \"Topic11\", \"Topic11\", \"Topic11\", \"Topic11\", \"Topic11\", \"Topic11\", \"Topic11\", \"Topic11\", \"Topic11\", \"Topic11\", \"Topic11\", \"Topic11\", \"Topic11\", \"Topic11\", \"Topic11\", \"Topic11\", \"Topic11\", \"Topic11\", \"Topic11\", \"Topic11\", \"Topic11\", \"Topic11\", \"Topic11\", \"Topic11\", \"Topic11\", \"Topic11\", \"Topic11\", \"Topic11\", \"Topic11\", \"Topic11\", \"Topic11\", \"Topic11\", \"Topic11\", \"Topic11\", \"Topic11\", \"Topic11\", \"Topic11\", \"Topic11\", \"Topic11\", \"Topic11\", \"Topic11\", \"Topic11\", \"Topic11\", \"Topic11\", \"Topic11\", \"Topic12\", \"Topic12\", \"Topic12\", \"Topic12\", \"Topic12\", \"Topic12\", \"Topic12\", \"Topic12\", \"Topic12\", \"Topic12\", \"Topic12\", \"Topic12\", \"Topic12\", \"Topic12\", \"Topic12\", \"Topic12\", \"Topic12\", \"Topic12\", \"Topic12\", \"Topic12\", \"Topic12\", \"Topic12\", \"Topic12\", \"Topic12\", \"Topic12\", \"Topic12\", \"Topic12\", \"Topic12\", \"Topic12\", \"Topic12\", \"Topic12\", \"Topic12\", \"Topic12\", \"Topic12\", \"Topic12\", \"Topic12\", \"Topic12\", \"Topic12\", \"Topic12\", \"Topic12\", \"Topic12\", \"Topic12\", \"Topic12\", \"Topic12\", \"Topic12\", \"Topic12\", \"Topic12\", \"Topic12\", \"Topic12\", \"Topic12\", \"Topic12\", \"Topic12\", \"Topic13\", \"Topic13\", \"Topic13\", \"Topic13\", \"Topic13\", \"Topic13\", \"Topic13\", \"Topic13\", \"Topic13\", \"Topic13\", \"Topic13\", \"Topic13\", \"Topic13\", \"Topic13\", \"Topic13\", \"Topic13\", \"Topic13\", \"Topic13\", \"Topic13\", \"Topic13\", \"Topic13\", \"Topic13\", \"Topic13\", \"Topic13\", \"Topic13\", \"Topic13\", \"Topic13\", \"Topic13\", \"Topic13\", \"Topic13\", \"Topic13\", \"Topic13\", \"Topic13\", \"Topic13\", \"Topic13\", \"Topic13\", \"Topic13\", \"Topic13\", \"Topic13\", \"Topic13\", \"Topic13\", \"Topic13\", \"Topic13\", \"Topic13\", \"Topic13\", \"Topic13\", \"Topic13\", \"Topic13\", \"Topic13\", \"Topic14\", \"Topic14\", \"Topic14\", \"Topic14\", \"Topic14\", \"Topic14\", \"Topic14\", \"Topic14\", \"Topic14\", \"Topic14\", \"Topic14\", \"Topic14\", \"Topic14\", \"Topic14\", \"Topic14\", \"Topic14\", \"Topic14\", \"Topic14\", \"Topic14\", \"Topic14\", \"Topic14\", \"Topic14\", \"Topic14\", \"Topic14\", \"Topic14\", \"Topic14\", \"Topic14\", \"Topic14\", \"Topic14\", \"Topic14\", \"Topic14\", \"Topic14\", \"Topic14\", \"Topic14\", \"Topic14\", \"Topic14\", \"Topic14\", \"Topic14\", \"Topic14\", \"Topic14\", \"Topic14\", \"Topic14\", \"Topic14\", \"Topic14\", \"Topic14\", \"Topic14\", \"Topic14\", \"Topic14\", \"Topic14\", \"Topic14\", \"Topic15\", \"Topic15\", \"Topic15\", \"Topic15\", \"Topic15\", \"Topic15\", \"Topic15\", \"Topic15\", \"Topic15\", \"Topic15\", \"Topic15\", \"Topic15\", \"Topic15\", \"Topic15\", \"Topic15\", \"Topic15\", \"Topic15\", \"Topic15\", \"Topic15\", \"Topic15\", \"Topic15\", \"Topic15\", \"Topic15\", \"Topic15\", \"Topic15\", \"Topic15\", \"Topic15\", \"Topic15\", \"Topic15\", \"Topic15\", \"Topic15\", \"Topic15\", \"Topic15\", \"Topic15\", \"Topic15\", \"Topic15\", \"Topic15\", \"Topic15\", \"Topic15\", \"Topic15\", \"Topic15\", \"Topic15\", \"Topic15\", \"Topic16\", \"Topic16\", \"Topic16\", \"Topic16\", \"Topic16\", \"Topic16\", \"Topic16\", \"Topic16\", \"Topic16\", \"Topic16\", \"Topic16\", \"Topic16\", \"Topic16\", \"Topic16\", \"Topic16\", \"Topic16\", \"Topic16\", \"Topic16\", \"Topic16\", \"Topic16\", \"Topic16\", \"Topic16\", \"Topic16\", \"Topic16\", \"Topic16\", \"Topic16\", \"Topic16\", \"Topic16\", \"Topic16\", \"Topic16\", \"Topic16\", \"Topic16\", \"Topic16\", \"Topic16\", \"Topic16\", \"Topic16\", \"Topic16\", \"Topic16\", \"Topic16\", \"Topic16\", \"Topic16\", \"Topic16\", \"Topic16\", \"Topic16\", \"Topic16\", \"Topic16\", \"Topic16\", \"Topic16\", \"Topic16\", \"Topic16\", \"Topic16\", \"Topic16\", \"Topic17\", \"Topic17\", \"Topic17\", \"Topic17\", \"Topic17\", \"Topic17\", \"Topic17\", \"Topic17\", \"Topic17\", \"Topic17\", \"Topic17\", \"Topic17\", \"Topic17\", \"Topic17\", \"Topic17\", \"Topic17\", \"Topic17\", \"Topic17\", \"Topic17\", \"Topic17\", \"Topic17\", \"Topic17\", \"Topic17\", \"Topic17\", \"Topic17\", \"Topic17\", \"Topic17\", \"Topic17\", \"Topic17\", \"Topic17\", \"Topic17\", \"Topic17\", \"Topic17\", \"Topic17\", \"Topic17\", \"Topic17\", \"Topic17\", \"Topic17\", \"Topic17\", \"Topic17\", \"Topic17\", \"Topic17\", \"Topic17\", \"Topic17\", \"Topic17\", \"Topic17\", \"Topic17\", \"Topic17\", \"Topic18\", \"Topic18\", \"Topic18\", \"Topic18\", \"Topic18\", \"Topic18\", \"Topic18\", \"Topic18\", \"Topic18\", \"Topic18\", \"Topic18\", \"Topic18\", \"Topic18\", \"Topic18\", \"Topic18\", \"Topic18\", \"Topic18\", \"Topic18\", \"Topic18\", \"Topic18\", \"Topic18\", \"Topic18\", \"Topic18\", \"Topic18\", \"Topic18\", \"Topic18\", \"Topic18\", \"Topic18\", \"Topic18\", \"Topic18\", \"Topic18\", \"Topic18\", \"Topic18\", \"Topic18\", \"Topic18\", \"Topic18\", \"Topic18\", \"Topic18\", \"Topic18\", \"Topic18\", \"Topic18\", \"Topic18\", \"Topic18\", \"Topic18\", \"Topic18\", \"Topic18\", \"Topic18\", \"Topic19\", \"Topic19\", \"Topic19\", \"Topic19\", \"Topic19\", \"Topic19\", \"Topic19\", \"Topic19\", \"Topic19\", \"Topic19\", \"Topic19\", \"Topic19\", \"Topic19\", \"Topic19\", \"Topic19\", \"Topic19\", \"Topic19\", \"Topic19\", \"Topic19\", \"Topic19\", \"Topic19\", \"Topic19\", \"Topic19\", \"Topic19\", \"Topic19\", \"Topic19\", \"Topic19\", \"Topic19\", \"Topic19\", \"Topic19\", \"Topic19\", \"Topic19\", \"Topic19\", \"Topic19\", \"Topic19\", \"Topic19\", \"Topic19\", \"Topic19\", \"Topic19\", \"Topic19\", \"Topic19\", \"Topic19\", \"Topic19\", \"Topic19\", \"Topic19\", \"Topic19\", \"Topic19\", \"Topic20\", \"Topic20\", \"Topic20\", \"Topic20\", \"Topic20\", \"Topic20\", \"Topic20\", \"Topic20\", \"Topic20\", \"Topic20\", \"Topic20\", \"Topic20\", \"Topic20\", \"Topic20\", \"Topic20\", \"Topic20\", \"Topic20\", \"Topic20\", \"Topic20\", \"Topic20\", \"Topic20\", \"Topic20\", \"Topic20\", \"Topic20\", \"Topic20\", \"Topic20\", \"Topic20\", \"Topic20\", \"Topic20\", \"Topic20\", \"Topic20\", \"Topic20\", \"Topic20\", \"Topic20\", \"Topic20\", \"Topic20\", \"Topic20\", \"Topic20\", \"Topic20\", \"Topic20\", \"Topic20\", \"Topic20\", \"Topic20\", \"Topic20\", \"Topic20\", \"Topic20\", \"Topic20\", \"Topic20\", \"Topic20\", \"Topic20\", \"Topic20\", \"Topic21\", \"Topic21\", \"Topic21\", \"Topic21\", \"Topic21\", \"Topic21\", \"Topic21\", \"Topic21\", \"Topic21\", \"Topic21\", \"Topic21\", \"Topic21\", \"Topic21\", \"Topic21\", \"Topic21\", \"Topic21\", \"Topic21\", \"Topic21\", \"Topic21\", \"Topic21\", \"Topic21\", \"Topic21\", \"Topic21\", \"Topic21\", \"Topic21\", \"Topic21\", \"Topic21\", \"Topic21\", \"Topic21\", \"Topic21\", \"Topic21\", \"Topic21\", \"Topic21\", \"Topic21\", \"Topic21\", \"Topic21\", \"Topic21\", \"Topic21\", \"Topic21\", \"Topic21\", \"Topic21\", \"Topic21\", \"Topic21\", \"Topic21\", \"Topic21\", \"Topic22\", \"Topic22\", \"Topic22\", \"Topic22\", \"Topic22\", \"Topic22\", \"Topic22\", \"Topic22\", \"Topic22\", \"Topic22\", \"Topic22\", \"Topic22\", \"Topic22\", \"Topic22\", \"Topic22\", \"Topic22\", \"Topic22\", \"Topic22\", \"Topic22\", \"Topic22\", \"Topic22\", \"Topic22\", \"Topic22\", \"Topic22\", \"Topic22\", \"Topic22\", \"Topic22\", \"Topic22\", \"Topic22\", \"Topic22\", \"Topic22\", \"Topic22\", \"Topic22\", \"Topic22\", \"Topic22\", \"Topic22\", \"Topic22\", \"Topic22\", \"Topic22\", \"Topic22\", \"Topic22\", \"Topic22\", \"Topic22\", \"Topic22\", \"Topic22\", \"Topic22\", \"Topic22\", \"Topic22\", \"Topic22\", \"Topic23\", \"Topic23\", \"Topic23\", \"Topic23\", \"Topic23\", \"Topic23\", \"Topic23\", \"Topic23\", \"Topic23\", \"Topic23\", \"Topic23\", \"Topic23\", \"Topic23\", \"Topic23\", \"Topic23\", \"Topic23\", \"Topic23\", \"Topic23\", \"Topic23\", \"Topic23\", \"Topic23\", \"Topic23\", \"Topic23\", \"Topic23\", \"Topic23\", \"Topic23\", \"Topic23\", \"Topic23\", \"Topic23\", \"Topic23\", \"Topic23\", \"Topic23\", \"Topic23\", \"Topic23\", \"Topic23\", \"Topic23\", \"Topic23\", \"Topic23\", \"Topic23\", \"Topic23\", \"Topic23\", \"Topic23\", \"Topic23\", \"Topic23\", \"Topic23\", \"Topic23\", \"Topic23\", \"Topic23\", \"Topic23\", \"Topic24\", \"Topic24\", \"Topic24\", \"Topic24\", \"Topic24\", \"Topic24\", \"Topic24\", \"Topic24\", \"Topic24\", \"Topic24\", \"Topic24\", \"Topic24\", \"Topic24\", \"Topic24\", \"Topic24\", \"Topic24\", \"Topic24\", \"Topic24\", \"Topic24\", \"Topic24\", \"Topic24\", \"Topic24\", \"Topic24\", \"Topic24\", \"Topic24\", \"Topic24\", \"Topic24\", \"Topic24\", \"Topic24\", \"Topic24\", \"Topic24\", \"Topic24\", \"Topic24\", \"Topic24\", \"Topic24\", \"Topic24\", \"Topic24\", \"Topic24\", \"Topic24\", \"Topic24\", \"Topic24\", \"Topic24\", \"Topic24\", \"Topic24\", \"Topic24\", \"Topic24\", \"Topic24\", \"Topic24\", \"Topic24\", \"Topic24\", \"Topic24\", \"Topic25\", \"Topic25\", \"Topic25\", \"Topic25\", \"Topic25\", \"Topic25\", \"Topic25\", \"Topic25\", \"Topic25\", \"Topic25\", \"Topic25\", \"Topic25\", \"Topic25\", \"Topic25\", \"Topic25\", \"Topic25\", \"Topic25\", \"Topic25\", \"Topic25\", \"Topic25\", \"Topic25\", \"Topic25\", \"Topic25\", \"Topic25\", \"Topic25\", \"Topic25\", \"Topic25\", \"Topic25\", \"Topic25\", \"Topic25\", \"Topic25\", \"Topic25\", \"Topic25\", \"Topic25\", \"Topic25\", \"Topic25\", \"Topic25\", \"Topic25\", \"Topic25\", \"Topic25\", \"Topic25\", \"Topic25\", \"Topic25\", \"Topic25\", \"Topic25\", \"Topic25\", \"Topic25\", \"Topic25\", \"Topic26\", \"Topic26\", \"Topic26\", \"Topic26\", \"Topic26\", \"Topic26\", \"Topic26\", \"Topic26\", \"Topic26\", \"Topic26\", \"Topic26\", \"Topic26\", \"Topic26\", \"Topic26\", \"Topic26\", \"Topic26\", \"Topic26\", \"Topic26\", \"Topic26\", \"Topic26\", \"Topic26\", \"Topic26\", \"Topic26\", \"Topic26\", \"Topic26\", \"Topic26\", \"Topic26\", \"Topic26\", \"Topic26\", \"Topic26\", \"Topic26\", \"Topic26\", \"Topic26\", \"Topic26\", \"Topic26\", \"Topic26\", \"Topic26\", \"Topic26\", \"Topic26\", \"Topic26\", \"Topic26\", \"Topic26\", \"Topic26\", \"Topic26\", \"Topic26\", \"Topic26\", \"Topic26\", \"Topic26\", \"Topic26\", \"Topic27\", \"Topic27\", \"Topic27\", \"Topic27\", \"Topic27\", \"Topic27\", \"Topic27\", \"Topic27\", \"Topic27\", \"Topic27\", \"Topic27\", \"Topic27\", \"Topic27\", \"Topic27\", \"Topic27\", \"Topic27\", \"Topic27\", \"Topic27\", \"Topic27\", \"Topic27\", \"Topic27\", \"Topic27\", \"Topic27\", \"Topic27\", \"Topic27\", \"Topic27\", \"Topic27\", \"Topic27\", \"Topic27\", \"Topic27\", \"Topic27\", \"Topic27\", \"Topic27\", \"Topic27\", \"Topic27\", \"Topic27\", \"Topic27\", \"Topic27\", \"Topic27\", \"Topic27\", \"Topic27\", \"Topic27\", \"Topic27\", \"Topic27\", \"Topic27\", \"Topic27\", \"Topic28\", \"Topic28\", \"Topic28\", \"Topic28\", \"Topic28\", \"Topic28\", \"Topic28\", \"Topic28\", \"Topic28\", \"Topic28\", \"Topic28\", \"Topic28\", \"Topic28\", \"Topic28\", \"Topic28\", \"Topic28\", \"Topic28\", \"Topic28\", \"Topic28\", \"Topic28\", \"Topic28\", \"Topic28\", \"Topic28\", \"Topic28\", \"Topic28\", \"Topic28\", \"Topic28\", \"Topic28\", \"Topic28\", \"Topic28\", \"Topic28\", \"Topic28\", \"Topic28\", \"Topic28\", \"Topic28\", \"Topic28\", \"Topic28\", \"Topic28\", \"Topic28\", \"Topic28\", \"Topic28\", \"Topic28\", \"Topic28\", \"Topic28\", \"Topic29\", \"Topic29\", \"Topic29\", \"Topic29\", \"Topic29\", \"Topic29\", \"Topic29\", \"Topic29\", \"Topic29\", \"Topic29\", \"Topic29\", \"Topic29\", \"Topic29\", \"Topic29\", \"Topic29\", \"Topic29\", \"Topic29\", \"Topic29\", \"Topic29\", \"Topic29\", \"Topic29\", \"Topic29\", \"Topic29\", \"Topic29\", \"Topic29\", \"Topic29\", \"Topic29\", \"Topic29\", \"Topic29\", \"Topic29\", \"Topic29\", \"Topic29\", \"Topic29\", \"Topic29\", \"Topic29\", \"Topic29\", \"Topic29\", \"Topic29\", \"Topic29\", \"Topic29\", \"Topic29\", \"Topic29\", \"Topic29\", \"Topic29\", \"Topic29\", \"Topic29\", \"Topic29\", \"Topic30\", \"Topic30\", \"Topic30\", \"Topic30\", \"Topic30\", \"Topic30\", \"Topic30\", \"Topic30\", \"Topic30\", \"Topic30\", \"Topic30\", \"Topic30\", \"Topic30\", \"Topic30\", \"Topic30\", \"Topic30\", \"Topic30\", \"Topic30\", \"Topic30\", \"Topic30\", \"Topic30\", \"Topic30\", \"Topic30\", \"Topic30\", \"Topic30\", \"Topic30\", \"Topic30\", \"Topic30\", \"Topic30\", \"Topic30\", \"Topic30\", \"Topic30\", \"Topic30\", \"Topic30\", \"Topic30\", \"Topic30\", \"Topic30\", \"Topic30\", \"Topic30\", \"Topic30\", \"Topic30\", \"Topic30\", \"Topic30\", \"Topic30\", \"Topic30\", \"Topic30\", \"Topic30\", \"Topic30\", \"Topic30\", \"Topic30\", \"Topic30\", \"Topic31\", \"Topic31\", \"Topic31\", \"Topic31\", \"Topic31\", \"Topic31\", \"Topic31\", \"Topic31\", \"Topic31\", \"Topic31\", \"Topic31\", \"Topic31\", \"Topic31\", \"Topic31\", \"Topic31\", \"Topic31\", \"Topic31\", \"Topic31\", \"Topic31\", \"Topic31\", \"Topic31\", \"Topic31\", \"Topic31\", \"Topic31\", \"Topic31\", \"Topic31\", \"Topic31\", \"Topic31\", \"Topic31\", \"Topic31\", \"Topic31\", \"Topic31\", \"Topic31\", \"Topic31\", \"Topic31\", \"Topic31\", \"Topic31\", \"Topic31\", \"Topic31\", \"Topic31\", \"Topic31\", \"Topic31\", \"Topic31\", \"Topic31\", \"Topic31\", \"Topic31\", \"Topic31\", \"Topic31\", \"Topic31\", \"Topic31\", \"Topic31\", \"Topic31\", \"Topic31\", \"Topic32\", \"Topic32\", \"Topic32\", \"Topic32\", \"Topic32\", \"Topic32\", \"Topic32\", \"Topic32\", \"Topic32\", \"Topic32\", \"Topic32\", \"Topic32\", \"Topic32\", \"Topic32\", \"Topic32\", \"Topic32\", \"Topic32\", \"Topic32\", \"Topic32\", \"Topic32\", \"Topic32\", \"Topic32\", \"Topic32\", \"Topic32\", \"Topic32\", \"Topic32\", \"Topic32\", \"Topic32\", \"Topic32\", \"Topic32\", \"Topic32\", \"Topic32\", \"Topic32\", \"Topic32\", \"Topic32\", \"Topic32\", \"Topic32\", \"Topic32\", \"Topic32\", \"Topic32\", \"Topic32\", \"Topic32\", \"Topic32\", \"Topic33\", \"Topic33\", \"Topic33\", \"Topic33\", \"Topic33\", \"Topic33\", \"Topic33\", \"Topic33\", \"Topic33\", \"Topic33\", \"Topic33\", \"Topic33\", \"Topic33\", \"Topic33\", \"Topic33\", \"Topic33\", \"Topic33\", \"Topic33\", \"Topic33\", \"Topic33\", \"Topic33\", \"Topic33\", \"Topic33\", \"Topic33\", \"Topic33\", \"Topic33\", \"Topic33\", \"Topic33\", \"Topic33\", \"Topic33\", \"Topic33\", \"Topic33\", \"Topic33\", \"Topic33\", \"Topic33\", \"Topic33\", \"Topic33\", \"Topic33\", \"Topic33\", \"Topic33\", \"Topic33\", \"Topic33\", \"Topic33\", \"Topic33\", \"Topic33\", \"Topic33\", \"Topic33\", \"Topic33\", \"Topic34\", \"Topic34\", \"Topic34\", \"Topic34\", \"Topic34\", \"Topic34\", \"Topic34\", \"Topic34\", \"Topic34\", \"Topic34\", \"Topic34\", \"Topic34\", \"Topic34\", \"Topic34\", \"Topic34\", \"Topic34\", \"Topic34\", \"Topic34\", \"Topic34\", \"Topic34\", \"Topic34\", \"Topic34\", \"Topic34\", \"Topic34\", \"Topic34\", \"Topic34\", \"Topic34\", \"Topic34\", \"Topic34\", \"Topic34\", \"Topic34\", \"Topic34\", \"Topic34\", \"Topic34\", \"Topic34\", \"Topic34\", \"Topic34\", \"Topic34\", \"Topic34\", \"Topic34\", \"Topic34\", \"Topic35\", \"Topic35\", \"Topic35\", \"Topic35\", \"Topic35\", \"Topic35\", \"Topic35\", \"Topic35\", \"Topic35\", \"Topic35\", \"Topic35\", \"Topic35\", \"Topic35\", \"Topic35\", \"Topic35\", \"Topic35\", \"Topic35\", \"Topic35\", \"Topic35\", \"Topic35\", \"Topic35\", \"Topic35\", \"Topic35\", \"Topic35\", \"Topic35\", \"Topic35\", \"Topic35\", \"Topic35\", \"Topic35\", \"Topic35\", \"Topic36\", \"Topic36\", \"Topic36\", \"Topic36\", \"Topic36\", \"Topic36\", \"Topic36\", \"Topic36\", \"Topic36\", \"Topic36\", \"Topic36\", \"Topic36\", \"Topic36\", \"Topic36\", \"Topic36\", \"Topic36\", \"Topic36\", \"Topic36\", \"Topic36\", \"Topic36\", \"Topic36\", \"Topic36\", \"Topic36\", \"Topic36\", \"Topic36\", \"Topic36\", \"Topic36\", \"Topic36\", \"Topic36\", \"Topic36\", \"Topic36\", \"Topic36\", \"Topic36\", \"Topic36\", \"Topic36\", \"Topic36\", \"Topic36\", \"Topic36\", \"Topic36\", \"Topic36\", \"Topic36\", \"Topic36\", \"Topic36\", \"Topic36\", \"Topic36\", \"Topic36\", \"Topic36\", \"Topic36\", \"Topic36\", \"Topic37\", \"Topic37\", \"Topic37\", \"Topic37\", \"Topic37\", \"Topic37\", \"Topic37\", \"Topic37\", \"Topic37\", \"Topic37\", \"Topic37\", \"Topic37\", \"Topic37\", \"Topic37\", \"Topic37\", \"Topic37\", \"Topic37\", \"Topic37\", \"Topic37\", \"Topic37\", \"Topic37\", \"Topic37\", \"Topic37\", \"Topic37\", \"Topic37\", \"Topic37\", \"Topic37\", \"Topic37\", \"Topic37\", \"Topic37\", \"Topic37\", \"Topic37\", \"Topic37\", \"Topic37\", \"Topic37\", \"Topic37\", \"Topic37\", \"Topic37\", \"Topic37\", \"Topic37\", \"Topic37\", \"Topic37\", \"Topic37\", \"Topic37\", \"Topic37\", \"Topic37\", \"Topic37\", \"Topic37\", \"Topic38\", \"Topic38\", \"Topic38\", \"Topic38\", \"Topic38\", \"Topic38\", \"Topic38\", \"Topic38\", \"Topic38\", \"Topic38\", \"Topic38\", \"Topic38\", \"Topic38\", \"Topic38\", \"Topic38\", \"Topic38\", \"Topic38\", \"Topic38\", \"Topic38\", \"Topic38\", \"Topic38\", \"Topic38\", \"Topic38\", \"Topic38\", \"Topic38\", \"Topic38\", \"Topic38\", \"Topic38\", \"Topic38\", \"Topic38\", \"Topic38\", \"Topic38\", \"Topic38\", \"Topic38\", \"Topic38\", \"Topic38\", \"Topic38\", \"Topic38\", \"Topic38\", \"Topic38\", \"Topic38\", \"Topic38\", \"Topic38\", \"Topic38\", \"Topic38\", \"Topic39\", \"Topic39\", \"Topic39\", \"Topic39\", \"Topic39\", \"Topic39\", \"Topic39\", \"Topic39\", \"Topic39\", \"Topic39\", \"Topic39\", \"Topic39\", \"Topic39\", \"Topic39\", \"Topic39\", \"Topic39\", \"Topic39\", \"Topic39\", \"Topic39\", \"Topic39\", \"Topic39\", \"Topic39\", \"Topic39\", \"Topic39\", \"Topic39\", \"Topic39\", \"Topic39\", \"Topic39\", \"Topic39\", \"Topic39\", \"Topic39\", \"Topic39\", \"Topic39\", \"Topic39\", \"Topic39\", \"Topic39\", \"Topic39\", \"Topic39\", \"Topic39\", \"Topic39\", \"Topic39\", \"Topic39\", \"Topic39\", \"Topic39\", \"Topic39\", \"Topic39\", \"Topic39\", \"Topic39\", \"Topic39\", \"Topic40\", \"Topic40\", \"Topic40\", \"Topic40\", \"Topic40\", \"Topic40\", \"Topic40\", \"Topic40\", \"Topic40\", \"Topic40\", \"Topic40\", \"Topic40\", \"Topic40\", \"Topic40\", \"Topic40\", \"Topic40\", \"Topic40\", \"Topic40\", \"Topic40\", \"Topic40\", \"Topic40\", \"Topic40\", \"Topic40\", \"Topic40\", \"Topic40\", \"Topic40\", \"Topic40\", \"Topic40\", \"Topic40\", \"Topic40\", \"Topic40\", \"Topic40\", \"Topic40\", \"Topic40\", \"Topic40\", \"Topic40\", \"Topic40\", \"Topic40\", \"Topic40\", \"Topic40\", \"Topic40\", \"Topic40\", \"Topic40\", \"Topic40\", \"Topic40\", \"Topic40\", \"Topic40\", \"Topic40\", \"Topic40\", \"Topic41\", \"Topic41\", \"Topic41\", \"Topic41\", \"Topic41\", \"Topic41\", \"Topic41\", \"Topic41\", \"Topic41\", \"Topic41\", \"Topic41\", \"Topic41\", \"Topic41\", \"Topic41\", \"Topic41\", \"Topic41\", \"Topic41\", \"Topic41\", \"Topic41\", \"Topic41\", \"Topic41\", \"Topic41\", \"Topic41\", \"Topic41\", \"Topic41\", \"Topic41\", \"Topic41\", \"Topic41\", \"Topic41\", \"Topic41\", \"Topic41\", \"Topic41\", \"Topic41\", \"Topic41\", \"Topic41\", \"Topic41\", \"Topic41\", \"Topic41\", \"Topic41\", \"Topic41\", \"Topic41\", \"Topic41\", \"Topic41\", \"Topic41\", \"Topic41\", \"Topic41\", \"Topic41\", \"Topic41\", \"Topic41\", \"Topic41\", \"Topic42\", \"Topic42\", \"Topic42\", \"Topic42\", \"Topic42\", \"Topic42\", \"Topic42\", \"Topic42\", \"Topic42\", \"Topic42\", \"Topic42\", \"Topic42\", \"Topic42\", \"Topic42\", \"Topic42\", \"Topic42\", \"Topic42\", \"Topic42\", \"Topic42\", \"Topic42\", \"Topic42\", \"Topic42\", \"Topic42\", \"Topic42\", \"Topic42\", \"Topic42\", \"Topic42\", \"Topic42\", \"Topic42\", \"Topic42\", \"Topic42\", \"Topic42\", \"Topic42\", \"Topic42\", \"Topic42\", \"Topic42\", \"Topic42\", \"Topic42\", \"Topic42\", \"Topic42\", \"Topic42\", \"Topic42\", \"Topic42\", \"Topic42\", \"Topic42\", \"Topic42\", \"Topic43\", \"Topic43\", \"Topic43\", \"Topic43\", \"Topic43\", \"Topic43\", \"Topic43\", \"Topic43\", \"Topic43\", \"Topic43\", \"Topic43\", \"Topic43\", \"Topic43\", \"Topic43\", \"Topic43\", \"Topic43\", \"Topic43\", \"Topic43\", \"Topic43\", \"Topic43\", \"Topic43\", \"Topic43\", \"Topic43\", \"Topic43\", \"Topic43\", \"Topic43\", \"Topic43\", \"Topic43\", \"Topic43\", \"Topic43\", \"Topic43\", \"Topic43\", \"Topic43\", \"Topic43\", \"Topic43\", \"Topic43\", \"Topic43\", \"Topic43\", \"Topic43\", \"Topic43\", \"Topic43\", \"Topic43\", \"Topic44\", \"Topic44\", \"Topic44\", \"Topic44\", \"Topic44\", \"Topic44\", \"Topic44\", \"Topic44\", \"Topic44\", \"Topic44\", \"Topic44\", \"Topic44\", \"Topic44\", \"Topic44\", \"Topic44\", \"Topic44\", \"Topic44\", \"Topic44\", \"Topic44\", \"Topic44\", \"Topic44\", \"Topic44\", \"Topic44\", \"Topic44\", \"Topic44\", \"Topic44\", \"Topic44\", \"Topic44\", \"Topic44\", \"Topic44\", \"Topic44\", \"Topic44\", \"Topic44\", \"Topic44\", \"Topic44\", \"Topic44\", \"Topic44\", \"Topic44\", \"Topic44\", \"Topic44\", \"Topic44\", \"Topic44\", \"Topic44\", \"Topic44\", \"Topic44\", \"Topic44\", \"Topic44\", \"Topic44\", \"Topic44\", \"Topic44\", \"Topic44\", \"Topic45\", \"Topic45\", \"Topic45\", \"Topic45\", \"Topic45\", \"Topic45\", \"Topic45\", \"Topic45\", \"Topic45\", \"Topic45\", \"Topic45\", \"Topic45\", \"Topic45\", \"Topic45\", \"Topic45\", \"Topic45\", \"Topic45\", \"Topic45\", \"Topic45\", \"Topic45\", \"Topic45\", \"Topic45\", \"Topic45\", \"Topic45\", \"Topic45\", \"Topic45\", \"Topic45\", \"Topic45\", \"Topic45\", \"Topic45\", \"Topic45\", \"Topic45\", \"Topic45\", \"Topic45\", \"Topic45\", \"Topic45\", \"Topic45\", \"Topic45\", \"Topic45\", \"Topic45\", \"Topic45\", \"Topic45\", \"Topic45\", \"Topic45\", \"Topic45\", \"Topic45\", \"Topic45\", \"Topic45\", \"Topic46\", \"Topic46\", \"Topic46\", \"Topic46\", \"Topic46\", \"Topic46\", \"Topic46\", \"Topic46\", \"Topic46\", \"Topic46\", \"Topic46\", \"Topic46\", \"Topic46\", \"Topic46\", \"Topic46\", \"Topic46\", \"Topic46\", \"Topic46\", \"Topic46\", \"Topic46\", \"Topic46\", \"Topic46\", \"Topic46\", \"Topic46\", \"Topic46\", \"Topic46\", \"Topic46\", \"Topic46\", \"Topic46\", \"Topic46\", \"Topic46\", \"Topic46\", \"Topic46\", \"Topic46\", \"Topic46\", \"Topic46\", \"Topic46\", \"Topic46\", \"Topic46\", \"Topic46\", \"Topic46\", \"Topic46\", \"Topic46\", \"Topic46\", \"Topic47\", \"Topic47\", \"Topic47\", \"Topic47\", \"Topic47\", \"Topic47\", \"Topic47\", \"Topic47\", \"Topic47\", \"Topic47\", \"Topic47\", \"Topic47\", \"Topic47\", \"Topic47\", \"Topic47\", \"Topic47\", \"Topic47\", \"Topic47\", \"Topic47\", \"Topic47\", \"Topic47\", \"Topic47\", \"Topic47\", \"Topic47\", \"Topic47\", \"Topic47\", \"Topic47\", \"Topic47\", \"Topic47\", \"Topic47\", \"Topic47\", \"Topic47\", \"Topic47\", \"Topic47\", \"Topic47\", \"Topic47\", \"Topic47\", \"Topic47\", \"Topic47\", \"Topic47\", \"Topic47\", \"Topic47\", \"Topic47\", \"Topic47\", \"Topic47\", \"Topic47\", \"Topic47\", \"Topic47\", \"Topic47\", \"Topic48\", \"Topic48\", \"Topic48\", \"Topic48\", \"Topic48\", \"Topic48\", \"Topic48\", \"Topic48\", \"Topic48\", \"Topic48\", \"Topic48\", \"Topic48\", \"Topic48\", \"Topic48\", \"Topic48\", \"Topic48\", \"Topic48\", \"Topic48\", \"Topic48\", \"Topic48\", \"Topic48\", \"Topic48\", \"Topic48\", \"Topic48\", \"Topic48\", \"Topic48\", \"Topic48\", \"Topic48\", \"Topic48\", \"Topic48\", \"Topic48\", \"Topic48\", \"Topic48\", \"Topic48\", \"Topic48\", \"Topic48\", \"Topic48\", \"Topic48\", \"Topic48\", \"Topic48\", \"Topic48\", \"Topic48\", \"Topic48\", \"Topic48\", \"Topic48\", \"Topic48\", \"Topic48\", \"Topic48\", \"Topic48\", \"Topic48\", \"Topic48\", \"Topic48\", \"Topic49\", \"Topic49\", \"Topic49\", \"Topic49\", \"Topic49\", \"Topic49\", \"Topic49\", \"Topic49\", \"Topic49\", \"Topic49\", \"Topic49\", \"Topic49\", \"Topic49\", \"Topic49\", \"Topic49\", \"Topic49\", \"Topic49\", \"Topic49\", \"Topic49\", \"Topic49\", \"Topic49\", \"Topic49\", \"Topic49\", \"Topic49\", \"Topic49\", \"Topic49\", \"Topic49\", \"Topic49\", \"Topic49\", \"Topic49\", \"Topic49\", \"Topic49\", \"Topic49\", \"Topic49\", \"Topic49\", \"Topic49\", \"Topic49\", \"Topic49\", \"Topic50\", \"Topic50\", \"Topic50\", \"Topic50\", \"Topic50\", \"Topic50\", \"Topic50\", \"Topic50\", \"Topic50\", \"Topic50\", \"Topic50\", \"Topic50\", \"Topic50\", \"Topic50\", \"Topic50\", \"Topic50\", \"Topic50\", \"Topic50\", \"Topic50\", \"Topic50\", \"Topic50\", \"Topic50\", \"Topic50\", \"Topic50\", \"Topic50\", \"Topic50\", \"Topic50\", \"Topic50\", \"Topic50\", \"Topic50\", \"Topic50\", \"Topic50\", \"Topic50\", \"Topic50\", \"Topic50\", \"Topic50\", \"Topic50\", \"Topic50\", \"Topic50\", \"Topic50\", \"Topic50\", \"Topic50\", \"Topic50\", \"Topic50\", \"Topic50\", \"Topic50\", \"Topic50\", \"Topic50\", \"Topic51\", \"Topic51\", \"Topic51\", \"Topic51\", \"Topic51\", \"Topic51\", \"Topic51\", \"Topic51\", \"Topic51\", \"Topic51\", \"Topic51\", \"Topic51\", \"Topic51\", \"Topic51\", \"Topic51\", \"Topic51\", \"Topic51\", \"Topic51\", \"Topic51\", \"Topic51\", \"Topic51\", \"Topic51\", \"Topic51\", \"Topic51\", \"Topic51\", \"Topic51\", \"Topic51\", \"Topic51\", \"Topic51\", \"Topic51\", \"Topic52\", \"Topic52\", \"Topic52\", \"Topic52\", \"Topic52\", \"Topic52\", \"Topic52\", \"Topic52\", \"Topic52\", \"Topic52\", \"Topic52\", \"Topic52\", \"Topic52\", \"Topic52\", \"Topic52\", \"Topic52\", \"Topic52\", \"Topic52\", \"Topic52\", \"Topic52\", \"Topic52\", \"Topic52\", \"Topic52\", \"Topic52\", \"Topic52\", \"Topic52\", \"Topic52\", \"Topic52\", \"Topic52\", \"Topic52\", \"Topic52\", \"Topic52\", \"Topic52\", \"Topic52\", \"Topic52\", \"Topic52\", \"Topic52\", \"Topic52\", \"Topic52\", \"Topic52\", \"Topic52\", \"Topic52\", \"Topic52\", \"Topic52\", \"Topic52\", \"Topic52\", \"Topic52\", \"Topic52\", \"Topic53\", \"Topic53\", \"Topic53\", \"Topic53\", \"Topic53\", \"Topic53\", \"Topic53\", \"Topic53\", \"Topic53\", \"Topic53\", \"Topic53\", \"Topic53\", \"Topic53\", \"Topic53\", \"Topic53\", \"Topic53\", \"Topic53\", \"Topic53\", \"Topic53\", \"Topic53\", \"Topic53\", \"Topic53\", \"Topic53\", \"Topic53\", \"Topic53\", \"Topic53\", \"Topic53\", \"Topic53\", \"Topic53\", \"Topic53\", \"Topic53\", \"Topic53\", \"Topic53\", \"Topic53\", \"Topic53\", \"Topic53\", \"Topic53\", \"Topic53\", \"Topic53\", \"Topic53\", \"Topic53\", \"Topic53\", \"Topic54\", \"Topic54\", \"Topic54\", \"Topic54\", \"Topic54\", \"Topic54\", \"Topic54\", \"Topic54\", \"Topic54\", \"Topic54\", \"Topic54\", \"Topic54\", \"Topic54\", \"Topic54\", \"Topic54\", \"Topic54\", \"Topic54\", \"Topic54\", \"Topic54\", \"Topic54\", \"Topic54\", \"Topic54\", \"Topic54\", \"Topic54\", \"Topic54\", \"Topic54\", \"Topic54\", \"Topic54\", \"Topic54\", \"Topic54\", \"Topic54\", \"Topic54\", \"Topic54\", \"Topic54\", \"Topic54\", \"Topic54\", \"Topic54\", \"Topic54\", \"Topic54\", \"Topic54\", \"Topic54\", \"Topic54\", \"Topic54\", \"Topic54\", \"Topic54\", \"Topic54\", \"Topic55\", \"Topic55\", \"Topic55\", \"Topic55\", \"Topic55\", \"Topic55\", \"Topic55\", \"Topic55\", \"Topic55\", \"Topic55\", \"Topic55\", \"Topic55\", \"Topic55\", \"Topic55\", \"Topic55\", \"Topic55\", \"Topic55\", \"Topic55\", \"Topic55\", \"Topic55\", \"Topic55\", \"Topic55\", \"Topic55\", \"Topic55\", \"Topic55\", \"Topic55\", \"Topic55\", \"Topic55\", \"Topic55\", \"Topic55\", \"Topic55\", \"Topic55\", \"Topic55\", \"Topic55\", \"Topic55\", \"Topic55\", \"Topic55\", \"Topic55\", \"Topic55\", \"Topic55\", \"Topic55\", \"Topic55\", \"Topic55\", \"Topic55\", \"Topic55\", \"Topic55\", \"Topic55\", \"Topic55\", \"Topic55\", \"Topic55\", \"Topic55\", \"Topic56\", \"Topic56\", \"Topic56\", \"Topic56\", \"Topic56\", \"Topic56\", \"Topic56\", \"Topic56\", \"Topic56\", \"Topic56\", \"Topic56\", \"Topic56\", \"Topic56\", \"Topic56\", \"Topic56\", \"Topic56\", \"Topic56\", \"Topic56\", \"Topic56\", \"Topic56\", \"Topic56\", \"Topic56\", \"Topic56\", \"Topic56\", \"Topic56\", \"Topic56\", \"Topic56\", \"Topic56\", \"Topic56\", \"Topic56\", \"Topic56\", \"Topic56\", \"Topic56\", \"Topic56\", \"Topic56\", \"Topic56\", \"Topic56\", \"Topic56\", \"Topic56\", \"Topic56\", \"Topic56\", \"Topic56\", \"Topic56\", \"Topic56\", \"Topic57\", \"Topic57\", \"Topic57\", \"Topic57\", \"Topic57\", \"Topic57\", \"Topic57\", \"Topic57\", \"Topic57\", \"Topic57\", \"Topic57\", \"Topic57\", \"Topic57\", \"Topic57\", \"Topic57\", \"Topic57\", \"Topic57\", \"Topic57\", \"Topic57\", \"Topic57\", \"Topic57\", \"Topic57\", \"Topic57\", \"Topic57\", \"Topic57\", \"Topic57\", \"Topic57\", \"Topic57\", \"Topic57\", \"Topic57\", \"Topic57\", \"Topic57\", \"Topic57\", \"Topic57\", \"Topic57\", \"Topic57\", \"Topic57\", \"Topic57\", \"Topic57\", \"Topic57\", \"Topic57\", \"Topic57\", \"Topic57\", \"Topic57\", \"Topic57\", \"Topic57\", \"Topic57\", \"Topic57\", \"Topic58\", \"Topic58\", \"Topic58\", \"Topic58\", \"Topic58\", \"Topic58\", \"Topic58\", \"Topic58\", \"Topic58\", \"Topic58\", \"Topic58\", \"Topic58\", \"Topic58\", \"Topic58\", \"Topic58\", \"Topic58\", \"Topic58\", \"Topic58\", \"Topic58\", \"Topic58\", \"Topic58\", \"Topic58\", \"Topic58\", \"Topic58\", \"Topic58\", \"Topic58\", \"Topic58\", \"Topic58\", \"Topic58\", \"Topic58\", \"Topic58\", \"Topic58\", \"Topic58\", \"Topic58\", \"Topic58\", \"Topic58\", \"Topic58\", \"Topic58\", \"Topic58\", \"Topic58\", \"Topic58\", \"Topic58\", \"Topic58\", \"Topic58\", \"Topic58\", \"Topic58\", \"Topic58\", \"Topic58\", \"Topic58\", \"Topic59\", \"Topic59\", \"Topic59\", \"Topic59\", \"Topic59\", \"Topic59\", \"Topic59\", \"Topic59\", \"Topic59\", \"Topic59\", \"Topic59\", \"Topic59\", \"Topic59\", \"Topic59\", \"Topic59\", \"Topic59\", \"Topic59\", \"Topic59\", \"Topic59\", \"Topic59\", \"Topic59\", \"Topic59\", \"Topic59\", \"Topic59\", \"Topic59\", \"Topic59\", \"Topic59\", \"Topic59\", \"Topic59\", \"Topic59\", \"Topic59\", \"Topic59\", \"Topic59\", \"Topic59\", \"Topic59\", \"Topic59\", \"Topic59\", \"Topic59\", \"Topic59\", \"Topic59\", \"Topic59\", \"Topic59\", \"Topic59\", \"Topic59\", \"Topic59\", \"Topic59\", \"Topic59\", \"Topic60\", \"Topic60\", \"Topic60\", \"Topic60\", \"Topic60\", \"Topic60\", \"Topic60\", \"Topic60\", \"Topic60\", \"Topic60\", \"Topic60\", \"Topic60\", \"Topic60\", \"Topic60\", \"Topic60\", \"Topic60\", \"Topic60\", \"Topic60\", \"Topic60\", \"Topic60\", \"Topic60\", \"Topic60\", \"Topic60\", \"Topic60\", \"Topic60\", \"Topic60\", \"Topic60\", \"Topic60\", \"Topic60\", \"Topic60\", \"Topic60\", \"Topic60\", \"Topic60\", \"Topic60\", \"Topic60\", \"Topic60\", \"Topic60\", \"Topic60\", \"Topic60\", \"Topic60\", \"Topic60\", \"Topic60\", \"Topic61\", \"Topic61\", \"Topic61\", \"Topic61\", \"Topic61\", \"Topic61\", \"Topic61\", \"Topic61\", \"Topic61\", \"Topic61\", \"Topic61\", \"Topic61\", \"Topic61\", \"Topic61\", \"Topic61\", \"Topic61\", \"Topic61\", \"Topic61\", \"Topic61\", \"Topic61\", \"Topic61\", \"Topic61\", \"Topic61\", \"Topic61\", \"Topic61\", \"Topic61\", \"Topic61\", \"Topic61\", \"Topic61\", \"Topic61\", \"Topic61\", \"Topic61\", \"Topic61\", \"Topic61\", \"Topic61\", \"Topic61\", \"Topic61\", \"Topic61\", \"Topic61\", \"Topic61\", \"Topic61\", \"Topic61\", \"Topic61\", \"Topic61\", \"Topic61\", \"Topic61\", \"Topic61\", \"Topic61\", \"Topic61\", \"Topic61\", \"Topic62\", \"Topic62\", \"Topic62\", \"Topic62\", \"Topic62\", \"Topic62\", \"Topic62\", \"Topic62\", \"Topic62\", \"Topic62\", \"Topic62\", \"Topic62\", \"Topic62\", \"Topic62\", \"Topic62\", \"Topic62\", \"Topic62\", \"Topic62\", \"Topic62\", \"Topic62\", \"Topic62\", \"Topic62\", \"Topic62\", \"Topic62\", \"Topic62\", \"Topic62\", \"Topic62\", \"Topic62\", \"Topic62\", \"Topic62\", \"Topic62\", \"Topic62\", \"Topic62\", \"Topic62\", \"Topic62\", \"Topic62\", \"Topic62\", \"Topic62\", \"Topic62\", \"Topic62\", \"Topic62\", \"Topic62\", \"Topic62\", \"Topic62\", \"Topic62\", \"Topic62\", \"Topic62\", \"Topic63\", \"Topic63\", \"Topic63\", \"Topic63\", \"Topic63\", \"Topic63\", \"Topic63\", \"Topic63\", \"Topic63\", \"Topic63\", \"Topic63\", \"Topic63\", \"Topic63\", \"Topic63\", \"Topic63\", \"Topic63\", \"Topic63\", \"Topic63\", \"Topic63\", \"Topic63\", \"Topic63\", \"Topic63\", \"Topic63\", \"Topic63\", \"Topic63\", \"Topic63\", \"Topic63\", \"Topic63\", \"Topic63\", \"Topic63\", \"Topic63\", \"Topic63\", \"Topic63\", \"Topic63\", \"Topic63\", \"Topic63\", \"Topic63\", \"Topic63\", \"Topic63\", \"Topic63\", \"Topic63\", \"Topic63\", \"Topic63\", \"Topic63\", \"Topic63\", \"Topic63\", \"Topic63\", \"Topic63\", \"Topic63\", \"Topic64\", \"Topic64\", \"Topic64\", \"Topic64\", \"Topic64\", \"Topic64\", \"Topic64\", \"Topic64\", \"Topic64\", \"Topic64\", \"Topic64\", \"Topic64\", \"Topic64\", \"Topic64\", \"Topic64\", \"Topic64\", \"Topic64\", \"Topic64\", \"Topic64\", \"Topic64\", \"Topic64\", \"Topic64\", \"Topic64\", \"Topic64\", \"Topic64\", \"Topic64\", \"Topic64\", \"Topic64\", \"Topic64\", \"Topic64\", \"Topic64\", \"Topic64\", \"Topic64\", \"Topic64\", \"Topic64\", \"Topic64\", \"Topic64\", \"Topic64\", \"Topic64\", \"Topic64\", \"Topic65\", \"Topic65\", \"Topic65\", \"Topic65\", \"Topic65\", \"Topic65\", \"Topic65\", \"Topic65\", \"Topic65\", \"Topic65\", \"Topic65\", \"Topic65\", \"Topic65\", \"Topic65\", \"Topic65\", \"Topic65\", \"Topic65\", \"Topic65\", \"Topic65\", \"Topic65\", \"Topic65\", \"Topic65\", \"Topic65\", \"Topic65\", \"Topic65\", \"Topic65\", \"Topic65\", \"Topic65\", \"Topic65\", \"Topic65\", \"Topic65\", \"Topic65\", \"Topic65\", \"Topic65\", \"Topic65\", \"Topic65\", \"Topic65\", \"Topic65\", \"Topic65\", \"Topic65\", \"Topic65\", \"Topic65\", \"Topic65\", \"Topic65\", \"Topic65\", \"Topic65\", \"Topic65\", \"Topic65\", \"Topic65\", \"Topic65\", \"Topic65\", \"Topic65\", \"Topic65\", \"Topic65\", \"Topic66\", \"Topic66\", \"Topic66\", \"Topic66\", \"Topic66\", \"Topic66\", \"Topic66\", \"Topic66\", \"Topic66\", \"Topic66\", \"Topic66\", \"Topic66\", \"Topic66\", \"Topic66\", \"Topic66\", \"Topic66\", \"Topic66\", \"Topic66\", \"Topic66\", \"Topic66\", \"Topic66\", \"Topic66\", \"Topic66\", \"Topic66\", \"Topic66\", \"Topic66\", \"Topic66\", \"Topic66\", \"Topic66\", \"Topic66\", \"Topic66\", \"Topic66\", \"Topic66\", \"Topic66\", \"Topic66\", \"Topic67\", \"Topic67\", \"Topic67\", \"Topic67\", \"Topic67\", \"Topic67\", \"Topic67\", \"Topic67\", \"Topic67\", \"Topic67\", \"Topic67\", \"Topic67\", \"Topic67\", \"Topic67\", \"Topic67\", \"Topic67\", \"Topic67\", \"Topic67\", \"Topic67\", \"Topic67\", \"Topic67\", \"Topic67\", \"Topic67\", \"Topic67\", \"Topic67\", \"Topic67\", \"Topic67\", \"Topic67\", \"Topic67\", \"Topic67\", \"Topic68\", \"Topic68\", \"Topic68\", \"Topic68\", \"Topic68\", \"Topic68\", \"Topic68\", \"Topic68\", \"Topic68\", \"Topic68\", \"Topic68\", \"Topic68\", \"Topic68\", \"Topic68\", \"Topic68\", \"Topic68\", \"Topic68\", \"Topic68\", \"Topic68\", \"Topic68\", \"Topic68\", \"Topic68\", \"Topic68\", \"Topic68\", \"Topic68\", \"Topic68\", \"Topic68\", \"Topic68\", \"Topic68\", \"Topic68\", \"Topic68\", \"Topic68\", \"Topic68\", \"Topic68\", \"Topic68\", \"Topic68\", \"Topic68\", \"Topic68\", \"Topic68\", \"Topic68\", \"Topic68\", \"Topic68\", \"Topic68\", \"Topic68\", \"Topic68\", \"Topic68\", \"Topic68\", \"Topic68\", \"Topic69\", \"Topic69\", \"Topic69\", \"Topic69\", \"Topic69\", \"Topic69\", \"Topic69\", \"Topic69\", \"Topic69\", \"Topic69\", \"Topic69\", \"Topic69\", \"Topic69\", \"Topic69\", \"Topic69\", \"Topic69\", \"Topic69\", \"Topic69\", \"Topic69\", \"Topic69\", \"Topic69\", \"Topic69\", \"Topic69\", \"Topic69\", \"Topic69\", \"Topic69\", \"Topic69\", \"Topic69\", \"Topic69\", \"Topic69\", \"Topic69\", \"Topic69\", \"Topic69\", \"Topic69\", \"Topic69\", \"Topic69\", \"Topic69\", \"Topic69\", \"Topic69\", \"Topic69\", \"Topic69\", \"Topic69\", \"Topic69\", \"Topic69\", \"Topic69\", \"Topic69\", \"Topic69\", \"Topic69\", \"Topic69\", \"Topic70\", \"Topic70\", \"Topic70\", \"Topic70\", \"Topic70\", \"Topic70\", \"Topic70\", \"Topic70\", \"Topic70\", \"Topic70\", \"Topic70\", \"Topic70\", \"Topic70\", \"Topic70\", \"Topic70\", \"Topic70\", \"Topic70\", \"Topic70\", \"Topic70\", \"Topic70\", \"Topic70\", \"Topic70\", \"Topic70\", \"Topic70\", \"Topic70\", \"Topic70\", \"Topic70\", \"Topic70\", \"Topic70\", \"Topic70\", \"Topic70\", \"Topic70\", \"Topic70\", \"Topic70\", \"Topic70\", \"Topic70\", \"Topic70\", \"Topic70\", \"Topic70\", \"Topic70\", \"Topic70\", \"Topic70\", \"Topic70\", \"Topic70\", \"Topic70\", \"Topic70\", \"Topic70\", \"Topic70\", \"Topic70\", \"Topic70\", \"Topic70\"], \"Freq\": [3409.0, 4788.0, 3850.0, 2475.0, 976.0, 829.0, 728.0, 805.0, 650.0, 574.0, 516.0, 659.0, 621.0, 549.0, 1370.0, 490.0, 394.0, 420.0, 408.0, 431.0, 390.0, 355.0, 325.0, 336.0, 356.0, 315.0, 551.0, 306.0, 298.0, 318.0, 91.85338592529297, 39.23320770263672, 33.22123718261719, 31.8598690032959, 29.785978317260742, 24.479990005493164, 23.02275848388672, 20.396446228027344, 15.507485389709473, 15.300004959106445, 14.825180053710938, 13.155396461486816, 13.034543991088867, 12.548553466796875, 11.899080276489258, 11.350207328796387, 10.845561027526855, 8.80012035369873, 0.0136400843039155, 0.0136400843039155, 0.0136400843039155, 0.0136400843039155, 0.0136400843039155, 0.0136400843039155, 0.0136400843039155, 0.0136400843039155, 0.0136400843039155, 0.0136400843039155, 0.0136400843039155, 0.0136400843039155, 0.0136400843039155, 0.0136400843039155, 0.0136400843039155, 0.0136400843039155, 0.0136400843039155, 0.0136400843039155, 0.0136400843039155, 0.0136400843039155, 0.0136400843039155, 0.0136400843039155, 0.0136400843039155, 0.0136400843039155, 67.90772247314453, 65.71817779541016, 41.53792190551758, 37.74808883666992, 32.48419189453125, 29.226022720336914, 26.08437156677246, 25.79781723022461, 21.238622665405273, 18.106552124023438, 17.094833374023438, 16.135400772094727, 15.445034980773926, 15.443964958190918, 14.881749153137207, 14.043997764587402, 13.732399940490723, 12.945608139038086, 12.186345100402832, 12.169487953186035, 11.970626831054688, 11.268861770629883, 10.475061416625977, 10.444360733032227, 10.30468463897705, 9.171631813049316, 9.009187698364258, 8.085246086120605, 6.02366304397583, 2.7987101078033447, 151.79544067382812, 136.81764221191406, 101.06448364257812, 63.89868927001953, 57.41986083984375, 30.20665740966797, 28.660615921020508, 27.784204483032227, 22.47199821472168, 17.323057174682617, 15.694046974182129, 14.87834358215332, 14.244029998779297, 11.004841804504395, 10.224200248718262, 9.950018882751465, 9.511805534362793, 6.001151084899902, 5.906754493713379, 0.013012891635298729, 0.013012891635298729, 0.013012891635298729, 0.013012891635298729, 0.013012891635298729, 0.013012891635298729, 0.013012891635298729, 0.013012891635298729, 0.013012891635298729, 0.013012891635298729, 0.013012891635298729, 0.013012891635298729, 0.013012891635298729, 0.013012891635298729, 0.013012891635298729, 0.013012891635298729, 0.013012891635298729, 0.013012891635298729, 0.013012891635298729, 0.013012891635298729, 0.013012891635298729, 0.013012891635298729, 104.26528930664062, 55.90394592285156, 35.998924255371094, 27.003568649291992, 16.736915588378906, 16.496557235717773, 10.885462760925293, 10.558634757995605, 10.4216890335083, 10.09915542602539, 7.342637062072754, 0.01212832611054182, 0.01212832611054182, 0.01212832611054182, 0.01212832611054182, 0.01212832611054182, 0.01212832611054182, 0.01212832611054182, 0.01212832611054182, 0.01212832611054182, 0.01212832611054182, 0.01212832611054182, 0.01212832611054182, 0.01212832611054182, 0.01212832611054182, 0.01212832611054182, 0.01212832611054182, 0.01212832611054182, 0.01212832611054182, 0.01212832611054182, 0.01212832611054182, 0.01212832611054182, 0.01212832611054182, 0.01212832611054182, 0.01212832611054182, 0.01212832611054182, 0.01212832611054182, 0.01212832611054182, 0.01212832611054182, 0.01212832611054182, 0.01212832611054182, 0.01212832611054182, 0.01212832611054182, 0.01212832611054182, 0.01212832611054182, 0.01212832611054182, 0.01212832611054182, 0.01212832611054182, 0.01212832611054182, 515.7555541992188, 69.18537139892578, 40.122188568115234, 33.25895690917969, 18.708538055419922, 12.81187629699707, 12.574256896972656, 12.546137809753418, 11.672292709350586, 9.886801719665527, 9.721365928649902, 8.935943603515625, 8.933599472045898, 5.35621452331543, 0.013045042753219604, 0.013045042753219604, 0.013045042753219604, 0.013045042753219604, 0.013045042753219604, 0.013045042753219604, 0.013045042753219604, 0.013045042753219604, 0.013045042753219604, 0.013045042753219604, 0.013045042753219604, 0.013045042753219604, 0.013045042753219604, 0.013045042753219604, 0.013045042753219604, 0.013045042753219604, 0.013045042753219604, 0.013045042753219604, 0.013045042753219604, 0.013045042753219604, 0.013045042753219604, 0.013045042753219604, 0.013045042753219604, 0.013045042753219604, 0.013045042753219604, 0.013045042753219604, 0.013045042753219604, 0.013045042753219604, 0.013045042753219604, 0.013045042753219604, 0.013045042753219604, 0.013045042753219604, 110.27656555175781, 77.1891860961914, 34.71240234375, 30.733354568481445, 28.35966682434082, 25.817594528198242, 17.50639533996582, 17.325510025024414, 16.1387882232666, 15.358275413513184, 14.275721549987793, 11.956056594848633, 11.947611808776855, 11.73141860961914, 10.787643432617188, 9.73006534576416, 9.711699485778809, 9.579456329345703, 9.132399559020996, 7.059768199920654, 6.529709815979004, 5.9435529708862305, 5.2335662841796875, 3.5838711261749268, 0.013696403242647648, 0.013696403242647648, 0.013696403242647648, 0.013696403242647648, 0.013696403242647648, 0.013696403242647648, 0.013696403242647648, 0.013696403242647648, 0.013696403242647648, 0.013696403242647648, 0.013696403242647648, 0.013696403242647648, 305.5364685058594, 75.8392562866211, 57.788917541503906, 44.46761703491211, 39.882049560546875, 34.8221321105957, 12.164329528808594, 12.053675651550293, 11.07712173461914, 9.586358070373535, 9.300844192504883, 9.142616271972656, 0.0115922000259161, 0.0115922000259161, 0.0115922000259161, 0.0115922000259161, 0.0115922000259161, 0.0115922000259161, 0.0115922000259161, 0.0115922000259161, 0.0115922000259161, 0.0115922000259161, 0.0115922000259161, 0.0115922000259161, 0.0115922000259161, 0.0115922000259161, 0.0115922000259161, 0.0115922000259161, 0.0115922000259161, 0.0115922000259161, 0.0115922000259161, 0.0115922000259161, 0.0115922000259161, 0.0115922000259161, 0.0115922000259161, 0.0115922000259161, 0.0115922000259161, 0.0115922000259161, 0.0115922000259161, 0.0115922000259161, 0.0115922000259161, 0.0115922000259161, 0.0115922000259161, 0.0115922000259161, 0.0115922000259161, 0.0115922000259161, 0.0115922000259161, 0.0115922000259161, 136.04220581054688, 89.84959411621094, 62.25900650024414, 34.36855697631836, 32.2770881652832, 24.594770431518555, 13.032417297363281, 9.923356056213379, 7.2171831130981445, 4.053795337677002, 0.011423863470554352, 0.011423863470554352, 0.011423863470554352, 0.011423863470554352, 0.011423863470554352, 0.011423863470554352, 0.011423863470554352, 0.011423863470554352, 0.011423863470554352, 0.011423863470554352, 0.011423863470554352, 0.011423863470554352, 0.011423863470554352, 0.011423863470554352, 0.011423863470554352, 0.011423863470554352, 0.011423863470554352, 0.011423863470554352, 0.011423863470554352, 0.011423863470554352, 0.011423863470554352, 0.011423863470554352, 0.011423863470554352, 0.011423863470554352, 0.011423863470554352, 0.011423863470554352, 0.011423863470554352, 0.011423863470554352, 0.011423863470554352, 0.011423863470554352, 0.011423863470554352, 0.011423863470554352, 0.011423863470554352, 0.011423863470554352, 0.011423863470554352, 0.011423863470554352, 0.011423863470554352, 0.011423863470554352, 0.011423863470554352, 0.011423863470554352, 804.9266357421875, 658.1986694335938, 231.02146911621094, 196.60975646972656, 88.39751434326172, 36.81220245361328, 29.18193244934082, 20.415878295898438, 14.53815746307373, 10.280588150024414, 7.760884761810303, 6.620542049407959, 0.012762786820530891, 0.012762786820530891, 0.012762786820530891, 0.012762786820530891, 0.012762786820530891, 0.012762786820530891, 0.012762786820530891, 0.012762786820530891, 0.012762786820530891, 0.012762786820530891, 0.012762786820530891, 0.012762786820530891, 0.012762786820530891, 0.012762786820530891, 0.012762786820530891, 0.012762786820530891, 0.012762786820530891, 0.012762786820530891, 0.012762786820530891, 0.012762786820530891, 0.012762786820530891, 0.012762786820530891, 0.012762786820530891, 0.012762786820530891, 0.012762786820530891, 0.012762786820530891, 0.012762786820530891, 0.012762786820530891, 0.012762786820530891, 0.012762786820530891, 0.012762786820530891, 0.012762786820530891, 0.012762786820530891, 0.012762786820530891, 0.012762786820530891, 0.012762786820530891, 975.279296875, 128.4854736328125, 108.89080047607422, 85.20513153076172, 39.52941131591797, 24.856510162353516, 16.468782424926758, 13.051959991455078, 12.017626762390137, 11.915661811828613, 9.723471641540527, 6.457788467407227, 0.01137773972004652, 0.01137773972004652, 0.01137773972004652, 0.01137773972004652, 0.01137773972004652, 0.01137773972004652, 0.01137773972004652, 0.01137773972004652, 0.01137773972004652, 0.01137773972004652, 0.01137773972004652, 0.01137773972004652, 0.01137773972004652, 0.01137773972004652, 0.01137773972004652, 0.01137773972004652, 0.01137773972004652, 0.01137773972004652, 0.01137773972004652, 0.01137773972004652, 0.01137773972004652, 0.01137773972004652, 0.01137773972004652, 0.01137773972004652, 0.01137773972004652, 0.01137773972004652, 0.01137773972004652, 0.01137773972004652, 0.01137773972004652, 0.01137773972004652, 0.01137773972004652, 0.01137773972004652, 0.01137773972004652, 0.01137773972004652, 0.01137773972004652, 0.01137773972004652, 828.859130859375, 95.55154418945312, 60.067420959472656, 32.30038070678711, 16.56471824645996, 8.9840669631958, 7.180361747741699, 6.068343639373779, 0.013894855044782162, 0.013894855044782162, 0.013894855044782162, 0.013894855044782162, 0.013894855044782162, 0.013894855044782162, 0.013894855044782162, 0.013894855044782162, 0.013894855044782162, 0.013894855044782162, 0.013894855044782162, 0.013894855044782162, 0.013894855044782162, 0.013894855044782162, 0.013894855044782162, 0.013894855044782162, 0.013894855044782162, 0.013894855044782162, 0.013894855044782162, 0.013894855044782162, 0.013894855044782162, 0.013894855044782162, 0.013894855044782162, 0.013894855044782162, 0.013894855044782162, 0.013894855044782162, 0.013894855044782162, 0.013894855044782162, 0.013894855044782162, 0.013894855044782162, 0.013894855044782162, 0.013894855044782162, 0.013894855044782162, 0.013894855044782162, 0.013894855044782162, 0.013894855044782162, 0.013894855044782162, 0.013894855044782162, 0.013894855044782162, 0.013894855044782162, 0.013894855044782162, 0.013894855044782162, 0.013894855044782162, 0.013894855044782162, 393.4208068847656, 83.6563720703125, 22.73719024658203, 16.022043228149414, 11.117854118347168, 10.749330520629883, 9.915777206420898, 0.012828228995203972, 0.012828228995203972, 0.012828228995203972, 0.012828228995203972, 0.012828228995203972, 0.012828228995203972, 0.012828228995203972, 0.012828228995203972, 0.012828228995203972, 0.012828228995203972, 0.012828228995203972, 0.012828228995203972, 0.012828228995203972, 0.012828228995203972, 0.012828228995203972, 0.012828228995203972, 0.012828228995203972, 0.012828228995203972, 0.012828228995203972, 0.012828228995203972, 0.012828228995203972, 0.012828228995203972, 0.012828228995203972, 0.012828228995203972, 0.012828228995203972, 0.012828228995203972, 0.012828228995203972, 0.012828228995203972, 0.012828228995203972, 0.012828228995203972, 0.012828228995203972, 0.012828228995203972, 0.012828228995203972, 0.012828228995203972, 0.012828228995203972, 0.012828228995203972, 0.012828228995203972, 0.012828228995203972, 0.012828228995203972, 0.012828228995203972, 0.012828228995203972, 0.012828228995203972, 0.012828228995203972, 0.012828228995203972, 0.012828228995203972, 137.94894409179688, 50.415218353271484, 32.451847076416016, 26.066659927368164, 21.699176788330078, 17.470455169677734, 15.9312744140625, 15.84049129486084, 9.531625747680664, 8.370218276977539, 0.0132009107619524, 0.0132009107619524, 0.0132009107619524, 0.0132009107619524, 0.0132009107619524, 0.0132009107619524, 0.0132009107619524, 0.0132009107619524, 0.0132009107619524, 0.0132009107619524, 0.0132009107619524, 0.0132009107619524, 0.0132009107619524, 0.0132009107619524, 0.0132009107619524, 0.0132009107619524, 0.0132009107619524, 0.0132009107619524, 0.0132009107619524, 0.0132009107619524, 0.0132009107619524, 0.0132009107619524, 0.0132009107619524, 0.0132009107619524, 0.0132009107619524, 0.0132009107619524, 0.0132009107619524, 0.0132009107619524, 0.0132009107619524, 0.0132009107619524, 0.0132009107619524, 0.0132009107619524, 0.0132009107619524, 0.0132009107619524, 0.0132009107619524, 0.0132009107619524, 0.0132009107619524, 0.0132009107619524, 0.0132009107619524, 236.8300323486328, 135.40650939941406, 100.86476135253906, 43.32916259765625, 37.78643798828125, 32.258392333984375, 13.839580535888672, 11.928771018981934, 11.28862190246582, 3.0692713260650635, 0.014063225127756596, 0.014063225127756596, 0.014063225127756596, 0.014063225127756596, 0.014063225127756596, 0.014063225127756596, 0.014063225127756596, 0.014063225127756596, 0.014063225127756596, 0.014063225127756596, 0.014063225127756596, 0.014063225127756596, 0.014063225127756596, 0.014063225127756596, 0.014063225127756596, 0.014063225127756596, 0.014063225127756596, 0.014063225127756596, 0.014063225127756596, 0.014063225127756596, 0.014063225127756596, 0.014063225127756596, 0.014063225127756596, 0.014063225127756596, 0.014063225127756596, 0.014063225127756596, 0.014063225127756596, 0.014063225127756596, 0.014063225127756596, 0.014063225127756596, 0.014063225127756596, 0.014063225127756596, 0.014063225127756596, 0.014063225127756596, 0.014063225127756596, 0.014063225127756596, 0.014063225127756596, 0.014063225127756596, 0.014063225127756596, 0.014063225127756596, 205.74874877929688, 197.6483612060547, 117.89422607421875, 69.00093841552734, 42.2038688659668, 39.4468994140625, 33.99413299560547, 30.36505126953125, 27.078245162963867, 15.99372673034668, 14.63250732421875, 10.559733390808105, 9.595215797424316, 9.392477989196777, 9.390294075012207, 8.794197082519531, 7.8842339515686035, 0.012042099609971046, 0.012042099609971046, 0.012042099609971046, 0.012042099609971046, 0.012042099609971046, 0.012042099609971046, 0.012042099609971046, 0.012042099609971046, 0.012042099609971046, 0.012042099609971046, 0.012042099609971046, 0.012042099609971046, 0.012042099609971046, 0.012042099609971046, 0.012042099609971046, 0.012042099609971046, 0.012042099609971046, 0.012042099609971046, 0.012042099609971046, 0.012042099609971046, 0.012042099609971046, 0.012042099609971046, 0.012042099609971046, 0.012042099609971046, 0.012042099609971046, 0.012042099609971046, 143.38748168945312, 102.82306671142578, 82.6615982055664, 45.36250305175781, 43.780887603759766, 14.13270092010498, 9.216636657714844, 6.461533546447754, 0.015722423791885376, 0.015722423791885376, 0.015722423791885376, 0.015722423791885376, 0.015722423791885376, 0.015722423791885376, 0.015722423791885376, 0.015722423791885376, 0.015722423791885376, 0.015722423791885376, 0.015722423791885376, 0.015722423791885376, 0.015722423791885376, 0.015722423791885376, 0.015722423791885376, 0.015722423791885376, 0.015722423791885376, 0.015722423791885376, 0.015722423791885376, 0.015722423791885376, 0.015722423791885376, 0.015722423791885376, 0.015722423791885376, 0.015722423791885376, 0.015722423791885376, 0.015722423791885376, 0.015722423791885376, 0.015722423791885376, 0.015722423791885376, 0.015722423791885376, 0.015722423791885376, 0.015722423791885376, 0.015722423791885376, 0.015722423791885376, 0.015722423791885376, 0.015722423791885376, 0.015722423791885376, 0.015722423791885376, 0.015722423791885376, 0.015722423791885376, 0.015722423791885376, 0.015722423791885376, 0.015722423791885376, 0.015722423791885376, 87.60763549804688, 78.20885467529297, 55.40993118286133, 54.35337448120117, 43.40800476074219, 38.819297790527344, 32.871238708496094, 20.468576431274414, 17.640878677368164, 16.016555786132812, 13.705397605895996, 8.656536102294922, 0.015526854433119297, 0.015526854433119297, 0.015526854433119297, 0.015526854433119297, 0.015526854433119297, 0.015526854433119297, 0.015526854433119297, 0.015526854433119297, 0.015526854433119297, 0.015526854433119297, 0.015526854433119297, 0.015526854433119297, 0.015526854433119297, 0.015526854433119297, 0.015526854433119297, 0.015526854433119297, 0.015526854433119297, 0.015526854433119297, 0.015526854433119297, 0.015526854433119297, 0.015526854433119297, 0.015526854433119297, 0.015526854433119297, 0.015526854433119297, 0.015526854433119297, 0.015526854433119297, 0.015526854433119297, 0.015526854433119297, 0.015526854433119297, 0.015526854433119297, 0.015526854433119297, 0.015526854433119297, 0.015526854433119297, 0.015526854433119297, 0.015526854433119297, 0.015526854433119297, 74.9906005859375, 46.15502166748047, 44.121368408203125, 20.837324142456055, 17.728055953979492, 15.678502082824707, 15.588788032531738, 15.070487022399902, 14.619033813476562, 10.554980278015137, 9.491354942321777, 7.539484977722168, 3.7439677715301514, 0.01321885734796524, 0.01321885734796524, 0.01321885734796524, 0.01321885734796524, 0.01321885734796524, 0.01321885734796524, 0.01321885734796524, 0.01321885734796524, 0.01321885734796524, 0.01321885734796524, 0.01321885734796524, 0.01321885734796524, 0.01321885734796524, 0.01321885734796524, 0.01321885734796524, 0.01321885734796524, 0.01321885734796524, 0.01321885734796524, 0.01321885734796524, 0.01321885734796524, 0.01321885734796524, 0.01321885734796524, 0.01321885734796524, 0.01321885734796524, 0.01321885734796524, 0.01321885734796524, 0.01321885734796524, 0.01321885734796524, 0.01321885734796524, 0.01321885734796524, 0.01321885734796524, 0.01321885734796524, 0.01321885734796524, 0.01321885734796524, 335.7491760253906, 122.57697296142578, 67.67263793945312, 50.338539123535156, 47.34619903564453, 36.07189178466797, 30.35813331604004, 17.723283767700195, 15.195596694946289, 12.447126388549805, 9.097516059875488, 8.382661819458008, 7.043847560882568, 0.012623279355466366, 0.012623279355466366, 0.012623279355466366, 0.012623279355466366, 0.012623279355466366, 0.012623279355466366, 0.012623279355466366, 0.012623279355466366, 0.012623279355466366, 0.012623279355466366, 0.012623279355466366, 0.012623279355466366, 0.012623279355466366, 0.012623279355466366, 0.012623279355466366, 0.012623279355466366, 0.012623279355466366, 0.012623279355466366, 0.012623279355466366, 0.012623279355466366, 0.012623279355466366, 0.012623279355466366, 0.012623279355466366, 0.012623279355466366, 0.012623279355466366, 0.012623279355466366, 0.012623279355466366, 0.012623279355466366, 0.012623279355466366, 0.012623279355466366, 0.012623279355466366, 0.012623279355466366, 0.012623279355466366, 0.012623279355466366, 4787.58837890625, 3849.9208984375, 2475.014404296875, 1369.6072998046875, 185.57566833496094, 49.549461364746094, 46.67839431762695, 17.691307067871094, 9.698448181152344, 0.012510890141129494, 0.012510890141129494, 0.012510890141129494, 0.012510890141129494, 0.012510890141129494, 0.012510890141129494, 0.012510890141129494, 0.012510890141129494, 0.012510890141129494, 0.012510890141129494, 0.012510890141129494, 0.012510890141129494, 0.012510890141129494, 0.012510890141129494, 0.012510890141129494, 0.012510890141129494, 0.012510890141129494, 0.012510890141129494, 0.012510890141129494, 0.012510890141129494, 0.012510890141129494, 0.012510890141129494, 0.012510890141129494, 0.012510890141129494, 0.012510890141129494, 0.012510890141129494, 0.012510890141129494, 0.012510890141129494, 0.012510890141129494, 0.012510890141129494, 0.012510890141129494, 0.012510890141129494, 0.012510890141129494, 0.012510890141129494, 0.012510890141129494, 0.012510890141129494, 0.012510890141129494, 0.012510890141129494, 0.012510890141129494, 0.012510890141129494, 0.012510890141129494, 0.012510890141129494, 227.7997283935547, 94.53424835205078, 54.493770599365234, 47.96576690673828, 36.12209701538086, 33.51714324951172, 20.971651077270508, 19.772727966308594, 19.665193557739258, 18.343706130981445, 15.7293119430542, 13.342659950256348, 13.015849113464355, 6.100755214691162, 3.5841028690338135, 0.015055638737976551, 0.015055638737976551, 0.015055638737976551, 0.015055638737976551, 0.015055638737976551, 0.015055638737976551, 0.015055638737976551, 0.015055638737976551, 0.015055638737976551, 0.015055638737976551, 0.015055638737976551, 0.015055638737976551, 0.015055638737976551, 0.015055638737976551, 0.015055638737976551, 0.015055638737976551, 0.015055638737976551, 0.015055638737976551, 0.015055638737976551, 0.015055638737976551, 0.015055638737976551, 0.015055638737976551, 0.015055638737976551, 0.015055638737976551, 0.015055638737976551, 0.015055638737976551, 0.015055638737976551, 0.015055638737976551, 0.015055638737976551, 0.015055638737976551, 193.60513305664062, 186.53286743164062, 108.43389892578125, 89.89550018310547, 62.44441223144531, 9.703757286071777, 9.578611373901367, 7.629645824432373, 6.352036952972412, 6.278524398803711, 3.145846366882324, 0.013757755048573017, 0.013757755048573017, 0.013757755048573017, 0.013757755048573017, 0.013757755048573017, 0.013757755048573017, 0.013757755048573017, 0.013757755048573017, 0.013757755048573017, 0.013757755048573017, 0.013757755048573017, 0.013757755048573017, 0.013757755048573017, 0.013757755048573017, 0.013757755048573017, 0.013757755048573017, 0.013757755048573017, 0.013757755048573017, 0.013757755048573017, 0.013757755048573017, 0.013757755048573017, 0.013757755048573017, 0.013757755048573017, 0.013757755048573017, 0.013757755048573017, 0.013757755048573017, 0.013757755048573017, 0.013757755048573017, 0.013757755048573017, 0.013757755048573017, 0.013757755048573017, 0.013757755048573017, 0.013757755048573017, 0.013757755048573017, 0.013757755048573017, 0.013757755048573017, 0.013757755048573017, 0.013757755048573017, 314.04388427734375, 209.8765106201172, 49.004825592041016, 18.10958480834961, 14.1859769821167, 13.615216255187988, 13.072080612182617, 8.205379486083984, 7.608920097351074, 6.771034240722656, 6.0749101638793945, 0.01215704157948494, 0.01215704157948494, 0.01215704157948494, 0.01215704157948494, 0.01215704157948494, 0.01215704157948494, 0.01215704157948494, 0.01215704157948494, 0.01215704157948494, 0.01215704157948494, 0.01215704157948494, 0.01215704157948494, 0.01215704157948494, 0.01215704157948494, 0.01215704157948494, 0.01215704157948494, 0.01215704157948494, 0.01215704157948494, 0.01215704157948494, 0.01215704157948494, 0.01215704157948494, 0.01215704157948494, 0.01215704157948494, 0.01215704157948494, 0.01215704157948494, 0.01215704157948494, 0.01215704157948494, 0.01215704157948494, 0.01215704157948494, 0.01215704157948494, 0.01215704157948494, 0.01215704157948494, 0.01215704157948494, 0.01215704157948494, 0.01215704157948494, 0.01215704157948494, 0.01215704157948494, 0.01215704157948494, 489.6943359375, 331.3945617675781, 145.71299743652344, 114.75149536132812, 97.09187316894531, 53.02503204345703, 24.148168563842773, 14.34510612487793, 6.350098609924316, 0.012780115939676762, 0.012780115939676762, 0.012780115939676762, 0.012780115939676762, 0.012780115939676762, 0.012780115939676762, 0.012780115939676762, 0.012780115939676762, 0.012780115939676762, 0.012780115939676762, 0.012780115939676762, 0.012780115939676762, 0.012780115939676762, 0.012780115939676762, 0.012780115939676762, 0.012780115939676762, 0.012780115939676762, 0.012780115939676762, 0.012780115939676762, 0.012780115939676762, 0.012780115939676762, 0.012780115939676762, 0.012780115939676762, 0.012780115939676762, 0.012780115939676762, 0.012780115939676762, 0.012780115939676762, 0.012780115939676762, 0.012780115939676762, 0.012780115939676762, 0.012780115939676762, 0.012780115939676762, 0.012780115939676762, 0.012780115939676762, 0.012780115939676762, 0.012780115939676762, 0.012780115939676762, 0.012780115939676762, 0.012780115939676762, 0.012780115939676762, 0.012780115939676762, 0.012780115939676762, 169.33436584472656, 158.64434814453125, 60.5980224609375, 33.002830505371094, 31.360013961791992, 23.422836303710938, 22.866931915283203, 20.237886428833008, 13.800009727478027, 12.867194175720215, 10.0799560546875, 5.778558731079102, 0.01856425032019615, 0.01856425032019615, 0.01856425032019615, 0.01856425032019615, 0.01856425032019615, 0.01856425032019615, 0.01856425032019615, 0.01856425032019615, 0.01856425032019615, 0.01856425032019615, 0.01856425032019615, 0.01856425032019615, 0.01856425032019615, 0.01856425032019615, 0.01856425032019615, 0.01856425032019615, 0.01856425032019615, 0.01856425032019615, 0.01856425032019615, 0.01856425032019615, 0.01856425032019615, 0.01856425032019615, 0.01856425032019615, 0.01856425032019615, 0.01856425032019615, 0.01856425032019615, 0.01856425032019615, 0.01856425032019615, 0.01856425032019615, 0.01856425032019615, 0.01856425032019615, 0.01856425032019615, 0.01856425032019615, 0.01856425032019615, 0.01856425032019615, 0.01856425032019615, 354.0445556640625, 124.7944107055664, 85.46548461914062, 60.72643280029297, 28.501955032348633, 25.123260498046875, 13.311800956726074, 12.24287223815918, 10.107006072998047, 9.08727741241455, 5.87359619140625, 0.011409483850002289, 0.011409483850002289, 0.011409483850002289, 0.011409483850002289, 0.011409483850002289, 0.011409483850002289, 0.011409483850002289, 0.011409483850002289, 0.011409483850002289, 0.011409483850002289, 0.011409483850002289, 0.011409483850002289, 0.011409483850002289, 0.011409483850002289, 0.011409483850002289, 0.011409483850002289, 0.011409483850002289, 0.011409483850002289, 0.011409483850002289, 0.011409483850002289, 0.011409483850002289, 0.011409483850002289, 0.011409483850002289, 0.011409483850002289, 0.011409483850002289, 0.011409483850002289, 0.011409483850002289, 0.011409483850002289, 0.011409483850002289, 0.011409483850002289, 0.011409483850002289, 0.011409483850002289, 0.011409483850002289, 0.011409483850002289, 0.011409483850002289, 0.011409483850002289, 0.011409483850002289, 0.011409483850002289, 153.5137939453125, 128.3236541748047, 95.55630493164062, 92.08130645751953, 43.893218994140625, 30.252140045166016, 29.087017059326172, 27.859609603881836, 13.26457691192627, 10.692887306213379, 10.20919132232666, 6.840588092803955, 5.464463233947754, 5.259115695953369, 0.011913278140127659, 0.011913278140127659, 0.011913278140127659, 0.011913278140127659, 0.011913278140127659, 0.011913278140127659, 0.011913278140127659, 0.011913278140127659, 0.011913278140127659, 0.011913278140127659, 0.011913278140127659, 0.011913278140127659, 0.011913278140127659, 0.011913278140127659, 0.011913278140127659, 0.011913278140127659, 0.011913278140127659, 0.011913278140127659, 0.011913278140127659, 0.011913278140127659, 0.011913278140127659, 0.011913278140127659, 0.011913278140127659, 0.011913278140127659, 0.011913278140127659, 0.011913278140127659, 0.011913278140127659, 0.011913278140127659, 0.011913278140127659, 0.011913278140127659, 0.011913278140127659, 0.011913278140127659, 240.07345581054688, 98.75518035888672, 63.76729202270508, 43.54304504394531, 41.18716812133789, 40.57269287109375, 32.7066535949707, 29.283878326416016, 24.286434173583984, 19.840932846069336, 18.965389251708984, 15.223441123962402, 14.328068733215332, 11.314544677734375, 8.768206596374512, 4.297745704650879, 0.014421189203858376, 0.014421189203858376, 0.014421189203858376, 0.014421189203858376, 0.014421189203858376, 0.014421189203858376, 0.014421189203858376, 0.014421189203858376, 0.014421189203858376, 0.014421189203858376, 0.014421189203858376, 0.014421189203858376, 0.014421189203858376, 0.014421189203858376, 0.014421189203858376, 0.014421189203858376, 0.014421189203858376, 0.014421189203858376, 0.014421189203858376, 0.014421189203858376, 0.014421189203858376, 0.014421189203858376, 0.014421189203858376, 0.014421189203858376, 0.014421189203858376, 0.014421189203858376, 0.014421189203858376, 0.014421189203858376, 68.53890991210938, 57.61933898925781, 38.99554443359375, 33.99025344848633, 23.83962631225586, 21.094829559326172, 16.79810333251953, 16.038860321044922, 13.35105037689209, 10.805489540100098, 10.49942684173584, 9.667635917663574, 6.618741989135742, 0.012850823812186718, 0.012850823812186718, 0.012850823812186718, 0.012850823812186718, 0.012850823812186718, 0.012850823812186718, 0.012850823812186718, 0.012850823812186718, 0.012850823812186718, 0.012850823812186718, 0.012850823812186718, 0.012850823812186718, 0.012850823812186718, 0.012850823812186718, 0.012850823812186718, 0.012850823812186718, 0.012850823812186718, 0.012850823812186718, 0.012850823812186718, 0.012850823812186718, 0.012850823812186718, 0.012850823812186718, 0.012850823812186718, 0.012850823812186718, 0.012850823812186718, 0.012850823812186718, 0.012850823812186718, 0.012850823812186718, 0.012850823812186718, 0.012850823812186718, 0.012850823812186718, 0.012850823812186718, 0.012850823812186718, 0.012850823812186718, 3408.732177734375, 550.3125610351562, 175.22152709960938, 170.81924438476562, 102.86328887939453, 20.89836311340332, 16.681358337402344, 14.817742347717285, 7.945959568023682, 0.022305527701973915, 0.022305527701973915, 0.022305527701973915, 0.022305527701973915, 0.022305527701973915, 0.022305527701973915, 0.022305527701973915, 0.022305527701973915, 0.022305527701973915, 0.022305527701973915, 0.022305527701973915, 0.022305527701973915, 0.022305527701973915, 0.022305527701973915, 0.022305527701973915, 0.022305527701973915, 0.022305527701973915, 0.022305527701973915, 0.022305527701973915, 0.022305527701973915, 0.022305527701973915, 0.022305527701973915, 0.022305527701973915, 0.022305527701973915, 0.022305527701973915, 0.022305527701973915, 0.022305527701973915, 0.022305527701973915, 0.022305527701973915, 0.022305527701973915, 0.022305527701973915, 0.022305527701973915, 0.022305527701973915, 0.022305527701973915, 0.022305527701973915, 0.022305527701973915, 0.022305527701973915, 0.022305527701973915, 0.022305527701973915, 0.022305527701973915, 0.022305527701973915, 0.022305527701973915, 282.551025390625, 274.4693603515625, 90.4859848022461, 65.9969482421875, 32.27427673339844, 6.6986494064331055, 0.014604232273995876, 0.014604232273995876, 0.014604232273995876, 0.014604232273995876, 0.014604232273995876, 0.014604232273995876, 0.014604232273995876, 0.014604232273995876, 0.014604232273995876, 0.014604232273995876, 0.014604232273995876, 0.014604232273995876, 0.014604232273995876, 0.014604232273995876, 0.014604232273995876, 0.014604232273995876, 0.014604232273995876, 0.014604232273995876, 0.014604232273995876, 0.014604232273995876, 0.014604232273995876, 0.014604232273995876, 0.014604232273995876, 0.014604232273995876, 0.014604232273995876, 0.014604232273995876, 0.014604232273995876, 0.014604232273995876, 0.014604232273995876, 0.014604232273995876, 0.014604232273995876, 0.014604232273995876, 0.014604232273995876, 0.014604232273995876, 0.014604232273995876, 0.014604232273995876, 0.014604232273995876, 0.014604232273995876, 0.014604232273995876, 0.014604232273995876, 0.014604232273995876, 0.014604232273995876, 0.014604232273995876, 0.014604232273995876, 0.014604232273995876, 0.014604232273995876, 0.014604232273995876, 113.20890808105469, 77.52978515625, 33.82405471801758, 32.35051345825195, 24.320905685424805, 23.48419189453125, 21.04709243774414, 18.55845832824707, 18.31747055053711, 18.079612731933594, 15.930963516235352, 11.970060348510742, 11.794124603271484, 9.29786205291748, 8.9359712600708, 6.2625885009765625, 5.647787570953369, 0.012480564415454865, 0.012480564415454865, 0.012480564415454865, 0.012480564415454865, 0.012480564415454865, 0.012480564415454865, 0.012480564415454865, 0.012480564415454865, 0.012480564415454865, 0.012480564415454865, 0.012480564415454865, 0.012480564415454865, 0.012480564415454865, 0.012480564415454865, 0.012480564415454865, 0.012480564415454865, 0.012480564415454865, 0.012480564415454865, 0.012480564415454865, 0.012480564415454865, 0.012480564415454865, 0.012480564415454865, 0.012480564415454865, 0.012480564415454865, 0.012480564415454865, 0.012480564415454865, 113.55661010742188, 82.04046630859375, 32.51612854003906, 32.13801193237305, 21.668399810791016, 20.765182495117188, 17.99728775024414, 11.312365531921387, 10.333940505981445, 9.273174285888672, 7.497165203094482, 5.898852825164795, 0.016352901235222816, 0.016352901235222816, 0.016352901235222816, 0.016352901235222816, 0.016352901235222816, 0.016352901235222816, 0.016352901235222816, 0.016352901235222816, 0.016352901235222816, 0.016352901235222816, 0.016352901235222816, 0.016352901235222816, 0.016352901235222816, 0.016352901235222816, 0.016352901235222816, 0.016352901235222816, 0.016352901235222816, 0.016352901235222816, 0.016352901235222816, 0.016352901235222816, 0.016352901235222816, 0.016352901235222816, 0.016352901235222816, 0.016352901235222816, 0.016352901235222816, 0.016352901235222816, 0.016352901235222816, 0.016352901235222816, 0.016352901235222816, 0.016352901235222816, 0.016352901235222816, 0.016352901235222816, 0.016352901235222816, 0.016352901235222816, 0.016352901235222816, 0.016352901235222816, 125.31389617919922, 64.47909545898438, 64.22036743164062, 50.38301467895508, 45.973819732666016, 41.18525695800781, 31.710224151611328, 24.9143123626709, 15.230900764465332, 15.000171661376953, 13.679104804992676, 13.251871109008789, 12.515932083129883, 11.924545288085938, 11.033249855041504, 9.889582633972168, 7.99998664855957, 7.926064968109131, 7.889301776885986, 0.013131242245435715, 0.013131242245435715, 0.013131242245435715, 0.013131242245435715, 0.013131242245435715, 0.013131242245435715, 0.013131242245435715, 0.013131242245435715, 0.013131242245435715, 0.013131242245435715, 0.013131242245435715, 0.013131242245435715, 0.013131242245435715, 0.013131242245435715, 0.013131242245435715, 0.013131242245435715, 0.013131242245435715, 0.013131242245435715, 0.013131242245435715, 0.013131242245435715, 0.013131242245435715, 0.013131242245435715, 68.93244934082031, 68.59442901611328, 63.021270751953125, 57.293373107910156, 55.49597930908203, 32.168678283691406, 31.473590850830078, 29.15391731262207, 28.832569122314453, 28.76275062561035, 25.942363739013672, 22.555377960205078, 20.842172622680664, 17.051406860351562, 16.72028923034668, 15.382608413696289, 15.13155746459961, 15.129144668579102, 14.623440742492676, 14.055975914001465, 14.004788398742676, 13.173360824584961, 10.839951515197754, 9.722819328308105, 8.732311248779297, 8.467124938964844, 7.872451305389404, 7.8720173835754395, 7.711653232574463, 7.197340488433838, 649.4186401367188, 244.93743896484375, 66.72013092041016, 49.18106460571289, 28.416658401489258, 27.130260467529297, 26.324325561523438, 14.574780464172363, 7.792879104614258, 7.062837600708008, 2.254570722579956, 0.01521397940814495, 0.01521397940814495, 0.01521397940814495, 0.01521397940814495, 0.01521397940814495, 0.01521397940814495, 0.01521397940814495, 0.01521397940814495, 0.01521397940814495, 0.01521397940814495, 0.01521397940814495, 0.01521397940814495, 0.01521397940814495, 0.01521397940814495, 0.01521397940814495, 0.01521397940814495, 0.01521397940814495, 0.01521397940814495, 0.01521397940814495, 0.01521397940814495, 0.01521397940814495, 0.01521397940814495, 0.01521397940814495, 0.01521397940814495, 0.01521397940814495, 0.01521397940814495, 0.01521397940814495, 0.01521397940814495, 0.01521397940814495, 0.01521397940814495, 0.01521397940814495, 0.01521397940814495, 0.01521397940814495, 0.01521397940814495, 0.01521397940814495, 0.01521397940814495, 0.01521397940814495, 0.01521397940814495, 142.5339813232422, 100.7590560913086, 97.20564270019531, 23.042600631713867, 22.484420776367188, 20.71013832092285, 18.790260314941406, 18.49031639099121, 15.278717041015625, 10.735450744628906, 9.629334449768066, 8.503142356872559, 0.01576121151447296, 0.01576121151447296, 0.01576121151447296, 0.01576121151447296, 0.01576121151447296, 0.01576121151447296, 0.01576121151447296, 0.01576121151447296, 0.01576121151447296, 0.01576121151447296, 0.01576121151447296, 0.01576121151447296, 0.01576121151447296, 0.01576121151447296, 0.01576121151447296, 0.01576121151447296, 0.01576121151447296, 0.01576121151447296, 0.01576121151447296, 0.01576121151447296, 0.01576121151447296, 0.01576121151447296, 0.01576121151447296, 0.01576121151447296, 0.01576121151447296, 0.01576121151447296, 0.01576121151447296, 0.01576121151447296, 0.01576121151447296, 0.01576121151447296, 0.01576121151447296, 0.01576121151447296, 0.01576121151447296, 0.01576121151447296, 0.01576121151447296, 0.01576121151447296, 220.07798767089844, 108.98461151123047, 66.31358337402344, 64.51361846923828, 63.378543853759766, 46.22104263305664, 44.20881652832031, 36.55462646484375, 35.42050552368164, 28.439075469970703, 16.163583755493164, 14.623435974121094, 14.4070463180542, 11.196589469909668, 9.770071983337402, 0.013976382091641426, 0.013976382091641426, 0.013976382091641426, 0.013976382091641426, 0.013976382091641426, 0.013976382091641426, 0.013976382091641426, 0.013976382091641426, 0.013976382091641426, 0.013976382091641426, 0.013976382091641426, 0.013976382091641426, 0.013976382091641426, 0.013976382091641426, 0.013976382091641426, 0.013976382091641426, 0.013976382091641426, 0.013976382091641426, 0.013976382091641426, 0.013976382091641426, 0.013976382091641426, 0.013976382091641426, 0.013976382091641426, 0.013976382091641426, 0.013976382091641426, 0.013976382091641426, 0.013976382091641426, 0.013976382091641426, 0.013976382091641426, 0.013976382091641426, 110.937744140625, 90.13025665283203, 57.5205078125, 50.309906005859375, 43.54697799682617, 26.37762451171875, 16.031688690185547, 13.380200386047363, 12.491272926330566, 8.542284965515137, 7.209381103515625, 0.013564382679760456, 0.013564382679760456, 0.013564382679760456, 0.013564382679760456, 0.013564382679760456, 0.013564382679760456, 0.013564382679760456, 0.013564382679760456, 0.013564382679760456, 0.013564382679760456, 0.013564382679760456, 0.013564382679760456, 0.013564382679760456, 0.013564382679760456, 0.013564382679760456, 0.013564382679760456, 0.013564382679760456, 0.013564382679760456, 0.013564382679760456, 0.013564382679760456, 0.013564382679760456, 0.013564382679760456, 0.013564382679760456, 0.013564382679760456, 0.013564382679760456, 0.013564382679760456, 0.013564382679760456, 0.013564382679760456, 0.013564382679760456, 0.013564382679760456, 0.013564382679760456, 0.013564382679760456, 0.013564382679760456, 0.013564382679760456, 0.013564382679760456, 0.013564382679760456, 0.013564382679760456, 0.013564382679760456, 272.1283264160156, 170.19650268554688, 121.71622467041016, 119.14253234863281, 103.95747375488281, 51.888973236083984, 19.74900245666504, 17.736835479736328, 16.24137306213379, 15.606276512145996, 15.57148551940918, 0.015281964093446732, 0.015281964093446732, 0.015281964093446732, 0.015281964093446732, 0.015281964093446732, 0.015281964093446732, 0.015281964093446732, 0.015281964093446732, 0.015281964093446732, 0.015281964093446732, 0.015281964093446732, 0.015281964093446732, 0.015281964093446732, 0.015281964093446732, 0.015281964093446732, 0.015281964093446732, 0.015281964093446732, 0.015281964093446732, 0.015281964093446732, 0.015281964093446732, 0.015281964093446732, 0.015281964093446732, 0.015281964093446732, 0.015281964093446732, 0.015281964093446732, 0.015281964093446732, 0.015281964093446732, 0.015281964093446732, 0.015281964093446732, 0.015281964093446732, 0.015281964093446732, 0.015281964093446732, 0.015281964093446732, 0.015281964093446732, 0.015281964093446732, 0.015281964093446732, 0.015281964093446732, 0.015281964093446732, 297.8958435058594, 157.92059326171875, 49.67887496948242, 26.955812454223633, 23.757579803466797, 22.293792724609375, 18.5847110748291, 18.56786346435547, 14.793131828308105, 11.494145393371582, 0.015052174217998981, 0.015052174217998981, 0.015052174217998981, 0.015052174217998981, 0.015052174217998981, 0.015052174217998981, 0.015052174217998981, 0.015052174217998981, 0.015052174217998981, 0.015052174217998981, 0.015052174217998981, 0.015052174217998981, 0.015052174217998981, 0.015052174217998981, 0.015052174217998981, 0.015052174217998981, 0.015052174217998981, 0.015052174217998981, 0.015052174217998981, 0.015052174217998981, 0.015052174217998981, 0.015052174217998981, 0.015052174217998981, 0.015052174217998981, 0.015052174217998981, 0.015052174217998981, 0.015052174217998981, 0.015052174217998981, 0.015052174217998981, 0.015052174217998981, 0.015052174217998981, 0.015052174217998981, 0.015052174217998981, 0.015052174217998981, 0.015052174217998981, 0.015052174217998981, 0.015052174217998981, 0.015052174217998981, 0.015052174217998981, 0.015052174217998981, 131.09994506835938, 79.1916275024414, 61.63765335083008, 54.696006774902344, 49.96833801269531, 43.14554977416992, 26.900283813476562, 20.57228660583496, 18.545263290405273, 18.1567440032959, 15.638399124145508, 10.151981353759766, 9.4618501663208, 8.514076232910156, 0.015008985996246338, 0.015008985996246338, 0.015008985996246338, 0.015008985996246338, 0.015008985996246338, 0.015008985996246338, 0.015008985996246338, 0.015008985996246338, 0.015008985996246338, 0.015008985996246338, 0.015008985996246338, 0.015008985996246338, 0.015008985996246338, 0.015008985996246338, 0.015008985996246338, 0.015008985996246338, 0.015008985996246338, 0.015008985996246338, 0.015008985996246338, 0.015008985996246338, 0.015008985996246338, 0.015008985996246338, 0.015008985996246338, 0.015008985996246338, 0.015008985996246338, 0.015008985996246338, 0.015008985996246338, 0.015008985996246338, 0.015008985996246338, 0.015008985996246338, 0.015008985996246338, 0.015008985996246338, 144.9860382080078, 108.78327941894531, 71.90292358398438, 63.85370635986328, 40.10231018066406, 23.284738540649414, 22.63694190979004, 22.49211311340332, 18.426664352416992, 17.39961051940918, 12.831757545471191, 12.220195770263672, 12.017568588256836, 11.545429229736328, 10.362833023071289, 7.804252624511719, 7.750670433044434, 3.8686184883117676, 0.012573100626468658, 0.012573100626468658, 0.012573100626468658, 0.012573100626468658, 0.012573100626468658, 0.012573100626468658, 0.012573100626468658, 0.012573100626468658, 0.012573100626468658, 0.012573100626468658, 0.012573100626468658, 0.012573100626468658, 0.012573100626468658, 0.012573100626468658, 0.012573100626468658, 0.012573100626468658, 0.012573100626468658, 0.012573100626468658, 0.012573100626468658, 0.012573100626468658, 0.012573100626468658, 0.012573100626468658, 0.012573100626468658, 0.012573100626468658, 324.169189453125, 72.09405517578125, 60.43124008178711, 39.1131591796875, 32.40446853637695, 28.224641799926758, 11.394632339477539, 10.978541374206543, 3.762532949447632, 0.015932755544781685, 0.015932755544781685, 0.015932755544781685, 0.015932755544781685, 0.015932755544781685, 0.015932755544781685, 0.015932755544781685, 0.015932755544781685, 0.015932755544781685, 0.015932755544781685, 0.015932755544781685, 0.015932755544781685, 0.015932755544781685, 0.015932755544781685, 0.015932755544781685, 0.015932755544781685, 0.015932755544781685, 0.015932755544781685, 0.015932755544781685, 0.015932755544781685, 0.015932755544781685, 0.015932755544781685, 0.015932755544781685, 0.015932755544781685, 0.015932755544781685, 0.015932755544781685, 0.015932755544781685, 0.015932755544781685, 0.015932755544781685, 0.015932755544781685, 0.015932755544781685, 0.015932755544781685, 0.015932755544781685, 0.015932755544781685, 0.015932755544781685, 0.015932755544781685, 0.015932755544781685, 0.015932755544781685, 0.015932755544781685, 0.015932755544781685, 0.015932755544781685, 0.015932755544781685, 175.33656311035156, 90.5019760131836, 55.50457000732422, 33.709556579589844, 30.239702224731445, 26.628583908081055, 22.553865432739258, 20.280302047729492, 16.9571533203125, 16.302101135253906, 11.461185455322266, 4.809556007385254, 0.01359457615762949, 0.01359457615762949, 0.01359457615762949, 0.01359457615762949, 0.01359457615762949, 0.01359457615762949, 0.01359457615762949, 0.01359457615762949, 0.01359457615762949, 0.01359457615762949, 0.01359457615762949, 0.01359457615762949, 0.01359457615762949, 0.01359457615762949, 0.01359457615762949, 0.01359457615762949, 0.01359457615762949, 0.01359457615762949, 0.01359457615762949, 0.01359457615762949, 0.01359457615762949, 0.01359457615762949, 0.01359457615762949, 0.01359457615762949, 0.01359457615762949, 0.01359457615762949, 0.01359457615762949, 0.01359457615762949, 0.01359457615762949, 0.01359457615762949, 0.01359457615762949, 0.01359457615762949, 0.01359457615762949, 0.01359457615762949, 0.01359457615762949, 0.01359457615762949, 74.24443817138672, 71.44890594482422, 67.9004135131836, 47.93014907836914, 43.45683670043945, 43.092140197753906, 29.05015754699707, 17.410917282104492, 15.540754318237305, 14.816650390625, 13.802645683288574, 13.055838584899902, 12.34926700592041, 8.292415618896484, 7.136965751647949, 6.294405460357666, 0.014199367724359035, 0.014199367724359035, 0.014199367724359035, 0.014199367724359035, 0.014199367724359035, 0.014199367724359035, 0.014199367724359035, 0.014199367724359035, 0.014199367724359035, 0.014199367724359035, 0.014199367724359035, 0.014199367724359035, 0.014199367724359035, 0.014199367724359035, 0.014199367724359035, 0.014199367724359035, 0.014199367724359035, 0.014199367724359035, 0.014199367724359035, 0.014199367724359035, 0.014199367724359035, 0.014199367724359035, 0.014199367724359035, 0.014199367724359035, 0.014199367724359035, 0.014199367724359035, 0.014199367724359035, 0.014199367724359035, 407.15509033203125, 108.04222106933594, 100.38493347167969, 24.775392532348633, 23.05023193359375, 19.296695709228516, 14.62441635131836, 10.763010025024414, 8.644536972045898, 8.32980728149414, 5.171390056610107, 0.014432805590331554, 0.014432805590331554, 0.014432805590331554, 0.014432805590331554, 0.014432805590331554, 0.014432805590331554, 0.014432805590331554, 0.014432805590331554, 0.014432805590331554, 0.014432805590331554, 0.014432805590331554, 0.014432805590331554, 0.014432805590331554, 0.014432805590331554, 0.014432805590331554, 0.014432805590331554, 0.014432805590331554, 0.014432805590331554, 0.014432805590331554, 0.014432805590331554, 0.014432805590331554, 0.014432805590331554, 0.014432805590331554, 0.014432805590331554, 0.014432805590331554, 0.014432805590331554, 0.014432805590331554, 0.014432805590331554, 0.014432805590331554, 0.014432805590331554, 0.014432805590331554, 0.014432805590331554, 0.014432805590331554, 0.014432805590331554, 0.014432805590331554, 0.014432805590331554, 0.014432805590331554, 0.014432805590331554, 419.22308349609375, 263.753173828125, 34.78227996826172, 16.751493453979492, 15.02515697479248, 9.116872787475586, 7.845388889312744, 0.01767755299806595, 0.01767755299806595, 0.01767755299806595, 0.01767755299806595, 0.01767755299806595, 0.01767755299806595, 0.01767755299806595, 0.01767755299806595, 0.01767755299806595, 0.01767755299806595, 0.01767755299806595, 0.01767755299806595, 0.01767755299806595, 0.01767755299806595, 0.01767755299806595, 0.01767755299806595, 0.01767755299806595, 0.01767755299806595, 0.01767755299806595, 0.01767755299806595, 0.01767755299806595, 0.01767755299806595, 0.01767755299806595, 0.01767755299806595, 0.01767755299806595, 0.01767755299806595, 0.01767755299806595, 0.01767755299806595, 0.01767755299806595, 0.01767755299806595, 0.01767755299806595, 0.01767755299806595, 0.01767755299806595, 0.01767755299806595, 0.01767755299806595, 0.01767755299806595, 0.01767755299806595, 0.01767755299806595, 0.01767755299806595, 0.01767755299806595, 0.01767755299806595, 0.01767755299806595, 0.01767755299806595, 0.01767755299806595, 0.01767755299806595, 157.8624725341797, 127.67710876464844, 76.81957244873047, 70.9715805053711, 56.2840576171875, 33.6195068359375, 32.56747817993164, 32.40664291381836, 30.460071563720703, 22.831947326660156, 21.710586547851562, 21.231531143188477, 21.177860260009766, 20.856929779052734, 14.342144012451172, 13.474356651306152, 13.303234100341797, 13.219457626342773, 10.101557731628418, 7.344864368438721, 6.720775127410889, 6.481468677520752, 0.013442381285130978, 0.013442381285130978, 0.013442381285130978, 0.013442381285130978, 0.013442381285130978, 0.013442381285130978, 0.013442381285130978, 0.013442381285130978, 0.013442381285130978, 0.013442381285130978, 0.013442381285130978, 0.013442381285130978, 0.013442381285130978, 0.013442381285130978, 0.013442381285130978, 0.013442381285130978, 355.3714599609375, 293.5087890625, 129.023193359375, 80.58221435546875, 47.80290222167969, 26.300207138061523, 25.539575576782227, 25.14558982849121, 23.053340911865234, 21.96389389038086, 9.900309562683105, 7.0354485511779785, 0.014870123006403446, 0.014870123006403446, 0.014870123006403446, 0.014870123006403446, 0.014870123006403446, 0.014870123006403446, 0.014870123006403446, 0.014870123006403446, 0.014870123006403446, 0.014870123006403446, 0.014870123006403446, 0.014870123006403446, 0.014870123006403446, 0.014870123006403446, 0.014870123006403446, 0.014870123006403446, 0.014870123006403446, 0.014870123006403446, 0.014870123006403446, 0.014870123006403446, 0.014870123006403446, 0.014870123006403446, 0.014870123006403446, 0.014870123006403446, 0.014870123006403446, 0.014870123006403446, 0.014870123006403446, 0.014870123006403446, 0.014870123006403446, 0.014870123006403446, 0.014870123006403446, 0.014870123006403446, 0.014870123006403446, 0.014870123006403446, 0.014870123006403446, 0.014870123006403446, 91.59718322753906, 87.89680480957031, 76.37239074707031, 72.92039489746094, 72.18570709228516, 53.10236358642578, 49.559608459472656, 46.68747329711914, 37.5121955871582, 35.37392807006836, 29.333377838134766, 28.366519927978516, 27.456405639648438, 26.887619018554688, 25.432758331298828, 25.17326545715332, 23.365219116210938, 22.89990997314453, 20.992015838623047, 20.388137817382812, 20.135347366333008, 18.990083694458008, 17.27086639404297, 16.347871780395508, 14.613248825073242, 14.251999855041504, 11.055238723754883, 10.518736839294434, 9.786638259887695, 9.448722839355469, 87.54222869873047, 84.45587158203125, 66.186767578125, 43.9575080871582, 35.36533737182617, 35.25778579711914, 29.82852554321289, 20.616046905517578, 11.723651885986328, 9.865625381469727, 7.70284366607666, 5.740329742431641, 0.012928972952067852, 0.012928972952067852, 0.012928972952067852, 0.012928972952067852, 0.012928972952067852, 0.012928972952067852, 0.012928972952067852, 0.012928972952067852, 0.012928972952067852, 0.012928972952067852, 0.012928972952067852, 0.012928972952067852, 0.012928972952067852, 0.012928972952067852, 0.012928972952067852, 0.012928972952067852, 0.012928972952067852, 0.012928972952067852, 0.012928972952067852, 0.012928972952067852, 0.012928972952067852, 0.012928972952067852, 0.012928972952067852, 0.012928972952067852, 0.012928972952067852, 0.012928972952067852, 0.012928972952067852, 0.012928972952067852, 0.012928972952067852, 0.012928972952067852, 0.012928972952067852, 0.012928972952067852, 0.012928972952067852, 0.012928972952067852, 0.012928972952067852, 0.012928972952067852, 119.173828125, 50.234619140625, 36.280086517333984, 25.19938087463379, 23.463775634765625, 19.135496139526367, 16.801319122314453, 16.156511306762695, 14.356197357177734, 13.2547607421875, 12.610685348510742, 11.600761413574219, 11.256216049194336, 10.511682510375977, 10.145796775817871, 9.29561710357666, 9.121883392333984, 7.454753398895264, 0.016094684600830078, 0.016094684600830078, 0.016094684600830078, 0.016094684600830078, 0.016094684600830078, 0.016094684600830078, 0.016094684600830078, 0.016094684600830078, 0.016094684600830078, 0.016094684600830078, 0.016094684600830078, 0.016094684600830078, 0.016094684600830078, 0.016094684600830078, 0.016094684600830078, 0.016094684600830078, 0.016094684600830078, 0.016094684600830078, 0.016094684600830078, 0.016094684600830078, 0.016094684600830078, 0.016094684600830078, 0.016094684600830078, 0.016094684600830078, 76.28408813476562, 65.86152648925781, 62.522159576416016, 35.47264099121094, 35.23733139038086, 32.2862434387207, 31.45673370361328, 24.60097885131836, 22.21501350402832, 16.802566528320312, 14.466955184936523, 12.52238941192627, 10.166391372680664, 7.922897815704346, 0.01647774688899517, 0.01647774688899517, 0.01647774688899517, 0.01647774688899517, 0.01647774688899517, 0.01647774688899517, 0.01647774688899517, 0.01647774688899517, 0.01647774688899517, 0.01647774688899517, 0.01647774688899517, 0.01647774688899517, 0.01647774688899517, 0.01647774688899517, 0.01647774688899517, 0.01647774688899517, 0.01647774688899517, 0.01647774688899517, 0.01647774688899517, 0.01647774688899517, 0.01647774688899517, 0.01647774688899517, 0.01647774688899517, 0.01647774688899517, 0.01647774688899517, 0.01647774688899517, 0.01647774688899517, 0.01647774688899517, 0.01647774688899517, 0.01647774688899517, 0.01647774688899517, 0.01647774688899517, 241.63453674316406, 181.63967895507812, 16.427082061767578, 12.485841751098633, 11.629899024963379, 11.41387939453125, 11.122136116027832, 9.733348846435547, 8.147453308105469, 0.012437320314347744, 0.012437320314347744, 0.012437320314347744, 0.012437320314347744, 0.012437320314347744, 0.012437320314347744, 0.012437320314347744, 0.012437320314347744, 0.012437320314347744, 0.012437320314347744, 0.012437320314347744, 0.012437320314347744, 0.012437320314347744, 0.012437320314347744, 0.012437320314347744, 0.012437320314347744, 0.012437320314347744, 0.012437320314347744, 0.012437320314347744, 0.012437320314347744, 0.012437320314347744, 0.012437320314347744, 0.012437320314347744, 0.012437320314347744, 0.012437320314347744, 0.012437320314347744, 0.012437320314347744, 0.012437320314347744, 0.012437320314347744, 0.012437320314347744, 0.012437320314347744, 0.012437320314347744, 0.012437320314347744, 0.012437320314347744, 0.012437320314347744, 0.012437320314347744, 0.012437320314347744, 0.012437320314347744, 0.012437320314347744, 0.012437320314347744, 0.012437320314347744, 0.012437320314347744, 73.95745849609375, 67.8494644165039, 67.66580963134766, 50.6865234375, 32.26663589477539, 28.65365982055664, 26.78871726989746, 21.867938995361328, 19.529268264770508, 19.412952423095703, 18.54746437072754, 15.184309005737305, 13.093857765197754, 13.009058952331543, 6.854085445404053, 6.068743705749512, 0.014065434224903584, 0.014065434224903584, 0.014065434224903584, 0.014065434224903584, 0.014065434224903584, 0.014065434224903584, 0.014065434224903584, 0.014065434224903584, 0.014065434224903584, 0.014065434224903584, 0.014065434224903584, 0.014065434224903584, 0.014065434224903584, 0.014065434224903584, 0.014065434224903584, 0.014065434224903584, 0.014065434224903584, 0.014065434224903584, 0.014065434224903584, 0.014065434224903584, 0.014065434224903584, 0.014065434224903584, 0.014065434224903584, 0.014065434224903584, 0.014065434224903584, 0.014065434224903584, 0.014065434224903584, 0.014065434224903584, 389.6052551269531, 157.1800994873047, 130.3190155029297, 112.37327575683594, 98.47731018066406, 30.552770614624023, 28.37729263305664, 23.618221282958984, 15.346471786499023, 14.35518741607666, 10.575352668762207, 2.3924224376678467, 0.01514414045959711, 0.01514414045959711, 0.01514414045959711, 0.01514414045959711, 0.01514414045959711, 0.01514414045959711, 0.01514414045959711, 0.01514414045959711, 0.01514414045959711, 0.01514414045959711, 0.01514414045959711, 0.01514414045959711, 0.01514414045959711, 0.01514414045959711, 0.01514414045959711, 0.01514414045959711, 0.01514414045959711, 0.01514414045959711, 0.01514414045959711, 0.01514414045959711, 0.01514414045959711, 0.01514414045959711, 0.01514414045959711, 0.01514414045959711, 0.01514414045959711, 0.01514414045959711, 0.01514414045959711, 0.01514414045959711, 0.01514414045959711, 0.01514414045959711, 0.01514414045959711, 0.01514414045959711, 0.01514414045959711, 0.01514414045959711, 0.01514414045959711, 0.01514414045959711, 211.62570190429688, 101.50996398925781, 86.71903228759766, 26.068466186523438, 24.497692108154297, 19.016103744506836, 18.14441680908203, 15.042621612548828, 9.47307300567627, 8.88915729522705, 6.2531890869140625, 0.019757146015763283, 0.019757146015763283, 0.019757146015763283, 0.019757146015763283, 0.019757146015763283, 0.019757146015763283, 0.019757146015763283, 0.019757146015763283, 0.019757146015763283, 0.019757146015763283, 0.019757146015763283, 0.019757146015763283, 0.019757146015763283, 0.019757146015763283, 0.019757146015763283, 0.019757146015763283, 0.019757146015763283, 0.019757146015763283, 0.019757146015763283, 0.019757146015763283, 0.019757146015763283, 0.019757146015763283, 0.019757146015763283, 0.019757146015763283, 0.019757146015763283, 0.019757146015763283, 0.019757146015763283, 0.019757146015763283, 0.019757146015763283, 0.019757146015763283, 0.019757146015763283, 0.019757146015763283, 0.019757146015763283, 0.019757146015763283, 0.019757146015763283, 0.019757146015763283, 0.019757146015763283, 0.019757146015763283, 228.00279235839844, 47.00065612792969, 45.49043655395508, 33.67626190185547, 29.24937629699707, 26.80643653869629, 15.378791809082031, 15.167119026184082, 14.587117195129395, 12.864253044128418, 12.805221557617188, 7.487831115722656, 6.7721638679504395, 0.01707400381565094, 0.01707400381565094, 0.01707400381565094, 0.01707400381565094, 0.01707400381565094, 0.01707400381565094, 0.01707400381565094, 0.01707400381565094, 0.01707400381565094, 0.01707400381565094, 0.01707400381565094, 0.01707400381565094, 0.01707400381565094, 0.01707400381565094, 0.01707400381565094, 0.01707400381565094, 0.01707400381565094, 0.01707400381565094, 0.01707400381565094, 0.01707400381565094, 0.01707400381565094, 0.01707400381565094, 0.01707400381565094, 0.01707400381565094, 0.01707400381565094, 0.01707400381565094, 0.01707400381565094, 0.01707400381565094, 0.01707400381565094, 0.01707400381565094, 0.01707400381565094, 0.01707400381565094, 0.01707400381565094, 0.01707400381565094, 89.32235717773438, 60.9917106628418, 59.57478713989258, 38.934444427490234, 18.808998107910156, 16.6668701171875, 15.462980270385742, 15.262162208557129, 15.057628631591797, 14.958968162536621, 14.487384796142578, 13.533929824829102, 11.73630428314209, 9.911717414855957, 9.07864761352539, 8.903904914855957, 8.153281211853027, 7.793151378631592, 0.01167374663054943, 0.01167374663054943, 0.01167374663054943, 0.01167374663054943, 0.01167374663054943, 0.01167374663054943, 0.01167374663054943, 0.01167374663054943, 0.01167374663054943, 0.01167374663054943, 0.01167374663054943, 0.01167374663054943, 0.01167374663054943, 0.01167374663054943, 0.01167374663054943, 0.01167374663054943, 0.01167374663054943, 0.01167374663054943, 0.01167374663054943, 0.01167374663054943, 0.01167374663054943, 0.01167374663054943, 0.01167374663054943, 0.01167374663054943, 193.2576446533203, 100.77062225341797, 88.46067810058594, 64.48336791992188, 28.592275619506836, 25.675010681152344, 16.568483352661133, 15.899232864379883, 10.69420051574707, 7.851301193237305, 0.01971420831978321, 0.01971420831978321, 0.01971420831978321, 0.01971420831978321, 0.01971420831978321, 0.01971420831978321, 0.01971420831978321, 0.01971420831978321, 0.01971420831978321, 0.01971420831978321, 0.01971420831978321, 0.01971420831978321, 0.01971420831978321, 0.01971420831978321, 0.01971420831978321, 0.01971420831978321, 0.01971420831978321, 0.01971420831978321, 0.01971420831978321, 0.01971420831978321, 0.01971420831978321, 0.01971420831978321, 0.01971420831978321, 0.01971420831978321, 0.01971420831978321, 0.01971420831978321, 0.01971420831978321, 0.01971420831978321, 0.01971420831978321, 0.01971420831978321, 0.01971420831978321, 0.01971420831978321, 0.01971420831978321, 0.01971420831978321, 0.01971420831978321, 0.01971420831978321, 0.01971420831978321, 0.01971420831978321, 0.01971420831978321, 0.01971420831978321, 548.5054321289062, 318.57958984375, 120.66986846923828, 83.98926544189453, 51.83686447143555, 18.323246002197266, 17.370742797851562, 14.492140769958496, 12.91994857788086, 9.635075569152832, 6.846136569976807, 5.837360382080078, 5.289463520050049, 0.01145439874380827, 0.01145439874380827, 0.01145439874380827, 0.01145439874380827, 0.01145439874380827, 0.01145439874380827, 0.01145439874380827, 0.01145439874380827, 0.01145439874380827, 0.01145439874380827, 0.01145439874380827, 0.01145439874380827, 0.01145439874380827, 0.01145439874380827, 0.01145439874380827, 0.01145439874380827, 0.01145439874380827, 0.01145439874380827, 0.01145439874380827, 0.01145439874380827, 0.01145439874380827, 0.01145439874380827, 0.01145439874380827, 0.01145439874380827, 0.01145439874380827, 0.01145439874380827, 0.01145439874380827, 0.01145439874380827, 0.01145439874380827, 0.01145439874380827, 0.01145439874380827, 0.01145439874380827, 0.01145439874380827, 0.01145439874380827, 430.3758239746094, 317.3408508300781, 151.16299438476562, 39.788795471191406, 28.256364822387695, 25.249958038330078, 14.664447784423828, 14.43100357055664, 13.135457992553711, 10.997024536132812, 10.192024230957031, 0.015014609321951866, 0.015014609321951866, 0.015014609321951866, 0.015014609321951866, 0.015014609321951866, 0.015014609321951866, 0.015014609321951866, 0.015014609321951866, 0.015014609321951866, 0.015014609321951866, 0.015014609321951866, 0.015014609321951866, 0.015014609321951866, 0.015014609321951866, 0.015014609321951866, 0.015014609321951866, 0.015014609321951866, 0.015014609321951866, 0.015014609321951866, 0.015014609321951866, 0.015014609321951866, 0.015014609321951866, 0.015014609321951866, 0.015014609321951866, 0.015014609321951866, 0.015014609321951866, 0.015014609321951866, 0.015014609321951866, 0.015014609321951866, 0.015014609321951866, 0.015014609321951866, 0.015014609321951866, 0.015014609321951866, 0.015014609321951866, 0.015014609321951866, 0.015014609321951866, 0.015014609321951866, 0.015014609321951866, 620.3893432617188, 202.47964477539062, 180.92596435546875, 129.69534301757812, 86.25545501708984, 84.46790313720703, 73.80449676513672, 66.05056762695312, 64.17082977294922, 51.23988723754883, 28.729515075683594, 27.191993713378906, 23.555749893188477, 22.78177261352539, 21.305788040161133, 19.66848373413086, 16.907026290893555, 12.760778427124023, 12.445054054260254, 9.921676635742188, 0.01623634807765484, 0.01623634807765484, 0.01623634807765484, 0.01623634807765484, 0.01623634807765484, 0.01623634807765484, 0.01623634807765484, 0.01623634807765484, 0.01623634807765484, 0.01623634807765484, 0.01623634807765484, 0.01623634807765484, 0.01623634807765484, 0.01623634807765484, 0.01623634807765484, 0.01623634807765484, 0.01623634807765484, 0.01623634807765484, 0.01623634807765484, 0.01623634807765484, 573.5442504882812, 131.25555419921875, 130.1189422607422, 12.817059516906738, 8.101980209350586, 0.015270059928297997, 0.015270059928297997, 0.015270059928297997, 0.015270059928297997, 0.015270059928297997, 0.015270059928297997, 0.015270059928297997, 0.015270059928297997, 0.015270059928297997, 0.015270059928297997, 0.015270059928297997, 0.015270059928297997, 0.015270059928297997, 0.015270059928297997, 0.015270059928297997, 0.015270059928297997, 0.015270059928297997, 0.015270059928297997, 0.015270059928297997, 0.015270059928297997, 0.015270059928297997, 0.015270059928297997, 0.015270059928297997, 0.015270059928297997, 0.015270059928297997, 0.015270059928297997, 0.015270059928297997, 0.015270059928297997, 0.015270059928297997, 0.015270059928297997, 0.015270059928297997, 0.015270059928297997, 0.015270059928297997, 0.015270059928297997, 0.015270059928297997, 0.015270059928297997, 0.015270059928297997, 0.015270059928297997, 0.015270059928297997, 0.015270059928297997, 0.015270059928297997, 0.015270059928297997, 0.015270059928297997, 0.015270059928297997, 0.015270059928297997, 0.015270059928297997, 0.015270059928297997, 0.015270059928297997, 0.015270059928297997, 72.28045654296875, 71.90502166748047, 41.15055465698242, 35.24796676635742, 32.119258880615234, 20.8197021484375, 19.494977951049805, 16.843149185180664, 16.68354606628418, 16.1752986907959, 15.924354553222656, 14.86457633972168, 14.066944122314453, 14.052291870117188, 12.98376178741455, 12.388620376586914, 11.522746086120605, 8.475057601928711, 7.461097240447998, 7.357851982116699, 7.140865802764893, 6.0422282218933105, 5.686764717102051, 4.950815200805664, 3.6648311614990234, 0.013020985759794712, 0.013020985759794712, 0.013020985759794712, 0.013020985759794712, 0.013020985759794712, 0.013020985759794712, 0.013020985759794712, 0.013020985759794712, 0.013020985759794712, 0.013020985759794712, 166.50364685058594, 79.62248229980469, 49.533077239990234, 39.157752990722656, 34.06932830810547, 24.905752182006836, 22.30889320373535, 20.91193199157715, 16.551509857177734, 15.625612258911133, 13.713973045349121, 13.14990234375, 12.723123550415039, 12.13433837890625, 11.962825775146484, 11.486333847045898, 11.443242073059082, 11.435132026672363, 11.426310539245605, 10.945799827575684, 10.6016845703125, 10.554563522338867, 9.845123291015625, 9.733429908752441, 8.010127067565918, 7.528270244598389, 7.490340709686279, 7.003488540649414, 6.472194671630859, 6.3397345542907715, 727.924072265625, 179.3134765625, 55.30867004394531, 54.01821517944336, 49.821617126464844, 40.170833587646484, 31.60407829284668, 24.01151466369629, 20.43770980834961, 18.02305030822754, 16.407278060913086, 11.519417762756348, 0.015425522811710835, 0.015425522811710835, 0.015425522811710835, 0.015425522811710835, 0.015425522811710835, 0.015425522811710835, 0.015425522811710835, 0.015425522811710835, 0.015425522811710835, 0.015425522811710835, 0.015425522811710835, 0.015425522811710835, 0.015425522811710835, 0.015425522811710835, 0.015425522811710835, 0.015425522811710835, 0.015425522811710835, 0.015425522811710835, 0.015425522811710835, 0.015425522811710835, 0.015425522811710835, 0.015425522811710835, 0.015425522811710835, 0.015425522811710835, 0.015425522811710835, 0.015425522811710835, 0.015425522811710835, 0.015425522811710835, 0.015425522811710835, 0.015425522811710835, 0.015425522811710835, 0.015425522811710835, 0.015425522811710835, 0.015425522811710835, 0.015425522811710835, 0.015425522811710835, 238.5157470703125, 211.26524353027344, 199.84825134277344, 22.990419387817383, 18.063823699951172, 14.03130054473877, 13.436448097229004, 12.827695846557617, 11.144144058227539, 7.004358768463135, 6.448065757751465, 0.012875587679445744, 0.012875587679445744, 0.012875587679445744, 0.012875587679445744, 0.012875587679445744, 0.012875587679445744, 0.012875587679445744, 0.012875587679445744, 0.012875587679445744, 0.012875587679445744, 0.012875587679445744, 0.012875587679445744, 0.012875587679445744, 0.012875587679445744, 0.012875587679445744, 0.012875587679445744, 0.012875587679445744, 0.012875587679445744, 0.012875587679445744, 0.012875587679445744, 0.012875587679445744, 0.012875587679445744, 0.012875587679445744, 0.012875587679445744, 0.012875587679445744, 0.012875587679445744, 0.012875587679445744, 0.012875587679445744, 0.012875587679445744, 0.012875587679445744, 0.012875587679445744, 0.012875587679445744, 0.012875587679445744, 0.012875587679445744, 0.012875587679445744, 0.012875587679445744, 0.012875587679445744, 0.012875587679445744, 58.844810485839844, 20.966001510620117, 19.433975219726562, 18.94213104248047, 17.213008880615234, 14.039956092834473, 11.384208679199219, 7.896899700164795, 5.645288944244385, 0.013034515082836151, 0.013034515082836151, 0.013034515082836151, 0.013034515082836151, 0.013034515082836151, 0.013034515082836151, 0.013034515082836151, 0.013034515082836151, 0.013034515082836151, 0.013034515082836151, 0.013034515082836151, 0.013034515082836151, 0.013034515082836151, 0.013034515082836151, 0.013034515082836151, 0.013034515082836151, 0.013034515082836151, 0.013034515082836151, 0.013034515082836151, 0.013034515082836151, 0.013034515082836151, 0.013034515082836151, 0.013034515082836151, 0.013034515082836151, 0.013034515082836151, 0.013034515082836151, 0.013034515082836151, 0.013034515082836151, 0.013034515082836151, 0.013034515082836151, 0.013034515082836151, 0.013034515082836151, 0.013034515082836151, 0.013034515082836151, 0.013034515082836151, 0.013034515082836151, 0.013034515082836151, 0.013034515082836151, 0.013034515082836151, 0.013034515082836151, 0.013034515082836151, 0.013034515082836151], \"Term\": [\"renovation\", \"renovate\", \"room\", \"hotel\", \"newly\", \"clean\", \"nice\", \"stay\", \"bathroom\", \"old\", \"new\", \"renovated\", \"good\", \"look\", \"recently\", \"great\", \"lobby\", \"go\", \"get\", \"staff\", \"would\", \"completely\", \"do\", \"building\", \"well\", \"small\", \"need\", \"year\", \"make\", \"place\", \"clearly\", \"call\", \"extensive\", \"receive\", \"level\", \"anything\", \"desk\", \"high_standard\", \"cozy\", \"accommodate\", \"slow\", \"nd_floor\", \"ahead\", \"air\", \"condo\", \"piece\", \"housekeeping\", \"possible\", \"outdat\", \"desperate_ne\", \"likely\", \"urgent\", \"temporary\", \"bit_tir\", \"construction_noise\", \"swim\", \"desperately\", \"drilling\", \"deserve\", \"stair\", \"westin\", \"offer\", \"guy\", \"luxury\", \"special\", \"someone\", \"invest\", \"overall\", \"potential\", \"toilet\", \"facade\", \"bath\", \"well_kept\", \"water_pressure\", \"apparently\", \"hilton\", \"welcome\", \"process\", \"boutique\", \"like\", \"palace\", \"sound\", \"executive\", \"concierge\", \"fridge\", \"help\", \"ground\", \"tiny\", \"possibly\", \"tourist\", \"microwave\", \"island\", \"appreciate\", \"luggage\", \"previously\", \"bottle\", \"glory\", \"traveler\", \"fitting\", \"nearly\", \"paper\", \"likely\", \"shower\", \"take\", \"bath\", \"design\", \"door\", \"better\", \"decorate\", \"toilet\", \"somewhat\", \"set\", \"comfy_bed\", \"someone\", \"terrific\", \"control\", \"receptionist\", \"plug\", \"awful\", \"hand\", \"little_tired\", \"outdat\", \"desperate_ne\", \"likely\", \"urgent\", \"temporary\", \"bit_tir\", \"construction_noise\", \"swim\", \"desperately\", \"drilling\", \"deserve\", \"overall\", \"obvious\", \"invest\", \"potential\", \"break\", \"ok\", \"stylish\", \"guest\", \"foyer\", \"facade\", \"westin\", \"change\", \"perfect\", \"management\", \"grand\", \"course\", \"spotlessly_clean\", \"assure\", \"drive\", \"much_nicer\", \"century\", \"shame\", \"outdat\", \"desperate_ne\", \"likely\", \"urgent\", \"temporary\", \"bit_tir\", \"construction_noise\", \"swim\", \"desperately\", \"drilling\", \"deserve\", \"stair\", \"wonder\", \"cleaning\", \"downside\", \"advance\", \"present\", \"regular\", \"pass\", \"quality\", \"invest\", \"toilet\", \"potential\", \"overall\", \"accommodation\", \"someone\", \"offer\", \"break\", \"guy\", \"desk\", \"guest\", \"ok\", \"obvious\", \"much\", \"foyer\", \"facade\", \"westin\", \"smell\", \"new\", \"impressive\", \"owner\", \"full\", \"name\", \"long_ago\", \"chance\", \"royal\", \"carry\", \"excellent_value\", \"la\", \"allow\", \"opinion\", \"significant\", \"outdat\", \"desperate_ne\", \"likely\", \"urgent\", \"temporary\", \"bit_tir\", \"construction_noise\", \"swim\", \"desperately\", \"drilling\", \"deserve\", \"stair\", \"wonder\", \"cleaning\", \"downside\", \"advance\", \"desk\", \"stylish\", \"invest\", \"guy\", \"offer\", \"quality\", \"someone\", \"toilet\", \"overall\", \"potential\", \"break\", \"ok\", \"obvious\", \"guest\", \"foyer\", \"facade\", \"move\", \"job\", \"interior\", \"business\", \"morning\", \"cool\", \"structure\", \"access\", \"result\", \"brand\", \"st\", \"shabby\", \"single\", \"meeting\", \"sort\", \"premise\", \"mid\", \"appearance\", \"march\", \"incredibly\", \"distance\", \"partially\", \"present\", \"construction_noise\", \"outdat\", \"desperate_ne\", \"likely\", \"urgent\", \"temporary\", \"bit_tir\", \"better\", \"special\", \"luxury\", \"loud\", \"bath\", \"enjoy\", \"year\", \"house\", \"april\", \"wall\", \"understand\", \"hear\", \"later\", \"progress\", \"hole\", \"talk\", \"thin\", \"historical\", \"outdat\", \"desperate_ne\", \"likely\", \"urgent\", \"temporary\", \"bit_tir\", \"construction_noise\", \"swim\", \"desperately\", \"drilling\", \"deserve\", \"stair\", \"wonder\", \"cleaning\", \"downside\", \"advance\", \"present\", \"regular\", \"stylish\", \"ok\", \"toilet\", \"potential\", \"overall\", \"invest\", \"someone\", \"break\", \"foyer\", \"obvious\", \"guest\", \"guy\", \"facade\", \"westin\", \"smell\", \"better\", \"special\", \"luxury\", \"last\", \"tower\", \"dark\", \"run\", \"state\", \"long\", \"late\", \"previous_review\", \"heat\", \"stair\", \"outdat\", \"desperate_ne\", \"likely\", \"urgent\", \"temporary\", \"bit_tir\", \"construction_noise\", \"swim\", \"desperately\", \"drilling\", \"deserve\", \"wonder\", \"cleaning\", \"downside\", \"advance\", \"present\", \"regular\", \"pass\", \"rooftop\", \"significant\", \"desk\", \"overall\", \"invest\", \"someone\", \"stylish\", \"guy\", \"offer\", \"quality\", \"accommodation\", \"post\", \"much\", \"potential\", \"ok\", \"toilet\", \"break\", \"reception\", \"obvious\", \"guest\", \"foyer\", \"facade\", \"stay\", \"renovated\", \"floor\", \"ask\", \"far\", \"totally\", \"note\", \"feature\", \"cottage\", \"anyone\", \"wrong\", \"sister\", \"outdat\", \"desperate_ne\", \"likely\", \"urgent\", \"temporary\", \"bit_tir\", \"construction_noise\", \"swim\", \"desperately\", \"drilling\", \"deserve\", \"stair\", \"wonder\", \"cleaning\", \"downside\", \"advance\", \"present\", \"regular\", \"overall\", \"someone\", \"invest\", \"desk\", \"guy\", \"offer\", \"quality\", \"stylish\", \"potential\", \"accommodation\", \"break\", \"ok\", \"obvious\", \"guest\", \"foyer\", \"facade\", \"westin\", \"smell\", \"newly\", \"spacious\", \"little\", \"second\", \"high\", \"bright\", \"gorgeous\", \"reason\", \"queen\", \"white\", \"concern\", \"dated\", \"outdat\", \"desperate_ne\", \"likely\", \"urgent\", \"temporary\", \"bit_tir\", \"construction_noise\", \"swim\", \"desperately\", \"drilling\", \"deserve\", \"stair\", \"wonder\", \"cleaning\", \"downside\", \"advance\", \"present\", \"regular\", \"guy\", \"offer\", \"desk\", \"quality\", \"someone\", \"invest\", \"stylish\", \"potential\", \"overall\", \"toilet\", \"break\", \"ok\", \"obvious\", \"guest\", \"foyer\", \"facade\", \"westin\", \"smell\", \"clean\", \"price\", \"sure\", \"freshly\", \"bay\", \"worker\", \"claim\", \"lady\", \"outdat\", \"desperate_ne\", \"likely\", \"urgent\", \"temporary\", \"bit_tir\", \"construction_noise\", \"swim\", \"desperately\", \"drilling\", \"deserve\", \"stair\", \"wonder\", \"cleaning\", \"downside\", \"advance\", \"present\", \"regular\", \"pass\", \"rooftop\", \"significant\", \"phone\", \"toilet\", \"hear\", \"accommodation\", \"upgrade\", \"quality\", \"offer\", \"guy\", \"desk\", \"someone\", \"invest\", \"overall\", \"potential\", \"enjoy\", \"luxury\", \"ok\", \"obvious\", \"post\", \"guest\", \"foyer\", \"facade\", \"westin\", \"bath\", \"lobby\", \"show\", \"age\", \"sheet\", \"currently_undergo\", \"strong\", \"wifi\", \"outdat\", \"desperate_ne\", \"likely\", \"urgent\", \"temporary\", \"bit_tir\", \"construction_noise\", \"swim\", \"desperately\", \"drilling\", \"deserve\", \"stair\", \"wonder\", \"cleaning\", \"downside\", \"advance\", \"present\", \"regular\", \"pass\", \"rooftop\", \"significant\", \"phone\", \"potential\", \"stylish\", \"invest\", \"toilet\", \"overall\", \"someone\", \"desk\", \"guy\", \"offer\", \"quality\", \"accommodation\", \"break\", \"obvious\", \"ok\", \"much\", \"guest\", \"foyer\", \"facade\", \"westin\", \"smell\", \"better\", \"special\", \"luxury\", \"everything\", \"balcony\", \"point\", \"swimming_pool\", \"decide\", \"holiday\", \"group\", \"river\", \"public\", \"decoration\", \"outdat\", \"desperate_ne\", \"likely\", \"urgent\", \"temporary\", \"bit_tir\", \"construction_noise\", \"swim\", \"desperately\", \"drilling\", \"deserve\", \"stair\", \"wonder\", \"cleaning\", \"downside\", \"advance\", \"present\", \"regular\", \"pass\", \"rooftop\", \"ok\", \"guy\", \"rent\", \"desk\", \"someone\", \"invest\", \"overall\", \"bit_dat\", \"able\", \"potential\", \"toilet\", \"break\", \"obvious\", \"first\", \"guest\", \"foyer\", \"middle\", \"facade\", \"westin\", \"large\", \"resort\", \"standard\", \"whole\", \"stylish\", \"bring\", \"sense\", \"soft\", \"aware\", \"urgent\", \"outdat\", \"desperate_ne\", \"likely\", \"temporary\", \"bit_tir\", \"construction_noise\", \"swim\", \"desperately\", \"drilling\", \"deserve\", \"stair\", \"wonder\", \"cleaning\", \"downside\", \"advance\", \"present\", \"regular\", \"pass\", \"rooftop\", \"significant\", \"obvious\", \"accommodation\", \"quality\", \"offer\", \"guy\", \"desk\", \"someone\", \"invest\", \"overall\", \"potential\", \"toilet\", \"break\", \"ok\", \"guest\", \"much\", \"foyer\", \"facade\", \"westin\", \"smell\", \"better\", \"check\", \"view\", \"exterior\", \"include\", \"mention\", \"th_floor\", \"elevator\", \"consider\", \"awesome\", \"order\", \"functional\", \"situate\", \"reviewer\", \"store\", \"next_year\", \"equipment\", \"looking_forward\", \"outdat\", \"desperate_ne\", \"likely\", \"urgent\", \"temporary\", \"bit_tir\", \"construction_noise\", \"swim\", \"desperately\", \"drilling\", \"deserve\", \"stair\", \"wonder\", \"smell\", \"someone\", \"bath\", \"enjoy\", \"accommodation\", \"quality\", \"offer\", \"luxury\", \"guy\", \"special\", \"desk\", \"invest\", \"foyer\", \"service\", \"big\", \"side\", \"end\", \"believe\", \"min\", \"team\", \"occur\", \"outdat\", \"desperate_ne\", \"likely\", \"urgent\", \"temporary\", \"bit_tir\", \"construction_noise\", \"swim\", \"desperately\", \"drilling\", \"deserve\", \"stair\", \"wonder\", \"cleaning\", \"downside\", \"advance\", \"present\", \"regular\", \"pass\", \"rooftop\", \"significant\", \"phone\", \"better\", \"overall\", \"much\", \"post\", \"accommodation\", \"quality\", \"offer\", \"bath\", \"guy\", \"desk\", \"someone\", \"invest\", \"potential\", \"smell\", \"toilet\", \"break\", \"reception\", \"enjoy\", \"luxury\", \"ok\", \"obvious\", \"special\", \"love\", \"open\", \"window\", \"smell\", \"rate\", \"issue\", \"home\", \"airport\", \"smoke\", \"would_recommend\", \"wait\", \"horrible\", \"outdat\", \"desperate_ne\", \"likely\", \"urgent\", \"temporary\", \"bit_tir\", \"construction_noise\", \"swim\", \"desperately\", \"drilling\", \"deserve\", \"stair\", \"wonder\", \"cleaning\", \"downside\", \"advance\", \"present\", \"regular\", \"toilet\", \"potential\", \"overall\", \"stylish\", \"invest\", \"ok\", \"someone\", \"desk\", \"guy\", \"offer\", \"break\", \"facade\", \"obvious\", \"guest\", \"foyer\", \"accommodation\", \"westin\", \"better\", \"visit\", \"fantastic\", \"cheap\", \"comfortable_bed\", \"fixture\", \"art\", \"inform\", \"art_deco\", \"key\", \"walking_distance\", \"mostly\", \"plumbing\", \"desperately\", \"outdat\", \"desperate_ne\", \"likely\", \"urgent\", \"temporary\", \"bit_tir\", \"construction_noise\", \"swim\", \"drilling\", \"deserve\", \"stair\", \"wonder\", \"cleaning\", \"downside\", \"advance\", \"present\", \"regular\", \"westin\", \"luxury\", \"much\", \"post\", \"accommodation\", \"quality\", \"offer\", \"guy\", \"desk\", \"someone\", \"invest\", \"overall\", \"potential\", \"facade\", \"toilet\", \"break\", \"ok\", \"building\", \"much\", \"kind\", \"space\", \"family\", \"original\", \"charm\", \"happen\", \"member\", \"theme\", \"explain\", \"appliance\", \"nearby\", \"outdat\", \"desperate_ne\", \"likely\", \"urgent\", \"temporary\", \"bit_tir\", \"construction_noise\", \"swim\", \"desperately\", \"drilling\", \"deserve\", \"stair\", \"wonder\", \"cleaning\", \"downside\", \"advance\", \"present\", \"someone\", \"offer\", \"desk\", \"guy\", \"quality\", \"accommodation\", \"post\", \"invest\", \"stylish\", \"overall\", \"toilet\", \"break\", \"ok\", \"obvious\", \"guest\", \"foyer\", \"facade\", \"renovate\", \"room\", \"hotel\", \"recently\", \"tell\", \"request\", \"one\", \"noisy\", \"system\", \"outdat\", \"desperate_ne\", \"likely\", \"urgent\", \"temporary\", \"bit_tir\", \"construction_noise\", \"swim\", \"desperately\", \"drilling\", \"deserve\", \"stair\", \"wonder\", \"cleaning\", \"downside\", \"advance\", \"present\", \"regular\", \"pass\", \"rooftop\", \"significant\", \"stylish\", \"someone\", \"desk\", \"offer\", \"guy\", \"overall\", \"quality\", \"accommodation\", \"post\", \"much\", \"invest\", \"break\", \"potential\", \"toilet\", \"reception\", \"ok\", \"obvious\", \"guest\", \"foyer\", \"facade\", \"westin\", \"property\", \"furnishing\", \"amazing\", \"brand_new\", \"decent\", \"well_maintain\", \"menu\", \"poor\", \"comfort\", \"maintain\", \"meal\", \"courteous\", \"poorly\", \"october\", \"bit_tir\", \"outdat\", \"desperate_ne\", \"likely\", \"urgent\", \"temporary\", \"construction_noise\", \"swim\", \"desperately\", \"drilling\", \"deserve\", \"stair\", \"wonder\", \"cleaning\", \"downside\", \"advance\", \"employee\", \"reception\", \"opinion\", \"much\", \"post\", \"someone\", \"accommodation\", \"quality\", \"offer\", \"guy\", \"desk\", \"wonderful\", \"invest\", \"amenity\", \"overall\", \"still\", \"know\", \"tv\", \"furniture\", \"paint\", \"third_floor\", \"peel\", \"literally\", \"stand\", \"wallpaper\", \"temporary\", \"outdat\", \"desperate_ne\", \"likely\", \"urgent\", \"bit_tir\", \"construction_noise\", \"swim\", \"desperately\", \"drilling\", \"deserve\", \"stair\", \"wonder\", \"cleaning\", \"downside\", \"advance\", \"present\", \"regular\", \"pass\", \"rooftop\", \"invest\", \"someone\", \"stylish\", \"potential\", \"desk\", \"guy\", \"offer\", \"quality\", \"overall\", \"guest\", \"toilet\", \"break\", \"ok\", \"obvious\", \"post\", \"foyer\", \"facade\", \"westin\", \"smell\", \"small\", \"see\", \"super\", \"look_like\", \"fit\", \"lamp\", \"report\", \"terrace\", \"hardly\", \"roof\", \"mine\", \"outdat\", \"desperate_ne\", \"likely\", \"urgent\", \"temporary\", \"bit_tir\", \"construction_noise\", \"swim\", \"desperately\", \"drilling\", \"deserve\", \"stair\", \"wonder\", \"cleaning\", \"downside\", \"advance\", \"present\", \"regular\", \"pass\", \"water\", \"facade\", \"overall\", \"potential\", \"toilet\", \"break\", \"ok\", \"obvious\", \"point\", \"impact\", \"guest\", \"thank\", \"foyer\", \"westin\", \"warm\", \"smell\", \"better\", \"special\", \"luxury\", \"great\", \"comfortable\", \"location\", \"first\", \"years_ago\", \"experience\", \"undergone\", \"terrible\", \"schedule\", \"outdat\", \"desperate_ne\", \"likely\", \"urgent\", \"temporary\", \"bit_tir\", \"construction_noise\", \"swim\", \"desperately\", \"drilling\", \"deserve\", \"stair\", \"wonder\", \"cleaning\", \"downside\", \"advance\", \"present\", \"regular\", \"pass\", \"rooftop\", \"significant\", \"potential\", \"overall\", \"invest\", \"someone\", \"stylish\", \"desk\", \"guy\", \"quality\", \"accommodation\", \"post\", \"offer\", \"ok\", \"toilet\", \"break\", \"opinion\", \"obvious\", \"guest\", \"foyer\", \"facade\", \"westin\", \"smell\", \"find\", \"however\", \"yet\", \"pm\", \"air_condition\", \"general\", \"make_sure\", \"suggest\", \"project\", \"otherwise\", \"wish\", \"disappointing\", \"outdat\", \"desperate_ne\", \"likely\", \"urgent\", \"temporary\", \"bit_tir\", \"construction_noise\", \"swim\", \"desperately\", \"drilling\", \"deserve\", \"stair\", \"wonder\", \"cleaning\", \"downside\", \"advance\", \"present\", \"regular\", \"potential\", \"post\", \"accommodation\", \"quality\", \"offer\", \"guy\", \"desk\", \"someone\", \"invest\", \"overall\", \"toilet\", \"luxury\", \"break\", \"ok\", \"opinion\", \"enjoy\", \"obvious\", \"guest\", \"completely\", \"also\", \"even\", \"refurbish\", \"never\", \"guess\", \"fabulous\", \"highly_recommend\", \"public_area\", \"local\", \"acceptable\", \"outdat\", \"desperate_ne\", \"likely\", \"urgent\", \"temporary\", \"bit_tir\", \"construction_noise\", \"swim\", \"desperately\", \"drilling\", \"deserve\", \"stair\", \"wonder\", \"cleaning\", \"downside\", \"advance\", \"present\", \"regular\", \"pass\", \"warm\", \"guest\", \"guy\", \"desk\", \"someone\", \"invest\", \"overall\", \"potential\", \"toilet\", \"break\", \"ok\", \"rent\", \"obvious\", \"foyer\", \"quality\", \"facade\", \"westin\", \"smell\", \"better\", \"offer\", \"suite\", \"upgrade\", \"front_desk\", \"pay\", \"kitchen\", \"deluxe\", \"picture\", \"flat_screen_tvs\", \"assign\", \"staying\", \"guy\", \"remodel\", \"pass\", \"outdat\", \"desperate_ne\", \"likely\", \"urgent\", \"temporary\", \"bit_tir\", \"construction_noise\", \"swim\", \"desperately\", \"drilling\", \"deserve\", \"stair\", \"wonder\", \"cleaning\", \"downside\", \"advance\", \"invest\", \"overall\", \"thank\", \"toilet\", \"someone\", \"desk\", \"bit_dat\", \"potential\", \"ok\", \"break\", \"obvious\", \"guest\", \"foyer\", \"facade\", \"westin\", \"smell\", \"bed\", \"carpet\", \"bedroom\", \"water\", \"provide\", \"fine\", \"gym\", \"hot\", \"internet\", \"flat_screen_tv\", \"pillow\", \"stain\", \"interesting\", \"class\", \"reserve\", \"wonder\", \"outdat\", \"desperate_ne\", \"likely\", \"urgent\", \"temporary\", \"bit_tir\", \"construction_noise\", \"swim\", \"desperately\", \"drilling\", \"deserve\", \"stair\", \"cleaning\", \"downside\", \"toilet\", \"break\", \"stylish\", \"overall\", \"potential\", \"obvious\", \"invest\", \"someone\", \"desk\", \"ok\", \"facade\", \"guest\", \"foyer\", \"offer\", \"ok\", \"condition\", \"extremely\", \"add\", \"parking\", \"comment\", \"surprised\", \"refrigerator\", \"outdated\", \"stuff\", \"matter\", \"amount\", \"complex\", \"outdat\", \"desperate_ne\", \"likely\", \"urgent\", \"temporary\", \"bit_tir\", \"construction_noise\", \"swim\", \"desperately\", \"drilling\", \"deserve\", \"stair\", \"wonder\", \"cleaning\", \"downside\", \"advance\", \"present\", \"facade\", \"overall\", \"upgrade\", \"bath\", \"enjoy\", \"quality\", \"offer\", \"guy\", \"desk\", \"someone\", \"invest\", \"luxury\", \"westin\", \"potential\", \"toilet\", \"break\", \"special\", \"renovation\", \"need\", \"major\", \"hallway\", \"avoid\", \"booking\", \"write\", \"par\", \"cause\", \"outdat\", \"desperate_ne\", \"likely\", \"urgent\", \"temporary\", \"bit_tir\", \"construction_noise\", \"swim\", \"desperately\", \"drilling\", \"deserve\", \"stair\", \"wonder\", \"cleaning\", \"downside\", \"advance\", \"present\", \"regular\", \"pass\", \"rooftop\", \"significant\", \"break\", \"toilet\", \"potential\", \"obvious\", \"overall\", \"invest\", \"someone\", \"desk\", \"guy\", \"offer\", \"ok\", \"facade\", \"guest\", \"foyer\", \"accommodation\", \"westin\", \"smell\", \"better\", \"special\", \"luxury\", \"enjoy\", \"think\", \"time\", \"thing\", \"common\", \"improve\", \"match\", \"outdat\", \"desperate_ne\", \"likely\", \"urgent\", \"temporary\", \"bit_tir\", \"construction_noise\", \"swim\", \"desperately\", \"drilling\", \"deserve\", \"stair\", \"wonder\", \"cleaning\", \"downside\", \"advance\", \"present\", \"regular\", \"pass\", \"rooftop\", \"significant\", \"phone\", \"potential\", \"remodel\", \"toilet\", \"overall\", \"invest\", \"desk\", \"someone\", \"ok\", \"guy\", \"offer\", \"quality\", \"break\", \"stylish\", \"obvious\", \"post\", \"guest\", \"foyer\", \"facade\", \"westin\", \"smell\", \"better\", \"special\", \"luxury\", \"enjoy\", \"bath\", \"finish\", \"notice\", \"return\", \"free\", \"surprise\", \"short\", \"villa\", \"curtain\", \"marble\", \"stop\", \"high_quality\", \"material\", \"reopen\", \"deck\", \"wood\", \"look_forward\", \"long_time\", \"outdat\", \"desperate_ne\", \"likely\", \"urgent\", \"temporary\", \"bit_tir\", \"construction_noise\", \"swim\", \"desperately\", \"drilling\", \"deserve\", \"stair\", \"wonder\", \"someone\", \"post\", \"accommodation\", \"much\", \"quality\", \"offer\", \"guy\", \"desk\", \"obvious\", \"invest\", \"overall\", \"potential\", \"toilet\", \"many\", \"way\", \"downtown\", \"marriott\", \"badly\", \"miss\", \"counter\", \"repair\", \"establishment\", \"immediately\", \"affect\", \"lead\", \"outdat\", \"desperate_ne\", \"likely\", \"urgent\", \"temporary\", \"bit_tir\", \"construction_noise\", \"swim\", \"desperately\", \"drilling\", \"deserve\", \"stair\", \"wonder\", \"cleaning\", \"downside\", \"advance\", \"present\", \"regular\", \"someone\", \"offer\", \"quality\", \"accommodation\", \"guy\", \"desk\", \"stylish\", \"invest\", \"post\", \"potential\", \"toilet\", \"break\", \"ok\", \"obvious\", \"guest\", \"foyer\", \"facade\", \"westin\", \"main\", \"motel\", \"mind\", \"block\", \"week\", \"fairly\", \"looked_like\", \"face\", \"best\", \"head\", \"thank\", \"surround\", \"break\", \"south\", \"neat\", \"certain\", \"north\", \"impact\", \"benefit\", \"outdat\", \"desperate_ne\", \"likely\", \"urgent\", \"temporary\", \"bit_tir\", \"construction_noise\", \"swim\", \"desperately\", \"drilling\", \"deserve\", \"luxury\", \"guy\", \"desk\", \"someone\", \"invest\", \"overall\", \"potential\", \"toilet\", \"facade\", \"westin\", \"special\", \"private\", \"garden\", \"entrance\", \"go_back\", \"superior\", \"ceiling\", \"tile\", \"extra\", \"towel\", \"month\", \"comfy\", \"almost\", \"center\", \"color\", \"half\", \"car\", \"prior\", \"number\", \"sea\", \"sized\", \"son\", \"unfortunately\", \"buy\", \"consist\", \"taste\", \"plaza\", \"selection\", \"sun\", \"discover\", \"lunch\", \"bathroom\", \"seem\", \"especially\", \"problem\", \"ocean\", \"live\", \"something\", \"lack\", \"patio\", \"sauna\", \"outdat\", \"desperate_ne\", \"likely\", \"urgent\", \"temporary\", \"bit_tir\", \"construction_noise\", \"swim\", \"desperately\", \"drilling\", \"deserve\", \"stair\", \"wonder\", \"cleaning\", \"downside\", \"advance\", \"present\", \"regular\", \"pass\", \"rooftop\", \"overall\", \"toilet\", \"potential\", \"stylish\", \"invest\", \"break\", \"desk\", \"guy\", \"offer\", \"quality\", \"accommodation\", \"someone\", \"guest\", \"ok\", \"obvious\", \"much\", \"foyer\", \"facade\", \"westin\", \"lovely\", \"bit\", \"style\", \"assume\", \"compare\", \"charming\", \"simply\", \"ago\", \"worn\", \"particularly\", \"board\", \"bite\", \"outdat\", \"desperate_ne\", \"likely\", \"urgent\", \"temporary\", \"bit_tir\", \"construction_noise\", \"swim\", \"desperately\", \"drilling\", \"deserve\", \"stair\", \"wonder\", \"cleaning\", \"downside\", \"advance\", \"present\", \"regular\", \"break\", \"stylish\", \"toilet\", \"ok\", \"overall\", \"invest\", \"someone\", \"desk\", \"guy\", \"offer\", \"potential\", \"facade\", \"obvious\", \"guest\", \"foyer\", \"accommodation\", \"westin\", \"smell\", \"book\", \"arrive\", \"originally\", \"overall\", \"back\", \"website\", \"construction\", \"rather\", \"front\", \"maybe\", \"site\", \"advise\", \"greet\", \"life\", \"traditional\", \"outdat\", \"desperate_ne\", \"likely\", \"urgent\", \"temporary\", \"bit_tir\", \"construction_noise\", \"swim\", \"desperately\", \"drilling\", \"deserve\", \"stair\", \"wonder\", \"cleaning\", \"downside\", \"bath\", \"enjoy\", \"clearly\", \"desk\", \"someone\", \"invest\", \"tired\", \"potential\", \"toilet\", \"decor\", \"break\", \"ok\", \"obvious\", \"guest\", \"foyer\", \"must\", \"beautifully\", \"spend\", \"looks_like\", \"already\", \"apartment\", \"history\", \"continue\", \"serious\", \"particular\", \"convert\", \"outdat\", \"desperate_ne\", \"likely\", \"urgent\", \"temporary\", \"bit_tir\", \"construction_noise\", \"swim\", \"desperately\", \"drilling\", \"deserve\", \"stair\", \"wonder\", \"cleaning\", \"downside\", \"advance\", \"present\", \"regular\", \"pass\", \"overall\", \"offer\", \"desk\", \"someone\", \"quality\", \"accommodation\", \"invest\", \"post\", \"guy\", \"toilet\", \"potential\", \"opinion\", \"break\", \"ok\", \"obvious\", \"guest\", \"foyer\", \"facade\", \"westin\", \"pool\", \"breakfast\", \"always\", \"day\", \"tub\", \"last_year\", \"weekend\", \"kid\", \"free_wifi\", \"usually\", \"complimentary\", \"outdat\", \"desperate_ne\", \"likely\", \"urgent\", \"temporary\", \"bit_tir\", \"construction_noise\", \"swim\", \"desperately\", \"drilling\", \"deserve\", \"stair\", \"wonder\", \"cleaning\", \"downside\", \"advance\", \"present\", \"regular\", \"pass\", \"ok\", \"break\", \"toilet\", \"potential\", \"invest\", \"overall\", \"guest\", \"someone\", \"desk\", \"guy\", \"obvious\", \"bit_dat\", \"foyer\", \"quality\", \"facade\", \"westin\", \"smell\", \"better\", \"special\", \"make\", \"say\", \"inn\", \"wife\", \"best_western\", \"adequate\", \"complaint\", \"even_better\", \"minor\", \"premier\", \"outdat\", \"desperate_ne\", \"likely\", \"urgent\", \"temporary\", \"bit_tir\", \"construction_noise\", \"swim\", \"desperately\", \"drilling\", \"deserve\", \"stair\", \"wonder\", \"cleaning\", \"downside\", \"advance\", \"present\", \"regular\", \"pass\", \"rooftop\", \"quality\", \"offer\", \"guy\", \"desk\", \"someone\", \"invest\", \"overall\", \"potential\", \"toilet\", \"ok\", \"break\", \"post\", \"obvious\", \"guest\", \"foyer\", \"facade\", \"westin\", \"smell\", \"better\", \"special\", \"guest\", \"expect\", \"light\", \"quality\", \"historic\", \"available\", \"plenty\", \"period\", \"hyatt\", \"post\", \"cold\", \"completion\", \"train\", \"cover\", \"outdat\", \"desperate_ne\", \"likely\", \"urgent\", \"temporary\", \"bit_tir\", \"construction_noise\", \"swim\", \"desperately\", \"drilling\", \"deserve\", \"stair\", \"wonder\", \"cleaning\", \"downside\", \"advance\", \"someone\", \"invest\", \"overall\", \"potential\", \"desk\", \"toilet\", \"break\", \"stylish\", \"ok\", \"obvious\", \"guy\", \"facade\", \"westin\", \"smell\", \"better\", \"special\", \"section\", \"wonderful\", \"keep\", \"obviously\", \"put\", \"hard\", \"let\", \"meet\", \"closed\", \"speak\", \"line\", \"restore\", \"clear\", \"ready\", \"twice\", \"properly\", \"company\", \"deserve\", \"outdat\", \"desperate_ne\", \"likely\", \"urgent\", \"temporary\", \"bit_tir\", \"construction_noise\", \"swim\", \"desperately\", \"drilling\", \"stair\", \"wonder\", \"guy\", \"quality\", \"offer\", \"accommodation\", \"invest\", \"someone\", \"desk\", \"stylish\", \"overall\", \"post\", \"upgrade\", \"bath\", \"do\", \"right\", \"couple\", \"sign\", \"nothing\", \"hope\", \"fall\", \"suppose\", \"drilling\", \"outdat\", \"desperate_ne\", \"likely\", \"urgent\", \"temporary\", \"bit_tir\", \"construction_noise\", \"swim\", \"desperately\", \"deserve\", \"stair\", \"wonder\", \"cleaning\", \"downside\", \"advance\", \"present\", \"regular\", \"pass\", \"rooftop\", \"significant\", \"phone\", \"luxury\", \"quality\", \"offer\", \"guy\", \"desk\", \"someone\", \"invest\", \"overall\", \"potential\", \"toilet\", \"special\", \"better\", \"enjoy\", \"accommodation\", \"break\", \"ok\", \"obvious\", \"guest\", \"foyer\", \"facade\", \"westin\", \"build\", \"decor\", \"city\", \"courtyard\", \"rest\", \"negative\", \"wing\", \"non\", \"former\", \"previous\", \"bother\", \"cleaning\", \"outdat\", \"desperate_ne\", \"likely\", \"urgent\", \"temporary\", \"bit_tir\", \"construction_noise\", \"swim\", \"desperately\", \"drilling\", \"deserve\", \"stair\", \"wonder\", \"downside\", \"advance\", \"present\", \"regular\", \"pass\", \"toilet\", \"potential\", \"overall\", \"someone\", \"invest\", \"ok\", \"desk\", \"guy\", \"offer\", \"break\", \"foyer\", \"obvious\", \"guest\", \"accommodation\", \"facade\", \"westin\", \"smell\", \"better\", \"story\", \"unit\", \"quiet\", \"size\", \"currently\", \"choice\", \"average\", \"wear\", \"convenient\", \"good_shape\", \"station\", \"layout\", \"machine\", \"tear\", \"underway\", \"modernize\", \"outdat\", \"desperate_ne\", \"likely\", \"urgent\", \"temporary\", \"bit_tir\", \"construction_noise\", \"swim\", \"desperately\", \"drilling\", \"deserve\", \"stair\", \"wonder\", \"cleaning\", \"fully\", \"someone\", \"sure\", \"opinion\", \"much\", \"post\", \"accommodation\", \"wonderful\", \"quality\", \"offer\", \"guy\", \"desk\", \"invest\", \"experience\", \"get\", \"lot\", \"soon\", \"road\", \"luxurious\", \"hopefully\", \"reservation\", \"exactly\", \"ground_floor\", \"winter\", \"advance\", \"outdat\", \"desperate_ne\", \"likely\", \"urgent\", \"temporary\", \"bit_tir\", \"construction_noise\", \"swim\", \"desperately\", \"drilling\", \"deserve\", \"stair\", \"wonder\", \"cleaning\", \"downside\", \"present\", \"regular\", \"pass\", \"rooftop\", \"guy\", \"desk\", \"potential\", \"invest\", \"offer\", \"overall\", \"quality\", \"someone\", \"break\", \"toilet\", \"better\", \"hear\", \"upgrade\", \"bath\", \"enjoy\", \"luxury\", \"special\", \"smell\", \"post\", \"go\", \"beautiful\", \"certainly\", \"ugly\", \"maintenance\", \"customer_service\", \"indicate\", \"outdat\", \"desperate_ne\", \"likely\", \"urgent\", \"temporary\", \"bit_tir\", \"construction_noise\", \"swim\", \"desperately\", \"drilling\", \"deserve\", \"stair\", \"wonder\", \"cleaning\", \"downside\", \"advance\", \"present\", \"regular\", \"pass\", \"rooftop\", \"significant\", \"phone\", \"potential\", \"overall\", \"toilet\", \"stylish\", \"invest\", \"desk\", \"guy\", \"offer\", \"quality\", \"someone\", \"break\", \"post\", \"ok\", \"obvious\", \"guest\", \"foyer\", \"facade\", \"westin\", \"smell\", \"better\", \"special\", \"luxury\", \"enjoy\", \"beach\", \"walk\", \"food\", \"husband\", \"trip\", \"club\", \"outside\", \"sleep\", \"overlook\", \"world\", \"favorite\", \"charge\", \"stunning\", \"last_visit\", \"slightly\", \"effort\", \"several_time\", \"square\", \"entertainment\", \"adult\", \"current\", \"instal\", \"outdat\", \"desperate_ne\", \"likely\", \"urgent\", \"temporary\", \"bit_tir\", \"construction_noise\", \"swim\", \"post\", \"accommodation\", \"facade\", \"quality\", \"desk\", \"offer\", \"guy\", \"obvious\", \"well\", \"area\", \"nicely\", \"ocean_view\", \"reception\", \"tired\", \"dirty\", \"dining\", \"impressed\", \"instead\", \"upon_arrival\", \"dire_need\", \"outdat\", \"desperate_ne\", \"likely\", \"urgent\", \"temporary\", \"bit_tir\", \"construction_noise\", \"swim\", \"desperately\", \"drilling\", \"deserve\", \"stair\", \"wonder\", \"cleaning\", \"downside\", \"advance\", \"present\", \"regular\", \"ok\", \"overall\", \"invest\", \"potential\", \"toilet\", \"someone\", \"break\", \"desk\", \"stylish\", \"guest\", \"obvious\", \"offer\", \"foyer\", \"facade\", \"westin\", \"smell\", \"better\", \"special\", \"review\", \"common_area\", \"relax\", \"table\", \"noise\", \"read\", \"lounge\", \"away\", \"drink\", \"early\", \"care\", \"ever\", \"chair\", \"well_appoint\", \"replace\", \"minute\", \"obvious\", \"safe\", \"sit\", \"choose\", \"travel\", \"perfectly\", \"top_floor\", \"important\", \"chain\", \"lift\", \"impress\", \"foyer\", \"regard\", \"facade\", \"even_though\", \"least\", \"sink\", \"probably\", \"happy\", \"next\", \"turn\", \"several\", \"hot_water\", \"list\", \"loud\", \"crack\", \"outdat\", \"desperate_ne\", \"likely\", \"urgent\", \"temporary\", \"bit_tir\", \"construction_noise\", \"swim\", \"desperately\", \"drilling\", \"deserve\", \"stair\", \"wonder\", \"cleaning\", \"downside\", \"advance\", \"present\", \"regular\", \"first\", \"water\", \"guy\", \"desk\", \"someone\", \"invest\", \"overall\", \"potential\", \"toilet\", \"break\", \"ok\", \"obvious\", \"guest\", \"foyer\", \"facade\", \"westin\", \"smell\", \"better\", \"part\", \"enough\", \"mean\", \"corner\", \"impression\", \"moment\", \"king_bed\", \"often\", \"fair\", \"professional\", \"require\", \"castle\", \"tour\", \"bungalow\", \"january\", \"unrenovated\", \"shuttle\", \"employee\", \"outdat\", \"desperate_ne\", \"likely\", \"urgent\", \"temporary\", \"bit_tir\", \"construction_noise\", \"swim\", \"desperately\", \"drilling\", \"deserve\", \"stair\", \"someone\", \"accommodation\", \"quality\", \"offer\", \"guy\", \"desk\", \"stylish\", \"invest\", \"overall\", \"potential\", \"break\", \"ok\", \"people\", \"facility\", \"try\", \"different\", \"other\", \"manager\", \"worth\", \"warm\", \"option\", \"fix\", \"range\", \"follow\", \"function\", \"november\", \"outdat\", \"desperate_ne\", \"likely\", \"urgent\", \"temporary\", \"bit_tir\", \"construction_noise\", \"swim\", \"desperately\", \"drilling\", \"deserve\", \"stair\", \"wonder\", \"cleaning\", \"downside\", \"advance\", \"overall\", \"potential\", \"comment\", \"positive\", \"invest\", \"break\", \"someone\", \"desk\", \"guy\", \"offer\", \"toilet\", \"guest\", \"ok\", \"obvious\", \"accommodation\", \"foyer\", \"quite\", \"night\", \"attention\", \"radisson\", \"agree\", \"centre\", \"shopping\", \"future\", \"usual\", \"outdat\", \"desperate_ne\", \"likely\", \"urgent\", \"temporary\", \"bit_tir\", \"construction_noise\", \"swim\", \"desperately\", \"drilling\", \"deserve\", \"stair\", \"wonder\", \"cleaning\", \"downside\", \"advance\", \"present\", \"regular\", \"pass\", \"rooftop\", \"significant\", \"break\", \"toilet\", \"stylish\", \"potential\", \"obvious\", \"overall\", \"invest\", \"someone\", \"ok\", \"foyer\", \"guest\", \"guy\", \"facade\", \"westin\", \"smell\", \"better\", \"special\", \"luxury\", \"enjoy\", \"bath\", \"upgrade\", \"due\", \"locate\", \"manage\", \"fully\", \"linen\", \"absolutely\", \"town\", \"fact\", \"attractive\", \"casino\", \"perhaps\", \"bedding\", \"busy\", \"typical\", \"season\", \"difficult\", \"outdat\", \"desperate_ne\", \"likely\", \"urgent\", \"temporary\", \"bit_tir\", \"construction_noise\", \"swim\", \"desperately\", \"drilling\", \"deserve\", \"stair\", \"wonder\", \"cleaning\", \"break\", \"guy\", \"better\", \"accommodation\", \"quality\", \"smell\", \"westin\", \"facade\", \"offer\", \"desk\", \"ok\", \"foyer\", \"someone\", \"guest\", \"would\", \"may\", \"date\", \"definitely\", \"use\", \"complain\", \"recommend\", \"real\", \"total\", \"classy\", \"taking_place\", \"desperate_ne\", \"outdat\", \"likely\", \"urgent\", \"temporary\", \"bit_tir\", \"construction_noise\", \"swim\", \"desperately\", \"drilling\", \"deserve\", \"stair\", \"wonder\", \"cleaning\", \"downside\", \"advance\", \"present\", \"regular\", \"pass\", \"overall\", \"stylish\", \"invest\", \"potential\", \"desk\", \"guy\", \"offer\", \"quality\", \"someone\", \"obvious\", \"toilet\", \"break\", \"ok\", \"post\", \"guest\", \"foyer\", \"facade\", \"westin\", \"could\", \"update\", \"money\", \"able\", \"vacation\", \"aspect\", \"roomy\", \"inconvenience\", \"bit_dat\", \"around\", \"invest\", \"outdat\", \"desperate_ne\", \"likely\", \"urgent\", \"temporary\", \"bit_tir\", \"construction_noise\", \"swim\", \"desperately\", \"drilling\", \"deserve\", \"stair\", \"wonder\", \"cleaning\", \"downside\", \"advance\", \"present\", \"regular\", \"pass\", \"offer\", \"guy\", \"quality\", \"ok\", \"desk\", \"someone\", \"overall\", \"potential\", \"toilet\", \"break\", \"stylish\", \"obvious\", \"guest\", \"post\", \"foyer\", \"facade\", \"westin\", \"smell\", \"better\", \"work\", \"actually\", \"past\", \"luxury\", \"special\", \"middle\", \"well_equipp\", \"london\", \"forget\", \"accord\", \"disturb\", \"outlet\", \"market\", \"outdat\", \"desperate_ne\", \"likely\", \"urgent\", \"temporary\", \"bit_tir\", \"construction_noise\", \"swim\", \"desperately\", \"drilling\", \"deserve\", \"stair\", \"wonder\", \"cleaning\", \"downside\", \"advance\", \"present\", \"guest\", \"obvious\", \"enjoy\", \"post\", \"accommodation\", \"better\", \"smell\", \"quality\", \"westin\", \"offer\", \"guy\", \"desk\", \"someone\", \"invest\", \"overall\", \"potential\", \"facade\", \"top\", \"helpful\", \"bottom\", \"pleasant\", \"eat\", \"expensive\", \"con\", \"addition\", \"positive\", \"pro\", \"westin\", \"accommodation\", \"hip\", \"child\", \"everywhere\", \"sand\", \"outdoor\", \"disappointment\", \"outdat\", \"desperate_ne\", \"likely\", \"urgent\", \"temporary\", \"bit_tir\", \"construction_noise\", \"swim\", \"desperately\", \"drilling\", \"deserve\", \"stair\", \"offer\", \"coffee\", \"block\", \"basic\", \"amenity\", \"adequate\", \"employee\", \"reception\", \"opinion\", \"much\", \"post\", \"state\", \"undergo\", \"star\", \"want\", \"spa\", \"type\", \"less\", \"architecture\", \"person\", \"generally\", \"come_back\", \"outdat\", \"desperate_ne\", \"likely\", \"urgent\", \"temporary\", \"bit_tir\", \"construction_noise\", \"swim\", \"desperately\", \"drilling\", \"deserve\", \"stair\", \"wonder\", \"cleaning\", \"downside\", \"advance\", \"present\", \"regular\", \"pass\", \"rooftop\", \"offer\", \"guy\", \"quality\", \"desk\", \"someone\", \"accommodation\", \"invest\", \"overall\", \"potential\", \"toilet\", \"obvious\", \"break\", \"ok\", \"much\", \"guest\", \"foyer\", \"facade\", \"westin\", \"smell\", \"better\", \"look\", \"modern\", \"fresh\", \"bar\", \"painting\", \"king\", \"next_door\", \"summer\", \"ongoing\", \"idea\", \"anyway\", \"customer\", \"rooftop\", \"outdat\", \"desperate_ne\", \"likely\", \"urgent\", \"temporary\", \"bit_tir\", \"construction_noise\", \"swim\", \"desperately\", \"drilling\", \"deserve\", \"stair\", \"wonder\", \"cleaning\", \"downside\", \"advance\", \"present\", \"guy\", \"offer\", \"desk\", \"someone\", \"invest\", \"overall\", \"potential\", \"stylish\", \"toilet\", \"accommodation\", \"break\", \"ok\", \"obvious\", \"guest\", \"foyer\", \"facade\", \"westin\", \"staff\", \"place\", \"friendly\", \"easy\", \"friend\", \"could_use\", \"deal\", \"tidy\", \"superb\", \"everyday\", \"pre\", \"outdat\", \"desperate_ne\", \"likely\", \"urgent\", \"temporary\", \"bit_tir\", \"construction_noise\", \"swim\", \"desperately\", \"drilling\", \"deserve\", \"stair\", \"wonder\", \"cleaning\", \"downside\", \"advance\", \"present\", \"regular\", \"pass\", \"potential\", \"quality\", \"offer\", \"hear\", \"guy\", \"upgrade\", \"desk\", \"someone\", \"bath\", \"invest\", \"overall\", \"toilet\", \"break\", \"ok\", \"accommodation\", \"guest\", \"foyer\", \"facade\", \"westin\", \"good\", \"restaurant\", \"recent\", \"close\", \"cost\", \"enjoy\", \"come\", \"amenity\", \"value\", \"entire\", \"dinner\", \"serve\", \"character\", \"contemporary\", \"coffee\", \"shop\", \"lodge\", \"party\", \"disappointed\", \"suggestion\", \"outdat\", \"desperate_ne\", \"likely\", \"urgent\", \"temporary\", \"bit_tir\", \"construction_noise\", \"swim\", \"desperately\", \"drilling\", \"overall\", \"invest\", \"desk\", \"guy\", \"offer\", \"someone\", \"stylish\", \"potential\", \"toilet\", \"ok\", \"old\", \"bad\", \"give\", \"reasonable\", \"rent\", \"outdat\", \"desperate_ne\", \"likely\", \"urgent\", \"temporary\", \"bit_tir\", \"construction_noise\", \"swim\", \"desperately\", \"drilling\", \"deserve\", \"stair\", \"wonder\", \"cleaning\", \"downside\", \"advance\", \"present\", \"regular\", \"pass\", \"rooftop\", \"significant\", \"phone\", \"potential\", \"remodel\", \"desperate_need\", \"stylish\", \"someone\", \"overall\", \"invest\", \"desk\", \"break\", \"guy\", \"offer\", \"quality\", \"accommodation\", \"toilet\", \"ok\", \"much\", \"obvious\", \"guest\", \"foyer\", \"facade\", \"westin\", \"smell\", \"better\", \"special\", \"luxury\", \"enjoy\", \"bath\", \"step\", \"corridor\", \"not\", \"spotless\", \"leave\", \"hour\", \"spectacular\", \"can\", \"true\", \"top_notch\", \"mattress\", \"evening\", \"jacuzzi\", \"relatively\", \"remain\", \"separate\", \"advertise\", \"smile\", \"tip\", \"arrival\", \"opposite\", \"case\", \"unpleasant\", \"downside\", \"swim\", \"outdat\", \"desperate_ne\", \"likely\", \"urgent\", \"temporary\", \"smell\", \"better\", \"special\", \"foyer\", \"westin\", \"excellent\", \"much_better\", \"street\", \"park\", \"tastefully\", \"improvement\", \"double\", \"central\", \"pleasantly_surpris\", \"tasteful\", \"ca\", \"photo\", \"efficient\", \"mall\", \"enter\", \"shape\", \"tea\", \"hall\", \"truly\", \"finally\", \"watch\", \"french\", \"spot\", \"supposedly\", \"could_tell\", \"fill\", \"opportunity\", \"imagine\", \"rating\", \"midst\", \"nice\", \"complete\", \"start\", \"huge\", \"touch\", \"low\", \"plan\", \"basic\", \"become\", \"outstanding\", \"expectation\", \"incredible\", \"outdat\", \"desperate_ne\", \"likely\", \"urgent\", \"temporary\", \"bit_tir\", \"construction_noise\", \"swim\", \"desperately\", \"drilling\", \"deserve\", \"stair\", \"wonder\", \"cleaning\", \"downside\", \"advance\", \"present\", \"regular\", \"potential\", \"overall\", \"stylish\", \"toilet\", \"someone\", \"desk\", \"guy\", \"invest\", \"obvious\", \"break\", \"ok\", \"quality\", \"guest\", \"foyer\", \"facade\", \"westin\", \"smell\", \"better\", \"really\", \"feel\", \"appear\", \"detail\", \"elegant\", \"renovating\", \"sheraton\", \"glass\", \"box\", \"shut\", \"cleanliness\", \"outdat\", \"desperate_ne\", \"likely\", \"urgent\", \"temporary\", \"bit_tir\", \"construction_noise\", \"swim\", \"desperately\", \"drilling\", \"deserve\", \"stair\", \"wonder\", \"cleaning\", \"downside\", \"advance\", \"present\", \"regular\", \"pass\", \"someone\", \"desk\", \"guy\", \"offer\", \"overall\", \"potential\", \"toilet\", \"invest\", \"stylish\", \"break\", \"ok\", \"accommodation\", \"obvious\", \"guest\", \"foyer\", \"facade\", \"westin\", \"smell\", \"better\", \"pretty\", \"buffet\", \"base\", \"inside\", \"massive\", \"budget\", \"simple\", \"begin\", \"desperate_need\", \"outdat\", \"desperate_ne\", \"likely\", \"urgent\", \"temporary\", \"bit_tir\", \"construction_noise\", \"swim\", \"desperately\", \"drilling\", \"deserve\", \"stair\", \"wonder\", \"cleaning\", \"downside\", \"advance\", \"present\", \"regular\", \"pass\", \"rooftop\", \"significant\", \"stylish\", \"potential\", \"overall\", \"invest\", \"someone\", \"break\", \"desk\", \"guy\", \"offer\", \"quality\", \"toilet\", \"guest\", \"ok\", \"obvious\", \"post\", \"foyer\", \"facade\", \"westin\", \"smell\", \"better\", \"special\"], \"Total\": [3409.0, 4788.0, 3850.0, 2475.0, 976.0, 829.0, 728.0, 805.0, 650.0, 574.0, 516.0, 659.0, 621.0, 549.0, 1370.0, 490.0, 394.0, 420.0, 408.0, 431.0, 390.0, 355.0, 325.0, 336.0, 356.0, 315.0, 551.0, 306.0, 298.0, 318.0, 92.83015441894531, 40.21001052856445, 34.19804000854492, 32.836669921875, 30.76277732849121, 25.456789016723633, 23.999557495117188, 21.373245239257812, 16.484283447265625, 16.276798248291016, 15.801973342895508, 14.132190704345703, 14.011337280273438, 13.525346755981445, 12.875873565673828, 12.327001571655273, 11.822355270385742, 9.776914596557617, 3.2297921180725098, 3.3677139282226562, 3.7759149074554443, 4.045643329620361, 4.122524261474609, 4.55948543548584, 4.560612678527832, 4.642246246337891, 4.721186637878418, 4.737037658691406, 4.846482753753662, 5.032809734344482, 15.466147422790527, 154.49234008789062, 7.819112777709961, 34.64962387084961, 30.22273826599121, 15.855764389038086, 7.2238688468933105, 65.49008178710938, 6.437533378601074, 28.76163101196289, 10.424488067626953, 102.04187774658203, 68.88490295410156, 66.69535827636719, 42.51513671875, 38.725303649902344, 33.46140670776367, 30.203231811523438, 27.061580657958984, 26.775026321411133, 22.215831756591797, 19.08376121520996, 18.07204246520996, 17.11260986328125, 16.4222412109375, 16.421171188354492, 15.858953475952148, 15.021202087402344, 14.709604263305664, 13.922811508178711, 13.163549423217773, 13.146692276000977, 12.947830200195312, 12.246065139770508, 11.452264785766602, 11.421564102172852, 11.281888961791992, 10.148836135864258, 9.986391067504883, 9.062450408935547, 7.000870704650879, 3.7759149074554443, 152.77294921875, 137.79515075683594, 102.04187774658203, 64.87608337402344, 58.39729309082031, 31.184083938598633, 29.638042449951172, 28.76163101196289, 23.449424743652344, 18.30048370361328, 16.671476364135742, 15.855764389038086, 15.221450805664062, 11.982263565063477, 11.201622009277344, 10.927440643310547, 10.489227294921875, 6.978576183319092, 6.884179592132568, 3.2297921180725098, 3.3677139282226562, 3.7759149074554443, 4.045643329620361, 4.122524261474609, 4.55948543548584, 4.560612678527832, 4.642246246337891, 4.721186637878418, 4.737037658691406, 4.846482753753662, 65.49008178710938, 24.340984344482422, 7.2238688468933105, 6.437533378601074, 13.493234634399414, 69.51649475097656, 38.762813568115234, 132.0753936767578, 11.494501113891602, 10.424488067626953, 15.466147422790527, 105.24356842041016, 56.88226318359375, 36.97724151611328, 27.98187828063965, 17.715225219726562, 17.47486686706543, 11.86376953125, 11.536941528320312, 11.399995803833008, 11.077461242675781, 8.320943832397461, 3.2297921180725098, 3.3677139282226562, 3.7759149074554443, 4.045643329620361, 4.122524261474609, 4.55948543548584, 4.560612678527832, 4.642246246337891, 4.721186637878418, 4.737037658691406, 4.846482753753662, 5.032809734344482, 5.2737627029418945, 5.786398887634277, 5.928230285644531, 6.14739465713501, 6.21030855178833, 6.236512184143066, 6.237640380859375, 55.67142868041992, 7.2238688468933105, 28.76163101196289, 6.437533378601074, 65.49008178710938, 14.51269245147705, 15.855764389038086, 154.49234008789062, 13.493234634399414, 7.819112777709961, 23.999557495117188, 132.0753936767578, 69.51649475097656, 24.340984344482422, 123.55476379394531, 11.494501113891602, 10.424488067626953, 15.466147422790527, 55.328285217285156, 516.7327880859375, 70.16272735595703, 41.09959030151367, 34.236358642578125, 19.685932159423828, 13.789264678955078, 13.551645278930664, 13.523527145385742, 12.649681091308594, 10.864191055297852, 10.698755264282227, 9.913331985473633, 9.910987854003906, 6.3336076736450195, 3.2297921180725098, 3.3677139282226562, 3.7759149074554443, 4.045643329620361, 4.122524261474609, 4.55948543548584, 4.560612678527832, 4.642246246337891, 4.721186637878418, 4.737037658691406, 4.846482753753662, 5.032809734344482, 5.2737627029418945, 5.786398887634277, 5.928230285644531, 6.14739465713501, 23.999557495117188, 38.762813568115234, 7.2238688468933105, 7.819112777709961, 154.49234008789062, 55.67142868041992, 15.855764389038086, 28.76163101196289, 65.49008178710938, 6.437533378601074, 13.493234634399414, 69.51649475097656, 24.340984344482422, 132.0753936767578, 11.494501113891602, 10.424488067626953, 111.2532730102539, 78.1658935546875, 35.689151763916016, 31.71009635925293, 29.336408615112305, 26.794336318969727, 18.483137130737305, 18.3022518157959, 17.115530014038086, 16.33501625061035, 15.252458572387695, 12.932794570922852, 12.924348831176758, 12.70815658569336, 11.764381408691406, 10.706802368164062, 10.688436508178711, 10.556194305419922, 10.109136581420898, 8.036510467529297, 7.5064520835876465, 6.920295238494873, 6.21030855178833, 4.560612678527832, 3.2297921180725098, 3.3677139282226562, 3.7759149074554443, 4.045643329620361, 4.122524261474609, 4.55948543548584, 31.184083938598633, 30.22273826599121, 34.64962387084961, 8.680351257324219, 102.04187774658203, 85.44210052490234, 306.5152587890625, 76.81806945800781, 58.76777267456055, 45.44647216796875, 40.860904693603516, 35.800987243652344, 13.143171310424805, 13.032516479492188, 12.055963516235352, 10.56519889831543, 10.279685974121094, 10.121458053588867, 3.2297921180725098, 3.3677139282226562, 3.7759149074554443, 4.045643329620361, 4.122524261474609, 4.55948543548584, 4.560612678527832, 4.642246246337891, 4.721186637878418, 4.737037658691406, 4.846482753753662, 5.032809734344482, 5.2737627029418945, 5.786398887634277, 5.928230285644531, 6.14739465713501, 6.21030855178833, 6.236512184143066, 38.762813568115234, 69.51649475097656, 28.76163101196289, 6.437533378601074, 65.49008178710938, 7.2238688468933105, 15.855764389038086, 13.493234634399414, 11.494501113891602, 24.340984344482422, 132.0753936767578, 7.819112777709961, 10.424488067626953, 15.466147422790527, 55.328285217285156, 31.184083938598633, 30.22273826599121, 34.64962387084961, 137.0212860107422, 90.82858276367188, 63.2380256652832, 35.34757614135742, 33.256107330322266, 25.57378578186035, 14.01142692565918, 10.902366638183594, 8.196196556091309, 5.032809734344482, 3.2297921180725098, 3.3677139282226562, 3.7759149074554443, 4.045643329620361, 4.122524261474609, 4.55948543548584, 4.560612678527832, 4.642246246337891, 4.721186637878418, 4.737037658691406, 4.846482753753662, 5.2737627029418945, 5.786398887634277, 5.928230285644531, 6.14739465713501, 6.21030855178833, 6.236512184143066, 6.237640380859375, 6.2684454917907715, 6.3336076736450195, 23.999557495117188, 65.49008178710938, 7.2238688468933105, 15.855764389038086, 38.762813568115234, 7.819112777709961, 154.49234008789062, 55.67142868041992, 14.51269245147705, 19.132171630859375, 123.55476379394531, 6.437533378601074, 69.51649475097656, 28.76163101196289, 13.493234634399414, 48.778465270996094, 24.340984344482422, 132.0753936767578, 11.494501113891602, 10.424488067626953, 805.9041748046875, 659.1762084960938, 231.9992218017578, 197.58750915527344, 89.37516021728516, 37.78988265991211, 30.159608840942383, 21.3935546875, 15.515829086303711, 11.258258819580078, 8.738557815551758, 7.598217010498047, 3.2297921180725098, 3.3677139282226562, 3.7759149074554443, 4.045643329620361, 4.122524261474609, 4.55948543548584, 4.560612678527832, 4.642246246337891, 4.721186637878418, 4.737037658691406, 4.846482753753662, 5.032809734344482, 5.2737627029418945, 5.786398887634277, 5.928230285644531, 6.14739465713501, 6.21030855178833, 6.236512184143066, 65.49008178710938, 15.855764389038086, 7.2238688468933105, 23.999557495117188, 7.819112777709961, 154.49234008789062, 55.67142868041992, 38.762813568115234, 6.437533378601074, 14.51269245147705, 13.493234634399414, 69.51649475097656, 24.340984344482422, 132.0753936767578, 11.494501113891602, 10.424488067626953, 15.466147422790527, 55.328285217285156, 976.2582397460938, 129.464599609375, 109.86983489990234, 86.18416595458984, 40.50847625732422, 25.835573196411133, 17.447845458984375, 14.031015396118164, 12.996683120727539, 12.894718170166016, 10.70252799987793, 7.4368486404418945, 3.2297921180725098, 3.3677139282226562, 3.7759149074554443, 4.045643329620361, 4.122524261474609, 4.55948543548584, 4.560612678527832, 4.642246246337891, 4.721186637878418, 4.737037658691406, 4.846482753753662, 5.032809734344482, 5.2737627029418945, 5.786398887634277, 5.928230285644531, 6.14739465713501, 6.21030855178833, 6.236512184143066, 7.819112777709961, 154.49234008789062, 23.999557495117188, 55.67142868041992, 15.855764389038086, 7.2238688468933105, 38.762813568115234, 6.437533378601074, 65.49008178710938, 28.76163101196289, 13.493234634399414, 69.51649475097656, 24.340984344482422, 132.0753936767578, 11.494501113891602, 10.424488067626953, 15.466147422790527, 55.328285217285156, 829.8355712890625, 96.52806091308594, 61.043968200683594, 33.27692794799805, 17.541263580322266, 9.96060562133789, 8.156904220581055, 7.044886112213135, 3.2297921180725098, 3.3677139282226562, 3.7759149074554443, 4.045643329620361, 4.122524261474609, 4.55948543548584, 4.560612678527832, 4.642246246337891, 4.721186637878418, 4.737037658691406, 4.846482753753662, 5.032809734344482, 5.2737627029418945, 5.786398887634277, 5.928230285644531, 6.14739465713501, 6.21030855178833, 6.236512184143066, 6.237640380859375, 6.2684454917907715, 6.3336076736450195, 6.352184295654297, 28.76163101196289, 35.800987243652344, 14.51269245147705, 96.53482818603516, 55.67142868041992, 154.49234008789062, 7.819112777709961, 23.999557495117188, 15.855764389038086, 7.2238688468933105, 65.49008178710938, 6.437533378601074, 85.44210052490234, 34.64962387084961, 69.51649475097656, 24.340984344482422, 19.132171630859375, 132.0753936767578, 11.494501113891602, 10.424488067626953, 15.466147422790527, 102.04187774658203, 394.39837646484375, 84.63395690917969, 23.714801788330078, 16.99965476989746, 12.095460891723633, 11.726936340332031, 10.893383026123047, 3.2297921180725098, 3.3677139282226562, 3.7759149074554443, 4.045643329620361, 4.122524261474609, 4.55948543548584, 4.560612678527832, 4.642246246337891, 4.721186637878418, 4.737037658691406, 4.846482753753662, 5.032809734344482, 5.2737627029418945, 5.786398887634277, 5.928230285644531, 6.14739465713501, 6.21030855178833, 6.236512184143066, 6.237640380859375, 6.2684454917907715, 6.3336076736450195, 6.352184295654297, 6.437533378601074, 38.762813568115234, 7.2238688468933105, 28.76163101196289, 65.49008178710938, 15.855764389038086, 23.999557495117188, 7.819112777709961, 154.49234008789062, 55.67142868041992, 14.51269245147705, 13.493234634399414, 24.340984344482422, 69.51649475097656, 123.55476379394531, 132.0753936767578, 11.494501113891602, 10.424488067626953, 15.466147422790527, 55.328285217285156, 31.184083938598633, 30.22273826599121, 34.64962387084961, 138.92623901367188, 51.392459869384766, 33.4290885925293, 27.04389762878418, 22.676414489746094, 18.44769287109375, 16.908512115478516, 16.817729949951172, 10.508859634399414, 9.347452163696289, 3.2297921180725098, 3.3677139282226562, 3.7759149074554443, 4.045643329620361, 4.122524261474609, 4.55948543548584, 4.560612678527832, 4.642246246337891, 4.721186637878418, 4.737037658691406, 4.846482753753662, 5.032809734344482, 5.2737627029418945, 5.786398887634277, 5.928230285644531, 6.14739465713501, 6.21030855178833, 6.236512184143066, 6.237640380859375, 6.2684454917907715, 69.51649475097656, 7.819112777709961, 9.07714557647705, 23.999557495117188, 15.855764389038086, 7.2238688468933105, 65.49008178710938, 10.44375228881836, 27.039146423339844, 6.437533378601074, 28.76163101196289, 13.493234634399414, 24.340984344482422, 115.72914123535156, 132.0753936767578, 11.494501113891602, 27.77979850769043, 10.424488067626953, 15.466147422790527, 237.80645751953125, 136.3829345703125, 101.84111785888672, 44.305538177490234, 38.762813568115234, 33.23476791381836, 14.81595230102539, 12.905141830444336, 12.264993667602539, 4.045643329620361, 3.2297921180725098, 3.3677139282226562, 3.7759149074554443, 4.122524261474609, 4.55948543548584, 4.560612678527832, 4.642246246337891, 4.721186637878418, 4.737037658691406, 4.846482753753662, 5.032809734344482, 5.2737627029418945, 5.786398887634277, 5.928230285644531, 6.14739465713501, 6.21030855178833, 6.236512184143066, 6.237640380859375, 6.2684454917907715, 6.3336076736450195, 24.340984344482422, 14.51269245147705, 55.67142868041992, 154.49234008789062, 7.819112777709961, 23.999557495117188, 15.855764389038086, 7.2238688468933105, 65.49008178710938, 6.437533378601074, 28.76163101196289, 13.493234634399414, 69.51649475097656, 132.0753936767578, 123.55476379394531, 11.494501113891602, 10.424488067626953, 15.466147422790527, 55.328285217285156, 31.184083938598633, 206.72720336914062, 198.62681579589844, 118.87260437011719, 69.97931671142578, 43.18226623535156, 40.425296783447266, 34.972530364990234, 31.343448638916016, 28.056642532348633, 16.972124099731445, 15.610898971557617, 11.538125991821289, 10.5736083984375, 10.370870590209961, 10.36868667602539, 9.772588729858398, 8.862627029418945, 3.2297921180725098, 3.3677139282226562, 3.7759149074554443, 4.045643329620361, 4.122524261474609, 4.55948543548584, 4.560612678527832, 4.642246246337891, 4.721186637878418, 4.737037658691406, 4.846482753753662, 5.032809734344482, 5.2737627029418945, 55.328285217285156, 15.855764389038086, 102.04187774658203, 85.44210052490234, 14.51269245147705, 55.67142868041992, 154.49234008789062, 34.64962387084961, 7.819112777709961, 30.22273826599121, 23.999557495117188, 7.2238688468933105, 11.494501113891602, 144.3622589111328, 103.79776763916016, 83.63629913330078, 46.33721923828125, 44.7556037902832, 15.107414245605469, 10.191349029541016, 7.436248779296875, 3.2297921180725098, 3.3677139282226562, 3.7759149074554443, 4.045643329620361, 4.122524261474609, 4.55948543548584, 4.560612678527832, 4.642246246337891, 4.721186637878418, 4.737037658691406, 4.846482753753662, 5.032809734344482, 5.2737627029418945, 5.786398887634277, 5.928230285644531, 6.14739465713501, 6.21030855178833, 6.236512184143066, 6.237640380859375, 6.2684454917907715, 6.3336076736450195, 6.352184295654297, 31.184083938598633, 65.49008178710938, 123.55476379394531, 19.132171630859375, 14.51269245147705, 55.67142868041992, 154.49234008789062, 102.04187774658203, 7.819112777709961, 23.999557495117188, 15.855764389038086, 7.2238688468933105, 6.437533378601074, 55.328285217285156, 28.76163101196289, 13.493234634399414, 48.778465270996094, 85.44210052490234, 34.64962387084961, 69.51649475097656, 24.340984344482422, 30.22273826599121, 88.58253479003906, 79.18375396728516, 56.38484191894531, 55.328285217285156, 44.38291549682617, 39.79420852661133, 33.84614944458008, 21.4434871673584, 18.61578941345215, 16.991466522216797, 14.680305480957031, 9.631444931030273, 3.2297921180725098, 3.3677139282226562, 3.7759149074554443, 4.045643329620361, 4.122524261474609, 4.55948543548584, 4.560612678527832, 4.642246246337891, 4.721186637878418, 4.737037658691406, 4.846482753753662, 5.032809734344482, 5.2737627029418945, 5.786398887634277, 5.928230285644531, 6.14739465713501, 6.21030855178833, 6.236512184143066, 28.76163101196289, 6.437533378601074, 65.49008178710938, 38.762813568115234, 7.2238688468933105, 69.51649475097656, 15.855764389038086, 23.999557495117188, 7.819112777709961, 154.49234008789062, 13.493234634399414, 10.424488067626953, 24.340984344482422, 132.0753936767578, 11.494501113891602, 14.51269245147705, 15.466147422790527, 31.184083938598633, 75.96780395507812, 47.132240295410156, 45.09858703613281, 21.814544677734375, 18.705276489257812, 16.655725479125977, 16.566009521484375, 16.04770278930664, 15.596250534057617, 11.532196044921875, 10.468570709228516, 8.516698837280273, 4.721186637878418, 3.2297921180725098, 3.3677139282226562, 3.7759149074554443, 4.045643329620361, 4.122524261474609, 4.55948543548584, 4.560612678527832, 4.642246246337891, 4.737037658691406, 4.846482753753662, 5.032809734344482, 5.2737627029418945, 5.786398887634277, 5.928230285644531, 6.14739465713501, 6.21030855178833, 6.236512184143066, 15.466147422790527, 34.64962387084961, 123.55476379394531, 19.132171630859375, 14.51269245147705, 55.67142868041992, 154.49234008789062, 7.819112777709961, 23.999557495117188, 15.855764389038086, 7.2238688468933105, 65.49008178710938, 6.437533378601074, 10.424488067626953, 28.76163101196289, 13.493234634399414, 69.51649475097656, 336.7269287109375, 123.55476379394531, 68.65042877197266, 51.31635665893555, 48.32401657104492, 37.04970932006836, 31.335948944091797, 18.701099395751953, 16.17340850830078, 13.424938201904297, 10.075328826904297, 9.3604736328125, 8.021662712097168, 3.2297921180725098, 3.3677139282226562, 3.7759149074554443, 4.045643329620361, 4.122524261474609, 4.55948543548584, 4.560612678527832, 4.642246246337891, 4.721186637878418, 4.737037658691406, 4.846482753753662, 5.032809734344482, 5.2737627029418945, 5.786398887634277, 5.928230285644531, 6.14739465713501, 6.21030855178833, 15.855764389038086, 154.49234008789062, 23.999557495117188, 7.819112777709961, 55.67142868041992, 14.51269245147705, 19.132171630859375, 7.2238688468933105, 38.762813568115234, 65.49008178710938, 28.76163101196289, 13.493234634399414, 69.51649475097656, 24.340984344482422, 132.0753936767578, 11.494501113891602, 10.424488067626953, 4788.56591796875, 3850.89892578125, 2475.992431640625, 1370.585205078125, 186.55364990234375, 50.52738952636719, 47.65632247924805, 18.66923713684082, 10.676372528076172, 3.2297921180725098, 3.3677139282226562, 3.7759149074554443, 4.045643329620361, 4.122524261474609, 4.55948543548584, 4.560612678527832, 4.642246246337891, 4.721186637878418, 4.737037658691406, 4.846482753753662, 5.032809734344482, 5.2737627029418945, 5.786398887634277, 5.928230285644531, 6.14739465713501, 6.21030855178833, 6.236512184143066, 6.237640380859375, 6.2684454917907715, 6.3336076736450195, 38.762813568115234, 15.855764389038086, 23.999557495117188, 154.49234008789062, 7.819112777709961, 65.49008178710938, 55.67142868041992, 14.51269245147705, 19.132171630859375, 123.55476379394531, 7.2238688468933105, 13.493234634399414, 6.437533378601074, 28.76163101196289, 48.778465270996094, 69.51649475097656, 24.340984344482422, 132.0753936767578, 11.494501113891602, 10.424488067626953, 15.466147422790527, 228.77516174316406, 95.50961303710938, 55.46915054321289, 48.94114685058594, 37.097476959228516, 34.492523193359375, 21.947036743164062, 20.74811363220215, 20.640579223632812, 19.319091796875, 16.70469856262207, 14.318038940429688, 13.991228103637695, 7.076137542724609, 4.55948543548584, 3.2297921180725098, 3.3677139282226562, 3.7759149074554443, 4.045643329620361, 4.122524261474609, 4.560612678527832, 4.642246246337891, 4.721186637878418, 4.737037658691406, 4.846482753753662, 5.032809734344482, 5.2737627029418945, 5.786398887634277, 5.928230285644531, 6.14739465713501, 8.429094314575195, 48.778465270996094, 9.910987854003906, 123.55476379394531, 19.132171630859375, 15.855764389038086, 14.51269245147705, 55.67142868041992, 154.49234008789062, 7.819112777709961, 23.999557495117188, 109.76114654541016, 7.2238688468933105, 67.02476501464844, 65.49008178710938, 194.5818634033203, 187.5095977783203, 109.41056060791016, 90.87216186523438, 63.42108917236328, 10.680435180664062, 10.555288314819336, 8.606321334838867, 7.328717231750488, 7.255204677581787, 4.122524261474609, 3.2297921180725098, 3.3677139282226562, 3.7759149074554443, 4.045643329620361, 4.55948543548584, 4.560612678527832, 4.642246246337891, 4.721186637878418, 4.737037658691406, 4.846482753753662, 5.032809734344482, 5.2737627029418945, 5.786398887634277, 5.928230285644531, 6.14739465713501, 6.21030855178833, 6.236512184143066, 6.237640380859375, 6.2684454917907715, 7.2238688468933105, 15.855764389038086, 38.762813568115234, 6.437533378601074, 23.999557495117188, 7.819112777709961, 154.49234008789062, 55.67142868041992, 65.49008178710938, 132.0753936767578, 28.76163101196289, 13.493234634399414, 69.51649475097656, 24.340984344482422, 19.132171630859375, 11.494501113891602, 10.424488067626953, 15.466147422790527, 55.328285217285156, 315.0220947265625, 210.85484313964844, 49.98310470581055, 19.087867736816406, 15.164255142211914, 14.593494415283203, 14.050357818603516, 9.183656692504883, 8.587196350097656, 7.74931526184082, 7.053191184997559, 3.2297921180725098, 3.3677139282226562, 3.7759149074554443, 4.045643329620361, 4.122524261474609, 4.55948543548584, 4.560612678527832, 4.642246246337891, 4.721186637878418, 4.737037658691406, 4.846482753753662, 5.032809734344482, 5.2737627029418945, 5.786398887634277, 5.928230285644531, 6.14739465713501, 6.21030855178833, 6.236512184143066, 6.237640380859375, 44.51905822753906, 10.424488067626953, 65.49008178710938, 6.437533378601074, 28.76163101196289, 13.493234634399414, 69.51649475097656, 24.340984344482422, 33.4290885925293, 8.90336799621582, 132.0753936767578, 14.656408309936523, 11.494501113891602, 15.466147422790527, 25.57493782043457, 55.328285217285156, 31.184083938598633, 30.22273826599121, 34.64962387084961, 490.67193603515625, 332.3721618652344, 146.69068908691406, 115.72914123535156, 98.06951904296875, 54.002689361572266, 25.125829696655273, 15.322759628295898, 7.327756404876709, 3.2297921180725098, 3.3677139282226562, 3.7759149074554443, 4.045643329620361, 4.122524261474609, 4.55948543548584, 4.560612678527832, 4.642246246337891, 4.721186637878418, 4.737037658691406, 4.846482753753662, 5.032809734344482, 5.2737627029418945, 5.786398887634277, 5.928230285644531, 6.14739465713501, 6.21030855178833, 6.236512184143066, 6.237640380859375, 6.2684454917907715, 6.3336076736450195, 6.437533378601074, 65.49008178710938, 7.2238688468933105, 15.855764389038086, 38.762813568115234, 23.999557495117188, 7.819112777709961, 55.67142868041992, 14.51269245147705, 19.132171630859375, 154.49234008789062, 69.51649475097656, 28.76163101196289, 13.493234634399414, 9.910987854003906, 24.340984344482422, 132.0753936767578, 11.494501113891602, 10.424488067626953, 15.466147422790527, 55.328285217285156, 170.3062744140625, 159.6162567138672, 61.56989288330078, 33.974700927734375, 32.33189010620117, 24.39471435546875, 23.838809967041016, 21.20976448059082, 14.771879196166992, 13.83906364440918, 11.051826477050781, 6.75043249130249, 3.2297921180725098, 3.3677139282226562, 3.7759149074554443, 4.045643329620361, 4.122524261474609, 4.55948543548584, 4.560612678527832, 4.642246246337891, 4.721186637878418, 4.737037658691406, 4.846482753753662, 5.032809734344482, 5.2737627029418945, 5.786398887634277, 5.928230285644531, 6.14739465713501, 6.21030855178833, 6.236512184143066, 6.437533378601074, 19.132171630859375, 14.51269245147705, 55.67142868041992, 154.49234008789062, 7.819112777709961, 23.999557495117188, 15.855764389038086, 7.2238688468933105, 65.49008178710938, 28.76163101196289, 34.64962387084961, 13.493234634399414, 69.51649475097656, 9.910987854003906, 85.44210052490234, 24.340984344482422, 132.0753936767578, 355.0235290527344, 125.77342987060547, 86.44450378417969, 61.7054557800293, 29.480987548828125, 26.102293014526367, 14.290824890136719, 13.22189712524414, 11.086030960083008, 10.066301345825195, 6.852624893188477, 3.2297921180725098, 3.3677139282226562, 3.7759149074554443, 4.045643329620361, 4.122524261474609, 4.55948543548584, 4.560612678527832, 4.642246246337891, 4.721186637878418, 4.737037658691406, 4.846482753753662, 5.032809734344482, 5.2737627029418945, 5.786398887634277, 5.928230285644531, 6.14739465713501, 6.21030855178833, 6.236512184143066, 6.237640380859375, 25.57493782043457, 132.0753936767578, 7.819112777709961, 23.999557495117188, 15.855764389038086, 7.2238688468933105, 65.49008178710938, 6.437533378601074, 28.76163101196289, 13.493234634399414, 69.51649475097656, 9.07714557647705, 24.340984344482422, 11.494501113891602, 55.67142868041992, 10.424488067626953, 15.466147422790527, 55.328285217285156, 31.184083938598633, 154.49234008789062, 129.3022003173828, 96.53482818603516, 93.05982971191406, 44.87173843383789, 31.230669021606445, 30.0655460357666, 28.838138580322266, 14.243097305297852, 11.671407699584961, 11.187711715698242, 7.819112777709961, 6.44298791885376, 6.237640380859375, 3.2297921180725098, 3.3677139282226562, 3.7759149074554443, 4.045643329620361, 4.122524261474609, 4.55948543548584, 4.560612678527832, 4.642246246337891, 4.721186637878418, 4.737037658691406, 4.846482753753662, 5.032809734344482, 5.2737627029418945, 5.786398887634277, 5.928230285644531, 6.14739465713501, 7.2238688468933105, 65.49008178710938, 14.656408309936523, 28.76163101196289, 15.855764389038086, 23.999557495117188, 10.44375228881836, 6.437533378601074, 69.51649475097656, 13.493234634399414, 24.340984344482422, 132.0753936767578, 11.494501113891602, 10.424488067626953, 15.466147422790527, 55.328285217285156, 241.04949951171875, 99.73119354248047, 64.7433090209961, 44.51905822753906, 42.16318130493164, 41.5487060546875, 33.68266677856445, 30.259899139404297, 25.262454986572266, 20.816953659057617, 19.941410064697266, 16.199453353881836, 15.304080963134766, 12.290557861328125, 9.744218826293945, 5.2737627029418945, 3.2297921180725098, 3.3677139282226562, 3.7759149074554443, 4.045643329620361, 4.122524261474609, 4.55948543548584, 4.560612678527832, 4.642246246337891, 4.721186637878418, 4.737037658691406, 4.846482753753662, 5.032809734344482, 5.786398887634277, 5.928230285644531, 28.76163101196289, 13.493234634399414, 38.762813568115234, 65.49008178710938, 6.437533378601074, 24.340984344482422, 7.2238688468933105, 15.855764389038086, 23.999557495117188, 69.51649475097656, 10.424488067626953, 132.0753936767578, 11.494501113891602, 154.49234008789062, 69.51649475097656, 58.596923828125, 39.97312927246094, 34.967838287353516, 24.817214965820312, 22.072418212890625, 17.775691986083984, 17.016448974609375, 14.328634262084961, 11.783073425292969, 11.477010726928711, 10.645219802856445, 7.596329689025879, 3.2297921180725098, 3.3677139282226562, 3.7759149074554443, 4.045643329620361, 4.122524261474609, 4.55948543548584, 4.560612678527832, 4.642246246337891, 4.721186637878418, 4.737037658691406, 4.846482753753662, 5.032809734344482, 5.2737627029418945, 5.786398887634277, 5.928230285644531, 6.14739465713501, 6.21030855178833, 10.424488067626953, 65.49008178710938, 96.53482818603516, 102.04187774658203, 85.44210052490234, 55.67142868041992, 154.49234008789062, 7.819112777709961, 23.999557495117188, 15.855764389038086, 7.2238688468933105, 34.64962387084961, 15.466147422790527, 6.437533378601074, 28.76163101196289, 13.493234634399414, 30.22273826599121, 3409.700439453125, 551.2807006835938, 176.18968200683594, 171.7873992919922, 103.8314208984375, 21.866497039794922, 17.649492263793945, 15.785871505737305, 8.914087295532227, 3.2297921180725098, 3.3677139282226562, 3.7759149074554443, 4.045643329620361, 4.122524261474609, 4.55948543548584, 4.560612678527832, 4.642246246337891, 4.721186637878418, 4.737037658691406, 4.846482753753662, 5.032809734344482, 5.2737627029418945, 5.786398887634277, 5.928230285644531, 6.14739465713501, 6.21030855178833, 6.236512184143066, 6.237640380859375, 6.2684454917907715, 6.3336076736450195, 13.493234634399414, 28.76163101196289, 6.437533378601074, 24.340984344482422, 65.49008178710938, 7.2238688468933105, 15.855764389038086, 23.999557495117188, 7.819112777709961, 154.49234008789062, 69.51649475097656, 10.424488067626953, 132.0753936767578, 11.494501113891602, 14.51269245147705, 15.466147422790527, 55.328285217285156, 31.184083938598633, 30.22273826599121, 34.64962387084961, 85.44210052490234, 283.52679443359375, 275.44512939453125, 91.4618148803711, 66.9727783203125, 33.2501106262207, 7.674483776092529, 3.2297921180725098, 3.3677139282226562, 3.7759149074554443, 4.045643329620361, 4.122524261474609, 4.55948543548584, 4.560612678527832, 4.642246246337891, 4.721186637878418, 4.737037658691406, 4.846482753753662, 5.032809734344482, 5.2737627029418945, 5.786398887634277, 5.928230285644531, 6.14739465713501, 6.21030855178833, 6.236512184143066, 6.237640380859375, 6.2684454917907715, 6.3336076736450195, 6.352184295654297, 6.437533378601074, 6.44298791885376, 28.76163101196289, 65.49008178710938, 7.2238688468933105, 23.999557495117188, 15.855764389038086, 69.51649475097656, 7.819112777709961, 154.49234008789062, 55.67142868041992, 13.493234634399414, 38.762813568115234, 24.340984344482422, 19.132171630859375, 132.0753936767578, 11.494501113891602, 10.424488067626953, 15.466147422790527, 55.328285217285156, 31.184083938598633, 30.22273826599121, 34.64962387084961, 85.44210052490234, 102.04187774658203, 114.1868667602539, 78.50774383544922, 34.80200958251953, 33.328468322753906, 25.298864364624023, 24.46215057373047, 22.02505111694336, 19.53641700744629, 19.295429229736328, 19.057571411132812, 16.90892219543457, 12.948013305664062, 12.772077560424805, 10.275815963745117, 9.913925170898438, 7.240546226501465, 6.6257452964782715, 3.2297921180725098, 3.3677139282226562, 3.7759149074554443, 4.045643329620361, 4.122524261474609, 4.55948543548584, 4.560612678527832, 4.642246246337891, 4.721186637878418, 4.737037658691406, 4.846482753753662, 5.032809734344482, 5.2737627029418945, 15.855764389038086, 19.132171630859375, 14.51269245147705, 123.55476379394531, 55.67142868041992, 154.49234008789062, 7.819112777709961, 23.999557495117188, 24.340984344482422, 7.2238688468933105, 65.49008178710938, 6.437533378601074, 28.76163101196289, 114.53069305419922, 83.0145492553711, 33.490211486816406, 33.11209487915039, 22.642486572265625, 21.739269256591797, 18.97137451171875, 12.286445617675781, 11.308021545410156, 10.247255325317383, 8.471246719360352, 6.87293815612793, 3.2297921180725098, 3.3677139282226562, 3.7759149074554443, 4.045643329620361, 4.122524261474609, 4.55948543548584, 4.560612678527832, 4.642246246337891, 4.721186637878418, 4.737037658691406, 4.846482753753662, 5.032809734344482, 5.2737627029418945, 5.786398887634277, 5.928230285644531, 6.14739465713501, 6.21030855178833, 6.236512184143066, 15.855764389038086, 154.49234008789062, 55.67142868041992, 14.51269245147705, 7.819112777709961, 23.999557495117188, 38.762813568115234, 7.2238688468933105, 19.132171630859375, 6.437533378601074, 28.76163101196289, 13.493234634399414, 69.51649475097656, 24.340984344482422, 132.0753936767578, 11.494501113891602, 10.424488067626953, 15.466147422790527, 126.29120635986328, 65.45640563964844, 65.19767761230469, 51.360321044921875, 46.95112609863281, 42.16256332397461, 32.687530517578125, 25.891618728637695, 16.20820426940918, 15.977474212646484, 14.656408309936523, 14.22917366027832, 13.493234634399414, 12.901847839355469, 12.010553359985352, 10.866886138916016, 8.977289199829102, 8.90336799621582, 8.86660385131836, 3.2297921180725098, 3.3677139282226562, 3.7759149074554443, 4.045643329620361, 4.122524261474609, 4.55948543548584, 4.560612678527832, 4.642246246337891, 4.721186637878418, 4.737037658691406, 4.846482753753662, 34.64962387084961, 7.819112777709961, 23.999557495117188, 15.855764389038086, 7.2238688468933105, 65.49008178710938, 6.437533378601074, 28.76163101196289, 10.424488067626953, 15.466147422790527, 30.22273826599121, 69.91146087646484, 69.57344055175781, 64.00027465820312, 58.272377014160156, 56.47498321533203, 33.147682189941406, 32.45259475708008, 30.132923126220703, 29.811574935913086, 29.741756439208984, 26.921369552612305, 23.53438377380371, 21.821178436279297, 18.030412673950195, 17.699295043945312, 16.36161231994629, 16.11056137084961, 16.1081485748291, 15.602441787719727, 15.034976959228516, 14.983789443969727, 14.152362823486328, 11.818952560424805, 10.701820373535156, 9.711313247680664, 9.446126937866211, 8.851451873779297, 8.851018905639648, 8.690654754638672, 8.176344871520996, 650.3939208984375, 245.91268920898438, 67.69535827636719, 50.156288146972656, 29.391881942749023, 28.105484008789062, 27.299549102783203, 15.55000114440918, 8.768098831176758, 8.03806209564209, 3.2297921180725098, 3.3677139282226562, 3.7759149074554443, 4.045643329620361, 4.122524261474609, 4.55948543548584, 4.560612678527832, 4.642246246337891, 4.721186637878418, 4.737037658691406, 4.846482753753662, 5.032809734344482, 5.2737627029418945, 5.786398887634277, 5.928230285644531, 6.14739465713501, 6.21030855178833, 6.236512184143066, 6.237640380859375, 6.2684454917907715, 65.49008178710938, 28.76163101196289, 6.437533378601074, 38.762813568115234, 7.2238688468933105, 13.493234634399414, 23.999557495117188, 7.819112777709961, 154.49234008789062, 55.67142868041992, 14.51269245147705, 15.855764389038086, 132.0753936767578, 69.51649475097656, 24.340984344482422, 123.55476379394531, 11.494501113891602, 10.424488067626953, 15.466147422790527, 143.50868225097656, 101.7337417602539, 98.18032836914062, 24.017276763916016, 23.459096908569336, 21.684814453125, 19.764936447143555, 19.46499252319336, 16.253389358520508, 11.710123062133789, 10.604007720947266, 9.477815628051758, 3.2297921180725098, 3.3677139282226562, 3.7759149074554443, 4.045643329620361, 4.122524261474609, 4.55948543548584, 4.560612678527832, 4.642246246337891, 4.721186637878418, 4.737037658691406, 4.846482753753662, 5.032809734344482, 5.2737627029418945, 5.786398887634277, 5.928230285644531, 6.14739465713501, 6.21030855178833, 6.236512184143066, 13.493234634399414, 38.762813568115234, 28.76163101196289, 69.51649475097656, 65.49008178710938, 7.2238688468933105, 15.855764389038086, 23.999557495117188, 7.819112777709961, 154.49234008789062, 6.437533378601074, 10.424488067626953, 24.340984344482422, 132.0753936767578, 11.494501113891602, 14.51269245147705, 15.466147422790527, 55.328285217285156, 221.05447387695312, 109.96107482910156, 67.29004669189453, 65.49008178710938, 64.35501861572266, 47.19750213623047, 45.18527603149414, 37.53108596801758, 36.39696502685547, 29.415536880493164, 17.140045166015625, 15.599893569946289, 15.383502960205078, 12.173046112060547, 10.746528625488281, 3.2297921180725098, 3.3677139282226562, 3.7759149074554443, 4.045643329620361, 4.122524261474609, 4.55948543548584, 4.560612678527832, 4.642246246337891, 4.721186637878418, 4.737037658691406, 4.846482753753662, 5.032809734344482, 5.2737627029418945, 5.786398887634277, 5.928230285644531, 102.04187774658203, 85.44210052490234, 92.83015441894531, 23.999557495117188, 15.855764389038086, 7.2238688468933105, 27.275774002075195, 6.437533378601074, 28.76163101196289, 91.47882843017578, 13.493234634399414, 69.51649475097656, 24.340984344482422, 132.0753936767578, 11.494501113891602, 111.91461944580078, 91.10713195800781, 58.497379302978516, 51.28677749633789, 44.52384948730469, 27.354496002197266, 17.008560180664062, 14.357070922851562, 13.468143463134766, 9.519155502319336, 8.186253547668457, 3.2297921180725098, 3.3677139282226562, 3.7759149074554443, 4.045643329620361, 4.122524261474609, 4.55948543548584, 4.560612678527832, 4.642246246337891, 4.721186637878418, 4.737037658691406, 4.846482753753662, 5.032809734344482, 5.2737627029418945, 5.786398887634277, 5.928230285644531, 6.14739465713501, 6.21030855178833, 6.236512184143066, 6.237640380859375, 65.49008178710938, 154.49234008789062, 23.999557495117188, 15.855764389038086, 55.67142868041992, 14.51269245147705, 7.2238688468933105, 19.132171630859375, 7.819112777709961, 28.76163101196289, 6.437533378601074, 9.910987854003906, 13.493234634399414, 69.51649475097656, 24.340984344482422, 132.0753936767578, 11.494501113891602, 10.424488067626953, 15.466147422790527, 273.1033935546875, 171.1716766357422, 122.6913833618164, 120.11769104003906, 104.93263244628906, 52.86412811279297, 20.724157333374023, 18.711990356445312, 17.216527938842773, 16.581432342529297, 16.546640396118164, 3.2297921180725098, 3.3677139282226562, 3.7759149074554443, 4.045643329620361, 4.122524261474609, 4.55948543548584, 4.560612678527832, 4.642246246337891, 4.721186637878418, 4.737037658691406, 4.846482753753662, 5.032809734344482, 5.2737627029418945, 5.786398887634277, 5.928230285644531, 6.14739465713501, 6.21030855178833, 6.236512184143066, 6.237640380859375, 69.51649475097656, 13.493234634399414, 28.76163101196289, 6.437533378601074, 7.2238688468933105, 65.49008178710938, 132.0753936767578, 15.855764389038086, 23.999557495117188, 7.819112777709961, 24.340984344482422, 10.44375228881836, 11.494501113891602, 55.67142868041992, 10.424488067626953, 15.466147422790527, 55.328285217285156, 31.184083938598633, 30.22273826599121, 298.87115478515625, 158.89599609375, 50.654258728027344, 27.931196212768555, 24.73296356201172, 23.269176483154297, 19.560094833374023, 19.54324722290039, 15.768514633178711, 12.469528198242188, 3.2297921180725098, 3.3677139282226562, 3.7759149074554443, 4.045643329620361, 4.122524261474609, 4.55948543548584, 4.560612678527832, 4.642246246337891, 4.721186637878418, 4.737037658691406, 4.846482753753662, 5.032809734344482, 5.2737627029418945, 5.786398887634277, 5.928230285644531, 6.14739465713501, 6.21030855178833, 6.236512184143066, 6.237640380859375, 6.2684454917907715, 55.67142868041992, 154.49234008789062, 7.819112777709961, 23.999557495117188, 15.855764389038086, 7.2238688468933105, 65.49008178710938, 6.437533378601074, 28.76163101196289, 69.51649475097656, 13.493234634399414, 19.132171630859375, 24.340984344482422, 132.0753936767578, 11.494501113891602, 10.424488067626953, 15.466147422790527, 55.328285217285156, 31.184083938598633, 30.22273826599121, 132.0753936767578, 80.16706085205078, 62.613075256347656, 55.67142868041992, 50.94375991821289, 44.1209716796875, 27.87571144104004, 21.547714233398438, 19.52069091796875, 19.132171630859375, 16.613826751708984, 11.12740707397461, 10.437276840209961, 9.489501953125, 3.2297921180725098, 3.3677139282226562, 3.7759149074554443, 4.045643329620361, 4.122524261474609, 4.55948543548584, 4.560612678527832, 4.642246246337891, 4.721186637878418, 4.737037658691406, 4.846482753753662, 5.032809734344482, 5.2737627029418945, 5.786398887634277, 5.928230285644531, 6.14739465713501, 15.855764389038086, 7.2238688468933105, 65.49008178710938, 6.437533378601074, 23.999557495117188, 28.76163101196289, 13.493234634399414, 38.762813568115234, 69.51649475097656, 24.340984344482422, 7.819112777709961, 10.424488067626953, 15.466147422790527, 55.328285217285156, 31.184083938598633, 30.22273826599121, 145.9639129638672, 109.76114654541016, 72.88079071044922, 64.83157348632812, 41.080169677734375, 24.262601852416992, 23.614805221557617, 23.4699764251709, 19.40452766418457, 18.377473831176758, 13.809619903564453, 13.198057174682617, 12.995429992675781, 12.523290634155273, 11.340694427490234, 8.782114028930664, 8.728532791137695, 4.846482753753662, 3.2297921180725098, 3.3677139282226562, 3.7759149074554443, 4.045643329620361, 4.122524261474609, 4.55948543548584, 4.560612678527832, 4.642246246337891, 4.721186637878418, 4.737037658691406, 5.032809734344482, 5.2737627029418945, 7.819112777709961, 55.67142868041992, 154.49234008789062, 14.51269245147705, 7.2238688468933105, 15.855764389038086, 23.999557495117188, 38.762813568115234, 65.49008178710938, 19.132171630859375, 96.53482818603516, 102.04187774658203, 325.14361572265625, 73.06856536865234, 61.405738830566406, 40.0876579284668, 33.37896728515625, 29.199146270751953, 12.369134902954102, 11.953042984008789, 4.737037658691406, 3.2297921180725098, 3.3677139282226562, 3.7759149074554443, 4.045643329620361, 4.122524261474609, 4.55948543548584, 4.560612678527832, 4.642246246337891, 4.721186637878418, 4.846482753753662, 5.032809734344482, 5.2737627029418945, 5.786398887634277, 5.928230285644531, 6.14739465713501, 6.21030855178833, 6.236512184143066, 6.237640380859375, 6.2684454917907715, 6.3336076736450195, 6.352184295654297, 34.64962387084961, 55.67142868041992, 154.49234008789062, 7.819112777709961, 23.999557495117188, 15.855764389038086, 7.2238688468933105, 65.49008178710938, 6.437533378601074, 28.76163101196289, 30.22273826599121, 31.184083938598633, 85.44210052490234, 14.51269245147705, 13.493234634399414, 69.51649475097656, 24.340984344482422, 132.0753936767578, 11.494501113891602, 10.424488067626953, 15.466147422790527, 176.31341552734375, 91.47882843017578, 56.481407165527344, 34.68639373779297, 31.21654510498047, 27.605426788330078, 23.53070831298828, 21.257144927978516, 17.933996200561523, 17.27894401550293, 12.438024520874023, 5.786398887634277, 3.2297921180725098, 3.3677139282226562, 3.7759149074554443, 4.045643329620361, 4.122524261474609, 4.55948543548584, 4.560612678527832, 4.642246246337891, 4.721186637878418, 4.737037658691406, 4.846482753753662, 5.032809734344482, 5.2737627029418945, 5.928230285644531, 6.14739465713501, 6.21030855178833, 6.236512184143066, 6.237640380859375, 28.76163101196289, 6.437533378601074, 65.49008178710938, 15.855764389038086, 7.2238688468933105, 69.51649475097656, 23.999557495117188, 7.819112777709961, 154.49234008789062, 13.493234634399414, 11.494501113891602, 24.340984344482422, 132.0753936767578, 14.51269245147705, 10.424488067626953, 15.466147422790527, 55.328285217285156, 31.184083938598633, 75.22068786621094, 72.42515563964844, 68.87666320800781, 48.90637969970703, 44.433067321777344, 44.0683708190918, 30.026395797729492, 18.387155532836914, 16.516992568969727, 15.792884826660156, 14.778881072998047, 14.032073974609375, 13.325502395629883, 9.26865005493164, 8.113203048706055, 7.270643711090088, 3.2297921180725098, 3.3677139282226562, 3.7759149074554443, 4.045643329620361, 4.122524261474609, 4.55948543548584, 4.560612678527832, 4.642246246337891, 4.721186637878418, 4.737037658691406, 4.846482753753662, 5.032809734344482, 5.2737627029418945, 5.786398887634277, 51.66289138793945, 15.855764389038086, 61.043968200683594, 9.910987854003906, 123.55476379394531, 19.132171630859375, 14.51269245147705, 109.76114654541016, 55.67142868041992, 154.49234008789062, 7.819112777709961, 23.999557495117188, 7.2238688468933105, 54.002689361572266, 408.13104248046875, 109.01823425292969, 101.36094665527344, 25.75139617919922, 24.026235580444336, 20.2726993560791, 15.600418090820312, 11.739011764526367, 9.620538711547852, 9.305809020996094, 6.14739465713501, 3.2297921180725098, 3.3677139282226562, 3.7759149074554443, 4.045643329620361, 4.122524261474609, 4.55948543548584, 4.560612678527832, 4.642246246337891, 4.721186637878418, 4.737037658691406, 4.846482753753662, 5.032809734344482, 5.2737627029418945, 5.786398887634277, 5.928230285644531, 6.21030855178833, 6.236512184143066, 6.237640380859375, 6.2684454917907715, 7.819112777709961, 23.999557495117188, 6.437533378601074, 7.2238688468933105, 154.49234008789062, 65.49008178710938, 55.67142868041992, 15.855764389038086, 13.493234634399414, 28.76163101196289, 31.184083938598633, 35.800987243652344, 96.53482818603516, 102.04187774658203, 85.44210052490234, 34.64962387084961, 30.22273826599121, 55.328285217285156, 19.132171630859375, 420.19580078125, 264.72589111328125, 35.755035400390625, 17.724252700805664, 15.997913360595703, 10.089630126953125, 8.818145751953125, 3.2297921180725098, 3.3677139282226562, 3.7759149074554443, 4.045643329620361, 4.122524261474609, 4.55948543548584, 4.560612678527832, 4.642246246337891, 4.721186637878418, 4.737037658691406, 4.846482753753662, 5.032809734344482, 5.2737627029418945, 5.786398887634277, 5.928230285644531, 6.14739465713501, 6.21030855178833, 6.236512184143066, 6.237640380859375, 6.2684454917907715, 6.3336076736450195, 6.352184295654297, 6.437533378601074, 65.49008178710938, 28.76163101196289, 38.762813568115234, 7.2238688468933105, 23.999557495117188, 7.819112777709961, 154.49234008789062, 55.67142868041992, 15.855764389038086, 13.493234634399414, 19.132171630859375, 69.51649475097656, 24.340984344482422, 132.0753936767578, 11.494501113891602, 10.424488067626953, 15.466147422790527, 55.328285217285156, 31.184083938598633, 30.22273826599121, 34.64962387084961, 85.44210052490234, 158.83946228027344, 128.6540985107422, 77.79657745361328, 71.9485855102539, 57.26104736328125, 34.59649658203125, 33.54446792602539, 33.38363265991211, 31.43706512451172, 23.808940887451172, 22.687580108642578, 22.208524703979492, 22.15485382080078, 21.83392333984375, 15.319137573242188, 14.451349258422852, 14.280227661132812, 14.196451187133789, 11.078550338745117, 8.321857452392578, 7.697769641876221, 7.458463191986084, 3.2297921180725098, 3.3677139282226562, 3.7759149074554443, 4.045643329620361, 4.122524261474609, 4.55948543548584, 4.560612678527832, 4.642246246337891, 19.132171630859375, 14.51269245147705, 10.424488067626953, 55.67142868041992, 23.999557495117188, 154.49234008789062, 7.819112777709961, 24.340984344482422, 356.3470153808594, 294.4843444824219, 129.99874877929688, 81.55778503417969, 48.778465270996094, 27.275774002075195, 26.5151424407959, 26.121156692504883, 24.028907775878906, 22.93946075439453, 10.875875473022461, 8.011015892028809, 3.2297921180725098, 3.3677139282226562, 3.7759149074554443, 4.045643329620361, 4.122524261474609, 4.55948543548584, 4.560612678527832, 4.642246246337891, 4.721186637878418, 4.737037658691406, 4.846482753753662, 5.032809734344482, 5.2737627029418945, 5.786398887634277, 5.928230285644531, 6.14739465713501, 6.21030855178833, 6.236512184143066, 69.51649475097656, 65.49008178710938, 7.2238688468933105, 6.437533378601074, 28.76163101196289, 15.855764389038086, 13.493234634399414, 23.999557495117188, 38.762813568115234, 132.0753936767578, 24.340984344482422, 154.49234008789062, 11.494501113891602, 10.424488067626953, 15.466147422790527, 55.328285217285156, 31.184083938598633, 30.22273826599121, 92.57295989990234, 88.8725814819336, 77.3481674194336, 73.89617156982422, 73.16148376464844, 54.078125, 50.535369873046875, 47.66323471069336, 38.48795700073242, 36.34968948364258, 30.30914306640625, 29.34228515625, 28.432170867919922, 27.863384246826172, 26.408523559570312, 26.149030685424805, 24.340984344482422, 23.875675201416016, 21.96778106689453, 21.363903045654297, 21.111112594604492, 19.965848922729492, 18.246631622314453, 17.323637008666992, 15.589014053344727, 15.227764129638672, 12.031003952026367, 11.494501113891602, 10.76240348815918, 10.424488067626953, 88.51973724365234, 85.43338012695312, 67.16427612304688, 44.93501281738281, 36.34284210205078, 36.23529052734375, 30.806032180786133, 21.59355354309082, 12.70115852355957, 10.843132019042969, 8.680351257324219, 6.717837810516357, 3.2297921180725098, 3.3677139282226562, 3.7759149074554443, 4.045643329620361, 4.122524261474609, 4.55948543548584, 4.560612678527832, 4.642246246337891, 4.721186637878418, 4.737037658691406, 4.846482753753662, 5.032809734344482, 5.2737627029418945, 5.786398887634277, 5.928230285644531, 6.14739465713501, 6.21030855178833, 6.236512184143066, 115.72914123535156, 44.51905822753906, 7.819112777709961, 23.999557495117188, 15.855764389038086, 7.2238688468933105, 65.49008178710938, 6.437533378601074, 28.76163101196289, 13.493234634399414, 69.51649475097656, 24.340984344482422, 132.0753936767578, 11.494501113891602, 10.424488067626953, 15.466147422790527, 55.328285217285156, 31.184083938598633, 120.1481704711914, 51.20895767211914, 37.254425048828125, 26.173721313476562, 24.4381160736084, 20.10983657836914, 17.775659561157227, 17.13085174560547, 15.330538749694824, 14.22910213470459, 13.585026741027832, 12.575102806091309, 12.230557441711426, 11.486023902893066, 11.120138168334961, 10.26995849609375, 10.096224784851074, 8.429094314575195, 3.2297921180725098, 3.3677139282226562, 3.7759149074554443, 4.045643329620361, 4.122524261474609, 4.55948543548584, 4.560612678527832, 4.642246246337891, 4.721186637878418, 4.737037658691406, 4.846482753753662, 5.032809734344482, 15.855764389038086, 14.51269245147705, 55.67142868041992, 154.49234008789062, 7.819112777709961, 23.999557495117188, 38.762813568115234, 7.2238688468933105, 65.49008178710938, 6.437533378601074, 13.493234634399414, 69.51649475097656, 77.25804901123047, 66.83548736572266, 63.49611282348633, 36.44659423828125, 36.21128463745117, 33.260196685791016, 32.430686950683594, 25.57493782043457, 23.18897247314453, 17.776525497436523, 15.440913200378418, 13.496347427368164, 11.140349388122559, 8.896856307983398, 3.2297921180725098, 3.3677139282226562, 3.7759149074554443, 4.045643329620361, 4.122524261474609, 4.55948543548584, 4.560612678527832, 4.642246246337891, 4.721186637878418, 4.737037658691406, 4.846482753753662, 5.032809734344482, 5.2737627029418945, 5.786398887634277, 5.928230285644531, 6.14739465713501, 65.49008178710938, 6.437533378601074, 22.072418212890625, 16.036392211914062, 7.2238688468933105, 13.493234634399414, 15.855764389038086, 23.999557495117188, 7.819112777709961, 154.49234008789062, 28.76163101196289, 132.0753936767578, 69.51649475097656, 24.340984344482422, 14.51269245147705, 11.494501113891602, 242.61253356933594, 182.61767578125, 17.405080795288086, 13.463841438293457, 12.607898712158203, 12.391879081726074, 12.100135803222656, 10.711348533630371, 9.125452995300293, 3.2297921180725098, 3.3677139282226562, 3.7759149074554443, 4.045643329620361, 4.122524261474609, 4.55948543548584, 4.560612678527832, 4.642246246337891, 4.721186637878418, 4.737037658691406, 4.846482753753662, 5.032809734344482, 5.2737627029418945, 5.786398887634277, 5.928230285644531, 6.14739465713501, 6.21030855178833, 6.236512184143066, 6.237640380859375, 6.2684454917907715, 6.3336076736450195, 13.493234634399414, 28.76163101196289, 38.762813568115234, 6.437533378601074, 24.340984344482422, 65.49008178710938, 7.2238688468933105, 15.855764389038086, 69.51649475097656, 11.494501113891602, 132.0753936767578, 7.819112777709961, 10.424488067626953, 15.466147422790527, 55.328285217285156, 31.184083938598633, 30.22273826599121, 34.64962387084961, 85.44210052490234, 102.04187774658203, 96.53482818603516, 74.93383026123047, 68.82583618164062, 68.64218139648438, 51.66289138793945, 33.243003845214844, 29.63003158569336, 27.76508903503418, 22.844310760498047, 20.505640029907227, 20.389324188232422, 19.523836135864258, 16.160680770874023, 14.070228576660156, 13.985429763793945, 7.8304572105407715, 7.0451154708862305, 3.2297921180725098, 3.3677139282226562, 3.7759149074554443, 4.045643329620361, 4.122524261474609, 4.55948543548584, 4.560612678527832, 4.642246246337891, 4.721186637878418, 4.737037658691406, 4.846482753753662, 5.032809734344482, 5.2737627029418945, 5.786398887634277, 13.493234634399414, 7.819112777709961, 31.184083938598633, 14.51269245147705, 55.67142868041992, 55.328285217285156, 15.466147422790527, 10.424488067626953, 154.49234008789062, 23.999557495117188, 69.51649475097656, 11.494501113891602, 15.855764389038086, 132.0753936767578, 390.58050537109375, 158.1553955078125, 131.2943115234375, 113.34856414794922, 99.45259857177734, 31.52806282043457, 29.352584838867188, 24.59351348876953, 16.32176399230957, 15.330479621887207, 11.550644874572754, 3.3677139282226562, 3.2297921180725098, 3.7759149074554443, 4.045643329620361, 4.122524261474609, 4.55948543548584, 4.560612678527832, 4.642246246337891, 4.721186637878418, 4.737037658691406, 4.846482753753662, 5.032809734344482, 5.2737627029418945, 5.786398887634277, 5.928230285644531, 6.14739465713501, 6.21030855178833, 6.236512184143066, 6.237640380859375, 65.49008178710938, 38.762813568115234, 7.2238688468933105, 6.437533378601074, 23.999557495117188, 7.819112777709961, 154.49234008789062, 55.67142868041992, 15.855764389038086, 24.340984344482422, 28.76163101196289, 13.493234634399414, 69.51649475097656, 19.132171630859375, 132.0753936767578, 11.494501113891602, 10.424488067626953, 15.466147422790527, 212.5963897705078, 102.48063659667969, 87.68970489501953, 27.039146423339844, 25.468372344970703, 19.986783981323242, 19.115097045898438, 16.013301849365234, 10.44375228881836, 9.85983657836914, 7.2238688468933105, 3.2297921180725098, 3.3677139282226562, 3.7759149074554443, 4.045643329620361, 4.122524261474609, 4.55948543548584, 4.560612678527832, 4.642246246337891, 4.721186637878418, 4.737037658691406, 4.846482753753662, 5.032809734344482, 5.2737627029418945, 5.786398887634277, 5.928230285644531, 6.14739465713501, 6.21030855178833, 6.236512184143066, 6.237640380859375, 154.49234008789062, 7.819112777709961, 55.67142868041992, 69.51649475097656, 23.999557495117188, 15.855764389038086, 65.49008178710938, 6.437533378601074, 28.76163101196289, 13.493234634399414, 38.762813568115234, 24.340984344482422, 132.0753936767578, 19.132171630859375, 11.494501113891602, 10.424488067626953, 15.466147422790527, 55.328285217285156, 31.184083938598633, 228.9761505126953, 47.97401809692383, 46.46379852294922, 34.64962387084961, 30.22273826599121, 27.77979850769043, 16.352153778076172, 16.14048194885254, 15.560479164123535, 13.837615013122559, 13.778583526611328, 8.461193084716797, 7.7455267906188965, 3.2297921180725098, 3.3677139282226562, 3.7759149074554443, 4.045643329620361, 4.122524261474609, 4.55948543548584, 4.560612678527832, 4.642246246337891, 4.721186637878418, 4.737037658691406, 4.846482753753662, 5.032809734344482, 5.2737627029418945, 5.786398887634277, 5.928230285644531, 6.14739465713501, 6.21030855178833, 132.0753936767578, 24.340984344482422, 85.44210052490234, 19.132171630859375, 14.51269245147705, 31.184083938598633, 55.328285217285156, 55.67142868041992, 15.466147422790527, 154.49234008789062, 7.819112777709961, 23.999557495117188, 15.855764389038086, 7.2238688468933105, 65.49008178710938, 6.437533378601074, 10.424488067626953, 90.30111694335938, 61.9704704284668, 60.55354690551758, 39.913204193115234, 19.787761688232422, 17.645633697509766, 16.441743850708008, 16.240924835205078, 16.036392211914062, 15.93773078918457, 15.466147422790527, 14.51269245147705, 12.715066909790039, 10.890480041503906, 10.05741024017334, 9.882667541503906, 9.132043838500977, 8.771913528442383, 3.2297921180725098, 3.3677139282226562, 3.7759149074554443, 4.045643329620361, 4.122524261474609, 4.55948543548584, 4.560612678527832, 4.642246246337891, 4.721186637878418, 4.737037658691406, 4.846482753753662, 5.032809734344482, 154.49234008789062, 22.27998924255371, 51.360321044921875, 24.986526489257812, 67.02476501464844, 23.269176483154297, 8.429094314575195, 48.778465270996094, 9.910987854003906, 123.55476379394531, 19.132171630859375, 33.256107330322266, 194.22836303710938, 101.74134063720703, 89.431396484375, 65.45408630371094, 29.562997817993164, 26.645732879638672, 17.53920555114746, 16.86995506286621, 11.664922714233398, 8.822023391723633, 3.2297921180725098, 3.3677139282226562, 3.7759149074554443, 4.045643329620361, 4.122524261474609, 4.55948543548584, 4.560612678527832, 4.642246246337891, 4.721186637878418, 4.737037658691406, 4.846482753753662, 5.032809734344482, 5.2737627029418945, 5.786398887634277, 5.928230285644531, 6.14739465713501, 6.21030855178833, 6.236512184143066, 6.237640380859375, 6.2684454917907715, 154.49234008789062, 7.819112777709961, 55.67142868041992, 23.999557495117188, 15.855764389038086, 14.51269245147705, 7.2238688468933105, 65.49008178710938, 6.437533378601074, 28.76163101196289, 24.340984344482422, 13.493234634399414, 69.51649475097656, 123.55476379394531, 132.0753936767578, 11.494501113891602, 10.424488067626953, 15.466147422790527, 55.328285217285156, 31.184083938598633, 549.4844360351562, 319.5585632324219, 121.64884948730469, 84.96824645996094, 52.81584548950195, 19.302228927612305, 18.3497257232666, 15.471122741699219, 13.898929595947266, 10.614057540893555, 7.825118541717529, 6.816342353820801, 6.2684454917907715, 3.2297921180725098, 3.3677139282226562, 3.7759149074554443, 4.045643329620361, 4.122524261474609, 4.55948543548584, 4.560612678527832, 4.642246246337891, 4.721186637878418, 4.737037658691406, 4.846482753753662, 5.032809734344482, 5.2737627029418945, 5.786398887634277, 5.928230285644531, 6.14739465713501, 6.21030855178833, 7.819112777709961, 154.49234008789062, 23.999557495117188, 15.855764389038086, 7.2238688468933105, 65.49008178710938, 6.437533378601074, 38.762813568115234, 28.76163101196289, 14.51269245147705, 13.493234634399414, 69.51649475097656, 24.340984344482422, 132.0753936767578, 11.494501113891602, 10.424488067626953, 15.466147422790527, 431.3512268066406, 318.3162536621094, 152.13841247558594, 40.76421356201172, 29.231788635253906, 26.22538185119629, 15.63986873626709, 15.406424522399902, 14.110878944396973, 11.972445487976074, 11.167445182800293, 3.2297921180725098, 3.3677139282226562, 3.7759149074554443, 4.045643329620361, 4.122524261474609, 4.55948543548584, 4.560612678527832, 4.642246246337891, 4.721186637878418, 4.737037658691406, 4.846482753753662, 5.032809734344482, 5.2737627029418945, 5.786398887634277, 5.928230285644531, 6.14739465713501, 6.21030855178833, 6.236512184143066, 6.237640380859375, 6.437533378601074, 55.67142868041992, 154.49234008789062, 35.800987243652344, 7.819112777709961, 96.53482818603516, 23.999557495117188, 15.855764389038086, 102.04187774658203, 7.2238688468933105, 65.49008178710938, 28.76163101196289, 13.493234634399414, 69.51649475097656, 14.51269245147705, 132.0753936767578, 11.494501113891602, 10.424488067626953, 15.466147422790527, 621.3635864257812, 203.45384216308594, 181.90016174316406, 130.66954040527344, 87.22965240478516, 85.44210052490234, 74.77869415283203, 67.02476501464844, 65.14502716064453, 52.21408462524414, 29.703716278076172, 28.166194915771484, 24.529951095581055, 23.75597381591797, 22.27998924255371, 20.642684936523438, 17.881227493286133, 13.734977722167969, 13.4192533493042, 10.895875930786133, 3.2297921180725098, 3.3677139282226562, 3.7759149074554443, 4.045643329620361, 4.122524261474609, 4.55948543548584, 4.560612678527832, 4.642246246337891, 4.721186637878418, 4.737037658691406, 65.49008178710938, 7.2238688468933105, 23.999557495117188, 7.819112777709961, 154.49234008789062, 15.855764389038086, 38.762813568115234, 6.437533378601074, 28.76163101196289, 69.51649475097656, 574.5194702148438, 132.230712890625, 131.09410095214844, 13.792224884033203, 9.07714557647705, 3.2297921180725098, 3.3677139282226562, 3.7759149074554443, 4.045643329620361, 4.122524261474609, 4.55948543548584, 4.560612678527832, 4.642246246337891, 4.721186637878418, 4.737037658691406, 4.846482753753662, 5.032809734344482, 5.2737627029418945, 5.786398887634277, 5.928230285644531, 6.14739465713501, 6.21030855178833, 6.236512184143066, 6.237640380859375, 6.2684454917907715, 6.3336076736450195, 6.352184295654297, 6.437533378601074, 6.44298791885376, 6.622690677642822, 38.762813568115234, 15.855764389038086, 65.49008178710938, 7.2238688468933105, 23.999557495117188, 13.493234634399414, 7.819112777709961, 154.49234008789062, 55.67142868041992, 14.51269245147705, 28.76163101196289, 69.51649475097656, 123.55476379394531, 24.340984344482422, 132.0753936767578, 11.494501113891602, 10.424488067626953, 15.466147422790527, 55.328285217285156, 31.184083938598633, 30.22273826599121, 34.64962387084961, 85.44210052490234, 102.04187774658203, 73.25787353515625, 72.88243865966797, 42.12797164916992, 36.22538375854492, 33.096675872802734, 21.797117233276367, 20.472393035888672, 17.82056427001953, 17.660961151123047, 17.152713775634766, 16.901769638061523, 15.841991424560547, 15.04435920715332, 15.029706954956055, 13.961176872253418, 13.366035461425781, 12.500161170959473, 9.452472686767578, 8.438512802124023, 8.335267066955566, 8.118281364440918, 7.019643306732178, 6.664179801940918, 5.928230285644531, 4.642246246337891, 3.2297921180725098, 3.3677139282226562, 3.7759149074554443, 4.045643329620361, 4.122524261474609, 55.328285217285156, 31.184083938598633, 30.22273826599121, 11.494501113891602, 15.466147422790527, 167.48135375976562, 80.60018920898438, 50.51078796386719, 40.13546371459961, 35.04703903198242, 25.88346290588379, 23.286603927612305, 21.8896427154541, 17.529220581054688, 16.603322982788086, 14.691683769226074, 14.127613067626953, 13.700834274291992, 13.112049102783203, 12.940536499023438, 12.464044570922852, 12.420952796936035, 12.412842750549316, 12.404021263122559, 11.923510551452637, 11.579395294189453, 11.53227424621582, 10.822834014892578, 10.711140632629395, 8.987837791442871, 8.505980491638184, 8.468050956726074, 7.981198310852051, 7.449904441833496, 7.317444324493408, 728.8991088867188, 180.28848266601562, 56.2836799621582, 54.99322509765625, 50.796627044677734, 41.145843505859375, 32.57908630371094, 24.986526489257812, 21.412721633911133, 18.998062133789062, 17.38228988647461, 12.494428634643555, 3.2297921180725098, 3.3677139282226562, 3.7759149074554443, 4.045643329620361, 4.122524261474609, 4.55948543548584, 4.560612678527832, 4.642246246337891, 4.721186637878418, 4.737037658691406, 4.846482753753662, 5.032809734344482, 5.2737627029418945, 5.786398887634277, 5.928230285644531, 6.14739465713501, 6.21030855178833, 6.236512184143066, 6.437533378601074, 65.49008178710938, 38.762813568115234, 28.76163101196289, 15.855764389038086, 23.999557495117188, 7.819112777709961, 7.2238688468933105, 24.340984344482422, 13.493234634399414, 69.51649475097656, 55.67142868041992, 132.0753936767578, 11.494501113891602, 10.424488067626953, 15.466147422790527, 55.328285217285156, 31.184083938598633, 239.49330139160156, 212.2427978515625, 200.8258056640625, 23.967979431152344, 19.041383743286133, 15.008861541748047, 14.414009094238281, 13.805256843566895, 12.121705055236816, 7.981919288635254, 7.425626277923584, 3.2297921180725098, 3.3677139282226562, 3.7759149074554443, 4.045643329620361, 4.122524261474609, 4.55948543548584, 4.560612678527832, 4.642246246337891, 4.721186637878418, 4.737037658691406, 4.846482753753662, 5.032809734344482, 5.2737627029418945, 5.786398887634277, 5.928230285644531, 6.14739465713501, 6.21030855178833, 6.236512184143066, 6.237640380859375, 15.855764389038086, 23.999557495117188, 7.819112777709961, 154.49234008789062, 65.49008178710938, 6.437533378601074, 28.76163101196289, 7.2238688468933105, 38.762813568115234, 13.493234634399414, 69.51649475097656, 14.51269245147705, 24.340984344482422, 132.0753936767578, 11.494501113891602, 10.424488067626953, 15.466147422790527, 55.328285217285156, 31.184083938598633, 59.82221221923828, 21.943403244018555, 20.411376953125, 19.919532775878906, 18.190410614013672, 15.01735782623291, 12.361610412597656, 8.874300956726074, 6.622690677642822, 3.2297921180725098, 3.3677139282226562, 3.7759149074554443, 4.045643329620361, 4.122524261474609, 4.55948543548584, 4.560612678527832, 4.642246246337891, 4.721186637878418, 4.737037658691406, 4.846482753753662, 5.032809734344482, 5.2737627029418945, 5.786398887634277, 5.928230285644531, 6.14739465713501, 6.21030855178833, 6.236512184143066, 6.237640380859375, 6.2684454917907715, 6.3336076736450195, 38.762813568115234, 6.437533378601074, 65.49008178710938, 7.2238688468933105, 15.855764389038086, 13.493234634399414, 23.999557495117188, 7.819112777709961, 154.49234008789062, 55.67142868041992, 28.76163101196289, 132.0753936767578, 69.51649475097656, 24.340984344482422, 19.132171630859375, 11.494501113891602, 10.424488067626953, 15.466147422790527, 55.328285217285156, 31.184083938598633, 30.22273826599121], \"loglift\": [30.0, 29.0, 28.0, 27.0, 26.0, 25.0, 24.0, 23.0, 22.0, 21.0, 20.0, 19.0, 18.0, 17.0, 16.0, 15.0, 14.0, 13.0, 12.0, 11.0, 10.0, 9.0, 8.0, 7.0, 6.0, 5.0, 4.0, 3.0, 2.0, 1.0, 5.008200168609619, 4.994200229644775, 4.989799976348877, 4.98859977722168, 4.986499786376953, 4.979599952697754, 4.977200031280518, 4.9720001220703125, 4.957699775695801, 4.956900119781494, 4.954899787902832, 4.9471001625061035, 4.946499824523926, 4.94379997253418, 4.939899921417236, 4.936200141906738, 4.932499885559082, 4.91349983215332, -0.44839999079704285, -0.490200012922287, -0.6046000123023987, -0.6736000180244446, -0.6924999952316284, -0.7932000160217285, -0.79339998960495, -0.8112000226974487, -0.8281000256538391, -0.8313999772071838, -0.854200005531311, -0.8920000195503235, -2.0146000385284424, -4.316100120544434, -1.3325999975204468, -2.8213000297546387, -2.6846001148223877, -2.0394999980926514, -1.2533999681472778, -3.457900047302246, -1.138100028038025, -2.634999990463257, -1.6202000379562378, -3.901400089263916, 4.661200046539307, 4.660699844360352, 4.652200222015381, 4.649899959564209, 4.6458001136779785, 4.642600059509277, 4.638700008392334, 4.638299942016602, 4.630499839782715, 4.622900009155273, 4.619900226593018, 4.616600036621094, 4.614099979400635, 4.614099979400635, 4.611800193786621, 4.6082000732421875, 4.6066999435424805, 4.602700233459473, 4.598299980163574, 4.598199844360352, 4.5970001220703125, 4.592299938201904, 4.586299896240234, 4.585999965667725, 4.584799766540527, 4.57420015335083, 4.572500228881836, 4.561299800872803, 4.525100231170654, 4.375999927520752, 4.469299793243408, 4.468599796295166, 4.466000080108643, 4.4604997634887695, 4.458799839019775, 4.44379997253418, 4.4421000480651855, 4.441100120544434, 4.43310022354126, 4.42080020904541, 4.415299892425537, 4.4120001792907715, 4.409299850463867, 4.390600204467773, 4.384399890899658, 4.381999969482422, 4.377900123596191, 4.32480001449585, 4.322500228881836, -1.038599967956543, -1.080399990081787, -1.1948000192642212, -1.263800024986267, -1.2826000452041626, -1.3833999633789062, -1.3835999965667725, -1.4012999534606934, -1.4182000160217285, -1.4215999841690063, -1.4443999528884888, -4.047999858856201, -3.058300018310547, -1.843500018119812, -1.7282999753952026, -2.4683001041412354, -4.107699871063232, -3.5236001014709473, -4.749499797821045, -2.308000087738037, -2.2102999687194824, -2.60479998588562, 5.322700023651123, 5.314700126647949, 5.305200099945068, 5.296500205993652, 5.275199890136719, 5.274400234222412, 5.245999813079834, 5.2434000968933105, 5.242300033569336, 5.23960018157959, 5.206999778747559, -0.2526000142097473, -0.29440000653266907, -0.40880000591278076, -0.47780001163482666, -0.4966000020503998, -0.5974000096321106, -0.597599983215332, -0.6154000163078308, -0.6322000026702881, -0.6355999708175659, -0.6583999991416931, -0.6960999965667725, -0.742900013923645, -0.8356999754905701, -0.8598999977111816, -0.8962000012397766, -0.9064000248908997, -0.9106000065803528, -0.9107999801635742, -3.099600076675415, -1.0576000213623047, -2.439199924468994, -0.942300021648407, -3.2620999813079834, -1.7552000284194946, -1.8437000513076782, -4.120299816131592, -1.6823999881744385, -1.1367000341415405, -2.25819993019104, -3.9635000228881836, -3.321700096130371, -2.2723000049591064, -3.896899938583374, -1.5219999551773071, -1.424299955368042, -1.8187999725341797, -3.0934998989105225, 4.428400039672852, 4.416200160980225, 4.406199932098389, 4.401299953460693, 4.379300117492676, 4.356800079345703, 4.355400085449219, 4.355299949645996, 4.349899768829346, 4.335999965667725, 4.334499835968018, 4.326499938964844, 4.326399803161621, 4.262700080871582, -1.0815000534057617, -1.1232999563217163, -1.2376999855041504, -1.3066999912261963, -1.3255000114440918, -1.426300048828125, -1.4264999628067017, -1.4443000555038452, -1.4610999822616577, -1.4644999504089355, -1.4873000383377075, -1.5250999927520752, -1.5717999935150146, -1.6646000146865845, -1.6887999773025513, -1.725100040435791, -3.087100028991699, -3.566499948501587, -1.8865000009536743, -1.9656000137329102, -4.94920015335083, -3.928499937057495, -2.672600030899048, -3.2681000232696533, -4.091000080108643, -1.7711999416351318, -2.5113000869750977, -4.150599956512451, -3.1012001037597656, -4.792399883270264, -2.3508999347686768, -2.253200054168701, 4.841800212860107, 4.838099956512451, 4.82289981842041, 4.819399833679199, 4.816800117492676, 4.813499927520752, 4.796299934387207, 4.79580020904541, 4.791900157928467, 4.789000034332275, 4.7845001220703125, 4.77209997177124, 4.77209997177124, 4.770699977874756, 4.763999938964844, 4.755000114440918, 4.754799842834473, 4.753499984741211, 4.749000072479248, 4.721099853515625, 4.71120023727417, 4.698500156402588, 4.679500102996826, 4.609600067138672, -0.6123999953269958, -0.65420001745224, -0.7685999870300293, -0.8375999927520752, -0.8564000129699707, -0.9571999907493591, -2.8798999786376953, -2.848599910736084, -2.985300064086914, -1.6009999513626099, -4.065400123596191, -3.8877999782562256, 4.638700008392334, 4.6290998458862305, 4.625100135803223, 4.620200157165527, 4.617700099945068, 4.614200115203857, 4.564599990844727, 4.563899993896484, 4.557300090789795, 4.5447001457214355, 4.541900157928467, 4.540200233459473, -0.9879000186920166, -1.0297000408172607, -1.1440999507904053, -1.2130999565124512, -1.2318999767303467, -1.3327000141143799, -1.332900047302246, -1.3507000207901, -1.3674999475479126, -1.37090003490448, -1.3937000036239624, -1.43149995803833, -1.4781999588012695, -1.5709999799728394, -1.5951999425888062, -1.631500005722046, -1.641700029373169, -1.645900011062622, -3.472899913787842, -4.057000160217285, -3.174499988555908, -1.6776000261306763, -3.9974000453948975, -1.7928999662399292, -2.5789999961853027, -2.4177000522613525, -2.2572999000549316, -3.0076000690460205, -4.698800086975098, -1.871999979019165, -2.159600019454956, -2.5541000366210938, -3.8287999629974365, -3.2553999423980713, -3.224100112915039, -3.36080002784729, 5.03380012512207, 5.030099868774414, 5.025300025939941, 5.012800216674805, 5.011000156402588, 5.0019001960754395, 4.968500137329102, 4.946800231933594, 4.913700103759766, 4.8246002197265625, -0.6035000085830688, -0.6453999876976013, -0.7598000168800354, -0.8288000226020813, -0.847599983215332, -0.9483000040054321, -0.9485999941825867, -0.9663000106811523, -0.9832000136375427, -0.9865000247955322, -1.0094000101089478, -1.0938999652862549, -1.1865999698638916, -1.210800051689148, -1.2472000122070312, -1.2573000192642212, -1.2615000009536743, -1.2617000341415405, -1.266700029373169, -1.2769999504089355, -2.6092000007629395, -3.61299991607666, -1.4084999561309814, -2.194700002670288, -3.088599920272827, -1.4876999855041504, -4.47130012512207, -3.4505999088287354, -2.106100082397461, -2.382499933242798, -4.247799873352051, -1.2933000326156616, -3.6726999282836914, -2.7901999950408936, -2.0332999229431152, -3.3183999061584473, -2.623300075531006, -4.314499855041504, -1.8730000257492065, -1.7753000259399414, 3.4330999851226807, 3.432800054550171, 3.4300999641418457, 3.42930006980896, 3.42330002784729, 3.408099889755249, 3.401400089263916, 3.387500047683716, 3.3691999912261963, 3.3434998989105225, 3.315700054168701, 3.296600103378296, -2.099299907684326, -2.1410999298095703, -2.2555999755859375, -2.3245999813079834, -2.343400001525879, -2.4440999031066895, -2.4444000720977783, -2.462100028991699, -2.4790000915527344, -2.482300043106079, -2.505199909210205, -2.5429000854492188, -2.5896999835968018, -2.6823999881744385, -2.7065999507904053, -2.7428998947143555, -2.7530999183654785, -2.7572999000549316, -5.108799934387207, -3.6903998851776123, -2.9042999744415283, -4.104899883270264, -2.9835000038146973, -5.967100143432617, -4.946400165557861, -4.584400177001953, -2.789099931716919, -3.601900100708008, -3.529099941253662, -5.168499946594238, -4.119100093841553, -5.810299873352051, -3.368799924850464, -3.2711000442504883, -3.665600061416626, -4.940199851989746, 3.816699981689453, 3.8101000785827637, 3.808799982070923, 3.806299924850464, 3.793299913406372, 3.779099941253662, 3.759999990463257, 3.7453999519348145, 3.7393999099731445, 3.738800048828125, 3.7218000888824463, 3.6765999794006348, -1.8308000564575195, -1.8725999593734741, -1.9869999885559082, -2.055999994277954, -2.0748000144958496, -2.175600051879883, -2.175800085067749, -2.1935999393463135, -2.210400104522705, -2.2137999534606934, -2.236599922180176, -2.2743000984191895, -2.3210999965667725, -2.4138998985290527, -2.4381000995635986, -2.474400043487549, -2.484600067138672, -2.488800048828125, -2.714900016784668, -5.698500156402588, -3.836400032043457, -4.677800178527832, -3.4219000339508057, -2.6357998847961426, -4.315800189971924, -2.5204999446868896, -4.8403000831604, -4.017399787902832, -3.2606000900268555, -4.899899959564209, -3.8505001068115234, -5.5416998863220215, -3.1001999378204346, -3.002500057220459, -3.3970000743865967, -4.6717000007629395, 4.116499900817871, 4.107500076293945, 4.101500034332275, 4.087800025939941, 4.060299873352051, 4.014400005340576, 3.9900999069213867, 3.968400001525879, -1.3309999704360962, -1.3727999925613403, -1.4873000383377075, -1.5562000274658203, -1.5750999450683594, -1.6757999658584595, -1.6761000156402588, -1.6937999725341797, -1.7107000350952148, -1.7139999866485596, -1.736899971961975, -1.7746000289916992, -1.8214000463485718, -1.9141000509262085, -1.9383000135421753, -1.9745999574661255, -1.9847999811172485, -1.9889999628067017, -1.9891999959945679, -1.9940999746322632, -2.004499912261963, -2.0074000358581543, -3.517699956893921, -3.736599922180176, -2.8336000442504883, -4.728499889373779, -4.178100109100342, -5.198800086975098, -2.2151999473571777, -3.3366000652313232, -2.922100067138672, -2.135999917984009, -4.3404998779296875, -2.0208001136779785, -4.606400012969971, -3.703900098800659, -4.400199890136719, -3.350800037384033, -3.109999895095825, -5.041999816894531, -2.6005001068115234, -2.5027999877929688, -2.8973000049591064, -4.783999919891357, 4.76170015335083, 4.752500057220459, 4.722099781036377, 4.704899787902832, 4.679900169372559, 4.67710018157959, 4.670100212097168, -0.7644000053405762, -0.8062000274658203, -0.9205999970436096, -0.9896000027656555, -1.0083999633789062, -1.1092000007629395, -1.1094000339508057, -1.1272000074386597, -1.1440000534057617, -1.1474000215530396, -1.170199990272522, -1.207900047302246, -1.254699945449829, -1.347499966621399, -1.3717000484466553, -1.4079999923706055, -1.4182000160217285, -1.4223999977111816, -1.4226000308990479, -1.4275000095367432, -1.4378000497817993, -1.4407999515533447, -1.4541000127792358, -3.2493999004364014, -1.5693000555038452, -2.9509999752044678, -3.773900032043457, -2.3554999828338623, -2.7699999809265137, -1.6484999656677246, -4.6321001052856445, -3.6113998889923096, -2.2669999599456787, -2.1940999031066895, -2.78410005569458, -3.8334999084472656, -4.408599853515625, -4.475299835205078, -2.033799886703491, -1.9361000061035156, -2.3306000232696533, -3.6052000522613525, -3.031899929046631, -3.000499963760376, -3.137200117111206, 5.231599807739258, 5.2195000648498535, 5.209000110626221, 5.201900005340576, 5.1946001052856445, 5.184299945831299, 5.179100036621094, 5.178800106048584, 5.14109992980957, 5.128300189971924, -0.2612000107765198, -0.30300000309944153, -0.4174000024795532, -0.4864000082015991, -0.505299985408783, -0.6060000061988831, -0.6061999797821045, -0.6240000128746033, -0.6407999992370605, -0.6442000269889832, -0.6669999957084656, -0.704800009727478, -0.7515000104904175, -0.8442999720573425, -0.8684999942779541, -0.9047999978065491, -0.9150000214576721, -0.9192000031471252, -0.9193999767303467, -0.9243000149726868, -3.330399990081787, -1.145400047302246, -1.2944999933242798, -2.2667999267578125, -1.8523000478744507, -1.0662000179290771, -3.270699977874756, -1.4348000288009644, -2.3861000537872314, -0.9509000182151794, -2.4477999210357666, -1.690999984741211, -2.2809998989105225, -3.8399999141693115, -3.9721999168395996, -1.5306999683380127, -2.413100004196167, -1.4328999519348145, -1.8273999691009521, 4.626299858093262, 4.623199939727783, 4.620800018310547, 4.608099937438965, 4.604899883270264, 4.600599765777588, 4.56220006942749, 4.551700115203857, 4.547500133514404, 4.3541998863220215, -0.8062000274658203, -0.8479999899864197, -0.9624000191688538, -1.0501999855041504, -1.1510000228881836, -1.1512000560760498, -1.1690000295639038, -1.1857999563217163, -1.1892000436782837, -1.2120000123977661, -1.2497999668121338, -1.2964999675750732, -1.389299988746643, -1.4134999513626099, -1.4498000144958496, -1.4600000381469727, -1.4642000198364258, -1.464400053024292, -1.4693000316619873, -1.479599952697754, -2.825900077819824, -2.308799982070923, -3.6531999111175537, -4.673900127410889, -1.6902999877929688, -2.811800003051758, -2.3973000049591064, -1.611199975013733, -3.815700054168701, -1.49590003490448, -2.992799997329712, -2.2360000610351562, -3.8752999305725098, -4.517099857330322, -4.450500011444092, -2.0755999088287354, -1.9779000282287598, -2.3724000453948975, -3.6470999717712402, -3.073699951171875, 4.329100131988525, 4.32889986038208, 4.3256001472473145, 4.319799900054932, 4.3109002113342285, 4.309299945831299, 4.305500030517578, 4.30210018157959, 4.298299789428711, 4.274499893188477, 4.269100189208984, 4.245200157165527, 4.236700057983398, 4.234799861907959, 4.2347002029418945, 4.228400230407715, 4.216899871826172, -1.2578999996185303, -1.2997000217437744, -1.4141000509262085, -1.4831000566482544, -1.5019999742507935, -1.6026999950408936, -1.6030000448226929, -1.6207000017166138, -1.6375999450683594, -1.6409000158309937, -1.6638000011444092, -1.7015000581741333, -1.7482000589370728, -4.098800182342529, -2.8489999771118164, -4.710899829864502, -4.533299922943115, -2.760499954223633, -4.105000019073486, -5.1255998611450195, -3.6308000087738037, -2.1421000957489014, -3.4941000938415527, -3.2634999752044678, -2.0629000663757324, -2.527400016784668, 4.9475998878479, 4.945000171661377, 4.942699909210205, 4.933199882507324, 4.932400226593018, 4.887700080871582, 4.853899955749512, 4.813899993896484, -0.37070000171661377, -0.4124999940395355, -0.5268999934196472, -0.5958999991416931, -0.6147000193595886, -0.715499997138977, -0.7156999707221985, -0.7335000038146973, -0.7502999901771545, -0.7537000179290771, -0.7764999866485596, -0.8141999840736389, -0.8610000014305115, -0.9538000226020813, -0.9779999852180481, -1.014299988746643, -1.0245000123977661, -1.0286999940872192, -1.0289000272750854, -1.0338000059127808, -1.044100046157837, -1.0470999479293823, -2.638200044631958, -3.380199909210205, -4.014900207519531, -2.149600028991699, -1.8732999563217163, -3.2177000045776367, -4.238399982452393, -3.8236000537872314, -1.2547999620437622, -2.376300096511841, -1.9617999792099, -1.1756000518798828, -1.0604000091552734, -3.2114999294281006, -2.557300090789795, -1.8004000186920166, -3.0855000019073486, -3.6461000442504883, -2.743499994277954, -3.4398000240325928, -2.390399932861328, -2.6068999767303467, 4.902900218963623, 4.901599884033203, 4.896599769592285, 4.896200180053711, 4.8917999267578125, 4.889200210571289, 4.884799957275391, 4.867499828338623, 4.860199928283691, 4.854899883270264, 4.845300197601318, 4.807300090789795, -0.4235999882221222, -0.46540001034736633, -0.579800009727478, -0.6488000154495239, -0.6675999760627747, -0.7684000134468079, -0.7685999870300293, -0.7864000201225281, -0.8032000064849854, -0.8065999746322632, -0.8294000029563904, -0.8672000169754028, -0.9139000177383423, -1.006700038909912, -1.030900001525879, -1.067199945449829, -1.0773999691009521, -1.0815999507904053, -2.6101999282836914, -1.1132999658584595, -3.4330999851226807, -2.908600091934204, -1.228600025177002, -3.4927000999450684, -2.014699935913086, -2.4291999340057373, -1.307800054550171, -4.291299819946289, -1.8533999919891357, -1.5952999591827393, -2.4433000087738037, -4.1346001625061035, -1.6929999589920044, -1.926200032234192, -1.989799976348877, -2.6910998821258545, 5.346499919891357, 5.338500022888184, 5.337500095367432, 5.313600063323975, 5.305799961090088, 5.298999786376953, 5.298600196838379, 5.296599864959717, 5.2947001457214355, 5.270899772644043, 5.26140022277832, 5.237599849700928, 5.127500057220459, -0.13910000026226044, -0.1808999925851822, -0.2953000068664551, -0.364300012588501, -0.3831000030040741, -0.4839000105857849, -0.48410001397132874, -0.5019000172615051, -0.5220999717712402, -0.5449000000953674, -0.5827000141143799, -0.6294000148773193, -0.7221999764442444, -0.746399998664856, -0.7827000021934509, -0.792900025844574, -0.7971000075340271, -1.705299973487854, -2.51200008392334, -3.783400058746338, -1.9180999994277954, -1.641700029373169, -2.9860999584198, -4.006800174713135, -1.023300051689148, -2.144700050354004, -1.7302000522613525, -0.944100022315979, -3.1486001014709473, -0.8288000226020813, -1.3107999563217163, -2.325700044631958, -1.5688999891281128, -3.208199977874756, 4.440000057220459, 4.434999942779541, 4.428599834442139, 4.423699855804443, 4.422500133514404, 4.416200160980225, 4.411300182342529, 4.3892998695373535, 4.3805999755859375, 4.367300033569336, 4.34089994430542, 4.332600116729736, 4.313000202178955, -1.101699948310852, -1.1434999704360962, -1.2578999996185303, -1.3269000053405762, -1.3457000255584717, -1.4464999437332153, -1.4466999769210815, -1.4644999504089355, -1.4812999963760376, -1.4846999645233154, -1.5075000524520874, -1.545199990272522, -1.5920000076293945, -1.6848000288009644, -1.7089999914169312, -1.745300054550171, -1.7554999589920044, -2.6928000450134277, -4.969399929046631, -3.107300043106079, -1.98580002784729, -3.948699951171875, -2.604300022125244, -2.8805999755859375, -1.906599998474121, -3.586699962615967, -4.111199855804443, -3.288300037384033, -2.531399965286255, -4.17080020904541, -3.1214001178741455, -4.812600135803223, -2.3710999488830566, -2.273400068283081, 1.6344000101089478, 1.6342999935150146, 1.6341999769210815, 1.6339000463485718, 1.6292999982833862, 1.6151000261306763, 1.6138999462127686, 1.5808000564575195, 1.5384999513626099, -3.9189999103546143, -3.9607999324798584, -4.075200080871582, -4.144199848175049, -4.163000106811523, -4.263800144195557, -4.263999938964844, -4.281799793243408, -4.298600196838379, -4.302000045776367, -4.32480001449585, -4.362500190734863, -4.409299850463867, -4.502099990844727, -4.526299953460693, -4.562600135803223, -4.572800159454346, -4.577000141143799, -4.577199935913086, -4.582099914550781, -4.592400074005127, -6.4039998054504395, -5.5100998878479, -5.924600124359131, -7.7866997718811035, -4.803100109100342, -6.928500175476074, -6.765999794006348, -5.421599864959717, -5.69789981842041, -7.563199996948242, -4.723899841308594, -5.348700046539307, -4.608699798583984, -6.105599880218506, -6.633800029754639, -6.988100051879883, -5.938700199127197, -7.629899978637695, -5.188399791717529, -5.090700149536133, -5.485199928283691, 4.627299785614014, 4.621300220489502, 4.613900184631348, 4.611499786376953, 4.605000019073486, 4.60290002822876, 4.58620023727417, 4.583499908447266, 4.583199977874756, 4.579800128936768, 4.571400165557861, 4.561100006103516, 4.559299945831299, 4.48330020904541, 4.390900135040283, -0.7368000149726868, -0.7785999774932861, -0.8930000066757202, -0.9620000123977661, -0.98089998960495, -1.0817999839782715, -1.0995999574661255, -1.1165000200271606, -1.1197999715805054, -1.1426000595092773, -1.180400013923645, -1.2271000146865845, -1.3199000358581543, -1.344099998474121, -1.3803999423980713, -1.6960999965667725, -3.45169997215271, -1.8580000400543213, -4.381100177764893, -2.5157999992370605, -2.327899932861328, -2.2393999099731445, -3.583899974822998, -4.604499816894531, -1.621000051498413, -2.7423999309539795, -4.262700080871582, -1.5418000221252441, -3.7695000171661377, -3.746299982070923, 4.540500164031982, 4.540299892425537, 4.536600112915039, 4.534800052642822, 4.53000020980835, 4.449699878692627, 4.448500156402588, 4.425099849700928, 4.402500152587891, 4.401000022888184, 4.275199890136719, -0.9129999876022339, -0.954800009727478, -1.069200038909912, -1.138200044631958, -1.2577999830245972, -1.2581000328063965, -1.2757999897003174, -1.2927000522613525, -1.2960000038146973, -1.3187999725341797, -1.356600046157837, -1.4033000469207764, -1.4960999488830566, -1.520300030708313, -1.5565999746322632, -1.5667999982833862, -1.5709999799728394, -1.5712000131607056, -1.5760999917984009, -1.718000054359436, -2.5041000843048096, -3.398099899291992, -1.6026999950408936, -2.918600082397461, -1.7971999645233154, -4.780700206756592, -3.7600998878479004, -3.922499895095825, -4.624000072479248, -3.099600076675415, -2.3427999019622803, -3.9821999073028564, -2.932800054550171, -2.691999912261963, -2.182499885559082, -2.0848000049591064, -2.4791998863220215, -3.7539000511169434, 4.5782999992370605, 4.5767998695373535, 4.561699867248535, 4.528800010681152, 4.514800071716309, 4.5121002197265625, 4.509300231933594, 4.468800067901611, 4.4604997634887695, 4.446499824523926, 4.43209981918335, -1.0008000135421753, -1.0426000356674194, -1.156999945640564, -1.2259999513626099, -1.2448999881744385, -1.3456000089645386, -1.345900058746338, -1.3636000156402588, -1.3804999589920044, -1.3838000297546387, -1.406599998474121, -1.4443999528884888, -1.4910999536514282, -1.583899974822998, -1.6081000566482544, -1.6444000005722046, -1.6546000242233276, -1.6588000059127808, -1.659000039100647, -3.624300003051758, -2.172600030899048, -4.010300159454346, -1.690500020980835, -3.1874001026153564, -2.4305999279022217, -4.070000171661377, -3.0206000804901123, -3.3378000259399414, -2.0148000717163086, -4.7118000984191895, -2.5132999420166016, -2.2702999114990234, -2.566999912261963, -3.069999933242798, -3.8417000770568848, -3.2683000564575195, -3.236999988555908, -3.373699903488159, 3.9286000728607178, 3.9275999069213867, 3.9238998889923096, 3.922100067138672, 3.920599937438965, 3.9123001098632812, 3.890899896621704, 3.8647000789642334, 3.787400007247925, -1.601699948310852, -1.6434999704360962, -1.7578999996185303, -1.8269000053405762, -1.8457000255584717, -1.9464999437332153, -1.9466999769210815, -1.9644999504089355, -1.9812999963760376, -1.9846999645233154, -2.007499933242798, -2.045300006866455, -2.0920000076293945, -2.184799909591675, -2.2090001106262207, -2.245300054550171, -2.255500078201294, -2.259700059890747, -2.2599000930786133, -2.2648000717163086, -2.275099992752075, -2.2913999557495117, -4.611199855804443, -2.4066998958587646, -3.1928000450134277, -4.086699962615967, -3.607300043106079, -2.48580002784729, -4.448699951171875, -3.104300022125244, -3.3805999755859375, -5.469399929046631, -4.67080020904541, -3.788300037384033, -3.0315001010894775, -2.722899913787842, -3.6214001178741455, -5.312600135803223, -2.8710999488830566, -2.773400068283081, -3.1679000854492188, -4.442599773406982, 4.723700046539307, 4.723299980163574, 4.713500022888184, 4.700399875640869, 4.69890022277832, 4.688700199127197, 4.68779993057251, 4.682499885559082, 4.661300182342529, 4.656599998474121, 4.63730001449585, 4.57390022277832, -0.429500013589859, -0.4713999927043915, -0.5857999920845032, -0.6547999978065491, -0.6736000180244446, -0.7742999792098999, -0.7746000289916992, -0.7922999858856201, -0.8091999888420105, -0.8125, -0.8353999853134155, -0.8730999827384949, -0.9199000000953674, -1.0125999450683594, -1.0369000434875488, -1.073199987411499, -1.083299994468689, -1.087499976158142, -1.1193000078201294, -2.2084999084472656, -1.9321999549865723, -3.276599884033203, -4.297299861907959, -1.3136999607086182, -2.4351999759674072, -2.020699977874756, -1.2345000505447388, -3.438999891281128, -2.6161999702453613, -2.8024001121520996, -1.8593000173568726, -3.498699903488159, -1.5507999658584595, -3.7049999237060547, -2.4493000507354736, -4.140500068664551, 4.4822998046875, 4.47730016708374, 4.473700046539307, 4.469099998474121, 4.451300144195557, 4.446899890899658, 4.414100170135498, 4.408199787139893, 4.392600059509277, 4.382800102233887, 4.330900192260742, -1.160599946975708, -1.2023999691009521, -1.3169000148773193, -1.3858000040054321, -1.4047000408172607, -1.5053999423980713, -1.5056999921798706, -1.5233999490737915, -1.5403000116348267, -1.5435999631881714, -1.566499948501587, -1.604200005531311, -1.6510000228881836, -1.7437000274658203, -1.767899990081787, -1.8042000532150269, -1.8143999576568604, -1.818600058555603, -1.8187999725341797, -3.22979998588562, -4.871600151062012, -2.044800043106079, -3.1661999225616455, -2.751699924468994, -1.9656000137329102, -4.170100212097168, -1.8503999710083008, -3.3471999168395996, -2.590399980545044, -4.229800224304199, -2.194000005722046, -3.1803998947143555, -2.4300999641418457, -4.007699966430664, -2.33240008354187, -2.726900100708008, -4.001500129699707, -3.428100109100342, 4.587900161743164, 4.586599826812744, 4.584000110626221, 4.583700180053711, 4.572199821472168, 4.562399864196777, 4.561100006103516, 4.559700012207031, 4.523099899291992, 4.506700038909912, 4.502699851989746, 4.4604997634887695, 4.429500102996826, 4.423600196838379, -1.0082999467849731, -1.0500999689102173, -1.1644999980926514, -1.2335000038146973, -1.2523000240325928, -1.3530999422073364, -1.3532999753952026, -1.3710999488830566, -1.3878999948501587, -1.3912999629974365, -1.4141000509262085, -1.451799988746643, -1.4986000061035156, -1.5914000272750854, -1.6155999898910522, -1.651900053024292, -1.8133000135421753, -4.0177998542785645, -2.520699977874756, -3.1949000358581543, -2.599400043487549, -3.0139000415802, -2.1819000244140625, -1.6979999542236328, -4.077400207519531, -2.4381000995635986, -3.0280001163482666, -4.719200134277344, -2.2776999473571777, -2.180000066757202, -2.57450008392334, -3.849100112915039, 4.507800102233887, 4.501999855041504, 4.496699810028076, 4.489699840545654, 4.488399982452393, 4.488100051879883, 4.482500076293945, 4.479100227355957, 4.472499847412109, 4.463799953460693, 4.461699962615967, 4.449699878692627, 4.446000099182129, 4.429100036621094, 4.406300067901611, 4.307199954986572, -0.8996000289916992, -0.9413999915122986, -1.055799961090088, -1.1247999668121338, -1.1437000036239624, -1.2444000244140625, -1.2446999549865723, -1.2624000310897827, -1.2792999744415283, -1.2826000452041626, -1.305400013923645, -1.3431999683380127, -1.482699990272522, -1.5068999528884888, -3.086199998855591, -2.329400062561035, -3.384700059890747, -3.90910005569458, -1.5893000364303589, -2.9193999767303467, -1.7045999765396118, -2.4907000064849854, -2.9052000045776367, -3.9688000679016113, -2.0713999271392822, -4.610599994659424, -2.169100046157837, -4.767300128936768, 5.248499870300293, 5.245800018310547, 5.2378997802734375, 5.234300136566162, 5.222400188446045, 5.217299938201904, 5.206099987030029, 5.203499794006348, 5.191999912261963, 5.176000118255615, 5.173600196838379, 5.166299819946289, 5.124899864196777, -0.26409998536109924, -0.3059999942779541, -0.4203999936580658, -0.4893999993801117, -0.5081999897956848, -0.6089000105857849, -0.6092000007629395, -0.6269000172615051, -0.6438000202178955, -0.6470999717712402, -0.6700000166893005, -0.7077000141143799, -0.7544999718666077, -0.8471999764442444, -0.871399998664856, -0.907800018787384, -0.917900025844574, -1.4358999729156494, -3.2736001014709473, -3.661600112915039, -3.717099905014038, -3.539599895477295, -3.1112000942230225, -4.131899833679199, -1.148300051689148, -2.2697999477386475, -1.855299949645996, -1.069100022315979, -2.63700008392334, -1.830399990081787, -0.9538999795913696, -2.4507999420166016, -1.6938999891281128, -2.5002999305725098, 2.6821999549865723, 2.680799961090088, 2.677000045776367, 2.6768999099731445, 2.673099994659424, 2.637200117111206, 2.6261000633239746, 2.6191999912261963, 2.567500114440918, -2.292799949645996, -2.3345999717712402, -2.4491000175476074, -2.5179998874664307, -2.536900043487549, -2.6375999450683594, -2.6379001140594482, -2.655600070953369, -2.672499895095825, -2.675800085067749, -2.698699951171875, -2.7363998889923096, -2.7832000255584717, -2.8759000301361084, -2.900099992752075, -2.9363999366760254, -2.9465999603271484, -2.9507999420166016, -2.9509999752044678, -2.955899953842163, -2.9663000106811523, -3.722599983215332, -4.479400157928467, -2.982599973678589, -4.312600135803223, -5.302299976348877, -3.0978000164031982, -3.8838999271392822, -4.298399925231934, -3.177000045776367, -6.160600185394287, -5.361999988555908, -3.464600086212158, -6.003799915313721, -3.562299966812134, -3.7953999042510986, -3.859100103378296, -5.133699893951416, -4.560299873352051, -4.5289998054504395, -4.6656999588012695, -5.56820011138916, 4.446700096130371, 4.446599960327148, 4.4394001960754395, 4.435500144958496, 4.420400142669678, 4.3140997886657715, -0.9487000107765198, -0.9904999732971191, -1.1049000024795532, -1.1739000082015991, -1.1928000450134277, -1.2934999465942383, -1.2937999963760376, -1.3114999532699585, -1.3284000158309937, -1.3316999673843384, -1.354599952697754, -1.392300009727478, -1.4390000104904175, -1.5318000316619873, -1.555999994277954, -1.5923000574111938, -1.6024999618530273, -1.6066999435424805, -1.6068999767303467, -1.611799955368042, -1.6222000122070312, -1.625100016593933, -1.6383999586105347, -1.639299988746643, -3.1352999210357666, -3.958199977874756, -1.7537000179290771, -2.9542999267578125, -2.539799928665161, -4.017899990081787, -1.832900047302246, -4.816400051116943, -3.795799970626831, -2.378499984741211, -3.433799982070923, -2.9684998989105225, -2.7276999950408936, -4.6596999168396, -2.2181999683380127, -2.120500087738037, -2.515000104904175, -3.789599895477295, -3.216200113296509, -3.1849000453948975, -3.3215999603271484, -4.224100112915039, -4.401700019836426, 4.946899890899658, 4.942999839782715, 4.927000045776367, 4.9257001876831055, 4.916100025177002, 4.914700031280518, 4.910099983215332, 4.904099941253662, 4.903500080108643, 4.9028000831604, 4.895899772644043, 4.876999855041504, 4.875800132751465, 4.855500221252441, 4.851600170135498, 4.810400009155273, 4.79580020904541, -0.6004999876022339, -0.642300009727478, -0.7566999793052673, -0.8256999850273132, -0.8446000218391418, -0.9452999830245972, -0.9455000162124634, -0.9632999897003174, -0.9801999926567078, -0.9835000038146973, -1.0062999725341797, -1.044100046157837, -1.0908000469207764, -2.1916000843048096, -2.379499912261963, -2.103100061416626, -4.244800090789795, -3.4475998878479004, -4.468200206756592, -1.4846999645233154, -2.606100082397461, -2.620300054550171, -1.405500054359436, -3.609999895095825, -1.2901999950408936, -2.787100076675415, 5.141600131988525, 5.138299942016602, 5.12060022354126, 5.120200157165527, 5.106100082397461, 5.104300022125244, 5.097400188446045, 5.067500114440918, 5.059999942779541, 5.05019998550415, 5.0279998779296875, 4.997300148010254, -0.13570000231266022, -0.17749999463558197, -0.29190000891685486, -0.36090001463890076, -0.3797000050544739, -0.4805000126361847, -0.48069998621940613, -0.4984000027179718, -0.5152999758720398, -0.5187000036239624, -0.5414999723434448, -0.579200029373169, -0.6259999871253967, -0.7188000082969666, -0.7429999709129333, -0.7792999744415283, -0.7894999980926514, -0.7936999797821045, -1.7267999649047852, -4.003399848937988, -2.9827001094818115, -1.6382999420166016, -1.0197999477386475, -2.1412999629974365, -2.620699882507324, -0.9405999779701233, -1.9146000146865845, -0.8253999948501587, -2.3222999572753906, -1.5654000043869019, -3.2047998905181885, -2.155400037765503, -3.84660005569458, -1.4050999879837036, -1.3073999881744385, -1.7019000053405762, 4.709199905395508, 4.702000141143799, 4.701900005340576, 4.697800159454346, 4.696000099182129, 4.693600177764893, 4.686600208282471, 4.678500175476074, 4.654799938201904, 4.653900146484375, 4.6479997634887695, 4.6458001136779785, 4.6417999267578125, 4.638199806213379, 4.6321001052856445, 4.622799873352051, 4.6016998291015625, 4.6006999015808105, 4.600200176239014, -0.7882000207901001, -0.8299999833106995, -0.9444000124931335, -1.0133999586105347, -1.0321999788284302, -1.1330000162124634, -1.1332000494003296, -1.1510000228881836, -1.167799949645996, -1.1712000370025635, -1.194000005722046, -3.1610000133514404, -1.6722999811172485, -2.793800115585327, -2.379300117492676, -1.5930999517440796, -3.7976999282836914, -1.4779000282287598, -2.9748001098632812, -1.9599000215530396, -2.3543999195098877, -3.024399995803833, 4.438000202178955, 4.437900066375732, 4.436699867248535, 4.435200214385986, 4.434599876403809, 4.422100067138672, 4.421500205993652, 4.419099807739258, 4.418700218200684, 4.418600082397461, 4.41510009765625, 4.409599781036377, 4.406199932098389, 4.396299839019775, 4.395199775695801, 4.390399932861328, 4.389400005340576, 4.389400005340576, 4.38730001449585, 4.384799957275391, 4.384500026702881, 4.38040018081665, 4.365600109100342, 4.356200218200684, 4.345799922943115, 4.342700004577637, 4.33489990234375, 4.33489990234375, 4.332600116729736, 4.3246002197265625, 4.053199768066406, 4.0507001876831055, 4.040200233459473, 4.034999847412109, 4.020899772644043, 4.019400119781494, 4.0183000564575195, 3.9899001121520996, 3.936800003051758, 3.925299882888794, 3.695199966430664, -1.3451000452041626, -1.4594999551773071, -1.528499960899353, -1.5472999811172485, -1.6481000185012817, -1.648300051689148, -1.666100025177002, -1.6828999519348145, -1.6863000392913818, -1.7091000080108643, -1.7467999458312988, -1.7935999631881714, -1.8863999843597412, -1.910599946975708, -1.9469000101089478, -1.9571000337600708, -1.961300015449524, -1.9615000486373901, -1.9664000272750854, -4.31279993057251, -3.4899001121520996, -1.9930000305175781, -3.788300037384033, -2.108299970626831, -2.733099937438965, -3.3089001178741455, -2.1874001026153564, -5.171000003814697, -4.150300025939941, -2.8059000968933105, -2.894399881362915, -5.014200210571289, -4.372399806976318, -3.322999954223633, -4.9475998878479, -2.572700023651123, -2.4749999046325684, -2.869499921798706, 4.864099979400635, 4.861299991607666, 4.860899925231934, 4.829500198364258, 4.828499794006348, 4.824900150299072, 4.820400238037109, 4.8196001052856445, 4.809100151062012, 4.783999919891357, 4.774499893188477, 4.762400150299072, -0.45170000195503235, -0.4934999942779541, -0.6079000234603882, -0.6769000291824341, -0.6956999897956848, -0.796500027179718, -0.7967000007629395, -0.8144999742507935, -0.8313000202178955, -0.8346999883651733, -0.8575000166893005, -0.8952999711036682, -0.9419999718666077, -1.0348000526428223, -1.059000015258789, -1.0952999591827393, -1.1054999828338623, -1.1096999645233154, -1.881500005722046, -2.9367001056671143, -2.6382999420166016, -3.5208001136779785, -3.461199998855591, -1.256700038909912, -2.042799949645996, -2.4572999477386475, -1.3358999490737915, -4.319399833679199, -1.1413999795913696, -1.6233999729156494, -2.471400022506714, -4.162700176239014, -1.7210999727249146, -1.954300045967102, -2.017899990081787, -3.29259991645813, 4.410999774932861, 4.406499862670898, 4.4008002281188965, 4.400400161743164, 4.400199890136719, 4.394499778747559, 4.393599987030029, 4.389100074768066, 4.388199806213379, 4.381700038909912, 4.356800079345703, 4.350800037384033, 4.349899768829346, 4.3317999839782715, 4.320199966430664, -1.027400016784668, -1.069200038909912, -1.1835999488830566, -1.2525999546051025, -1.271399974822998, -1.3722000122070312, -1.3724000453948975, -1.3901000022888184, -1.406999945640564, -1.4104000329971313, -1.4332000017166138, -1.470900058746338, -1.517699956893921, -1.6104999780654907, -1.6346999406814575, -4.480299949645996, -4.302800178527832, -4.385700225830078, -3.0329999923706055, -2.618499994277954, -1.8322999477386475, -3.160900115966797, -1.7171000242233276, -3.2139999866485596, -4.371099948883057, -2.4570999145507812, -4.096499919891357, -3.047100067138672, -4.73829984664917, -2.296799898147583, 4.975200176239014, 4.973199844360352, 4.967100143432617, 4.964700222015381, 4.961699962615967, 4.9475998878479, 4.924799919128418, 4.91349983215332, 4.908599853515625, 4.875699996948242, 4.856900215148926, -0.4887999892234802, -0.5306000113487244, -0.6449999809265137, -0.7139999866485596, -0.7328000068664551, -0.8335999846458435, -0.8338000178337097, -0.8515999913215637, -0.868399977684021, -0.8718000054359436, -0.894599974155426, -0.9323999881744385, -0.9790999889373779, -1.0719000101089478, -1.0960999727249146, -1.1324000358581543, -1.1426000595092773, -1.1468000411987305, -1.1469999551773071, -3.498300075531006, -4.356500148773193, -2.4944000244140625, -2.079900026321411, -3.3357999324798584, -1.9914000034332275, -1.2937999963760376, -2.267699956893921, -1.3729000091552734, -2.6754000186920166, -1.1785000562667847, -1.6100000143051147, -1.9185999631881714, -3.5578999519348145, -2.508500099182129, -4.19980001449585, -1.7582000494003296, -1.6605000495910645, -2.055000066757202, 4.244100093841553, 4.242000102996826, 4.239699840545654, 4.239500045776367, 4.23829984664917, 4.229100227355957, 4.19950008392334, 4.1940999031066895, 4.1894001960754395, 4.187099933624268, 4.1869001388549805, -1.1058000326156616, -1.1476000547409058, -1.2620999813079834, -1.3310999870300293, -1.3499000072479248, -1.450600028038025, -1.4508999586105347, -1.4686000347137451, -1.4854999780654907, -1.488800048828125, -1.5117000341415405, -1.549399971961975, -1.5961999893188477, -1.6888999938964844, -1.7130999565124512, -1.749400019645691, -1.759600043296814, -1.763800024986267, -1.7640000581741333, -4.175000190734863, -2.535599946975708, -3.2925000190734863, -1.7956000566482544, -1.9107999801635742, -4.115300178527832, -4.816800117492676, -2.696899890899658, -3.1113998889923096, -1.9900000095367432, -3.1256000995635986, -2.279400110244751, -2.3752999305725098, -3.952899932861328, -2.277600049972534, -2.672100067138672, -3.946700096130371, -3.373300075531006, -3.3420000076293945, 4.6020002365112305, 4.599100112915039, 4.5858001708984375, 4.569699764251709, 4.565000057220459, 4.5625, 4.554100036621094, 4.554100036621094, 4.541399955749512, 4.523799896240234, -0.7634000182151794, -0.8051999807357788, -0.9196000099182129, -0.9886000156402588, -1.0074000358581543, -1.108199954032898, -1.1083999872207642, -1.126099944114685, -1.1430000066757202, -1.146399974822998, -1.1691999435424805, -1.2069000005722046, -1.2537000179290771, -1.346500039100647, -1.3707000017166138, -1.406999945640564, -1.417199969291687, -1.4213999509811401, -1.4215999841690063, -1.4264999628067017, -3.6103999614715576, -4.631100177764893, -1.6475000381469727, -2.7690000534057617, -2.3545000553131104, -1.5683000087738037, -3.7727999687194824, -1.4530999660491943, -2.950000047683716, -3.8324999809265137, -2.1930999755859375, -2.54229998588562, -2.783099889755249, -4.474299907684326, -2.0327999591827393, -1.9350999593734741, -2.3296000957489014, -3.6041998863220215, -3.030900001525879, -2.999500036239624, 4.7530999183654785, 4.748199939727783, 4.744800090789795, 4.742800235748291, 4.741199970245361, 4.738100051879883, 4.724899768829346, 4.714200019836426, 4.709199905395508, 4.708199977874756, 4.699999809265137, 4.668700218200684, 4.662399768829346, 4.6519999504089355, -0.6110000014305115, -0.652899980545044, -0.767300009727478, -0.8363000154495239, -0.8550999760627747, -0.9557999968528748, -0.9560999870300293, -0.973800003528595, -0.9907000064849854, -0.9940000176429749, -1.0168999433517456, -1.0546000003814697, -1.1014000177383423, -1.194100022315979, -1.2182999849319458, -1.2546000480651855, -2.202199935913086, -1.4160000085830688, -3.620500087738037, -1.3007999658584595, -2.6166999340057373, -2.7976999282836914, -2.040800094604492, -3.096100091934204, -3.6802000999450684, -2.6308000087738037, -1.4952000379562378, -1.7827999591827393, -2.177299976348877, -3.451900005340576, -2.878499984741211, -2.8471999168395996, 4.648799896240234, 4.646599769592285, 4.642000198364258, 4.6402997970581055, 4.631400108337402, 4.6143999099731445, 4.6132001876831055, 4.61299991607666, 4.603799819946289, 4.600800037384033, 4.582099914550781, 4.578499794006348, 4.577300071716309, 4.57420015335083, 4.565299987792969, 4.537499904632568, 4.5366997718811035, 4.430200099945068, -0.8931000232696533, -0.9348999857902527, -1.049299955368042, -1.118299961090088, -1.1370999813079834, -1.2379000186920166, -1.2381000518798828, -1.2559000253677368, -1.2726999521255493, -1.2761000394821167, -1.3366999626159668, -1.3833999633789062, -1.7773000001907349, -3.7402000427246094, -4.760799884796143, -2.395699977874756, -1.698099970817566, -2.4842000007629395, -2.898699998855591, -3.3780999183654785, -3.902600049972534, -2.672100067138672, -4.290599822998047, -4.346099853515625, 4.6956000328063965, 4.685200214385986, 4.682600021362305, 4.673999786376953, 4.669000148773193, 4.664700031280518, 4.616600036621094, 4.61359977722168, 4.468299865722656, -0.6132000088691711, -0.6549999713897705, -0.7694000005722046, -0.8384000062942505, -0.857200026512146, -0.9578999876976013, -0.9581999778747559, -0.9758999943733215, -0.9927999973297119, -1.0190000534057617, -1.0566999912261963, -1.1035000085830688, -1.1962000131607056, -1.2204999923706055, -1.2568000555038452, -1.2668999433517456, -1.2711999416351318, -1.271299958229065, -1.2762999534606934, -1.2865999937057495, -1.2894999980926514, -2.9860000610351562, -3.460200071334839, -4.480899810791016, -1.4973000288009644, -2.618799924850464, -2.2042999267578125, -1.4180999994277954, -3.6226000785827637, -1.302899956703186, -2.799799919128418, -2.849299907684326, -2.8805999755859375, -3.8886001110076904, -2.115799903869629, -2.0429000854492188, -3.682300090789795, -2.6328999996185303, -4.324100017547607, -1.882599949836731, -1.7848999500274658, -2.1793999671936035, 4.837800025939941, 4.832699775695801, 4.826000213623047, 4.814799785614014, 4.811600208282471, 4.807400226593018, 4.801000118255615, 4.79640007019043, 4.787399768829346, 4.785200119018555, 4.761600017547607, 4.6585001945495605, -0.6270999908447266, -0.6689000129699707, -0.78329998254776, -0.8522999882698059, -0.8712000250816345, -0.9718999862670898, -0.972100019454956, -0.9898999929428101, -1.006700038909912, -1.01010000705719, -1.0328999757766724, -1.0707000494003296, -1.117400050163269, -1.2344000339508057, -1.2706999778747559, -1.280900001525879, -1.285099983215332, -1.2853000164031982, -2.813699960708618, -1.3167999982833862, -3.6366000175476074, -2.2181999683380127, -1.4321000576019287, -3.696199893951416, -2.632699966430664, -1.511299967765808, -4.494800090789795, -2.0569000244140625, -1.8966000080108643, -2.6468000411987305, -4.338099956512451, -2.129699945449829, -1.798799991607666, -2.1933000087738037, -3.4679999351501465, -2.8945999145507812, 4.865600109100342, 4.865099906921387, 4.8643999099731445, 4.858500003814697, 4.856500148773193, 4.856299877166748, 4.845600128173828, 4.824100017547607, 4.817800045013428, 4.814899921417236, 4.810400009155273, 4.806600093841553, 4.802599906921387, 4.767399787902832, 4.750500202178955, 4.734499931335449, -0.54830002784729, -0.5900999903678894, -0.7045000195503235, -0.7735000252723694, -0.7922999858856201, -0.8931000232696533, -0.8932999968528748, -0.9110999703407288, -0.9279000163078308, -0.9312999844551086, -0.9541000127792358, -0.9918000102043152, -1.038599967956543, -1.1313999891281128, -3.3206000328063965, -2.139400005340576, -3.487499952316284, -1.6694999933242798, -4.192599773406982, -2.327199935913086, -2.0508999824523926, -4.07420015335083, -3.3952999114990234, -4.415999889373779, -1.4323999881744385, -2.5539000034332275, -1.3532999753952026, -3.3649001121520996, 4.477499961853027, 4.470900058746338, 4.470200061798096, 4.441299915313721, 4.438399791717529, 4.430600166320801, 4.415299892425537, 4.393099784851074, 4.372900009155273, 4.369100093841553, 4.307000160217285, -0.9308000206947327, -0.972599983215332, -1.0870000123977661, -1.156000018119812, -1.1748000383377075, -1.2755999565124512, -1.2757999897003174, -1.2935999631881714, -1.3104000091552734, -1.3137999773025513, -1.3365999460220337, -1.3743000030517578, -1.4211000204086304, -1.5139000415802002, -1.538100004196167, -1.5845999717712402, -1.5887999534606934, -1.5889999866485596, -1.5938999652862549, -1.8149000406265259, -2.9363999366760254, -1.6204999685287476, -1.735700011253357, -4.798500061035156, -3.9402999877929688, -3.7778000831604004, -2.521899938583374, -2.3605000972747803, -3.1173999309539795, -3.1982998847961426, -3.3362998962402344, -4.3282999992370605, -4.383699893951416, -4.206200122833252, -3.3036000728607178, -3.1668999195098877, -3.7716000080108643, -2.709700107574463, 4.425899982452393, 4.424600124359131, 4.400700092315674, 4.371799945831299, 4.365499973297119, 4.326900005340576, 4.311399936676025, -0.7796000242233276, -0.821399986743927, -0.9358999729156494, -1.0048999786376953, -1.0236999988555908, -1.124400019645691, -1.1246999502182007, -1.1424000263214111, -1.1592999696731567, -1.162600040435791, -1.1855000257492065, -1.2231999635696411, -1.2699999809265137, -1.3626999855041504, -1.3868999481201172, -1.423200011253357, -1.43340003490448, -1.437600016593933, -1.4378000497817993, -1.4427000284194946, -1.4530999660491943, -1.4559999704360962, -1.4694000482559204, -3.789099931716919, -2.9663000106811523, -3.264699935913086, -1.5845999717712402, -2.7852001190185547, -1.6638000011444092, -4.64739990234375, -3.626699924468994, -2.370699882507324, -2.209399938583374, -2.5585999488830566, -3.84879994392395, -2.7994000911712646, -4.490600109100342, -2.049099922180176, -1.9514000415802002, -2.345900058746338, -3.620500087738037, -3.047100067138672, -3.0157999992370605, -3.1524999141693115, -4.055099964141846, 4.371500015258789, 4.369999885559082, 4.364999771118164, 4.363999843597412, 4.360400199890137, 4.348999977111816, 4.348100185394287, 4.347899913787842, 4.346099853515625, 4.335700035095215, 4.333600044250488, 4.332600116729736, 4.332499980926514, 4.3317999839782715, 4.311699867248535, 4.307600021362305, 4.30679988861084, 4.306300163269043, 4.285299777984619, 4.252699851989746, 4.2418999671936035, 4.237199783325195, -1.104099988937378, -1.1460000276565552, -1.2604000568389893, -1.3293999433517456, -1.3481999635696411, -1.4488999843597412, -1.4492000341415405, -1.4668999910354614, -2.8831000328063965, -2.6066999435424805, -2.275899887084961, -3.951200008392334, -3.109800100326538, -4.97189998626709, -1.9882999658584595, -3.1238999366760254, 4.123799800872803, 4.123199939727783, 4.11899995803833, 4.114500045776367, 4.106299877166748, 4.090099811553955, 4.089000225067139, 4.088500022888184, 4.085100173950195, 4.083099842071533, 4.03249979019165, 3.9967000484466553, -1.2542999982833862, -1.2961000204086304, -1.4105000495910645, -1.4795000553131104, -1.4982999563217163, -1.5990999937057495, -1.5993000268936157, -1.6171000003814697, -1.6339000463485718, -1.6373000144958496, -1.660099983215332, -1.6979000568389893, -1.7446000576019287, -1.837399959564209, -1.8616000413894653, -1.8978999853134155, -1.9081000089645386, -1.9122999906539917, -4.323400020599365, -4.263800144195557, -2.059299945831299, -1.944000005722046, -3.4409000873565674, -2.845400094985962, -2.6840999126434326, -3.2599000930786133, -3.739300012588501, -4.965199947357178, -3.2739999294281006, -5.122000217437744, -2.523699998855591, -2.4260001182556152, -2.820499897003174, -4.095200061798096, -3.5218000411987305, -3.490499973297119, 4.122900009155273, 4.122499942779541, 4.120800018310547, 4.120200157165527, 4.120100021362305, 4.115300178527832, 4.113999843597412, 4.112800121307373, 4.107800006866455, 4.106299877166748, 4.100800037384033, 4.099699974060059, 4.098599910736084, 4.097899913787842, 4.095900058746338, 4.0954999923706055, 4.092599868774414, 4.091800212860107, 4.088099956512451, 4.0868000984191895, 4.08620023727417, 4.083399772644043, 4.078499794006348, 4.075500011444092, 4.068900108337402, 4.067299842834473, 4.048900127410889, 4.0447998046875, 4.03849983215332, 4.035200119018555, 4.970300197601318, 4.969900131225586, 4.966700077056885, 4.959400177001953, 4.954100131988525, 4.953999996185303, 4.949100017547607, 4.935100078582764, 4.901299953460693, 4.886899948120117, 4.8618998527526855, 4.824100017547607, -0.5393000245094299, -0.5810999870300293, -0.6955000162124634, -0.7645000219345093, -0.7833999991416931, -0.8841000199317932, -0.8842999935150146, -0.9021000266075134, -0.9190000295639038, -0.9222999811172485, -0.9451000094413757, -0.9829000234603882, -1.0296000242233276, -1.1224000453948975, -1.1466000080108643, -1.1828999519348145, -1.1930999755859375, -1.1972999572753906, -4.118100166320801, -3.1628000736236572, -1.4234999418258667, -2.5448999404907227, -2.1303999423980713, -1.3443000316619873, -3.548799991607666, -1.2289999723434448, -2.7258999347686768, -1.969099998474121, -3.6085000038146973, -2.5590999126434326, -4.25029993057251, -1.8087999820709229, -1.7109999656677246, -2.1054999828338623, -3.380199909210205, -2.80679988861084, 5.016900062561035, 5.005799770355225, 4.998499870300293, 4.987100124359131, 4.984399795532227, 4.975399971008301, 4.968699932098389, 4.9664998054504395, 4.959400177001953, 4.954100131988525, 4.9506001472473145, 4.944399833679199, 4.941999912261963, 4.936399936676025, 4.9334001541137695, 4.9253997802734375, 4.923600196838379, 4.902200222015381, -0.2766000032424927, -0.31850001215934753, -0.43290001153945923, -0.5019000172615051, -0.5206999778747559, -0.621399998664856, -0.6216999888420105, -0.6394000053405762, -0.6563000082969666, -0.659600019454956, -0.6825000047683716, -0.7202000021934509, -1.8676999807357788, -1.7791999578475952, -3.123699903488159, -4.144400119781494, -1.1607999801635742, -2.2822999954223633, -2.761699914932251, -1.0815999507904053, -3.286099910736084, -0.9664000272750854, -1.7064000368118286, -3.3457999229431152, 4.940400123596191, 4.938399791717529, 4.937600135803223, 4.926000118255615, 4.92579984664917, 4.923399925231934, 4.922599792480469, 4.9141998291015625, 4.910200119018555, 4.896699905395508, 4.887899875640869, 4.878200054168701, 4.861599922180176, 4.837100028991699, -0.32510000467300415, -0.3668999969959259, -0.4812999963760376, -0.5503000020980835, -0.569100022315979, -0.6699000000953674, -0.6700999736785889, -0.6879000067710876, -0.7046999931335449, -0.7081000208854675, -0.73089998960495, -0.7687000036239624, -0.8154000043869019, -0.9082000255584717, -0.9323999881744385, -0.9686999917030334, -3.3345999717712402, -1.014799952507019, -2.246999979019165, -1.9275000095367432, -1.1301000118255615, -1.7548999786376953, -1.916200041770935, -2.330699920654297, -1.2092000246047974, -4.192800045013428, -2.511699914932251, -4.035999774932861, -3.394200086593628, -2.3447999954223633, -1.8277000188827515, -1.594499945640564, 4.8414998054504395, 4.840199947357178, 4.787700176239014, 4.770199775695801, 4.764800071716309, 4.763400077819824, 4.761300086975098, 4.749800205230713, 4.7322001457214355, -0.7139000296592712, -0.7556999921798706, -0.8701000213623047, -0.9391000270843506, -0.9578999876976013, -1.0586999654769897, -1.058899998664856, -1.07669997215271, -1.093500018119812, -1.0968999862670898, -1.1196999549865723, -1.1575000286102295, -1.204200029373169, -1.2970000505447388, -1.3212000131607056, -1.3574999570846558, -1.3676999807357788, -1.371899962425232, -1.3720999956130981, -1.3769999742507935, -1.3873000144958496, -2.143699884414673, -2.9005000591278076, -3.198899984359741, -1.4035999774932861, -2.733599901199341, -3.723400115966797, -1.5189000368118286, -2.305000066757202, -3.7829999923706055, -1.983299970626831, -4.424900054931641, -1.598099946975708, -1.885599970817566, -2.280100107192993, -3.554800033569336, -2.9814000129699707, -2.9500999450683594, -3.0868000984191895, -3.989300012588501, -4.166900157928467, -4.111400127410889, 4.87470006942749, 4.873499870300293, 4.8734002113342285, 4.86870002746582, 4.857999801635742, 4.854300022125244, 4.8520002365112305, 4.844099998474121, 4.839000225067139, 4.838699817657471, 4.83650016784668, 4.825500011444092, 4.815899848937988, 4.815400123596191, 4.7546000480651855, 4.73859977722168, -0.5486999750137329, -0.590499997138977, -0.7049000263214111, -0.7738999724388123, -0.7926999926567078, -0.8934999704360962, -0.8937000036239624, -0.9114999771118164, -0.9283000230789185, -0.9316999912261963, -0.9545000195503235, -0.9922000169754028, -1.0390000343322754, -1.1318000555038452, -1.9783999919891357, -1.432800054550171, -2.816200017929077, -2.051300048828125, -3.395699977874756, -3.3894999027252197, -2.1149001121520996, -1.7203999757766724, -4.416399955749512, -2.55430006980896, -3.617799997329712, -1.8180999755859375, -2.1398000717163086, -4.2596001625061035, 4.1545000076293945, 4.1508002281188965, 4.149499893188477, 4.1483001708984375, 4.14709997177124, 4.1255998611450195, 4.123199939727783, 4.116499900817871, 4.095399856567383, 4.091300010681152, 4.06879997253418, 3.8150999546051025, -1.2056000232696533, -1.361799955368042, -1.430799961090088, -1.4495999813079834, -1.5504000186920166, -1.5506000518798828, -1.5683000087738037, -1.5851999521255493, -1.5886000394821167, -1.6114000082015991, -1.6490999460220337, -1.6958999633789062, -1.788699984550476, -1.8128999471664429, -1.8492000102996826, -1.8594000339508057, -1.8636000156402588, -1.863800048828125, -4.215000152587891, -3.6905999183654785, -2.010499954223633, -1.895300030708313, -3.211199998855591, -2.0896999835968018, -5.073299884796143, -4.052599906921387, -2.7967000007629395, -3.2253000736236572, -3.392199993133545, -2.6352999210357666, -4.274700164794922, -2.984499931335449, -4.916500091552734, -2.4749999046325684, -2.3773000240325928, -2.7718000411987305, 4.7845001220703125, 4.779600143432617, 4.777900218963623, 4.752500057220459, 4.750199794769287, 4.739299774169922, 4.736999988555908, 4.726500034332275, 4.691500186920166, 4.685400009155273, 4.644800186157227, -0.3075999915599823, -0.34940001368522644, -0.46380001306533813, -0.532800018787384, -0.5515999794006348, -0.652400016784668, -0.6525999903678894, -0.6704000234603882, -0.6872000098228455, -0.6905999779701233, -0.7134000062942505, -0.7511000037193298, -0.7979000210762024, -0.8906999826431274, -0.914900004863739, -0.951200008392334, -0.9613999724388123, -0.9656000137329102, -0.9657999873161316, -4.175300121307373, -1.1916999816894531, -3.154599905014038, -3.376699924468994, -2.313199996948242, -1.8986999988555908, -3.3171000480651855, -0.9973000288009644, -2.4941999912261963, -1.7374000549316406, -2.79259991645813, -2.3273000717163086, -4.018499851226807, -2.0864999294281006, -1.5770000219345093, -1.4793000221252441, -1.8738000392913818, -3.1484999656677246, -2.5750999450683594, 4.850200176239014, 4.833899974822998, 4.8333001136779785, 4.825900077819824, 4.821700096130371, 4.81879997253418, 4.793099880218506, 4.792200088500977, 4.78980016708374, 4.781499862670898, 4.781199932098389, 4.7322001457214355, 4.720099925994873, -0.3882000148296356, -0.4300000071525574, -0.5443999767303467, -0.6133999824523926, -0.6322000026702881, -0.7329999804496765, -0.7332000136375427, -0.7509999871253967, -0.767799973487854, -0.7712000012397766, -0.7940000295639038, -0.8317000269889832, -0.8784999847412109, -0.9713000059127808, -0.9955000281333923, -1.0318000316619873, -1.0420000553131104, -4.099100112915039, -2.407900094985962, -3.663599967956543, -2.167099952697754, -1.8907999992370605, -2.6556999683380127, -3.2290000915527344, -3.2351999282836914, -1.9543999433517456, -4.255899906158447, -1.2723000049591064, -2.3938000202178955, -1.9793000221252441, -1.1931999921798706, -3.397700071334839, -1.0779000520706177, -1.5599000453948975, 4.994900226593018, 4.9899001121521, 4.989500045776367, 4.980999946594238, 4.955100059509277, 4.948800086975098, 4.944499969482422, 4.943699836730957, 4.94290018081665, 4.942399978637695, 4.940499782562256, 4.935999870300293, 4.9257001876831055, 4.9116997718811035, 4.90339994430542, 4.901500225067139, 4.892499923706055, 4.887499809265137, -0.6169999837875366, -0.6588000059127808, -0.7731999754905701, -0.842199981212616, -0.8611000180244446, -0.9617999792098999, -0.9620000123977661, -0.9797999858856201, -0.9965999722480774, -1.0, -1.0227999687194824, -1.0606000423431396, -4.4847002029418945, -2.54830002784729, -3.383500099182129, -2.662899971008301, -3.649600028991699, -2.5917000770568848, -1.576300024986267, -3.331899881362915, -1.7381999492645264, -4.261300086975098, -2.3959999084472656, -2.9488000869750977, 4.739299774169922, 4.7347002029418945, 4.733399868011475, 4.729400157928467, 4.710899829864502, 4.707200050354004, 4.687399864196777, 4.685100078582764, 4.657400131225586, 4.627799987792969, -0.3544999957084656, -0.39629998803138733, -0.510699987411499, -0.5796999931335449, -0.5985999703407288, -0.6992999911308289, -0.6995000243186951, -0.7172999978065491, -0.7340999841690063, -0.737500011920929, -0.7602999806404114, -0.7980999946594238, -0.8447999954223633, -0.9376000165939331, -0.9617999792098999, -0.9980999827384949, -1.0082999467849731, -1.0125000476837158, -1.0126999616622925, -1.0176000595092773, -4.2221999168396, -1.238700032234192, -3.2016000747680664, -2.360100030899048, -1.9456000328063965, -1.857100009918213, -1.159500002861023, -3.364000082015991, -1.0441999435424805, -2.541100025177002, -2.3742001056671143, -1.7842999696731567, -3.4235999584198, -3.998800039291382, -4.065499782562256, -1.6239999532699585, -1.5262000560760498, -1.920699954032898, -3.1953999996185303, -2.621999979019165, 3.9793999195098877, 3.978100061416626, 3.973099946975708, 3.969599962234497, 3.962399959564209, 3.9291000366210938, 3.926300048828125, 3.915800094604492, 3.908099889755249, 3.884399890899658, 3.8475000858306885, 3.8261001110076904, 3.811300039291382, -1.660599946975708, -1.7024999856948853, -1.8169000148773193, -1.8859000205993652, -1.9047000408172607, -2.0053999423980713, -2.00570011138916, -2.023400068283081, -2.040299892425537, -2.043600082397461, -2.066499948501587, -2.1041998863220215, -2.1510000228881836, -2.2437000274658203, -2.2679998874664307, -2.30430006980896, -2.3143999576568604, -2.544800043106079, -5.52839994430542, -3.666300058364868, -3.251800060272217, -2.46560001373291, -4.670100212097168, -2.350399971008301, -4.145699977874756, -3.8473000526428223, -3.163300037384033, -3.090399980545044, -4.729800224304199, -3.6803998947143555, -5.371600151062012, -2.9300999641418457, -2.83240008354187, -3.226900100708008, 4.1143999099731445, 4.11359977722168, 4.110199928283691, 4.092400074005127, 4.082699775695801, 4.078700065612793, 4.052199840545654, 4.051199913024902, 4.045000076293945, 4.031700134277344, 4.025199890136719, -1.2545000314712524, -1.2963000535964966, -1.4106999635696411, -1.479699969291687, -1.4986000061035156, -1.5993000268936157, -1.5994999408721924, -1.617300033569336, -1.6340999603271484, -1.6375000476837158, -1.6603000164031982, -1.698099970817566, -1.7447999715805054, -1.8375999927520752, -1.861799955368042, -1.8981000185012817, -1.9083000421524048, -1.912500023841858, -1.9127000570297241, -1.944200038909912, -4.101600170135498, -5.122200012207031, -3.660099983215332, -2.138700008392334, -4.6519999504089355, -3.2600998878479004, -2.845599889755249, -4.707499980926514, -2.059499979019165, -4.263999938964844, -3.4410998821258545, -2.684299945831299, -4.323699951171875, -2.7571001052856445, -4.9654998779296875, -2.5239999294281006, -2.4261999130249023, -2.82069993019104, 3.6117000579833984, 3.6084001064300537, 3.6078999042510986, 3.6057000160217285, 3.6019999980926514, 3.601799964904785, 3.600100040435791, 3.598599910736084, 3.5982000827789307, 3.594399929046631, 3.579900026321411, 3.578000068664551, 3.572700023651123, 3.5713999271392822, 3.56850004196167, 3.5648999214172363, 3.5571999549865723, 3.5397000312805176, 3.537899971008301, 3.5195999145507812, -1.6797000169754028, -1.721500039100647, -1.8358999490737915, -1.9048999547958374, -1.923699975013733, -2.0244998931884766, -2.0246999263763428, -2.0425000190734863, -2.059299945831299, -2.062700033187866, -4.689199924468994, -2.4846999645233154, -3.68530011177063, -2.563800096511841, -5.547399997711182, -3.2708001136779785, -4.164700031280518, -2.3694000244140625, -3.866300106048584, -4.748799800872803, 4.321199893951416, 4.315499782562256, 4.315400123596191, 4.249599933624268, 4.209199905395508, -1.0313999652862549, -1.073199987411499, -1.187600016593933, -1.256600022315979, -1.2754000425338745, -1.3761999607086182, -1.3763999938964844, -1.3941999673843384, -1.4110000133514404, -1.4143999814987183, -1.4371999502182007, -1.4749000072479248, -1.5217000246047974, -1.6145000457763672, -1.638700008392334, -1.6749999523162842, -1.6851999759674072, -1.6893999576568604, -1.6895999908447266, -1.6944999694824219, -1.704800009727478, -1.707800030708313, -1.7210999727249146, -1.722000002861023, -1.749500036239624, -3.516400098800659, -2.622499942779541, -4.040900230407715, -1.836400032043457, -3.0369999408721924, -2.461199998855591, -1.9155000448226929, -4.899099826812744, -3.8784000873565674, -2.5339999198913574, -3.2179999351501465, -4.100500106811523, -4.675600051879883, -3.051100015640259, -4.742300033569336, -2.300800085067749, -2.2030999660491943, -2.597599983215332, -3.8722000122070312, -3.2988998889923096, -3.2676000595092773, -3.4042999744415283, -4.30679988861084, -4.484300136566162, 4.860799789428711, 4.8607001304626465, 4.8506999015808105, 4.84689998626709, 4.844200134277344, 4.8282999992370605, 4.825300216674805, 4.817800045013428, 4.817299842834473, 4.8155999183654785, 4.814700126647949, 4.810500144958496, 4.807000160217285, 4.807000160217285, 4.801599979400635, 4.798299789428711, 4.792799949645996, 4.765100002288818, 4.751100063323975, 4.749499797821045, 4.7459001541137695, 4.724299907684326, 4.71560001373291, 4.693999767303467, 4.637800216674805, -0.6394000053405762, -0.6812000274658203, -0.7955999970436096, -0.8646000027656555, -0.883400022983551, -3.480299949645996, -2.906899929046631, -2.8756000995635986, -1.9088000059127808, -2.2056000232696533, 4.548900127410889, 4.542600154876709, 4.535200119018555, 4.530099868774414, 4.526500225067139, 4.516300201416016, 4.511899948120117, 4.509099960327148, 4.497399806976318, 4.494100093841553, 4.485899925231934, 4.483099937438965, 4.4807000160217285, 4.47730016708374, 4.476200103759766, 4.473100185394287, 4.472799777984619, 4.472700119018555, 4.472700119018555, 4.469200134277344, 4.466599941253662, 4.46619987487793, 4.460100173950195, 4.459099769592285, 4.439599990844727, 4.432700157165527, 4.43209981918335, 4.424099922180176, 4.414100170135498, 4.411399841308594, 3.9651999473571777, 3.9611001014709473, 3.9489998817443848, 3.9486000537872314, 3.9470999240875244, 3.942500114440918, 3.9361000061035156, 3.9267001152038574, 3.9198999404907227, 3.913800001144409, 3.908799886703491, 3.8852999210357666, -1.3776999711990356, -1.4194999933242798, -1.5339000225067139, -1.6029000282287598, -1.6217000484466553, -1.7223999500274658, -1.7226999998092651, -1.740399956703186, -1.7573000192642212, -1.760599970817566, -1.7834999561309814, -1.8212000131607056, -1.8680000305175781, -1.9607000350952148, -1.9850000143051147, -2.0213000774383545, -2.031399965286255, -2.0357000827789307, -2.0673999786376953, -4.3871002197265625, -3.8626999855041504, -3.564300060272217, -2.9688000679016113, -3.3833000659942627, -2.2618000507354736, -2.1826000213623047, -3.39739990234375, -2.8073999881744385, -4.446800231933594, -4.224699974060059, -5.088600158691406, -2.6470999717712402, -2.5494000911712646, -2.9439001083374023, -4.218500137329102, -3.6451001167297363, 4.444300174713135, 4.443699836730957, 4.44350004196167, 4.406700134277344, 4.395699977874756, 4.38100004196167, 4.3780999183654785, 4.374899864196777, 4.364299774169922, 4.317699909210205, 4.307199954986572, -1.0765000581741333, -1.118299961090088, -1.232699990272522, -1.3016999959945679, -1.3205000162124634, -1.4213000535964966, -1.4214999675750732, -1.4392999410629272, -1.4560999870300293, -1.4594999551773071, -1.482300043106079, -1.5199999809265137, -1.5667999982833862, -1.659600019454956, -1.6837999820709229, -1.7201000452041626, -1.730299949645996, -1.7345000505447388, -1.7346999645233154, -2.66759991645813, -3.0820999145507812, -1.9606000185012817, -4.944200038909912, -4.085999965667725, -1.7661999464035034, -3.2630999088287354, -1.881500005722046, -3.561500072479248, -2.5062999725341797, -4.145599842071533, -2.5790998935699463, -3.0961999893188477, -4.787399768829346, -2.345900058746338, -2.248199939727783, -2.642699956893921, -3.91729998588562, -3.3440001010894775, 5.84499979019165, 5.815899848937988, 5.812399864196777, 5.811200141906738, 5.80620002746582, 5.7941999435424805, 5.779099941253662, 5.744800090789795, 5.7017998695373535, 0.3488999903202057, 0.30709999799728394, 0.19269999861717224, 0.12370000034570694, 0.10480000078678131, 0.004100000020116568, 0.0038999998942017555, -0.013899999670684338, -0.030799999833106995, -0.0340999998152256, -0.05689999833703041, -0.09470000118017197, -0.14139999449253082, -0.23420000076293945, -0.25839999318122864, -0.2946999967098236, -0.30489999055862427, -0.3091000020503998, -0.3093000054359436, -0.3142000138759613, -0.3246000111103058, -2.136199951171875, -0.3407999873161316, -2.660599946975708, -0.4560999870300293, -1.2422000169754028, -1.080899953842163, -1.6567000150680542, -0.5353000164031982, -3.5188000202178955, -2.498199939727783, -1.8377000093460083, -3.3620998859405518, -2.7202999591827393, -1.6708999872207642, -1.4300999641418457, -0.9205999970436096, -0.8227999806404114, -1.2173000574111938, -2.492000102996826, -1.9185999631881714, -1.8873000144958496], \"logprob\": [30.0, 29.0, 28.0, 27.0, 26.0, 25.0, 24.0, 23.0, 22.0, 21.0, 20.0, 19.0, 18.0, 17.0, 16.0, 15.0, 14.0, 13.0, 12.0, 11.0, 10.0, 9.0, 8.0, 7.0, 6.0, 5.0, 4.0, 3.0, 2.0, 1.0, -1.5530999898910522, -2.4038000106811523, -2.5701000690460205, -2.611999988555908, -2.67930006980896, -2.875499963760376, -2.936800003051758, -3.058000087738037, -3.3320000171661377, -3.3454999923706055, -3.377000093460083, -3.496500015258789, -3.50570011138916, -3.5436999797821045, -3.59689998626709, -3.6440999507904053, -3.6895999908447266, -3.8986001014709473, -10.3681001663208, -10.3681001663208, -10.3681001663208, -10.3681001663208, -10.3681001663208, -10.3681001663208, -10.3681001663208, -10.3681001663208, -10.3681001663208, -10.3681001663208, -10.3681001663208, -10.3681001663208, -10.3681001663208, -10.3681001663208, -10.3681001663208, -10.3681001663208, -10.3681001663208, -10.3681001663208, -10.3681001663208, -10.3681001663208, -10.3681001663208, -10.3681001663208, -10.3681001663208, -10.3681001663208, -2.198499917984009, -2.2311999797821045, -2.690000057220459, -2.7857000827789307, -2.9358999729156494, -3.041599988937378, -3.1552999019622803, -3.166300058364868, -3.36080002784729, -3.5202999114990234, -3.5778000354766846, -3.6356000900268555, -3.67930006980896, -3.6793999671936035, -3.7165000438690186, -3.774399995803833, -3.7969000339508057, -3.8559000492095947, -3.916300058364868, -3.9177000522613525, -3.9342000484466553, -3.9946000576019287, -4.067599773406982, -4.0706000328063965, -4.084000110626221, -4.200500011444092, -4.218400001525879, -4.326600074768066, -4.6209001541137695, -5.387499809265137, -1.5938999652862549, -1.697700023651123, -2.0006000995635986, -2.4591000080108643, -2.565999984741211, -3.2083001136779785, -3.2609000205993652, -3.2918999195098877, -3.5041000843048096, -3.764400005340576, -3.863100051879883, -3.9165000915527344, -3.960099935531616, -4.218100070953369, -4.291600227355957, -4.31879997253418, -4.363900184631348, -4.824399948120117, -4.8403000831604, -10.958200454711914, -10.958200454711914, -10.958200454711914, -10.958200454711914, -10.958200454711914, -10.958200454711914, -10.958200454711914, -10.958200454711914, -10.958200454711914, -10.958200454711914, -10.958200454711914, -10.958200454711914, -10.958200454711914, -10.958200454711914, -10.958200454711914, -10.958200454711914, -10.958200454711914, -10.958200454711914, -10.958200454711914, -10.958200454711914, -10.958200454711914, -10.958200454711914, -1.1131000518798828, -1.7364000082015991, -2.176500082015991, -2.464099884033203, -2.9423999786376953, -2.956899881362915, -3.3726000785827637, -3.40310001373291, -3.416100025177002, -3.4475998878479004, -3.7662999629974365, -10.172200202941895, -10.172200202941895, -10.172200202941895, -10.172200202941895, -10.172200202941895, -10.172200202941895, -10.172200202941895, -10.172200202941895, -10.172200202941895, -10.172200202941895, -10.172200202941895, -10.172200202941895, -10.172200202941895, -10.172200202941895, -10.172200202941895, -10.172200202941895, -10.172200202941895, -10.172200202941895, -10.172200202941895, -10.172200202941895, -10.172200202941895, -10.172200202941895, -10.172200202941895, -10.172200202941895, -10.172200202941895, -10.172200202941895, -10.172200202941895, -10.172200202941895, -10.172200202941895, -10.172200202941895, -10.172200202941895, -10.172200202941895, -10.172200202941895, -10.172200202941895, -10.172200202941895, -10.172200202941895, -10.172200202941895, -10.172200202941895, -0.41620001196861267, -2.424999952316284, -2.969899892807007, -3.1575000286102295, -3.732800006866455, -4.111400127410889, -4.130099773406982, -4.132400035858154, -4.204599857330322, -4.37060022354126, -4.387499809265137, -4.471700191497803, -4.4720001220703125, -4.983500003814697, -11.001099586486816, -11.001099586486816, -11.001099586486816, -11.001099586486816, -11.001099586486816, -11.001099586486816, -11.001099586486816, -11.001099586486816, -11.001099586486816, -11.001099586486816, -11.001099586486816, -11.001099586486816, -11.001099586486816, -11.001099586486816, -11.001099586486816, -11.001099586486816, -11.001099586486816, -11.001099586486816, -11.001099586486816, -11.001099586486816, -11.001099586486816, -11.001099586486816, -11.001099586486816, -11.001099586486816, -11.001099586486816, -11.001099586486816, -11.001099586486816, -11.001099586486816, -11.001099586486816, -11.001099586486816, -11.001099586486816, -11.001099586486816, -1.5384000539779663, -1.8952000141143799, -2.6942999362945557, -2.8160998821258545, -2.8965001106262207, -2.9904000759124756, -3.3789000511169434, -3.38919997215271, -3.460200071334839, -3.5097999572753906, -3.582900047302246, -3.760200023651123, -3.7609000205993652, -3.7792000770568848, -3.86299991607666, -3.966200113296509, -3.968100070953369, -3.981800079345703, -4.029600143432617, -4.2870001792907715, -4.365099906921387, -4.459099769592285, -4.586299896240234, -4.965000152587891, -10.531999588012695, -10.531999588012695, -10.531999588012695, -10.531999588012695, -10.531999588012695, -10.531999588012695, -10.531999588012695, -10.531999588012695, -10.531999588012695, -10.531999588012695, -10.531999588012695, -10.531999588012695, -0.7281000018119812, -2.121500015258789, -2.3933000564575195, -2.655400037765503, -2.76419997215271, -2.899899959564209, -3.9516000747680664, -3.9607999324798584, -4.045199871063232, -4.189799785614014, -4.21999979019165, -4.237199783325195, -10.907500267028809, -10.907500267028809, -10.907500267028809, -10.907500267028809, -10.907500267028809, -10.907500267028809, -10.907500267028809, -10.907500267028809, -10.907500267028809, -10.907500267028809, -10.907500267028809, -10.907500267028809, -10.907500267028809, -10.907500267028809, -10.907500267028809, -10.907500267028809, -10.907500267028809, -10.907500267028809, -10.907500267028809, -10.907500267028809, -10.907500267028809, -10.907500267028809, -10.907500267028809, -10.907500267028809, -10.907500267028809, -10.907500267028809, -10.907500267028809, -10.907500267028809, -10.907500267028809, -10.907500267028809, -10.907500267028809, -10.907500267028809, -10.907500267028809, -10.907500267028809, -10.907500267028809, -10.907500267028809, -1.138200044631958, -1.5529999732971191, -1.919800043106079, -2.5139999389648438, -2.5768001079559326, -2.848599910736084, -3.4837000370025635, -3.756200075149536, -4.074699878692627, -4.651500225067139, -10.523200035095215, -10.523200035095215, -10.523200035095215, -10.523200035095215, -10.523200035095215, -10.523200035095215, -10.523200035095215, -10.523200035095215, -10.523200035095215, -10.523200035095215, -10.523200035095215, -10.523200035095215, -10.523200035095215, -10.523200035095215, -10.523200035095215, -10.523200035095215, -10.523200035095215, -10.523200035095215, -10.523200035095215, -10.523200035095215, -10.523200035095215, -10.523200035095215, -10.523200035095215, -10.523200035095215, -10.523200035095215, -10.523200035095215, -10.523200035095215, -10.523200035095215, -10.523200035095215, -10.523200035095215, -10.523200035095215, -10.523200035095215, -10.523200035095215, -10.523200035095215, -10.523200035095215, -10.523200035095215, -10.523200035095215, -10.523200035095215, -10.523200035095215, -10.523200035095215, -0.9670000076293945, -1.1683000326156616, -2.2151999473571777, -2.376499891281128, -3.1758999824523926, -4.0518999099731445, -4.284200191497803, -4.64139986038208, -4.980999946594238, -5.327499866485596, -5.608699798583984, -5.767600059509277, -12.019000053405762, -12.019000053405762, -12.019000053405762, -12.019000053405762, -12.019000053405762, -12.019000053405762, -12.019000053405762, -12.019000053405762, -12.019000053405762, -12.019000053405762, -12.019000053405762, -12.019000053405762, -12.019000053405762, -12.019000053405762, -12.019000053405762, -12.019000053405762, -12.019000053405762, -12.019000053405762, -12.019000053405762, -12.019000053405762, -12.019000053405762, -12.019000053405762, -12.019000053405762, -12.019000053405762, -12.019000053405762, -12.019000053405762, -12.019000053405762, -12.019000053405762, -12.019000053405762, -12.019000053405762, -12.019000053405762, -12.019000053405762, -12.019000053405762, -12.019000053405762, -12.019000053405762, -12.019000053405762, -0.39160001277923584, -2.4184999465942383, -2.5840001106262207, -2.8292999267578125, -3.5973000526428223, -4.061200141906738, -4.472899913787842, -4.705399990081787, -4.788000106811523, -4.796500205993652, -4.999800205230713, -5.408999919891357, -11.750399589538574, -11.750399589538574, -11.750399589538574, -11.750399589538574, -11.750399589538574, -11.750399589538574, -11.750399589538574, -11.750399589538574, -11.750399589538574, -11.750399589538574, -11.750399589538574, -11.750399589538574, -11.750399589538574, -11.750399589538574, -11.750399589538574, -11.750399589538574, -11.750399589538574, -11.750399589538574, -11.750399589538574, -11.750399589538574, -11.750399589538574, -11.750399589538574, -11.750399589538574, -11.750399589538574, -11.750399589538574, -11.750399589538574, -11.750399589538574, -11.750399589538574, -11.750399589538574, -11.750399589538574, -11.750399589538574, -11.750399589538574, -11.750399589538574, -11.750399589538574, -11.750399589538574, -11.750399589538574, -0.25440001487731934, -2.414799928665161, -2.878999948501587, -3.4993999004364014, -4.167200088500977, -4.7789998054504395, -5.0030999183654785, -5.17140007019043, -11.250699996948242, -11.250699996948242, -11.250699996948242, -11.250699996948242, -11.250699996948242, -11.250699996948242, -11.250699996948242, -11.250699996948242, -11.250699996948242, -11.250699996948242, -11.250699996948242, -11.250699996948242, -11.250699996948242, -11.250699996948242, -11.250699996948242, -11.250699996948242, -11.250699996948242, -11.250699996948242, -11.250699996948242, -11.250699996948242, -11.250699996948242, -11.250699996948242, -11.250699996948242, -11.250699996948242, -11.250699996948242, -11.250699996948242, -11.250699996948242, -11.250699996948242, -11.250699996948242, -11.250699996948242, -11.250699996948242, -11.250699996948242, -11.250699996948242, -11.250699996948242, -11.250699996948242, -11.250699996948242, -11.250699996948242, -11.250699996948242, -11.250699996948242, -11.250699996948242, -11.250699996948242, -11.250699996948242, -11.250699996948242, -11.250699996948242, -0.3529999852180481, -1.9012000560760498, -3.203900098800659, -3.5539000034332275, -3.9193999767303467, -3.9530999660491943, -4.03380012512207, -10.684000015258789, -10.684000015258789, -10.684000015258789, -10.684000015258789, -10.684000015258789, -10.684000015258789, -10.684000015258789, -10.684000015258789, -10.684000015258789, -10.684000015258789, -10.684000015258789, -10.684000015258789, -10.684000015258789, -10.684000015258789, -10.684000015258789, -10.684000015258789, -10.684000015258789, -10.684000015258789, -10.684000015258789, -10.684000015258789, -10.684000015258789, -10.684000015258789, -10.684000015258789, -10.684000015258789, -10.684000015258789, -10.684000015258789, -10.684000015258789, -10.684000015258789, -10.684000015258789, -10.684000015258789, -10.684000015258789, -10.684000015258789, -10.684000015258789, -10.684000015258789, -10.684000015258789, -10.684000015258789, -10.684000015258789, -10.684000015258789, -10.684000015258789, -10.684000015258789, -10.684000015258789, -10.684000015258789, -10.684000015258789, -10.684000015258789, -10.684000015258789, -0.9265000224113464, -1.9330999851226807, -2.3736000061035156, -2.5927000045776367, -2.776099920272827, -2.9928998947143555, -3.085099935531616, -3.0908000469207764, -3.59879994392395, -3.7286999225616455, -10.180899620056152, -10.180899620056152, -10.180899620056152, -10.180899620056152, -10.180899620056152, -10.180899620056152, -10.180899620056152, -10.180899620056152, -10.180899620056152, -10.180899620056152, -10.180899620056152, -10.180899620056152, -10.180899620056152, -10.180899620056152, -10.180899620056152, -10.180899620056152, -10.180899620056152, -10.180899620056152, -10.180899620056152, -10.180899620056152, -10.180899620056152, -10.180899620056152, -10.180899620056152, -10.180899620056152, -10.180899620056152, -10.180899620056152, -10.180899620056152, -10.180899620056152, -10.180899620056152, -10.180899620056152, -10.180899620056152, -10.180899620056152, -10.180899620056152, -10.180899620056152, -10.180899620056152, -10.180899620056152, -10.180899620056152, -10.180899620056152, -10.180899620056152, -0.9943000078201294, -1.5534000396728516, -1.8479000329971313, -2.6928000450134277, -2.829699993133545, -2.9879000186920166, -3.8341000080108643, -3.9827001094818115, -4.037899971008301, -5.340199947357178, -10.725799560546875, -10.725799560546875, -10.725799560546875, -10.725799560546875, -10.725799560546875, -10.725799560546875, -10.725799560546875, -10.725799560546875, -10.725799560546875, -10.725799560546875, -10.725799560546875, -10.725799560546875, -10.725799560546875, -10.725799560546875, -10.725799560546875, -10.725799560546875, -10.725799560546875, -10.725799560546875, -10.725799560546875, -10.725799560546875, -10.725799560546875, -10.725799560546875, -10.725799560546875, -10.725799560546875, -10.725799560546875, -10.725799560546875, -10.725799560546875, -10.725799560546875, -10.725799560546875, -10.725799560546875, -10.725799560546875, -10.725799560546875, -10.725799560546875, -10.725799560546875, -10.725799560546875, -10.725799560546875, -10.725799560546875, -10.725799560546875, -10.725799560546875, -10.725799560546875, -1.4315999746322632, -1.4716999530792236, -1.9883999824523926, -2.5241000652313232, -3.015700101852417, -3.0833001136779785, -3.2320001125335693, -3.344899892807007, -3.4595000743865967, -3.9860000610351562, -4.074999809265137, -4.401199817657471, -4.497000217437744, -4.5183000564575195, -4.518499851226807, -4.584099769592285, -4.693399906158447, -11.177599906921387, -11.177599906921387, -11.177599906921387, -11.177599906921387, -11.177599906921387, -11.177599906921387, -11.177599906921387, -11.177599906921387, -11.177599906921387, -11.177599906921387, -11.177599906921387, -11.177599906921387, -11.177599906921387, -11.177599906921387, -11.177599906921387, -11.177599906921387, -11.177599906921387, -11.177599906921387, -11.177599906921387, -11.177599906921387, -11.177599906921387, -11.177599906921387, -11.177599906921387, -11.177599906921387, -11.177599906921387, -11.177599906921387, -1.1720999479293823, -1.5046000480651855, -1.7229000329971313, -2.322999954223633, -2.3585000038146973, -3.4892001152038574, -3.916599988937378, -4.2718000411987305, -10.290300369262695, -10.290300369262695, -10.290300369262695, -10.290300369262695, -10.290300369262695, -10.290300369262695, -10.290300369262695, -10.290300369262695, -10.290300369262695, -10.290300369262695, -10.290300369262695, -10.290300369262695, -10.290300369262695, -10.290300369262695, -10.290300369262695, -10.290300369262695, -10.290300369262695, -10.290300369262695, -10.290300369262695, -10.290300369262695, -10.290300369262695, -10.290300369262695, -10.290300369262695, -10.290300369262695, -10.290300369262695, -10.290300369262695, -10.290300369262695, -10.290300369262695, -10.290300369262695, -10.290300369262695, -10.290300369262695, -10.290300369262695, -10.290300369262695, -10.290300369262695, -10.290300369262695, -10.290300369262695, -10.290300369262695, -10.290300369262695, -10.290300369262695, -10.290300369262695, -10.290300369262695, -10.290300369262695, -10.290300369262695, -10.290300369262695, -1.705199956893921, -1.8186999559402466, -2.163300037384033, -2.1826000213623047, -2.407399892807007, -2.5190999507904053, -2.685499906539917, -3.1591999530792236, -3.307800054550171, -3.404400110244751, -3.56030011177063, -4.019700050354004, -10.343199729919434, -10.343199729919434, -10.343199729919434, -10.343199729919434, -10.343199729919434, -10.343199729919434, -10.343199729919434, -10.343199729919434, -10.343199729919434, -10.343199729919434, -10.343199729919434, -10.343199729919434, -10.343199729919434, -10.343199729919434, -10.343199729919434, -10.343199729919434, -10.343199729919434, -10.343199729919434, -10.343199729919434, -10.343199729919434, -10.343199729919434, -10.343199729919434, -10.343199729919434, -10.343199729919434, -10.343199729919434, -10.343199729919434, -10.343199729919434, -10.343199729919434, -10.343199729919434, -10.343199729919434, -10.343199729919434, -10.343199729919434, -10.343199729919434, -10.343199729919434, -10.343199729919434, -10.343199729919434, -1.4153000116348267, -1.9005999565124512, -1.9457000494003296, -2.6958999633789062, -2.8575000762939453, -2.980299949645996, -2.9860999584198, -3.01990008354187, -3.050299882888794, -3.375999927520752, -3.482300043106079, -3.7125000953674316, -4.412499904632568, -10.058699607849121, -10.058699607849121, -10.058699607849121, -10.058699607849121, -10.058699607849121, -10.058699607849121, -10.058699607849121, -10.058699607849121, -10.058699607849121, -10.058699607849121, -10.058699607849121, -10.058699607849121, -10.058699607849121, -10.058699607849121, -10.058699607849121, -10.058699607849121, -10.058699607849121, -10.058699607849121, -10.058699607849121, -10.058699607849121, -10.058699607849121, -10.058699607849121, -10.058699607849121, -10.058699607849121, -10.058699607849121, -10.058699607849121, -10.058699607849121, -10.058699607849121, -10.058699607849121, -10.058699607849121, -10.058699607849121, -10.058699607849121, -10.058699607849121, -10.058699607849121, -0.8327000141143799, -1.840399980545044, -2.4344000816345215, -2.730299949645996, -2.791599988937378, -3.0636000633239746, -3.2360000610351562, -3.774199962615967, -3.928100109100342, -4.127600193023682, -4.441100120544434, -4.522900104522705, -4.697000026702881, -11.021300315856934, -11.021300315856934, -11.021300315856934, -11.021300315856934, -11.021300315856934, -11.021300315856934, -11.021300315856934, -11.021300315856934, -11.021300315856934, -11.021300315856934, -11.021300315856934, -11.021300315856934, -11.021300315856934, -11.021300315856934, -11.021300315856934, -11.021300315856934, -11.021300315856934, -11.021300315856934, -11.021300315856934, -11.021300315856934, -11.021300315856934, -11.021300315856934, -11.021300315856934, -11.021300315856934, -11.021300315856934, -11.021300315856934, -11.021300315856934, -11.021300315856934, -11.021300315856934, -11.021300315856934, -11.021300315856934, -11.021300315856934, -11.021300315856934, -11.021300315856934, -0.9836999773979187, -1.20169997215271, -1.6434999704360962, -2.2351999282836914, -4.234000205993652, -5.554500102996826, -5.614200115203857, -6.584400177001953, -7.185500144958496, -13.838600158691406, -13.838600158691406, -13.838600158691406, -13.838600158691406, -13.838600158691406, -13.838600158691406, -13.838600158691406, -13.838600158691406, -13.838600158691406, -13.838600158691406, -13.838600158691406, -13.838600158691406, -13.838600158691406, -13.838600158691406, -13.838600158691406, -13.838600158691406, -13.838600158691406, -13.838600158691406, -13.838600158691406, -13.838600158691406, -13.838600158691406, -13.838600158691406, -13.838600158691406, -13.838600158691406, -13.838600158691406, -13.838600158691406, -13.838600158691406, -13.838600158691406, -13.838600158691406, -13.838600158691406, -13.838600158691406, -13.838600158691406, -13.838600158691406, -13.838600158691406, -13.838600158691406, -13.838600158691406, -13.838600158691406, -13.838600158691406, -13.838600158691406, -13.838600158691406, -13.838600158691406, -13.838600158691406, -1.031999945640564, -1.9114999771118164, -2.462399959564209, -2.5899999141693115, -2.8736000061035156, -2.9484000205993652, -3.41729998588562, -3.4762001037597656, -3.481600046157837, -3.5511999130249023, -3.704900026321411, -3.869499921798706, -3.8942999839782715, -4.6519999504089355, -5.183899879455566, -10.656499862670898, -10.656499862670898, -10.656499862670898, -10.656499862670898, -10.656499862670898, -10.656499862670898, -10.656499862670898, -10.656499862670898, -10.656499862670898, -10.656499862670898, -10.656499862670898, -10.656499862670898, -10.656499862670898, -10.656499862670898, -10.656499862670898, -10.656499862670898, -10.656499862670898, -10.656499862670898, -10.656499862670898, -10.656499862670898, -10.656499862670898, -10.656499862670898, -10.656499862670898, -10.656499862670898, -10.656499862670898, -10.656499862670898, -10.656499862670898, -10.656499862670898, -10.656499862670898, -10.656499862670898, -1.2806999683380127, -1.3178999423980713, -1.8603999614715576, -2.0478999614715576, -2.4121999740600586, -4.27400016784668, -4.2870001792907715, -4.514500141143799, -4.697700023651123, -4.709400177001953, -5.400400161743164, -10.8326997756958, -10.8326997756958, -10.8326997756958, -10.8326997756958, -10.8326997756958, -10.8326997756958, -10.8326997756958, -10.8326997756958, -10.8326997756958, -10.8326997756958, -10.8326997756958, -10.8326997756958, -10.8326997756958, -10.8326997756958, -10.8326997756958, -10.8326997756958, -10.8326997756958, -10.8326997756958, -10.8326997756958, -10.8326997756958, -10.8326997756958, -10.8326997756958, -10.8326997756958, -10.8326997756958, -10.8326997756958, -10.8326997756958, -10.8326997756958, -10.8326997756958, -10.8326997756958, -10.8326997756958, -10.8326997756958, -10.8326997756958, -10.8326997756958, -10.8326997756958, -10.8326997756958, -10.8326997756958, -10.8326997756958, -10.8326997756958, -0.7610999941825867, -1.1641000509262085, -2.6187000274658203, -3.6142001152038574, -3.8584001064300537, -3.899399995803833, -3.9400999546051025, -4.405799865722656, -4.481299877166748, -4.5980000495910645, -4.706399917602539, -10.920499801635742, -10.920499801635742, -10.920499801635742, -10.920499801635742, -10.920499801635742, -10.920499801635742, -10.920499801635742, -10.920499801635742, -10.920499801635742, -10.920499801635742, -10.920499801635742, -10.920499801635742, -10.920499801635742, -10.920499801635742, -10.920499801635742, -10.920499801635742, -10.920499801635742, -10.920499801635742, -10.920499801635742, -10.920499801635742, -10.920499801635742, -10.920499801635742, -10.920499801635742, -10.920499801635742, -10.920499801635742, -10.920499801635742, -10.920499801635742, -10.920499801635742, -10.920499801635742, -10.920499801635742, -10.920499801635742, -10.920499801635742, -10.920499801635742, -10.920499801635742, -10.920499801635742, -10.920499801635742, -10.920499801635742, -10.920499801635742, -0.9677000045776367, -1.358199954032898, -2.179800033569336, -2.4186999797821045, -2.5857999324798584, -3.190700054168701, -3.977299928665161, -4.4980998039245605, -5.313000202178955, -11.521300315856934, -11.521300315856934, -11.521300315856934, -11.521300315856934, -11.521300315856934, -11.521300315856934, -11.521300315856934, -11.521300315856934, -11.521300315856934, -11.521300315856934, -11.521300315856934, -11.521300315856934, -11.521300315856934, -11.521300315856934, -11.521300315856934, -11.521300315856934, -11.521300315856934, -11.521300315856934, -11.521300315856934, -11.521300315856934, -11.521300315856934, -11.521300315856934, -11.521300315856934, -11.521300315856934, -11.521300315856934, -11.521300315856934, -11.521300315856934, -11.521300315856934, -11.521300315856934, -11.521300315856934, -11.521300315856934, -11.521300315856934, -11.521300315856934, -11.521300315856934, -11.521300315856934, -11.521300315856934, -11.521300315856934, -11.521300315856934, -11.521300315856934, -11.521300315856934, -11.521300315856934, -11.521300315856934, -1.2308000326156616, -1.2960000038146973, -2.2583999633789062, -2.8661000728607178, -2.917099952697754, -3.2090001106262207, -3.2330000400543213, -3.35509991645813, -3.73799991607666, -3.808000087738037, -4.05210018157959, -4.608500003814697, -10.349200248718262, -10.349200248718262, -10.349200248718262, -10.349200248718262, -10.349200248718262, -10.349200248718262, -10.349200248718262, -10.349200248718262, -10.349200248718262, -10.349200248718262, -10.349200248718262, -10.349200248718262, -10.349200248718262, -10.349200248718262, -10.349200248718262, -10.349200248718262, -10.349200248718262, -10.349200248718262, -10.349200248718262, -10.349200248718262, -10.349200248718262, -10.349200248718262, -10.349200248718262, -10.349200248718262, -10.349200248718262, -10.349200248718262, -10.349200248718262, -10.349200248718262, -10.349200248718262, -10.349200248718262, -10.349200248718262, -10.349200248718262, -10.349200248718262, -10.349200248718262, -10.349200248718262, -10.349200248718262, -0.737500011920929, -1.7803000211715698, -2.158900022506714, -2.5006000995635986, -3.256999969482422, -3.38319993019104, -4.0183000564575195, -4.1020002365112305, -4.293700218200684, -4.400100231170654, -4.83650016784668, -11.080300331115723, -11.080300331115723, -11.080300331115723, -11.080300331115723, -11.080300331115723, -11.080300331115723, -11.080300331115723, -11.080300331115723, -11.080300331115723, -11.080300331115723, -11.080300331115723, -11.080300331115723, -11.080300331115723, -11.080300331115723, -11.080300331115723, -11.080300331115723, -11.080300331115723, -11.080300331115723, -11.080300331115723, -11.080300331115723, -11.080300331115723, -11.080300331115723, -11.080300331115723, -11.080300331115723, -11.080300331115723, -11.080300331115723, -11.080300331115723, -11.080300331115723, -11.080300331115723, -11.080300331115723, -11.080300331115723, -11.080300331115723, -11.080300331115723, -11.080300331115723, -11.080300331115723, -11.080300331115723, -11.080300331115723, -11.080300331115723, -1.4639999866485596, -1.6433000564575195, -1.938099980354309, -1.9752000570297241, -2.716099977493286, -3.0882999897003174, -3.127500057220459, -3.1707000732421875, -3.9126999378204346, -4.128200054168701, -4.174499988555908, -4.574999809265137, -4.799600124359131, -4.837900161743164, -10.927900314331055, -10.927900314331055, -10.927900314331055, -10.927900314331055, -10.927900314331055, -10.927900314331055, -10.927900314331055, -10.927900314331055, -10.927900314331055, -10.927900314331055, -10.927900314331055, -10.927900314331055, -10.927900314331055, -10.927900314331055, -10.927900314331055, -10.927900314331055, -10.927900314331055, -10.927900314331055, -10.927900314331055, -10.927900314331055, -10.927900314331055, -10.927900314331055, -10.927900314331055, -10.927900314331055, -10.927900314331055, -10.927900314331055, -10.927900314331055, -10.927900314331055, -10.927900314331055, -10.927900314331055, -10.927900314331055, -10.927900314331055, -1.0993000268936157, -1.9875999689102173, -2.424999952316284, -2.80649995803833, -2.8620998859405518, -2.8770999908447266, -3.092600107192993, -3.203200101852417, -3.3903000354766846, -3.5924999713897705, -3.6375999450683594, -3.8573999404907227, -3.9179999828338623, -4.154099941253662, -4.40910005569458, -5.122099876403809, -10.819299697875977, -10.819299697875977, -10.819299697875977, -10.819299697875977, -10.819299697875977, -10.819299697875977, -10.819299697875977, -10.819299697875977, -10.819299697875977, -10.819299697875977, -10.819299697875977, -10.819299697875977, -10.819299697875977, -10.819299697875977, -10.819299697875977, -10.819299697875977, -10.819299697875977, -10.819299697875977, -10.819299697875977, -10.819299697875977, -10.819299697875977, -10.819299697875977, -10.819299697875977, -10.819299697875977, -10.819299697875977, -10.819299697875977, -10.819299697875977, -10.819299697875977, -1.6019999980926514, -1.7755999565124512, -2.1659998893737793, -2.3034000396728516, -2.658099889755249, -2.780400037765503, -3.00819993019104, -3.0543999671936035, -3.237799882888794, -3.449399948120117, -3.478100061416626, -3.560699939727783, -3.939500093460083, -10.183799743652344, -10.183799743652344, -10.183799743652344, -10.183799743652344, -10.183799743652344, -10.183799743652344, -10.183799743652344, -10.183799743652344, -10.183799743652344, -10.183799743652344, -10.183799743652344, -10.183799743652344, -10.183799743652344, -10.183799743652344, -10.183799743652344, -10.183799743652344, -10.183799743652344, -10.183799743652344, -10.183799743652344, -10.183799743652344, -10.183799743652344, -10.183799743652344, -10.183799743652344, -10.183799743652344, -10.183799743652344, -10.183799743652344, -10.183799743652344, -10.183799743652344, -10.183799743652344, -10.183799743652344, -10.183799743652344, -10.183799743652344, -10.183799743652344, -10.183799743652344, -0.27549999952316284, -2.099100112915039, -3.243499994277954, -3.268899917602539, -3.77620005607605, -5.369900226593018, -5.595300197601318, -5.713699817657471, -6.336900234222412, -12.212499618530273, -12.212499618530273, -12.212499618530273, -12.212499618530273, -12.212499618530273, -12.212499618530273, -12.212499618530273, -12.212499618530273, -12.212499618530273, -12.212499618530273, -12.212499618530273, -12.212499618530273, -12.212499618530273, -12.212499618530273, -12.212499618530273, -12.212499618530273, -12.212499618530273, -12.212499618530273, -12.212499618530273, -12.212499618530273, -12.212499618530273, -12.212499618530273, -12.212499618530273, -12.212499618530273, -12.212499618530273, -12.212499618530273, -12.212499618530273, -12.212499618530273, -12.212499618530273, -12.212499618530273, -12.212499618530273, -12.212499618530273, -12.212499618530273, -12.212499618530273, -12.212499618530273, -12.212499618530273, -12.212499618530273, -12.212499618530273, -12.212499618530273, -12.212499618530273, -12.212499618530273, -12.212499618530273, -0.9980999827384949, -1.0270999670028687, -2.136699914932251, -2.4523000717163086, -3.1677000522613525, -4.739999771118164, -10.868399620056152, -10.868399620056152, -10.868399620056152, -10.868399620056152, -10.868399620056152, -10.868399620056152, -10.868399620056152, -10.868399620056152, -10.868399620056152, -10.868399620056152, -10.868399620056152, -10.868399620056152, -10.868399620056152, -10.868399620056152, -10.868399620056152, -10.868399620056152, -10.868399620056152, -10.868399620056152, -10.868399620056152, -10.868399620056152, -10.868399620056152, -10.868399620056152, -10.868399620056152, -10.868399620056152, -10.868399620056152, -10.868399620056152, -10.868399620056152, -10.868399620056152, -10.868399620056152, -10.868399620056152, -10.868399620056152, -10.868399620056152, -10.868399620056152, -10.868399620056152, -10.868399620056152, -10.868399620056152, -10.868399620056152, -10.868399620056152, -10.868399620056152, -10.868399620056152, -10.868399620056152, -10.868399620056152, -10.868399620056152, -10.868399620056152, -10.868399620056152, -10.868399620056152, -10.868399620056152, -1.4072999954223633, -1.7858999967575073, -2.6154000759124756, -2.659899950027466, -2.945199966430664, -2.9802000522613525, -3.0897998809814453, -3.21560001373291, -3.2286999225616455, -3.24180006980896, -3.368299961090088, -3.6542000770568848, -3.6689999103546143, -3.9068000316619873, -3.946500062942505, -4.302000045776367, -4.405300140380859, -10.5201997756958, -10.5201997756958, -10.5201997756958, -10.5201997756958, -10.5201997756958, -10.5201997756958, -10.5201997756958, -10.5201997756958, -10.5201997756958, -10.5201997756958, -10.5201997756958, -10.5201997756958, -10.5201997756958, -10.5201997756958, -10.5201997756958, -10.5201997756958, -10.5201997756958, -10.5201997756958, -10.5201997756958, -10.5201997756958, -10.5201997756958, -10.5201997756958, -10.5201997756958, -10.5201997756958, -10.5201997756958, -10.5201997756958, -1.2096999883651733, -1.5347000360488892, -2.460200071334839, -2.47189998626709, -2.8661000728607178, -2.9086999893188477, -3.0517001152038574, -3.5160999298095703, -3.6064999103546143, -3.7147998809814453, -3.9274001121520996, -4.167200088500977, -10.055299758911133, -10.055299758911133, -10.055299758911133, -10.055299758911133, -10.055299758911133, -10.055299758911133, -10.055299758911133, -10.055299758911133, -10.055299758911133, -10.055299758911133, -10.055299758911133, -10.055299758911133, -10.055299758911133, -10.055299758911133, -10.055299758911133, -10.055299758911133, -10.055299758911133, -10.055299758911133, -10.055299758911133, -10.055299758911133, -10.055299758911133, -10.055299758911133, -10.055299758911133, -10.055299758911133, -10.055299758911133, -10.055299758911133, -10.055299758911133, -10.055299758911133, -10.055299758911133, -10.055299758911133, -10.055299758911133, -10.055299758911133, -10.055299758911133, -10.055299758911133, -10.055299758911133, -10.055299758911133, -1.5441999435424805, -2.208699941635132, -2.2126998901367188, -2.455399990081787, -2.546999931335449, -2.6570000648498535, -2.9184000492095947, -3.159600019454956, -3.651700019836426, -3.6670000553131104, -3.759200096130371, -3.7908999919891357, -3.848099946975708, -3.8965001106262207, -3.974100112915039, -4.083600044250488, -4.295599937438965, -4.304900169372559, -4.309599876403809, -10.707799911499023, -10.707799911499023, -10.707799911499023, -10.707799911499023, -10.707799911499023, -10.707799911499023, -10.707799911499023, -10.707799911499023, -10.707799911499023, -10.707799911499023, -10.707799911499023, -10.707799911499023, -10.707799911499023, -10.707799911499023, -10.707799911499023, -10.707799911499023, -10.707799911499023, -10.707799911499023, -10.707799911499023, -10.707799911499023, -10.707799911499023, -10.707799911499023, -2.4068000316619873, -2.4117000102996826, -2.496500015258789, -2.5917999744415283, -2.6236000061035156, -3.1689999103546143, -3.1907999515533447, -3.267400026321411, -3.2785000801086426, -3.280900001525879, -3.3840999603271484, -3.5239999294281006, -3.6029999256134033, -3.8036999702453613, -3.8232998847961426, -3.9066998958587646, -3.9231998920440674, -3.92330002784729, -3.9572999477386475, -3.9969000816345215, -4.0005998611450195, -4.061800003051758, -4.256700038909912, -4.365499973297119, -4.472899913787842, -4.503799915313721, -4.576600074768066, -4.576600074768066, -4.5971999168396, -4.666200160980225, -0.5612999796867371, -1.5363999605178833, -2.836899995803833, -3.141900062561035, -3.6903998851776123, -3.7367000579833984, -3.766900062561035, -4.358099937438965, -4.9842000007629395, -5.082499980926514, -6.224400043487549, -11.222900390625, -11.222900390625, -11.222900390625, -11.222900390625, -11.222900390625, -11.222900390625, -11.222900390625, -11.222900390625, -11.222900390625, -11.222900390625, -11.222900390625, -11.222900390625, -11.222900390625, -11.222900390625, -11.222900390625, -11.222900390625, -11.222900390625, -11.222900390625, -11.222900390625, -11.222900390625, -11.222900390625, -11.222900390625, -11.222900390625, -11.222900390625, -11.222900390625, -11.222900390625, -11.222900390625, -11.222900390625, -11.222900390625, -11.222900390625, -11.222900390625, -11.222900390625, -11.222900390625, -11.222900390625, -11.222900390625, -11.222900390625, -11.222900390625, -11.222900390625, -1.2616000175476074, -1.6083999872207642, -1.6442999839782715, -3.0838000774383545, -3.108299970626831, -3.190500020980835, -3.2878000736236572, -3.3039000034332275, -3.4946999549865723, -3.847599983215332, -3.9563000202178955, -4.080699920654297, -10.371299743652344, -10.371299743652344, -10.371299743652344, -10.371299743652344, -10.371299743652344, -10.371299743652344, -10.371299743652344, -10.371299743652344, -10.371299743652344, -10.371299743652344, -10.371299743652344, -10.371299743652344, -10.371299743652344, -10.371299743652344, -10.371299743652344, -10.371299743652344, -10.371299743652344, -10.371299743652344, -10.371299743652344, -10.371299743652344, -10.371299743652344, -10.371299743652344, -10.371299743652344, -10.371299743652344, -10.371299743652344, -10.371299743652344, -10.371299743652344, -10.371299743652344, -10.371299743652344, -10.371299743652344, -10.371299743652344, -10.371299743652344, -10.371299743652344, -10.371299743652344, -10.371299743652344, -10.371299743652344, -1.2826000452041626, -1.9853999614715576, -2.4821999073028564, -2.509700059890747, -2.5274999141693115, -2.8431999683380127, -2.887700080871582, -3.0778000354766846, -3.109299898147583, -3.328900098800659, -3.893899917602539, -3.99399995803833, -4.008900165557861, -4.261000156402588, -4.397299766540527, -10.946999549865723, -10.946999549865723, -10.946999549865723, -10.946999549865723, -10.946999549865723, -10.946999549865723, -10.946999549865723, -10.946999549865723, -10.946999549865723, -10.946999549865723, -10.946999549865723, -10.946999549865723, -10.946999549865723, -10.946999549865723, -10.946999549865723, -10.946999549865723, -10.946999549865723, -10.946999549865723, -10.946999549865723, -10.946999549865723, -10.946999549865723, -10.946999549865723, -10.946999549865723, -10.946999549865723, -10.946999549865723, -10.946999549865723, -10.946999549865723, -10.946999549865723, -10.946999549865723, -10.946999549865723, -1.3991999626159668, -1.6068999767303467, -2.055999994277954, -2.1898999214172363, -2.3343000411987305, -2.835599899291992, -3.3336000442504883, -3.514400005340576, -3.5831000804901123, -3.963099956512451, -4.132800102233887, -10.40839958190918, -10.40839958190918, -10.40839958190918, -10.40839958190918, -10.40839958190918, -10.40839958190918, -10.40839958190918, -10.40839958190918, -10.40839958190918, -10.40839958190918, -10.40839958190918, -10.40839958190918, -10.40839958190918, -10.40839958190918, -10.40839958190918, -10.40839958190918, -10.40839958190918, -10.40839958190918, -10.40839958190918, -10.40839958190918, -10.40839958190918, -10.40839958190918, -10.40839958190918, -10.40839958190918, -10.40839958190918, -10.40839958190918, -10.40839958190918, -10.40839958190918, -10.40839958190918, -10.40839958190918, -10.40839958190918, -10.40839958190918, -10.40839958190918, -10.40839958190918, -10.40839958190918, -10.40839958190918, -10.40839958190918, -10.40839958190918, -1.2381000518798828, -1.7073999643325806, -2.0427000522613525, -2.0641000270843506, -2.2004001140594482, -2.8952999114990234, -3.861299991607666, -3.9688000679016113, -4.05679988861084, -4.096700191497803, -4.098999977111816, -11.025500297546387, -11.025500297546387, -11.025500297546387, -11.025500297546387, -11.025500297546387, -11.025500297546387, -11.025500297546387, -11.025500297546387, -11.025500297546387, -11.025500297546387, -11.025500297546387, -11.025500297546387, -11.025500297546387, -11.025500297546387, -11.025500297546387, -11.025500297546387, -11.025500297546387, -11.025500297546387, -11.025500297546387, -11.025500297546387, -11.025500297546387, -11.025500297546387, -11.025500297546387, -11.025500297546387, -11.025500297546387, -11.025500297546387, -11.025500297546387, -11.025500297546387, -11.025500297546387, -11.025500297546387, -11.025500297546387, -11.025500297546387, -11.025500297546387, -11.025500297546387, -11.025500297546387, -11.025500297546387, -11.025500297546387, -11.025500297546387, -0.7900000214576721, -1.4247000217437744, -2.581199884414673, -3.1926000118255615, -3.3189001083374023, -3.382499933242798, -3.5643999576568604, -3.5652999877929688, -3.79259991645813, -4.044899940490723, -10.682999610900879, -10.682999610900879, -10.682999610900879, -10.682999610900879, -10.682999610900879, -10.682999610900879, -10.682999610900879, -10.682999610900879, -10.682999610900879, -10.682999610900879, -10.682999610900879, -10.682999610900879, -10.682999610900879, -10.682999610900879, -10.682999610900879, -10.682999610900879, -10.682999610900879, -10.682999610900879, -10.682999610900879, -10.682999610900879, -10.682999610900879, -10.682999610900879, -10.682999610900879, -10.682999610900879, -10.682999610900879, -10.682999610900879, -10.682999610900879, -10.682999610900879, -10.682999610900879, -10.682999610900879, -10.682999610900879, -10.682999610900879, -10.682999610900879, -10.682999610900879, -10.682999610900879, -10.682999610900879, -10.682999610900879, -10.682999610900879, -10.682999610900879, -10.682999610900879, -1.4556000232696533, -1.9596999883651733, -2.2102999687194824, -2.3297998905181885, -2.4202001094818115, -2.566999912261963, -3.039400100708008, -3.3076000213623047, -3.411400079727173, -3.432499885559082, -3.5817999839782715, -4.013899803161621, -4.0843000411987305, -4.189899921417236, -10.530699729919434, -10.530699729919434, -10.530699729919434, -10.530699729919434, -10.530699729919434, -10.530699729919434, -10.530699729919434, -10.530699729919434, -10.530699729919434, -10.530699729919434, -10.530699729919434, -10.530699729919434, -10.530699729919434, -10.530699729919434, -10.530699729919434, -10.530699729919434, -10.530699729919434, -10.530699729919434, -10.530699729919434, -10.530699729919434, -10.530699729919434, -10.530699729919434, -10.530699729919434, -10.530699729919434, -10.530699729919434, -10.530699729919434, -10.530699729919434, -10.530699729919434, -10.530699729919434, -10.530699729919434, -10.530699729919434, -10.530699729919434, -1.4599000215530396, -1.7472000122070312, -2.1612000465393066, -2.2799999713897705, -2.7451000213623047, -3.288800001144409, -3.316999912261963, -3.3234000205993652, -3.5227999687194824, -3.5801000595092773, -3.8845999240875244, -3.933500051498413, -3.950200080871582, -3.990299940109253, -4.098299980163574, -4.381899833679199, -4.388800144195557, -5.083700180053711, -10.812700271606445, -10.812700271606445, -10.812700271606445, -10.812700271606445, -10.812700271606445, -10.812700271606445, -10.812700271606445, -10.812700271606445, -10.812700271606445, -10.812700271606445, -10.812700271606445, -10.812700271606445, -10.812700271606445, -10.812700271606445, -10.812700271606445, -10.812700271606445, -10.812700271606445, -10.812700271606445, -10.812700271606445, -10.812700271606445, -10.812700271606445, -10.812700271606445, -10.812700271606445, -10.812700271606445, -0.6122000217437744, -2.115499973297119, -2.2918999195098877, -2.7269999980926514, -2.91510009765625, -3.0532000064849854, -3.9602999687194824, -3.997499942779541, -5.068299770355225, -10.53279972076416, -10.53279972076416, -10.53279972076416, -10.53279972076416, -10.53279972076416, -10.53279972076416, -10.53279972076416, -10.53279972076416, -10.53279972076416, -10.53279972076416, -10.53279972076416, -10.53279972076416, -10.53279972076416, -10.53279972076416, -10.53279972076416, -10.53279972076416, -10.53279972076416, -10.53279972076416, -10.53279972076416, -10.53279972076416, -10.53279972076416, -10.53279972076416, -10.53279972076416, -10.53279972076416, -10.53279972076416, -10.53279972076416, -10.53279972076416, -10.53279972076416, -10.53279972076416, -10.53279972076416, -10.53279972076416, -10.53279972076416, -10.53279972076416, -10.53279972076416, -10.53279972076416, -10.53279972076416, -10.53279972076416, -10.53279972076416, -10.53279972076416, -10.53279972076416, -10.53279972076416, -10.53279972076416, -1.0820000171661377, -1.743299961090088, -2.2321999073028564, -2.7309000492095947, -2.8394999504089355, -2.9667000770568848, -3.1328001022338867, -3.239000082015991, -3.4179999828338623, -3.45740008354187, -3.8097000122070312, -4.678100109100342, -10.546799659729004, -10.546799659729004, -10.546799659729004, -10.546799659729004, -10.546799659729004, -10.546799659729004, -10.546799659729004, -10.546799659729004, -10.546799659729004, -10.546799659729004, -10.546799659729004, -10.546799659729004, -10.546799659729004, -10.546799659729004, -10.546799659729004, -10.546799659729004, -10.546799659729004, -10.546799659729004, -10.546799659729004, -10.546799659729004, -10.546799659729004, -10.546799659729004, -10.546799659729004, -10.546799659729004, -10.546799659729004, -10.546799659729004, -10.546799659729004, -10.546799659729004, -10.546799659729004, -10.546799659729004, -10.546799659729004, -10.546799659729004, -10.546799659729004, -10.546799659729004, -10.546799659729004, -10.546799659729004, -1.906000018119812, -1.9443999528884888, -1.995300054550171, -2.343600034713745, -2.4416000843048096, -2.450000047683716, -2.8443000316619873, -3.356300115585327, -3.469899892807007, -3.5176000595092773, -3.5885000228881836, -3.6440999507904053, -3.6998000144958496, -4.0980000495910645, -4.2480998039245605, -4.373700141906738, -10.467900276184082, -10.467900276184082, -10.467900276184082, -10.467900276184082, -10.467900276184082, -10.467900276184082, -10.467900276184082, -10.467900276184082, -10.467900276184082, -10.467900276184082, -10.467900276184082, -10.467900276184082, -10.467900276184082, -10.467900276184082, -10.467900276184082, -10.467900276184082, -10.467900276184082, -10.467900276184082, -10.467900276184082, -10.467900276184082, -10.467900276184082, -10.467900276184082, -10.467900276184082, -10.467900276184082, -10.467900276184082, -10.467900276184082, -10.467900276184082, -10.467900276184082, -0.6029999852180481, -1.9296000003814697, -2.003200054168701, -3.4022998809814453, -3.4744999408721924, -3.6521999835968018, -3.929500102996826, -4.236100196838379, -4.4552001953125, -4.492300033569336, -4.968999862670898, -10.8503999710083, -10.8503999710083, -10.8503999710083, -10.8503999710083, -10.8503999710083, -10.8503999710083, -10.8503999710083, -10.8503999710083, -10.8503999710083, -10.8503999710083, -10.8503999710083, -10.8503999710083, -10.8503999710083, -10.8503999710083, -10.8503999710083, -10.8503999710083, -10.8503999710083, -10.8503999710083, -10.8503999710083, -10.8503999710083, -10.8503999710083, -10.8503999710083, -10.8503999710083, -10.8503999710083, -10.8503999710083, -10.8503999710083, -10.8503999710083, -10.8503999710083, -10.8503999710083, -10.8503999710083, -10.8503999710083, -10.8503999710083, -10.8503999710083, -10.8503999710083, -10.8503999710083, -10.8503999710083, -10.8503999710083, -10.8503999710083, -0.6254000067710876, -1.0887999534606934, -3.1147000789642334, -3.8452999591827393, -3.9540998935699463, -4.453700065612793, -4.603899955749512, -10.699299812316895, -10.699299812316895, -10.699299812316895, -10.699299812316895, -10.699299812316895, -10.699299812316895, -10.699299812316895, -10.699299812316895, -10.699299812316895, -10.699299812316895, -10.699299812316895, -10.699299812316895, -10.699299812316895, -10.699299812316895, -10.699299812316895, -10.699299812316895, -10.699299812316895, -10.699299812316895, -10.699299812316895, -10.699299812316895, -10.699299812316895, -10.699299812316895, -10.699299812316895, -10.699299812316895, -10.699299812316895, -10.699299812316895, -10.699299812316895, -10.699299812316895, -10.699299812316895, -10.699299812316895, -10.699299812316895, -10.699299812316895, -10.699299812316895, -10.699299812316895, -10.699299812316895, -10.699299812316895, -10.699299812316895, -10.699299812316895, -10.699299812316895, -10.699299812316895, -10.699299812316895, -10.699299812316895, -10.699299812316895, -10.699299812316895, -10.699299812316895, -1.6526999473571777, -1.86489999294281, -2.372999906539917, -2.452199935913086, -2.684000015258789, -3.1993000507354736, -3.231100082397461, -3.2360999584198, -3.2980000972747803, -3.5862998962402344, -3.6366000175476074, -3.6589999198913574, -3.6614999771118164, -3.676800012588501, -4.051199913024902, -4.113699913024902, -4.126399993896484, -4.132800102233887, -4.401800155639648, -4.720399856567383, -4.809199810028076, -4.8454999923706055, -11.023799896240234, -11.023799896240234, -11.023799896240234, -11.023799896240234, -11.023799896240234, -11.023799896240234, -11.023799896240234, -11.023799896240234, -11.023799896240234, -11.023799896240234, -11.023799896240234, -11.023799896240234, -11.023799896240234, -11.023799896240234, -11.023799896240234, -11.023799896240234, -1.0923999547958374, -1.2835999727249146, -2.1054999828338623, -2.5762999057769775, -3.0985000133514404, -3.696000099182129, -3.7253000736236572, -3.7409000396728516, -3.827699899673462, -3.8761000633239746, -4.672999858856201, -5.014599800109863, -11.17389965057373, -11.17389965057373, -11.17389965057373, -11.17389965057373, -11.17389965057373, -11.17389965057373, -11.17389965057373, -11.17389965057373, -11.17389965057373, -11.17389965057373, -11.17389965057373, -11.17389965057373, -11.17389965057373, -11.17389965057373, -11.17389965057373, -11.17389965057373, -11.17389965057373, -11.17389965057373, -11.17389965057373, -11.17389965057373, -11.17389965057373, -11.17389965057373, -11.17389965057373, -11.17389965057373, -11.17389965057373, -11.17389965057373, -11.17389965057373, -11.17389965057373, -11.17389965057373, -11.17389965057373, -11.17389965057373, -11.17389965057373, -11.17389965057373, -11.17389965057373, -11.17389965057373, -11.17389965057373, -2.441200017929077, -2.4823999404907227, -2.6229000091552734, -2.6691999435424805, -2.67930006980896, -2.986299991607666, -3.0553998947143555, -3.1150999069213867, -3.333899974822998, -3.3926000595092773, -3.5797998905181885, -3.6133999824523926, -3.6459999084472656, -3.6668999195098877, -3.7225000858306885, -3.732800006866455, -3.807300090789795, -3.827399969100952, -3.914400100708008, -3.9435999393463135, -3.9560999870300293, -4.014599800109863, -4.109499931335449, -4.1645002365112305, -4.276599884033203, -4.301700115203857, -4.555699825286865, -4.605400085449219, -4.677499771118164, -4.712699890136719, -1.6385999917984009, -1.674399971961975, -1.9182000160217285, -2.327399969100952, -2.5448999404907227, -2.5480000972747803, -2.7151999473571777, -3.0845999717712402, -3.6491000652313232, -3.8215999603271484, -4.0690999031066895, -4.3632001876831055, -10.458999633789062, -10.458999633789062, -10.458999633789062, -10.458999633789062, -10.458999633789062, -10.458999633789062, -10.458999633789062, -10.458999633789062, -10.458999633789062, -10.458999633789062, -10.458999633789062, -10.458999633789062, -10.458999633789062, -10.458999633789062, -10.458999633789062, -10.458999633789062, -10.458999633789062, -10.458999633789062, -10.458999633789062, -10.458999633789062, -10.458999633789062, -10.458999633789062, -10.458999633789062, -10.458999633789062, -10.458999633789062, -10.458999633789062, -10.458999633789062, -10.458999633789062, -10.458999633789062, -10.458999633789062, -10.458999633789062, -10.458999633789062, -10.458999633789062, -10.458999633789062, -10.458999633789062, -10.458999633789062, -1.2863999605178833, -2.1503000259399414, -2.4756999015808105, -2.8401999473571777, -2.911600112915039, -3.115499973297119, -3.2455999851226807, -3.2846999168395996, -3.4028000831604004, -3.4827001094818115, -3.5325000286102295, -3.6159000396728516, -3.6461000442504883, -3.7144999504089355, -3.75, -3.8375000953674316, -3.856300115585327, -4.058199882507324, -10.19629955291748, -10.19629955291748, -10.19629955291748, -10.19629955291748, -10.19629955291748, -10.19629955291748, -10.19629955291748, -10.19629955291748, -10.19629955291748, -10.19629955291748, -10.19629955291748, -10.19629955291748, -10.19629955291748, -10.19629955291748, -10.19629955291748, -10.19629955291748, -10.19629955291748, -10.19629955291748, -10.19629955291748, -10.19629955291748, -10.19629955291748, -10.19629955291748, -10.19629955291748, -10.19629955291748, -1.8044999837875366, -1.9514000415802002, -2.003499984741211, -2.570199966430664, -2.576900005340576, -2.664400100708008, -2.6903998851776123, -2.936199903488159, -3.0381999015808105, -3.317500114440918, -3.467099905014038, -3.6115000247955322, -3.8199000358581543, -4.069200038909912, -10.24470043182373, -10.24470043182373, -10.24470043182373, -10.24470043182373, -10.24470043182373, -10.24470043182373, -10.24470043182373, -10.24470043182373, -10.24470043182373, -10.24470043182373, -10.24470043182373, -10.24470043182373, -10.24470043182373, -10.24470043182373, -10.24470043182373, -10.24470043182373, -10.24470043182373, -10.24470043182373, -10.24470043182373, -10.24470043182373, -10.24470043182373, -10.24470043182373, -10.24470043182373, -10.24470043182373, -10.24470043182373, -10.24470043182373, -10.24470043182373, -10.24470043182373, -10.24470043182373, -10.24470043182373, -10.24470043182373, -10.24470043182373, -0.7591000199317932, -1.0444999933242798, -3.4475998878479004, -3.72189998626709, -3.7929000854492188, -3.8117001056671143, -3.837599992752075, -3.970900058746338, -4.148799896240234, -10.633500099182129, -10.633500099182129, -10.633500099182129, -10.633500099182129, -10.633500099182129, -10.633500099182129, -10.633500099182129, -10.633500099182129, -10.633500099182129, -10.633500099182129, -10.633500099182129, -10.633500099182129, -10.633500099182129, -10.633500099182129, -10.633500099182129, -10.633500099182129, -10.633500099182129, -10.633500099182129, -10.633500099182129, -10.633500099182129, -10.633500099182129, -10.633500099182129, -10.633500099182129, -10.633500099182129, -10.633500099182129, -10.633500099182129, -10.633500099182129, -10.633500099182129, -10.633500099182129, -10.633500099182129, -10.633500099182129, -10.633500099182129, -10.633500099182129, -10.633500099182129, -10.633500099182129, -10.633500099182129, -10.633500099182129, -10.633500099182129, -10.633500099182129, -10.633500099182129, -10.633500099182129, -10.633500099182129, -1.9007999897003174, -1.9869999885559082, -1.9896999597549438, -2.278599977493286, -2.730299949645996, -2.8489999771118164, -2.916300058364868, -3.11929988861084, -3.2323999404907227, -3.2383999824523926, -3.2839999198913574, -3.4839999675750732, -3.6321001052856445, -3.6386001110076904, -4.279399871826172, -4.401100158691406, -10.468299865722656, -10.468299865722656, -10.468299865722656, -10.468299865722656, -10.468299865722656, -10.468299865722656, -10.468299865722656, -10.468299865722656, -10.468299865722656, -10.468299865722656, -10.468299865722656, -10.468299865722656, -10.468299865722656, -10.468299865722656, -10.468299865722656, -10.468299865722656, -10.468299865722656, -10.468299865722656, -10.468299865722656, -10.468299865722656, -10.468299865722656, -10.468299865722656, -10.468299865722656, -10.468299865722656, -10.468299865722656, -10.468299865722656, -10.468299865722656, -10.468299865722656, -0.9699000120162964, -1.8776999711990356, -2.0650999546051025, -2.213200092315674, -2.3452000617980957, -3.5155999660491943, -3.5894999504089355, -3.773099899291992, -4.20419979095459, -4.270999908447266, -4.576499938964844, -6.06279993057251, -11.125200271606445, -11.125200271606445, -11.125200271606445, -11.125200271606445, -11.125200271606445, -11.125200271606445, -11.125200271606445, -11.125200271606445, -11.125200271606445, -11.125200271606445, -11.125200271606445, -11.125200271606445, -11.125200271606445, -11.125200271606445, -11.125200271606445, -11.125200271606445, -11.125200271606445, -11.125200271606445, -11.125200271606445, -11.125200271606445, -11.125200271606445, -11.125200271606445, -11.125200271606445, -11.125200271606445, -11.125200271606445, -11.125200271606445, -11.125200271606445, -11.125200271606445, -11.125200271606445, -11.125200271606445, -11.125200271606445, -11.125200271606445, -11.125200271606445, -11.125200271606445, -11.125200271606445, -11.125200271606445, -0.948199987411499, -1.682800054550171, -1.8402999639511108, -3.04229998588562, -3.1043999195098877, -3.3577001094818115, -3.404599905014038, -3.592099905014038, -4.054500102996826, -4.118199825286865, -4.469900131225586, -10.22719955444336, -10.22719955444336, -10.22719955444336, -10.22719955444336, -10.22719955444336, -10.22719955444336, -10.22719955444336, -10.22719955444336, -10.22719955444336, -10.22719955444336, -10.22719955444336, -10.22719955444336, -10.22719955444336, -10.22719955444336, -10.22719955444336, -10.22719955444336, -10.22719955444336, -10.22719955444336, -10.22719955444336, -10.22719955444336, -10.22719955444336, -10.22719955444336, -10.22719955444336, -10.22719955444336, -10.22719955444336, -10.22719955444336, -10.22719955444336, -10.22719955444336, -10.22719955444336, -10.22719955444336, -10.22719955444336, -10.22719955444336, -10.22719955444336, -10.22719955444336, -10.22719955444336, -10.22719955444336, -10.22719955444336, -10.22719955444336, -0.8083000183105469, -2.387500047683716, -2.420099973678589, -2.7207999229431152, -2.861799955368042, -2.9489998817443848, -3.5046000480651855, -3.5185000896453857, -3.557499885559082, -3.683199882507324, -3.6877999305725098, -4.224400043487549, -4.32480001449585, -10.30780029296875, -10.30780029296875, -10.30780029296875, -10.30780029296875, -10.30780029296875, -10.30780029296875, -10.30780029296875, -10.30780029296875, -10.30780029296875, -10.30780029296875, -10.30780029296875, -10.30780029296875, -10.30780029296875, -10.30780029296875, -10.30780029296875, -10.30780029296875, -10.30780029296875, -10.30780029296875, -10.30780029296875, -10.30780029296875, -10.30780029296875, -10.30780029296875, -10.30780029296875, -10.30780029296875, -10.30780029296875, -10.30780029296875, -10.30780029296875, -10.30780029296875, -10.30780029296875, -10.30780029296875, -10.30780029296875, -10.30780029296875, -10.30780029296875, -10.30780029296875, -1.593999981880188, -1.9754999876022339, -1.9989999532699585, -2.4244000911712646, -3.151900053024292, -3.2727999687194824, -3.3478000164031982, -3.3608999252319336, -3.3743999004364014, -3.3808999061584473, -3.4130001068115234, -3.4809999465942383, -3.6236000061035156, -3.7925000190734863, -3.8803000450134277, -3.8996999263763428, -3.987799882888794, -4.0329999923706055, -10.536700248718262, -10.536700248718262, -10.536700248718262, -10.536700248718262, -10.536700248718262, -10.536700248718262, -10.536700248718262, -10.536700248718262, -10.536700248718262, -10.536700248718262, -10.536700248718262, -10.536700248718262, -10.536700248718262, -10.536700248718262, -10.536700248718262, -10.536700248718262, -10.536700248718262, -10.536700248718262, -10.536700248718262, -10.536700248718262, -10.536700248718262, -10.536700248718262, -10.536700248718262, -10.536700248718262, -1.0836999416351318, -1.7348999977111816, -1.8652000427246094, -2.181299924850464, -2.9946000576019287, -3.1022000312805176, -3.5401999950408936, -3.5815000534057617, -3.9779999256134033, -4.287099838256836, -10.274200439453125, -10.274200439453125, -10.274200439453125, -10.274200439453125, -10.274200439453125, -10.274200439453125, -10.274200439453125, -10.274200439453125, -10.274200439453125, -10.274200439453125, -10.274200439453125, -10.274200439453125, -10.274200439453125, -10.274200439453125, -10.274200439453125, -10.274200439453125, -10.274200439453125, -10.274200439453125, -10.274200439453125, -10.274200439453125, -10.274200439453125, -10.274200439453125, -10.274200439453125, -10.274200439453125, -10.274200439453125, -10.274200439453125, -10.274200439453125, -10.274200439453125, -10.274200439453125, -10.274200439453125, -10.274200439453125, -10.274200439453125, -10.274200439453125, -10.274200439453125, -10.274200439453125, -10.274200439453125, -10.274200439453125, -10.274200439453125, -10.274200439453125, -10.274200439453125, -0.8036999702453613, -1.347000002861023, -2.3178999423980713, -2.6802000999450684, -3.1628000736236572, -4.202700138092041, -4.256100177764893, -4.437300205230713, -4.55210018157959, -4.8454999923706055, -5.18720006942749, -5.34660005569458, -5.445199966430664, -11.580300331115723, -11.580300331115723, -11.580300331115723, -11.580300331115723, -11.580300331115723, -11.580300331115723, -11.580300331115723, -11.580300331115723, -11.580300331115723, -11.580300331115723, -11.580300331115723, -11.580300331115723, -11.580300331115723, -11.580300331115723, -11.580300331115723, -11.580300331115723, -11.580300331115723, -11.580300331115723, -11.580300331115723, -11.580300331115723, -11.580300331115723, -11.580300331115723, -11.580300331115723, -11.580300331115723, -11.580300331115723, -11.580300331115723, -11.580300331115723, -11.580300331115723, -11.580300331115723, -11.580300331115723, -11.580300331115723, -11.580300331115723, -11.580300331115723, -11.580300331115723, -0.9107999801635742, -1.215399980545044, -1.9571000337600708, -3.291800022125244, -3.6340999603271484, -3.7465999126434326, -4.289999961853027, -4.306000232696533, -4.400100231170654, -4.5777997970581055, -4.653800010681152, -11.174200057983398, -11.174200057983398, -11.174200057983398, -11.174200057983398, -11.174200057983398, -11.174200057983398, -11.174200057983398, -11.174200057983398, -11.174200057983398, -11.174200057983398, -11.174200057983398, -11.174200057983398, -11.174200057983398, -11.174200057983398, -11.174200057983398, -11.174200057983398, -11.174200057983398, -11.174200057983398, -11.174200057983398, -11.174200057983398, -11.174200057983398, -11.174200057983398, -11.174200057983398, -11.174200057983398, -11.174200057983398, -11.174200057983398, -11.174200057983398, -11.174200057983398, -11.174200057983398, -11.174200057983398, -11.174200057983398, -11.174200057983398, -11.174200057983398, -11.174200057983398, -11.174200057983398, -11.174200057983398, -11.174200057983398, -11.174200057983398, -1.0484999418258667, -2.1682000160217285, -2.2808001041412354, -2.6136999130249023, -3.0215001106262207, -3.0425000190734863, -3.1774001121520996, -3.2883999347686768, -3.3173000812530518, -3.54229998588562, -4.1209001541137695, -4.175899982452393, -4.319499969482422, -4.35290002822876, -4.419899940490723, -4.499800205230713, -4.651100158691406, -4.932499885559082, -4.957499980926514, -5.184100151062012, -11.599300384521484, -11.599300384521484, -11.599300384521484, -11.599300384521484, -11.599300384521484, -11.599300384521484, -11.599300384521484, -11.599300384521484, -11.599300384521484, -11.599300384521484, -11.599300384521484, -11.599300384521484, -11.599300384521484, -11.599300384521484, -11.599300384521484, -11.599300384521484, -11.599300384521484, -11.599300384521484, -11.599300384521484, -11.599300384521484, -0.4172999858856201, -1.8919999599456787, -1.9006999731063843, -4.218400001525879, -4.67710018157959, -10.951000213623047, -10.951000213623047, -10.951000213623047, -10.951000213623047, -10.951000213623047, -10.951000213623047, -10.951000213623047, -10.951000213623047, -10.951000213623047, -10.951000213623047, -10.951000213623047, -10.951000213623047, -10.951000213623047, -10.951000213623047, -10.951000213623047, -10.951000213623047, -10.951000213623047, -10.951000213623047, -10.951000213623047, -10.951000213623047, -10.951000213623047, -10.951000213623047, -10.951000213623047, -10.951000213623047, -10.951000213623047, -10.951000213623047, -10.951000213623047, -10.951000213623047, -10.951000213623047, -10.951000213623047, -10.951000213623047, -10.951000213623047, -10.951000213623047, -10.951000213623047, -10.951000213623047, -10.951000213623047, -10.951000213623047, -10.951000213623047, -10.951000213623047, -10.951000213623047, -10.951000213623047, -10.951000213623047, -10.951000213623047, -10.951000213623047, -10.951000213623047, -10.951000213623047, -10.951000213623047, -10.951000213623047, -10.951000213623047, -1.9372999668121338, -1.9424999952316284, -2.5006000995635986, -2.655400037765503, -2.7483999729156494, -3.1819000244140625, -3.2476999759674072, -3.393899917602539, -3.40339994430542, -3.4344000816345215, -3.450000047683716, -3.518899917602539, -3.5739998817443848, -3.5750999450683594, -3.654099941253662, -3.7011001110076904, -3.7734999656677246, -4.080699920654297, -4.208099842071533, -4.222099781036377, -4.251999855041504, -4.419099807739258, -4.479700088500977, -4.618299961090088, -4.919099807739258, -10.559000015258789, -10.559000015258789, -10.559000015258789, -10.559000015258789, -10.559000015258789, -10.559000015258789, -10.559000015258789, -10.559000015258789, -10.559000015258789, -10.559000015258789, -1.4222999811172485, -2.1600000858306885, -2.6345999240875244, -2.8696999549865723, -3.0088999271392822, -3.322200059890747, -3.432300090789795, -3.496999979019165, -3.730799913406372, -3.7883999347686768, -3.9189000129699707, -3.960900068283081, -3.9939000606536865, -4.041200160980225, -4.055500030517578, -4.096099853515625, -4.099899768829346, -4.100599765777588, -4.101399898529053, -4.1442999839782715, -4.176300048828125, -4.180699825286865, -4.25029993057251, -4.26170015335083, -4.456600189208984, -4.518599987030029, -4.52370023727417, -4.59089994430542, -4.6697998046875, -4.690499782562256, -0.5353999733924866, -1.936400055885315, -3.112600088119507, -3.136199951171875, -3.217099905014038, -3.4323999881744385, -3.672300100326538, -3.947000026702881, -4.1082000732421875, -4.23390007019043, -4.3277997970581055, -4.68149995803833, -11.297300338745117, -11.297300338745117, -11.297300338745117, -11.297300338745117, -11.297300338745117, -11.297300338745117, -11.297300338745117, -11.297300338745117, -11.297300338745117, -11.297300338745117, -11.297300338745117, -11.297300338745117, -11.297300338745117, -11.297300338745117, -11.297300338745117, -11.297300338745117, -11.297300338745117, -11.297300338745117, -11.297300338745117, -11.297300338745117, -11.297300338745117, -11.297300338745117, -11.297300338745117, -11.297300338745117, -11.297300338745117, -11.297300338745117, -11.297300338745117, -11.297300338745117, -11.297300338745117, -11.297300338745117, -11.297300338745117, -11.297300338745117, -11.297300338745117, -11.297300338745117, -11.297300338745117, -11.297300338745117, -1.1692999601364136, -1.2905999422073364, -1.3460999727249146, -3.5085999965667725, -3.749799966812134, -4.002399921417236, -4.0457000732421875, -4.092100143432617, -4.232800006866455, -4.697199821472168, -4.779900074005127, -10.996100425720215, -10.996100425720215, -10.996100425720215, -10.996100425720215, -10.996100425720215, -10.996100425720215, -10.996100425720215, -10.996100425720215, -10.996100425720215, -10.996100425720215, -10.996100425720215, -10.996100425720215, -10.996100425720215, -10.996100425720215, -10.996100425720215, -10.996100425720215, -10.996100425720215, -10.996100425720215, -10.996100425720215, -10.996100425720215, -10.996100425720215, -10.996100425720215, -10.996100425720215, -10.996100425720215, -10.996100425720215, -10.996100425720215, -10.996100425720215, -10.996100425720215, -10.996100425720215, -10.996100425720215, -10.996100425720215, -10.996100425720215, -10.996100425720215, -10.996100425720215, -10.996100425720215, -10.996100425720215, -10.996100425720215, -10.996100425720215, -1.1556999683380127, -2.187700033187866, -2.2636001110076904, -2.2892000675201416, -2.3849000930786133, -2.58870005607605, -2.7983999252319336, -3.164099931716919, -3.499799966812134, -9.570799827575684, -9.570799827575684, -9.570799827575684, -9.570799827575684, -9.570799827575684, -9.570799827575684, -9.570799827575684, -9.570799827575684, -9.570799827575684, -9.570799827575684, -9.570799827575684, -9.570799827575684, -9.570799827575684, -9.570799827575684, -9.570799827575684, -9.570799827575684, -9.570799827575684, -9.570799827575684, -9.570799827575684, -9.570799827575684, -9.570799827575684, -9.570799827575684, -9.570799827575684, -9.570799827575684, -9.570799827575684, -9.570799827575684, -9.570799827575684, -9.570799827575684, -9.570799827575684, -9.570799827575684, -9.570799827575684, -9.570799827575684, -9.570799827575684, -9.570799827575684, -9.570799827575684, -9.570799827575684, -9.570799827575684, -9.570799827575684, -9.570799827575684, -9.570799827575684, -9.570799827575684, -9.570799827575684]}, \"token.table\": {\"Topic\": [58, 56, 26, 6, 1, 60, 59, 59, 29, 60, 41, 49, 47, 66, 38, 33, 12, 37, 55, 1, 1, 25, 17, 5, 35, 39, 26, 40, 21, 64, 29, 9, 1, 62, 39, 2, 69, 6, 19, 2, 7, 61, 50, 58, 66, 38, 18, 18, 9, 58, 27, 37, 4, 55, 56, 42, 46, 30, 14, 51, 15, 3, 38, 65, 33, 13, 62, 70, 68, 3, 36, 11, 49, 48, 39, 68, 28, 56, 28, 70, 16, 34, 34, 41, 3, 16, 37, 58, 21, 37, 34, 37, 38, 30, 45, 2, 60, 2, 69, 6, 21, 34, 40, 10, 14, 70, 70, 45, 19, 53, 6, 56, 35, 67, 1, 66, 35, 51, 28, 5, 66, 56, 53, 30, 35, 35, 67, 55, 4, 34, 48, 51, 51, 5, 4, 64, 49, 19, 37, 18, 15, 60, 46, 51, 45, 11, 28, 57, 11, 45, 69, 43, 1, 64, 43, 49, 64, 42, 35, 64, 61, 21, 24, 18, 35, 3, 29, 31, 51, 43, 37, 57, 41, 68, 26, 42, 29, 40, 60, 10, 2, 29, 1, 15, 35, 38, 6, 64, 39, 3, 46, 39, 6, 53, 66, 64, 9, 58, 67, 63, 33, 44, 4, 21, 45, 42, 1, 52, 49, 46, 12, 32, 62, 48, 8, 57, 10, 40, 63, 21, 13, 32, 45, 3, 13, 57, 27, 43, 3, 1, 57, 70, 18, 69, 54, 56, 50, 64, 50, 50, 64, 25, 60, 35, 6, 59, 44, 3, 67, 66, 33, 44, 51, 4, 56, 51, 63, 60, 67, 49, 69, 15, 53, 16, 64, 53, 67, 49, 64, 35, 15, 36, 33, 26, 41, 52, 66, 51, 63, 13, 60, 47, 67, 5, 2, 42, 68, 60, 24, 19, 1, 15, 35, 29, 26, 51, 34, 54, 56, 53, 34, 44, 19, 18, 9, 49, 9, 69, 67, 67, 25, 28, 32, 24, 23, 2, 54, 18, 28, 27, 9, 54, 49, 59, 45, 51, 32, 40, 67, 62, 11, 2, 63, 63, 38, 27, 5, 56, 54, 15, 21, 22, 55, 35, 25, 61, 47, 65, 69, 2, 48, 35, 64, 46, 10, 4, 24, 38, 2, 47, 13, 26, 42, 27, 28, 35, 67, 30, 3, 19, 52, 43, 23, 34, 7, 8, 2, 60, 10, 32, 1, 26, 2, 60, 42, 7, 39, 7, 13, 17, 44, 47, 17, 28, 52, 20, 66, 7, 1, 25, 68, 49, 42, 62, 67, 33, 34, 51, 51, 50, 53, 5, 31, 67, 15, 58, 68, 6, 48, 18, 41, 70, 49, 50, 28, 6, 28, 58, 2, 17, 66, 53, 6, 43, 18, 40, 19, 62, 53, 27, 22, 5, 36, 11, 23, 14, 8, 49, 40, 8, 7, 46, 33, 52, 66, 61, 43, 1, 38, 51, 42, 2, 2, 43, 56, 52, 22, 10, 3, 36, 12, 26, 56, 24, 64, 59, 8, 5, 32, 62, 32, 23, 34, 15, 39, 47, 52, 51, 17, 37, 68, 2, 35, 47, 59, 46, 34, 21, 48, 30, 41, 25, 67, 56, 4, 54, 33, 32, 6, 59, 33, 70, 31, 32, 29, 66, 57, 38, 21, 53, 43, 6, 19, 15, 21, 2, 6, 59, 67, 16, 34, 23, 41, 51, 33, 62, 46, 53, 58, 35, 6, 18, 34, 6, 19, 67, 4, 39, 5, 1, 19, 2, 34, 30, 45, 26, 5, 10, 52, 62, 15, 68, 50, 55, 51, 20, 45, 34, 66, 9, 44, 32, 54, 35, 51, 43, 16, 36, 50, 21, 27, 53, 29, 65, 20, 62, 17, 5, 67, 66, 54, 15, 19, 38, 54, 25, 36, 29, 60, 59, 49, 68, 38, 49, 5, 22, 62, 2, 2, 30, 67, 29, 53, 6, 39, 37, 64, 27, 59, 36, 27, 22, 54, 4, 51, 56, 42, 61, 35, 67, 27, 1, 28, 63, 68, 35, 60, 67, 42, 3, 18, 25, 13, 40, 21, 21, 60, 1, 2, 42, 51, 63, 41, 6, 6, 70, 45, 8, 2, 11, 35, 35, 60, 52, 36, 2, 53, 7, 25, 43, 21, 28, 13, 26, 43, 42, 10, 46, 55, 55, 54, 17, 38, 67, 51, 43, 57, 69, 10, 65, 1, 64, 20, 50, 3, 57, 29, 26, 51, 67, 66, 51, 66, 27, 20, 9, 69, 30, 65, 32, 33, 51, 23, 20, 53, 47, 28, 14, 45, 64, 43, 6, 32, 51, 15, 44, 13, 47, 23, 62, 20, 58, 5, 8, 51, 60, 36, 41, 24, 35, 56, 10, 43, 23, 36, 35, 14, 66, 39, 64, 16, 3, 52, 49, 6, 4, 67, 12, 69, 64, 55, 32, 12, 3, 69, 53, 16, 44, 5, 70, 37, 6, 52, 9, 51, 38, 15, 46, 35, 49, 49, 1, 23, 17, 66, 17, 14, 3, 36, 3, 35, 47, 6, 2, 34, 61, 19, 10, 43, 59, 66, 39, 67, 66, 4, 49, 6, 63, 28, 8, 22, 14, 61, 68, 8, 46, 9, 27, 66, 22, 32, 15, 46, 67, 12, 6, 29, 49, 37, 14, 25, 64, 27, 62, 35, 23, 63, 35, 44, 67, 11, 32, 29, 34, 66, 13, 20, 51, 3, 57, 7, 35, 67, 67, 67, 16, 46, 20, 22, 23, 24, 3, 15, 34, 19, 7, 31, 31, 22, 63, 35, 31, 2, 66, 50, 3, 60, 51, 66, 57, 9, 68, 53, 2, 35, 8, 56, 38, 42, 51, 2, 49, 66, 67, 54, 40, 52, 22, 43, 61, 56, 48, 61, 24, 7, 46, 35, 46, 66, 53, 58, 27, 50, 14, 57, 55, 40, 58, 64, 15, 32, 18, 17, 49, 18, 7, 22, 61, 54, 67, 28, 2, 33, 46, 38, 34, 40, 2, 50, 51, 59, 2, 21, 60, 10, 14, 41, 12, 17, 45, 47, 25, 28, 43, 32, 59, 11, 49, 37, 54, 57, 17, 30, 9, 7, 24, 25], \"Freq\": [0.9615688323974609, 0.9787366986274719, 0.875576913356781, 0.9288474321365356, 0.9215571880340576, 0.9646728038787842, 0.939468264579773, 0.9796969890594482, 0.9723220467567444, 0.923592746257782, 0.9454567432403564, 0.841158390045166, 0.8133527040481567, 0.9599876403808594, 0.9615450501441956, 0.8263246417045593, 0.9698584079742432, 0.9247370362281799, 0.9517843127250671, 0.927820086479187, 0.9611583352088928, 0.9588056802749634, 0.9326841235160828, 0.9078683257102966, 0.9772934913635254, 0.9882344007492065, 0.993850588798523, 0.994364857673645, 0.9735140800476074, 0.9847106337547302, 0.9393887519836426, 0.8882368206977844, 0.9427740573883057, 0.8945551514625549, 0.9504836201667786, 0.987883448600769, 0.9958879351615906, 0.9473111033439636, 0.8546575903892517, 0.9267961978912354, 0.9869354963302612, 0.969257116317749, 0.9983552694320679, 0.9127940535545349, 0.8398051261901855, 0.9912598729133606, 0.9606306552886963, 0.9347132444381714, 0.9970265626907349, 0.9506281614303589, 0.9424741268157959, 0.957643985748291, 0.9271926283836365, 0.9192718267440796, 0.9753414392471313, 0.9745932221412659, 0.965816855430603, 0.9919925928115845, 0.8968614339828491, 0.9860849976539612, 0.962338924407959, 0.953359067440033, 0.9789446592330933, 0.990692675113678, 0.9716247320175171, 0.9729053378105164, 0.9886046051979065, 0.9308534264564514, 0.9605176448822021, 0.9897897243499756, 0.9978567957878113, 0.9691433906555176, 0.9947150349617004, 0.9972579479217529, 0.9878480434417725, 0.9340242147445679, 0.9956461191177368, 0.9281787276268005, 0.9885191321372986, 0.9014794826507568, 0.9831171035766602, 0.9022620320320129, 0.925457239151001, 0.9703649282455444, 0.962029218673706, 0.9923142194747925, 0.9927875995635986, 0.8617592453956604, 0.8772919774055481, 0.9495859146118164, 0.9735141396522522, 0.9430396556854248, 0.9952297806739807, 0.9603732824325562, 0.88438481092453, 0.8755367994308472, 0.9908585548400879, 0.9607716798782349, 0.9074630737304688, 0.9182727336883545, 0.9807698130607605, 0.963445782661438, 0.9931549429893494, 0.9676580429077148, 0.962847113609314, 0.9322545528411865, 0.9570074081420898, 0.9925506711006165, 0.9978411793708801, 0.957685649394989, 0.9776065945625305, 0.923936665058136, 0.9307085275650024, 0.9529200196266174, 0.9699077010154724, 0.9539541006088257, 0.9167800545692444, 0.956807017326355, 0.9926683306694031, 0.9486405253410339, 0.8547442555427551, 0.9318602085113525, 0.9542665481567383, 0.8974558711051941, 0.9653766751289368, 0.962367832660675, 0.9593577980995178, 0.8876781463623047, 0.9027339220046997, 0.9202268123626709, 0.9788830876350403, 0.9622160792350769, 0.9496285319328308, 0.9592931270599365, 0.9881839156150818, 0.9783957600593567, 0.9455828666687012, 0.9573668837547302, 0.96841961145401, 0.9756402969360352, 0.9964823126792908, 0.9182331562042236, 0.9757565259933472, 0.9361585378646851, 0.9914767146110535, 0.8581687211990356, 0.8949959874153137, 0.9132134318351746, 0.9989930987358093, 0.8640952706336975, 0.8080126643180847, 0.9234015345573425, 0.991057276725769, 0.9948760867118835, 0.9276185631752014, 0.9827584624290466, 0.9425498247146606, 0.963053286075592, 0.9428514242172241, 0.9895867109298706, 0.9068214297294617, 0.9689650535583496, 0.9958716034889221, 0.9626604914665222, 0.9657755494117737, 0.9597230553627014, 0.951413631439209, 0.9854750037193298, 0.9901816844940186, 0.9165343642234802, 0.9378024935722351, 0.9832510352134705, 0.9713654518127441, 0.9928532242774963, 0.9971169829368591, 0.8986819386482239, 0.921497642993927, 0.9669636487960815, 0.9123119711875916, 0.9343586564064026, 0.9349830150604248, 0.9898130297660828, 0.9319756031036377, 0.9571378231048584, 0.9344204664230347, 0.9737685322761536, 0.8770751357078552, 0.9681775569915771, 0.9054771661758423, 0.9180235266685486, 0.9686993360519409, 0.8550919890403748, 0.9703543186187744, 0.9551565051078796, 0.9878923296928406, 0.985903263092041, 0.966754674911499, 0.9971947073936462, 0.8900917172431946, 0.9532749652862549, 0.948797881603241, 0.9771073460578918, 0.9596264958381653, 0.9079455733299255, 0.9802114367485046, 0.9484164714813232, 0.9706215262413025, 0.8931444883346558, 0.9093543291091919, 0.9677477478981018, 0.909432053565979, 0.9725427031517029, 0.8802374601364136, 0.8920049667358398, 0.9804227948188782, 0.9901419281959534, 0.8067933320999146, 0.990695059299469, 0.9590873122215271, 0.9704164266586304, 0.9701710343360901, 0.8758428692817688, 0.9947656989097595, 0.9784721732139587, 0.8558481931686401, 0.9881024956703186, 0.9645592570304871, 0.8253408074378967, 0.9864960312843323, 0.9583510160446167, 0.5938746929168701, 0.9059761762619019, 0.8472446203231812, 0.9596136212348938, 0.9603092074394226, 0.8516538739204407, 0.9570785760879517, 0.9763088226318359, 0.873796820640564, 0.9805717468261719, 0.8942375183105469, 0.8888319134712219, 0.9120016694068909, 0.9205290079116821, 0.9325311183929443, 0.9434931874275208, 0.9964827299118042, 0.9760726690292358, 0.9447491765022278, 0.8434220552444458, 0.9853625297546387, 0.8444095849990845, 0.9873218536376953, 0.9534589648246765, 0.9875379204750061, 0.9628692865371704, 0.9812528491020203, 0.9601894617080688, 0.9488473534584045, 0.8995699882507324, 0.9453094601631165, 0.972191572189331, 0.8304569721221924, 0.9711415767669678, 0.9831218719482422, 0.9763916730880737, 0.9273185729980469, 0.9026451706886292, 0.9767479300498962, 0.984370768070221, 0.9209432601928711, 0.9897281527519226, 0.8843280076980591, 0.9832898378372192, 0.9722028374671936, 0.9941285848617554, 0.9468506574630737, 0.9542542099952698, 0.9187763929367065, 0.9933328628540039, 0.8948625922203064, 0.9370465278625488, 0.9971259236335754, 0.9204550981521606, 0.9406794905662537, 0.9854421615600586, 0.9204770922660828, 0.9634111523628235, 0.9814326167106628, 0.8932710886001587, 0.9649676084518433, 0.992659330368042, 0.9624024629592896, 0.9756554365158081, 0.9096745848655701, 0.8633517622947693, 0.9655634164810181, 0.9874993562698364, 0.9630406498908997, 0.9132099151611328, 0.9724266529083252, 0.889310359954834, 0.9726012945175171, 0.97597736120224, 0.9846135973930359, 0.9696935415267944, 0.9348610043525696, 0.9941444396972656, 0.9405147433280945, 0.9225471019744873, 0.9923298358917236, 0.9867936372756958, 0.9896059036254883, 0.9936996102333069, 0.9232237339019775, 0.9012264609336853, 0.9563173651695251, 0.9622952938079834, 0.9607553482055664, 0.9127228260040283, 0.9956929683685303, 0.9632235765457153, 0.9897607564926147, 0.9639806151390076, 0.9479203820228577, 0.9569793343544006, 0.9601401090621948, 0.9293395280838013, 0.9538447856903076, 0.9946662187576294, 0.9616272449493408, 0.9133954048156738, 0.9578613042831421, 0.9925172328948975, 0.9616186618804932, 0.9886112809181213, 0.9638875722885132, 0.9871689081192017, 0.8976379036903381, 0.960867166519165, 0.9946642518043518, 0.990402340888977, 0.9335892796516418, 0.9917577505111694, 0.9428271651268005, 0.9429981112480164, 0.997228741645813, 0.991654098033905, 0.941670298576355, 0.8863763809204102, 0.997154176235199, 0.9781650304794312, 0.9978054761886597, 0.9497948288917542, 0.9170186519622803, 0.9649102091789246, 0.9986305832862854, 0.9100658297538757, 0.9458379745483398, 0.9354985356330872, 0.9462689757347107, 0.9577702879905701, 0.9918577075004578, 0.8952422142028809, 0.9797323942184448, 0.9604902267456055, 0.8861789703369141, 0.9954164028167725, 0.8597742319107056, 0.9625102281570435, 0.9630507230758667, 0.9479609727859497, 0.9316195249557495, 0.9388217329978943, 0.9776266813278198, 0.8540546894073486, 0.9134549498558044, 0.9843397736549377, 0.9874476790428162, 0.9462460279464722, 0.935749351978302, 0.9075853228569031, 0.9812705516815186, 0.9437622427940369, 0.9814744591712952, 0.88919997215271, 0.9407027959823608, 0.9124115109443665, 0.9215244650840759, 0.9750001430511475, 0.9589321613311768, 0.9372210502624512, 0.9344392418861389, 0.9583640694618225, 0.9447957277297974, 0.9995991587638855, 0.9634301662445068, 0.9893505573272705, 0.9304406642913818, 0.9961391091346741, 0.9819391369819641, 0.9868158102035522, 0.9733262062072754, 0.9421467781066895, 0.8770613074302673, 0.8782839775085449, 0.8985363841056824, 0.9235935807228088, 0.9143044352531433, 0.9571804404258728, 0.9411527514457703, 0.9834281206130981, 0.9624028205871582, 0.9658676981925964, 0.9860056042671204, 0.9367212653160095, 0.9604280591011047, 0.8710247874259949, 0.907220184803009, 0.9658330678939819, 0.9870838522911072, 0.9538376331329346, 0.8044552803039551, 0.9590460658073425, 0.9147886633872986, 0.9806901812553406, 0.9500264525413513, 0.8305798768997192, 0.9127771258354187, 0.9800420999526978, 0.9305813312530518, 0.8992694020271301, 0.9850843548774719, 0.9879146218299866, 0.9617696404457092, 0.9619500637054443, 0.990525484085083, 0.9325348138809204, 0.9563639760017395, 0.9605942368507385, 0.9972822666168213, 0.934688150882721, 0.964630126953125, 0.8516815900802612, 0.9593315720558167, 0.9966087937355042, 0.9925464987754822, 0.961806058883667, 0.9836537837982178, 0.9278141260147095, 0.9130216240882874, 0.9264489412307739, 0.8729890584945679, 0.983222246170044, 0.9668644666671753, 0.9757660031318665, 0.9739652872085571, 0.9752045273780823, 0.9036357998847961, 0.9193733334541321, 0.9902085065841675, 0.9710541367530823, 0.7945094108581543, 0.9413727521896362, 0.9626085758209229, 0.9222427606582642, 0.9295492768287659, 0.9920830130577087, 0.8715635538101196, 0.9606665968894958, 0.9964544177055359, 0.8940721750259399, 0.9880010485649109, 0.995291531085968, 0.9507177472114563, 0.9293403029441833, 0.9775635004043579, 0.9427623748779297, 0.9055585265159607, 0.9991183876991272, 0.8286667466163635, 0.9430073499679565, 0.9789665937423706, 0.9026668667793274, 0.9749101400375366, 0.9906599521636963, 0.9216216802597046, 0.9894060492515564, 0.9934238195419312, 0.9964553713798523, 0.9721516370773315, 0.8982477188110352, 0.8561282753944397, 0.9572868943214417, 0.9812516570091248, 0.9005289077758789, 0.9897759556770325, 0.9317207932472229, 0.9376223087310791, 0.9932477474212646, 0.9970851540565491, 0.964813232421875, 0.9151887893676758, 0.9906445145606995, 0.9735718369483948, 0.9621109962463379, 0.9953663945198059, 0.9328634142875671, 0.8902837634086609, 0.9037474393844604, 0.966414213180542, 0.9345583319664001, 0.9121134877204895, 0.9267830848693848, 0.8713070154190063, 0.9466464519500732, 0.9926945567131042, 0.9518778920173645, 0.9578143358230591, 0.9663281440734863, 0.9373677968978882, 0.944275438785553, 0.9274482727050781, 0.972621500492096, 0.9568489789962769, 0.9116082191467285, 0.9355905055999756, 0.9719293117523193, 0.8199583888053894, 0.926697313785553, 0.9816300868988037, 0.8506787419319153, 0.9512627124786377, 0.9560583829879761, 0.9659938216209412, 0.9982520937919617, 0.825236439704895, 0.9448112845420837, 0.992134690284729, 0.9750601053237915, 0.9544453620910645, 0.8597162365913391, 0.9777500033378601, 0.9887349605560303, 0.9955099821090698, 0.9925534725189209, 0.8771933317184448, 0.9918275475502014, 0.9651561975479126, 0.9198856949806213, 0.8726370334625244, 0.8827634453773499, 0.915861189365387, 0.9976768493652344, 0.9780685305595398, 0.9836848378181458, 0.9985818862915039, 0.9987111687660217, 0.9659091830253601, 0.9264443516731262, 0.8679980635643005, 0.9987664818763733, 0.992317259311676, 0.9966176748275757, 0.9841243624687195, 0.9641529321670532, 0.9408601522445679, 0.8911375999450684, 0.9732251167297363, 0.9615509510040283, 0.9586875438690186, 0.9935325384140015, 0.8991940021514893, 0.931205689907074, 0.9449083805084229, 0.987173318862915, 0.8068584203720093, 0.9526439905166626, 0.9931608438491821, 0.8479201793670654, 0.996813178062439, 0.9339874386787415, 0.992570161819458, 0.9990957975387573, 0.9862279891967773, 0.9353238344192505, 0.9850505590438843, 0.9080830216407776, 0.8266364932060242, 0.8622514605522156, 0.9487268328666687, 0.9427223205566406, 0.9716675281524658, 0.980828583240509, 0.9665495157241821, 0.9393699169158936, 0.6192349195480347, 0.9072741866111755, 0.8760361075401306, 0.8273065090179443, 0.9837687611579895, 0.9474650621414185, 0.9925166964530945, 0.9542875289916992, 0.9732457399368286, 0.9775928258895874, 0.9845530390739441, 0.9452718496322632, 0.8570362329483032, 0.9502167701721191, 0.9717091917991638, 0.9670706391334534, 0.9904437065124512, 0.86701500415802, 0.9454620480537415, 0.9393581748008728, 0.946488618850708, 0.8015851378440857, 0.9684959053993225, 0.9123984575271606, 0.9805726408958435, 0.9473924040794373, 0.9837162494659424, 0.9844896793365479, 0.9516249299049377, 0.9731693863868713, 0.9745813012123108, 0.948431670665741, 0.7871308326721191, 0.9201837778091431, 0.9709364771842957, 0.8923500180244446, 0.9527912139892578, 0.9958649277687073, 0.982225239276886, 0.8469079732894897, 0.9771202206611633, 0.9698092341423035, 0.9685851335525513, 0.9151273965835571, 0.9393311142921448, 0.9713109731674194, 0.9572501182556152, 0.9959598183631897, 0.9639430642127991, 0.9291536211967468, 0.9353724718093872, 0.9205358028411865, 0.9517590999603271, 0.9408236742019653, 0.7766950130462646, 0.8954599499702454, 0.8821504712104797, 0.9339856505393982, 0.8051129579544067, 0.9862557649612427, 0.9259825348854065, 0.9172320365905762, 0.8731897473335266, 0.9945294857025146, 0.9310662746429443, 0.986962616443634, 0.9411628246307373, 0.9791918992996216, 0.9769462943077087, 0.9601621627807617, 0.9136205315589905, 0.9207738041877747, 0.9477466940879822, 0.9109423756599426, 0.9966117143630981, 0.9724124073982239, 0.9515780210494995, 0.9020360708236694, 0.9737058281898499, 0.9879394173622131, 0.9233124852180481, 0.9872719645500183, 0.997475266456604, 0.8912761211395264, 0.9066821336746216, 0.9688412547111511, 0.9858494400978088, 0.8053794503211975, 0.9800635576248169, 0.9582145810127258, 0.9758670926094055, 0.9979402422904968, 0.9265188574790955, 0.9425600171089172, 0.9745202660560608, 0.9950513243675232, 0.9995730519294739, 0.9840407967567444, 0.8927278518676758, 0.9539194107055664, 0.9402666687965393, 0.9885673522949219, 0.929160475730896, 0.8017301559448242, 0.931488573551178, 0.9825701713562012, 0.9311535954475403, 0.7760374546051025, 0.9998818039894104, 0.9982156157493591, 0.9327822923660278, 0.999794602394104, 0.8813343048095703, 0.9395495653152466, 0.8952955603599548, 0.946664035320282, 0.9252433180809021, 0.9895623326301575, 0.9569359421730042, 0.9615126848220825, 0.923624575138092, 0.989859938621521, 0.9610288143157959, 0.9928541779518127, 0.9092247486114502, 0.9348235130310059, 0.9769550561904907, 0.9938107132911682, 0.9457509517669678, 0.9853758811950684, 0.9513769149780273, 0.9708211421966553, 0.9033055901527405, 0.7976459264755249, 0.9997665882110596, 0.9416640400886536, 0.9612876772880554, 0.961876392364502, 0.9633235335350037, 0.9106853008270264, 0.8708566427230835, 0.9943611025810242, 0.8188045024871826, 0.9613879919052124, 0.8939452171325684, 0.9862600564956665, 0.9933962225914001, 0.9959458112716675, 0.996288537979126, 0.9038065075874329, 0.944927453994751, 0.8977980017662048, 0.8909913897514343, 0.9585959315299988, 0.9905636310577393, 0.9289371967315674, 0.9725124835968018, 0.9103496074676514, 0.9278737306594849, 0.8412507176399231, 0.8825385570526123, 0.9411956071853638, 0.9019003510475159, 0.968866229057312, 0.9090806841850281, 0.9402280449867249, 0.9925094246864319, 0.9949405193328857, 0.8769820332527161, 0.8914223313331604, 0.9923920631408691, 0.972868025302887, 0.7894394993782043, 0.8898516893386841, 0.9612982869148254, 0.9284800291061401, 0.9826652407646179, 0.9212687611579895, 0.9559454321861267, 0.9334864616394043, 0.9533610343933105, 0.981467068195343, 0.9311620593070984, 0.9585535526275635, 0.9138895869255066, 0.9492485523223877, 0.9967554807662964, 0.9759926795959473, 0.8463394045829773, 0.9669211506843567, 0.9298619031906128, 0.9460281729698181, 0.9523966908454895, 0.9381893277168274, 0.9343430995941162, 0.9865732789039612, 0.9350258111953735, 0.9432103037834167, 0.9300993084907532, 0.9777846336364746, 0.9743481874465942, 0.98868727684021, 0.9250455498695374, 0.959542453289032, 0.9280790686607361, 0.9914973974227905, 0.9239724278450012, 0.9661733508110046, 0.9156006574630737, 0.9157218337059021, 0.9178848266601562, 0.9968674778938293, 0.9259571433067322, 0.794784665107727, 0.8186971545219421, 0.991740882396698, 0.992713451385498, 0.9771926999092102, 0.9622292518615723, 0.9472976922988892, 0.9988780617713928, 0.8938378095626831, 0.9828295111656189, 0.9970096945762634, 0.9445065259933472, 0.8678152561187744, 0.9837719202041626, 0.989887535572052, 0.9380114078521729, 0.9738606810569763, 0.9335424900054932, 0.9478735327720642, 0.9879779815673828, 0.9803209900856018, 0.9429619312286377, 0.9177784323692322, 0.9899290204048157, 0.9049116969108582, 0.9038507342338562, 0.9803312420845032, 0.9212750196456909, 0.9738825559616089, 0.9202677607536316, 0.9336073994636536, 0.9828981161117554, 0.9486591815948486, 0.9563621878623962, 0.9136159420013428, 0.8616518378257751, 0.9613998532295227, 0.9366477131843567, 0.9878725409507751, 0.9942294955253601, 0.9523277878761292, 0.9465036988258362, 0.9267541766166687, 0.9636625051498413, 0.9701247215270996, 0.8856003284454346, 0.8831019401550293, 0.8631246089935303, 0.9970322251319885, 0.7277094721794128, 0.8711127042770386, 0.9136735200881958, 0.9197546243667603, 0.9647424817085266, 0.9552135467529297, 0.8938588500022888, 0.8755131363868713, 0.9840171933174133, 0.9981420040130615, 0.9362914562225342, 0.9087117910385132, 0.955239474773407, 0.9947534799575806, 0.9320159554481506, 0.8295300602912903, 0.9532268643379211, 0.9735192060470581, 0.9855913519859314, 0.931678831577301, 0.9327970147132874, 0.9190183281898499, 0.9790980219841003, 0.9843173027038574, 0.8993866443634033, 0.9337194561958313, 0.9727765321731567, 0.9908775091171265, 0.9724442362785339, 0.9305330514907837, 0.8622938990592957, 0.9473683834075928, 0.8868011832237244, 0.9779772162437439, 0.9625750184059143, 0.8868091702461243, 0.9921867251396179, 0.9911121129989624, 0.9738352298736572, 0.9871076345443726, 0.881780207157135, 0.9809560179710388, 0.9295388460159302, 0.9591377377510071, 0.9936756491661072, 0.9551923274993896, 0.9789308309555054, 0.8627911806106567, 0.9185745120048523, 0.9803223609924316, 0.9003358483314514, 0.8763424158096313, 0.9953099489212036, 0.9944597482681274, 0.9194661974906921, 0.741538405418396, 0.9853940606117249, 0.8766688108444214, 0.9649347066879272, 0.9423452615737915, 0.9824234247207642, 0.9968442320823669, 0.9534597396850586, 0.9872603416442871, 0.9536586403846741, 0.9949158430099487, 0.9538512825965881, 0.9681719541549683, 0.8269925117492676, 0.9839944839477539, 0.9775195121765137, 0.9499632716178894, 0.9883407354354858, 0.989574134349823, 0.9877786636352539, 0.9245584607124329, 0.9746278524398804, 0.9797422289848328, 0.9650573134422302, 0.9563255906105042, 0.9962199330329895, 0.9690136909484863, 0.917310357093811, 0.9871538877487183, 0.9857208728790283, 0.9052028059959412, 0.9306135773658752, 0.9705333113670349, 0.9666610956192017, 0.9179884791374207, 0.9754394888877869, 0.9774461388587952, 0.8596780896186829, 0.9048278331756592, 0.7584717273712158, 0.9930654168128967, 0.9078139662742615, 0.9957368969917297, 0.9035595059394836, 0.9660236239433289, 0.9228844046592712, 0.9558847546577454, 0.9985137581825256, 0.9416491389274597, 0.9632005095481873, 0.9154828786849976, 0.9983189702033997, 0.9890942573547363, 0.9907439947128296], \"Term\": [\"able\", \"absolutely\", \"acceptable\", \"access\", \"accommodate\", \"accommodation\", \"accord\", \"actually\", \"add\", \"addition\", \"adequate\", \"adult\", \"advance\", \"advertise\", \"advise\", \"affect\", \"age\", \"ago\", \"agree\", \"ahead\", \"air\", \"air_condition\", \"airport\", \"allow\", \"almost\", \"already\", \"also\", \"always\", \"amazing\", \"amenity\", \"amount\", \"anyone\", \"anything\", \"anyway\", \"apartment\", \"apparently\", \"appear\", \"appearance\", \"appliance\", \"appreciate\", \"april\", \"architecture\", \"area\", \"around\", \"arrival\", \"arrive\", \"art\", \"art_deco\", \"ask\", \"aspect\", \"assign\", \"assume\", \"assure\", \"attention\", \"attractive\", \"available\", \"average\", \"avoid\", \"aware\", \"away\", \"awesome\", \"awful\", \"back\", \"bad\", \"badly\", \"balcony\", \"bar\", \"base\", \"basic\", \"bath\", \"bathroom\", \"bay\", \"beach\", \"beautiful\", \"beautifully\", \"become\", \"bed\", \"bedding\", \"bedroom\", \"begin\", \"believe\", \"benefit\", \"best\", \"best_western\", \"better\", \"big\", \"bit\", \"bit_dat\", \"bit_tir\", \"bite\", \"block\", \"board\", \"book\", \"booking\", \"bother\", \"bottle\", \"bottom\", \"boutique\", \"box\", \"brand\", \"brand_new\", \"break\", \"breakfast\", \"bright\", \"bring\", \"budget\", \"buffet\", \"build\", \"building\", \"bungalow\", \"business\", \"busy\", \"buy\", \"ca\", \"call\", \"can\", \"car\", \"care\", \"carpet\", \"carry\", \"case\", \"casino\", \"castle\", \"cause\", \"ceiling\", \"center\", \"central\", \"centre\", \"century\", \"certain\", \"certainly\", \"chain\", \"chair\", \"chance\", \"change\", \"character\", \"charge\", \"charm\", \"charming\", \"cheap\", \"check\", \"child\", \"choice\", \"choose\", \"city\", \"claim\", \"class\", \"classy\", \"clean\", \"cleaning\", \"cleanliness\", \"clear\", \"clearly\", \"close\", \"closed\", \"club\", \"coffee\", \"cold\", \"color\", \"come\", \"come_back\", \"comfort\", \"comfortable\", \"comfortable_bed\", \"comfy\", \"comfy_bed\", \"comment\", \"common\", \"common_area\", \"company\", \"compare\", \"complain\", \"complaint\", \"complete\", \"completely\", \"completion\", \"complex\", \"complimentary\", \"con\", \"concern\", \"concierge\", \"condition\", \"condo\", \"consider\", \"consist\", \"construction\", \"construction_noise\", \"contemporary\", \"continue\", \"control\", \"convenient\", \"convert\", \"cool\", \"corner\", \"corridor\", \"cost\", \"cottage\", \"could\", \"could_tell\", \"could_use\", \"counter\", \"couple\", \"course\", \"courteous\", \"courtyard\", \"cover\", \"cozy\", \"crack\", \"current\", \"currently\", \"currently_undergo\", \"curtain\", \"customer\", \"customer_service\", \"dark\", \"date\", \"dated\", \"day\", \"deal\", \"decent\", \"decide\", \"deck\", \"decor\", \"decorate\", \"decoration\", \"definitely\", \"deluxe\", \"deserve\", \"design\", \"desk\", \"desperate_ne\", \"desperate_need\", \"desperately\", \"detail\", \"different\", \"difficult\", \"dining\", \"dinner\", \"dire_need\", \"dirty\", \"disappointed\", \"disappointing\", \"disappointment\", \"discover\", \"distance\", \"disturb\", \"do\", \"door\", \"double\", \"downside\", \"downtown\", \"drilling\", \"drink\", \"drive\", \"due\", \"early\", \"easy\", \"eat\", \"efficient\", \"effort\", \"elegant\", \"elevator\", \"employee\", \"end\", \"enjoy\", \"enough\", \"enter\", \"entertainment\", \"entire\", \"entrance\", \"equipment\", \"especially\", \"establishment\", \"even\", \"even_better\", \"even_though\", \"evening\", \"ever\", \"everyday\", \"everything\", \"everywhere\", \"exactly\", \"excellent\", \"excellent_value\", \"executive\", \"expect\", \"expectation\", \"expensive\", \"experience\", \"explain\", \"extensive\", \"exterior\", \"extra\", \"extremely\", \"fabulous\", \"facade\", \"face\", \"facility\", \"fact\", \"fair\", \"fairly\", \"fall\", \"family\", \"fantastic\", \"far\", \"favorite\", \"feature\", \"feel\", \"fill\", \"finally\", \"find\", \"fine\", \"finish\", \"first\", \"fit\", \"fitting\", \"fix\", \"fixture\", \"flat_screen_tv\", \"flat_screen_tvs\", \"floor\", \"follow\", \"food\", \"forget\", \"former\", \"foyer\", \"free\", \"free_wifi\", \"french\", \"fresh\", \"freshly\", \"fridge\", \"friend\", \"friendly\", \"front\", \"front_desk\", \"full\", \"fully\", \"function\", \"functional\", \"furnishing\", \"furniture\", \"future\", \"garden\", \"general\", \"generally\", \"get\", \"give\", \"glass\", \"glory\", \"go\", \"go_back\", \"good\", \"good_shape\", \"gorgeous\", \"grand\", \"great\", \"greet\", \"ground\", \"ground_floor\", \"group\", \"guess\", \"guest\", \"guy\", \"gym\", \"half\", \"hall\", \"hallway\", \"hand\", \"happen\", \"happy\", \"hard\", \"hardly\", \"head\", \"hear\", \"heat\", \"help\", \"helpful\", \"high\", \"high_quality\", \"high_standard\", \"highly_recommend\", \"hilton\", \"hip\", \"historic\", \"historical\", \"history\", \"hole\", \"holiday\", \"home\", \"hope\", \"hopefully\", \"horrible\", \"hot\", \"hot_water\", \"hotel\", \"hour\", \"house\", \"housekeeping\", \"however\", \"huge\", \"husband\", \"hyatt\", \"idea\", \"imagine\", \"immediately\", \"impact\", \"important\", \"impress\", \"impressed\", \"impression\", \"impressive\", \"improve\", \"improvement\", \"include\", \"inconvenience\", \"incredible\", \"incredibly\", \"indicate\", \"inform\", \"inn\", \"inside\", \"instal\", \"instead\", \"interesting\", \"interior\", \"internet\", \"invest\", \"island\", \"issue\", \"jacuzzi\", \"january\", \"job\", \"keep\", \"key\", \"kid\", \"kind\", \"king\", \"king_bed\", \"kitchen\", \"know\", \"la\", \"lack\", \"lady\", \"lamp\", \"large\", \"last\", \"last_visit\", \"last_year\", \"late\", \"later\", \"layout\", \"lead\", \"least\", \"leave\", \"less\", \"let\", \"level\", \"life\", \"lift\", \"light\", \"like\", \"likely\", \"line\", \"linen\", \"list\", \"literally\", \"little\", \"little_tired\", \"live\", \"lobby\", \"local\", \"locate\", \"location\", \"lodge\", \"london\", \"long\", \"long_ago\", \"long_time\", \"look\", \"look_forward\", \"look_like\", \"looked_like\", \"looking_forward\", \"looks_like\", \"lot\", \"loud\", \"lounge\", \"love\", \"lovely\", \"low\", \"luggage\", \"lunch\", \"luxurious\", \"luxury\", \"machine\", \"main\", \"maintain\", \"maintenance\", \"major\", \"make\", \"make_sure\", \"mall\", \"manage\", \"management\", \"manager\", \"many\", \"marble\", \"march\", \"market\", \"marriott\", \"massive\", \"match\", \"material\", \"matter\", \"mattress\", \"may\", \"maybe\", \"meal\", \"mean\", \"meet\", \"meeting\", \"member\", \"mention\", \"menu\", \"microwave\", \"mid\", \"middle\", \"midst\", \"min\", \"mind\", \"mine\", \"minor\", \"minute\", \"miss\", \"modern\", \"modernize\", \"moment\", \"money\", \"month\", \"morning\", \"mostly\", \"motel\", \"move\", \"much\", \"much_better\", \"much_nicer\", \"must\", \"name\", \"nd_floor\", \"nearby\", \"nearly\", \"neat\", \"need\", \"negative\", \"never\", \"new\", \"newly\", \"next\", \"next_door\", \"next_year\", \"nice\", \"nicely\", \"night\", \"noise\", \"noisy\", \"non\", \"north\", \"not\", \"note\", \"nothing\", \"notice\", \"november\", \"number\", \"obvious\", \"obviously\", \"occur\", \"ocean\", \"ocean_view\", \"october\", \"offer\", \"often\", \"ok\", \"old\", \"one\", \"ongoing\", \"open\", \"opinion\", \"opportunity\", \"opposite\", \"option\", \"order\", \"original\", \"originally\", \"other\", \"otherwise\", \"outdat\", \"outdated\", \"outdoor\", \"outlet\", \"outside\", \"outstanding\", \"overall\", \"overlook\", \"owner\", \"paint\", \"painting\", \"palace\", \"paper\", \"par\", \"park\", \"parking\", \"part\", \"partially\", \"particular\", \"particularly\", \"party\", \"pass\", \"past\", \"patio\", \"pay\", \"peel\", \"people\", \"perfect\", \"perfectly\", \"perhaps\", \"period\", \"person\", \"phone\", \"photo\", \"picture\", \"piece\", \"pillow\", \"place\", \"plan\", \"plaza\", \"pleasant\", \"pleasantly_surpris\", \"plenty\", \"plug\", \"plumbing\", \"pm\", \"point\", \"pool\", \"poor\", \"poorly\", \"positive\", \"possible\", \"possibly\", \"post\", \"potential\", \"pre\", \"premier\", \"premise\", \"present\", \"pretty\", \"previous\", \"previous_review\", \"previously\", \"price\", \"prior\", \"private\", \"pro\", \"probably\", \"problem\", \"process\", \"professional\", \"progress\", \"project\", \"properly\", \"property\", \"provide\", \"public\", \"public_area\", \"put\", \"quality\", \"queen\", \"quiet\", \"quite\", \"radisson\", \"range\", \"rate\", \"rather\", \"rating\", \"read\", \"ready\", \"real\", \"really\", \"reason\", \"reasonable\", \"receive\", \"recent\", \"recently\", \"reception\", \"receptionist\", \"recommend\", \"refrigerator\", \"refurbish\", \"regard\", \"regular\", \"relatively\", \"relax\", \"remain\", \"remodel\", \"renovate\", \"renovated\", \"renovating\", \"renovation\", \"rent\", \"reopen\", \"repair\", \"replace\", \"report\", \"request\", \"require\", \"reservation\", \"reserve\", \"resort\", \"rest\", \"restaurant\", \"restore\", \"result\", \"return\", \"review\", \"reviewer\", \"right\", \"river\", \"road\", \"roof\", \"rooftop\", \"room\", \"roomy\", \"royal\", \"run\", \"safe\", \"sand\", \"sauna\", \"say\", \"schedule\", \"sea\", \"season\", \"second\", \"section\", \"see\", \"seem\", \"selection\", \"sense\", \"separate\", \"serious\", \"serve\", \"service\", \"set\", \"several\", \"several_time\", \"shabby\", \"shame\", \"shape\", \"sheet\", \"sheraton\", \"shop\", \"shopping\", \"short\", \"show\", \"shower\", \"shut\", \"shuttle\", \"side\", \"sign\", \"significant\", \"simple\", \"simply\", \"single\", \"sink\", \"sister\", \"sit\", \"site\", \"situate\", \"size\", \"sized\", \"sleep\", \"slightly\", \"slow\", \"small\", \"smell\", \"smile\", \"smoke\", \"soft\", \"someone\", \"something\", \"somewhat\", \"son\", \"soon\", \"sort\", \"sound\", \"south\", \"spa\", \"space\", \"spacious\", \"speak\", \"special\", \"spectacular\", \"spend\", \"spot\", \"spotless\", \"spotlessly_clean\", \"square\", \"st\", \"staff\", \"stain\", \"stair\", \"stand\", \"standard\", \"star\", \"start\", \"state\", \"station\", \"stay\", \"staying\", \"step\", \"still\", \"stop\", \"store\", \"story\", \"street\", \"strong\", \"structure\", \"stuff\", \"stunning\", \"style\", \"stylish\", \"suggest\", \"suggestion\", \"suite\", \"summer\", \"sun\", \"super\", \"superb\", \"superior\", \"suppose\", \"supposedly\", \"sure\", \"surprise\", \"surprised\", \"surround\", \"swim\", \"swimming_pool\", \"system\", \"table\", \"take\", \"taking_place\", \"talk\", \"taste\", \"tasteful\", \"tastefully\", \"tea\", \"team\", \"tear\", \"tell\", \"temporary\", \"terrace\", \"terrible\", \"terrific\", \"th_floor\", \"thank\", \"theme\", \"thin\", \"thing\", \"think\", \"third_floor\", \"tidy\", \"tile\", \"time\", \"tiny\", \"tip\", \"tired\", \"toilet\", \"top\", \"top_floor\", \"top_notch\", \"total\", \"totally\", \"touch\", \"tour\", \"tourist\", \"towel\", \"tower\", \"town\", \"traditional\", \"train\", \"travel\", \"traveler\", \"trip\", \"true\", \"truly\", \"try\", \"tub\", \"turn\", \"tv\", \"twice\", \"type\", \"typical\", \"ugly\", \"undergo\", \"undergone\", \"understand\", \"underway\", \"unfortunately\", \"unit\", \"unpleasant\", \"unrenovated\", \"update\", \"upgrade\", \"upon_arrival\", \"urgent\", \"use\", \"usual\", \"usually\", \"vacation\", \"value\", \"view\", \"villa\", \"visit\", \"wait\", \"walk\", \"walking_distance\", \"wall\", \"wallpaper\", \"want\", \"warm\", \"watch\", \"water\", \"water_pressure\", \"way\", \"wear\", \"website\", \"week\", \"weekend\", \"welcome\", \"well\", \"well_appoint\", \"well_equipp\", \"well_kept\", \"well_maintain\", \"westin\", \"white\", \"whole\", \"wife\", \"wifi\", \"window\", \"wing\", \"winter\", \"wish\", \"wonder\", \"wonderful\", \"wood\", \"work\", \"worker\", \"world\", \"worn\", \"worth\", \"would\", \"would_recommend\", \"write\", \"wrong\", \"year\", \"years_ago\", \"yet\"]}, \"R\": 30, \"lambda.step\": 0.01, \"plot.opts\": {\"xlab\": \"PC1\", \"ylab\": \"PC2\"}, \"topic.order\": [1, 2, 3, 4, 5, 6, 7, 8, 9, 10, 11, 12, 13, 14, 15, 16, 17, 18, 19, 20, 21, 22, 23, 24, 25, 26, 27, 28, 29, 30, 31, 32, 33, 34, 35, 36, 37, 38, 39, 40, 41, 42, 43, 44, 45, 46, 47, 48, 49, 50, 51, 52, 53, 54, 55, 56, 57, 58, 59, 60, 61, 62, 63, 64, 65, 66, 67, 68, 69, 70]};\n",
       "\n",
       "function LDAvis_load_lib(url, callback){\n",
       "  var s = document.createElement('script');\n",
       "  s.src = url;\n",
       "  s.async = true;\n",
       "  s.onreadystatechange = s.onload = callback;\n",
       "  s.onerror = function(){console.warn(\"failed to load library \" + url);};\n",
       "  document.getElementsByTagName(\"head\")[0].appendChild(s);\n",
       "}\n",
       "\n",
       "if(typeof(LDAvis) !== \"undefined\"){\n",
       "   // already loaded: just create the visualization\n",
       "   !function(LDAvis){\n",
       "       new LDAvis(\"#\" + \"ldavis_el43141402048726290087517770072\", ldavis_el43141402048726290087517770072_data);\n",
       "   }(LDAvis);\n",
       "}else if(typeof define === \"function\" && define.amd){\n",
       "   // require.js is available: use it to load d3/LDAvis\n",
       "   require.config({paths: {d3: \"https://cdnjs.cloudflare.com/ajax/libs/d3/3.5.5/d3.min\"}});\n",
       "   require([\"d3\"], function(d3){\n",
       "      window.d3 = d3;\n",
       "      LDAvis_load_lib(\"https://cdn.rawgit.com/bmabey/pyLDAvis/files/ldavis.v1.0.0.js\", function(){\n",
       "        new LDAvis(\"#\" + \"ldavis_el43141402048726290087517770072\", ldavis_el43141402048726290087517770072_data);\n",
       "      });\n",
       "    });\n",
       "}else{\n",
       "    // require.js not available: dynamically load d3 & LDAvis\n",
       "    LDAvis_load_lib(\"https://cdnjs.cloudflare.com/ajax/libs/d3/3.5.5/d3.min.js\", function(){\n",
       "         LDAvis_load_lib(\"https://cdn.rawgit.com/bmabey/pyLDAvis/files/ldavis.v1.0.0.js\", function(){\n",
       "                 new LDAvis(\"#\" + \"ldavis_el43141402048726290087517770072\", ldavis_el43141402048726290087517770072_data);\n",
       "            })\n",
       "         });\n",
       "}\n",
       "</script>"
      ],
      "text/plain": [
       "<IPython.core.display.HTML object>"
      ]
     },
     "execution_count": 20,
     "metadata": {},
     "output_type": "execute_result"
    }
   ],
   "source": [
    "lda_display = pyLDAvis.gensim.prepare(lda_model, corpus, id2word, sort_topics=False)\n",
    "\n",
    "pyLDAvis.display(lda_display)"
   ]
  },
  {
   "cell_type": "markdown",
   "metadata": {},
   "source": [
    "**Save the LDA topic model**"
   ]
  },
  {
   "cell_type": "code",
   "execution_count": 350,
   "metadata": {},
   "outputs": [],
   "source": [
    "lda_model.save('lda_model_70_topics')"
   ]
  },
  {
   "cell_type": "markdown",
   "metadata": {},
   "source": [
    "**Optionally load a saved model**"
   ]
  },
  {
   "cell_type": "code",
   "execution_count": 19,
   "metadata": {},
   "outputs": [],
   "source": [
    "lda_model = gensim.models.ldamodel.LdaModel.load('lda_model_70_topics')"
   ]
  },
  {
   "cell_type": "markdown",
   "metadata": {},
   "source": [
    "**Function to get topic scores for each review**"
   ]
  },
  {
   "cell_type": "code",
   "execution_count": 27,
   "metadata": {},
   "outputs": [],
   "source": [
    "def get_topic_scores(model, dictionary, reviews):\n",
    "    topic_scores = [model.get_document_topics(dictionary.doc2bow(review)) for review in reviews]\n",
    "    return topic_scores"
   ]
  },
  {
   "cell_type": "markdown",
   "metadata": {},
   "source": [
    "**Get the topic scores for lemattized reviews generated earlier.  Use the scores to build dictionaries for each review where keys are topic numbers and values are the corresponding score.**"
   ]
  },
  {
   "cell_type": "code",
   "execution_count": 352,
   "metadata": {},
   "outputs": [],
   "source": [
    "review_topic_scores = get_topic_scores(model=lda_model, dictionary=id2word, reviews=reviews_lemmatized)\n",
    "review_topic_scores_dict = [dict(score) for score in review_topic_scores]"
   ]
  },
  {
   "cell_type": "markdown",
   "metadata": {},
   "source": [
    "**Turn the review scores for each review into training set for classifiers.  Replace empty values with zeros.**"
   ]
  },
  {
   "cell_type": "code",
   "execution_count": 353,
   "metadata": {},
   "outputs": [],
   "source": [
    "X = pd.DataFrame(review_topic_scores_dict).fillna(0)"
   ]
  },
  {
   "cell_type": "markdown",
   "metadata": {},
   "source": [
    "**Now we have some trainable features.  Let's take a look.**"
   ]
  },
  {
   "cell_type": "code",
   "execution_count": 354,
   "metadata": {},
   "outputs": [
    {
     "data": {
      "text/html": [
       "<div>\n",
       "<style scoped>\n",
       "    .dataframe tbody tr th:only-of-type {\n",
       "        vertical-align: middle;\n",
       "    }\n",
       "\n",
       "    .dataframe tbody tr th {\n",
       "        vertical-align: top;\n",
       "    }\n",
       "\n",
       "    .dataframe thead th {\n",
       "        text-align: right;\n",
       "    }\n",
       "</style>\n",
       "<table border=\"1\" class=\"dataframe\">\n",
       "  <thead>\n",
       "    <tr style=\"text-align: right;\">\n",
       "      <th></th>\n",
       "      <th>0</th>\n",
       "      <th>1</th>\n",
       "      <th>2</th>\n",
       "      <th>3</th>\n",
       "      <th>4</th>\n",
       "      <th>5</th>\n",
       "      <th>6</th>\n",
       "      <th>7</th>\n",
       "      <th>8</th>\n",
       "      <th>9</th>\n",
       "      <th>...</th>\n",
       "      <th>60</th>\n",
       "      <th>61</th>\n",
       "      <th>62</th>\n",
       "      <th>63</th>\n",
       "      <th>64</th>\n",
       "      <th>65</th>\n",
       "      <th>66</th>\n",
       "      <th>67</th>\n",
       "      <th>68</th>\n",
       "      <th>69</th>\n",
       "    </tr>\n",
       "  </thead>\n",
       "  <tbody>\n",
       "    <tr>\n",
       "      <th>0</th>\n",
       "      <td>0.0</td>\n",
       "      <td>0.0</td>\n",
       "      <td>0.0</td>\n",
       "      <td>0.0</td>\n",
       "      <td>0.0</td>\n",
       "      <td>0.0</td>\n",
       "      <td>0.0</td>\n",
       "      <td>0.169400</td>\n",
       "      <td>0.022165</td>\n",
       "      <td>0.015949</td>\n",
       "      <td>...</td>\n",
       "      <td>0.0</td>\n",
       "      <td>0.040574</td>\n",
       "      <td>0.010464</td>\n",
       "      <td>0.016986</td>\n",
       "      <td>0.000000</td>\n",
       "      <td>0.0</td>\n",
       "      <td>0.0</td>\n",
       "      <td>0.012960</td>\n",
       "      <td>0.00000</td>\n",
       "      <td>0.000000</td>\n",
       "    </tr>\n",
       "    <tr>\n",
       "      <th>1</th>\n",
       "      <td>0.0</td>\n",
       "      <td>0.0</td>\n",
       "      <td>0.0</td>\n",
       "      <td>0.0</td>\n",
       "      <td>0.0</td>\n",
       "      <td>0.0</td>\n",
       "      <td>0.0</td>\n",
       "      <td>0.000000</td>\n",
       "      <td>0.027459</td>\n",
       "      <td>0.019757</td>\n",
       "      <td>...</td>\n",
       "      <td>0.0</td>\n",
       "      <td>0.016147</td>\n",
       "      <td>0.012963</td>\n",
       "      <td>0.021042</td>\n",
       "      <td>0.011313</td>\n",
       "      <td>0.0</td>\n",
       "      <td>0.0</td>\n",
       "      <td>0.016055</td>\n",
       "      <td>0.01011</td>\n",
       "      <td>0.000000</td>\n",
       "    </tr>\n",
       "    <tr>\n",
       "      <th>2</th>\n",
       "      <td>0.0</td>\n",
       "      <td>0.0</td>\n",
       "      <td>0.0</td>\n",
       "      <td>0.0</td>\n",
       "      <td>0.0</td>\n",
       "      <td>0.0</td>\n",
       "      <td>0.0</td>\n",
       "      <td>0.036766</td>\n",
       "      <td>0.025705</td>\n",
       "      <td>0.018495</td>\n",
       "      <td>...</td>\n",
       "      <td>0.0</td>\n",
       "      <td>0.015116</td>\n",
       "      <td>0.012135</td>\n",
       "      <td>0.019698</td>\n",
       "      <td>0.010590</td>\n",
       "      <td>0.0</td>\n",
       "      <td>0.0</td>\n",
       "      <td>0.046966</td>\n",
       "      <td>0.00000</td>\n",
       "      <td>0.000000</td>\n",
       "    </tr>\n",
       "    <tr>\n",
       "      <th>3</th>\n",
       "      <td>0.0</td>\n",
       "      <td>0.0</td>\n",
       "      <td>0.0</td>\n",
       "      <td>0.0</td>\n",
       "      <td>0.0</td>\n",
       "      <td>0.0</td>\n",
       "      <td>0.0</td>\n",
       "      <td>0.000000</td>\n",
       "      <td>0.023457</td>\n",
       "      <td>0.016878</td>\n",
       "      <td>...</td>\n",
       "      <td>0.0</td>\n",
       "      <td>0.013794</td>\n",
       "      <td>0.011074</td>\n",
       "      <td>0.017976</td>\n",
       "      <td>0.000000</td>\n",
       "      <td>0.0</td>\n",
       "      <td>0.0</td>\n",
       "      <td>0.013715</td>\n",
       "      <td>0.00000</td>\n",
       "      <td>0.030821</td>\n",
       "    </tr>\n",
       "    <tr>\n",
       "      <th>4</th>\n",
       "      <td>0.0</td>\n",
       "      <td>0.0</td>\n",
       "      <td>0.0</td>\n",
       "      <td>0.0</td>\n",
       "      <td>0.0</td>\n",
       "      <td>0.0</td>\n",
       "      <td>0.0</td>\n",
       "      <td>0.000000</td>\n",
       "      <td>0.022793</td>\n",
       "      <td>0.016400</td>\n",
       "      <td>...</td>\n",
       "      <td>0.0</td>\n",
       "      <td>0.013403</td>\n",
       "      <td>0.039080</td>\n",
       "      <td>0.017467</td>\n",
       "      <td>0.000000</td>\n",
       "      <td>0.0</td>\n",
       "      <td>0.0</td>\n",
       "      <td>0.013327</td>\n",
       "      <td>0.00000</td>\n",
       "      <td>0.000000</td>\n",
       "    </tr>\n",
       "  </tbody>\n",
       "</table>\n",
       "<p>5 rows × 70 columns</p>\n",
       "</div>"
      ],
      "text/plain": [
       "    0    1    2    3    4    5    6         7         8         9     ...     \\\n",
       "0  0.0  0.0  0.0  0.0  0.0  0.0  0.0  0.169400  0.022165  0.015949    ...      \n",
       "1  0.0  0.0  0.0  0.0  0.0  0.0  0.0  0.000000  0.027459  0.019757    ...      \n",
       "2  0.0  0.0  0.0  0.0  0.0  0.0  0.0  0.036766  0.025705  0.018495    ...      \n",
       "3  0.0  0.0  0.0  0.0  0.0  0.0  0.0  0.000000  0.023457  0.016878    ...      \n",
       "4  0.0  0.0  0.0  0.0  0.0  0.0  0.0  0.000000  0.022793  0.016400    ...      \n",
       "\n",
       "    60        61        62        63        64   65   66        67       68  \\\n",
       "0  0.0  0.040574  0.010464  0.016986  0.000000  0.0  0.0  0.012960  0.00000   \n",
       "1  0.0  0.016147  0.012963  0.021042  0.011313  0.0  0.0  0.016055  0.01011   \n",
       "2  0.0  0.015116  0.012135  0.019698  0.010590  0.0  0.0  0.046966  0.00000   \n",
       "3  0.0  0.013794  0.011074  0.017976  0.000000  0.0  0.0  0.013715  0.00000   \n",
       "4  0.0  0.013403  0.039080  0.017467  0.000000  0.0  0.0  0.013327  0.00000   \n",
       "\n",
       "         69  \n",
       "0  0.000000  \n",
       "1  0.000000  \n",
       "2  0.000000  \n",
       "3  0.030821  \n",
       "4  0.000000  \n",
       "\n",
       "[5 rows x 70 columns]"
      ]
     },
     "execution_count": 354,
     "metadata": {},
     "output_type": "execute_result"
    }
   ],
   "source": [
    "X.head()"
   ]
  },
  {
   "cell_type": "markdown",
   "metadata": {},
   "source": [
    "**Let's look at the descriptive stats for each topic score**"
   ]
  },
  {
   "cell_type": "code",
   "execution_count": 355,
   "metadata": {},
   "outputs": [
    {
     "data": {
      "text/html": [
       "<div>\n",
       "<style scoped>\n",
       "    .dataframe tbody tr th:only-of-type {\n",
       "        vertical-align: middle;\n",
       "    }\n",
       "\n",
       "    .dataframe tbody tr th {\n",
       "        vertical-align: top;\n",
       "    }\n",
       "\n",
       "    .dataframe thead th {\n",
       "        text-align: right;\n",
       "    }\n",
       "</style>\n",
       "<table border=\"1\" class=\"dataframe\">\n",
       "  <thead>\n",
       "    <tr style=\"text-align: right;\">\n",
       "      <th></th>\n",
       "      <th>0</th>\n",
       "      <th>1</th>\n",
       "      <th>2</th>\n",
       "      <th>3</th>\n",
       "      <th>4</th>\n",
       "      <th>5</th>\n",
       "      <th>6</th>\n",
       "      <th>7</th>\n",
       "      <th>8</th>\n",
       "      <th>9</th>\n",
       "      <th>...</th>\n",
       "      <th>60</th>\n",
       "      <th>61</th>\n",
       "      <th>62</th>\n",
       "      <th>63</th>\n",
       "      <th>64</th>\n",
       "      <th>65</th>\n",
       "      <th>66</th>\n",
       "      <th>67</th>\n",
       "      <th>68</th>\n",
       "      <th>69</th>\n",
       "    </tr>\n",
       "  </thead>\n",
       "  <tbody>\n",
       "    <tr>\n",
       "      <th>count</th>\n",
       "      <td>7198.000000</td>\n",
       "      <td>7198.000000</td>\n",
       "      <td>7198.000000</td>\n",
       "      <td>7198.000000</td>\n",
       "      <td>7198.000000</td>\n",
       "      <td>7198.000000</td>\n",
       "      <td>7198.000000</td>\n",
       "      <td>7198.000000</td>\n",
       "      <td>7198.000000</td>\n",
       "      <td>7198.000000</td>\n",
       "      <td>...</td>\n",
       "      <td>7198.000000</td>\n",
       "      <td>7198.000000</td>\n",
       "      <td>7198.000000</td>\n",
       "      <td>7198.000000</td>\n",
       "      <td>7198.000000</td>\n",
       "      <td>7198.000000</td>\n",
       "      <td>7198.000000</td>\n",
       "      <td>7198.000000</td>\n",
       "      <td>7198.000000</td>\n",
       "      <td>7198.000000</td>\n",
       "    </tr>\n",
       "    <tr>\n",
       "      <th>mean</th>\n",
       "      <td>0.001912</td>\n",
       "      <td>0.002638</td>\n",
       "      <td>0.003467</td>\n",
       "      <td>0.001384</td>\n",
       "      <td>0.005746</td>\n",
       "      <td>0.002264</td>\n",
       "      <td>0.002784</td>\n",
       "      <td>0.001745</td>\n",
       "      <td>0.032617</td>\n",
       "      <td>0.023174</td>\n",
       "      <td>...</td>\n",
       "      <td>0.002672</td>\n",
       "      <td>0.018814</td>\n",
       "      <td>0.014707</td>\n",
       "      <td>0.025377</td>\n",
       "      <td>0.010754</td>\n",
       "      <td>0.002098</td>\n",
       "      <td>0.003007</td>\n",
       "      <td>0.019018</td>\n",
       "      <td>0.006722</td>\n",
       "      <td>0.001007</td>\n",
       "    </tr>\n",
       "    <tr>\n",
       "      <th>std</th>\n",
       "      <td>0.008229</td>\n",
       "      <td>0.009958</td>\n",
       "      <td>0.011397</td>\n",
       "      <td>0.006786</td>\n",
       "      <td>0.012522</td>\n",
       "      <td>0.009020</td>\n",
       "      <td>0.010427</td>\n",
       "      <td>0.007902</td>\n",
       "      <td>0.015776</td>\n",
       "      <td>0.012978</td>\n",
       "      <td>...</td>\n",
       "      <td>0.009818</td>\n",
       "      <td>0.012191</td>\n",
       "      <td>0.012341</td>\n",
       "      <td>0.014426</td>\n",
       "      <td>0.011933</td>\n",
       "      <td>0.008947</td>\n",
       "      <td>0.010625</td>\n",
       "      <td>0.012025</td>\n",
       "      <td>0.011647</td>\n",
       "      <td>0.005722</td>\n",
       "    </tr>\n",
       "    <tr>\n",
       "      <th>min</th>\n",
       "      <td>0.000000</td>\n",
       "      <td>0.000000</td>\n",
       "      <td>0.000000</td>\n",
       "      <td>0.000000</td>\n",
       "      <td>0.000000</td>\n",
       "      <td>0.000000</td>\n",
       "      <td>0.000000</td>\n",
       "      <td>0.000000</td>\n",
       "      <td>0.000000</td>\n",
       "      <td>0.000000</td>\n",
       "      <td>...</td>\n",
       "      <td>0.000000</td>\n",
       "      <td>0.000000</td>\n",
       "      <td>0.000000</td>\n",
       "      <td>0.000000</td>\n",
       "      <td>0.000000</td>\n",
       "      <td>0.000000</td>\n",
       "      <td>0.000000</td>\n",
       "      <td>0.000000</td>\n",
       "      <td>0.000000</td>\n",
       "      <td>0.000000</td>\n",
       "    </tr>\n",
       "    <tr>\n",
       "      <th>25%</th>\n",
       "      <td>0.000000</td>\n",
       "      <td>0.000000</td>\n",
       "      <td>0.000000</td>\n",
       "      <td>0.000000</td>\n",
       "      <td>0.000000</td>\n",
       "      <td>0.000000</td>\n",
       "      <td>0.000000</td>\n",
       "      <td>0.000000</td>\n",
       "      <td>0.024162</td>\n",
       "      <td>0.017385</td>\n",
       "      <td>...</td>\n",
       "      <td>0.000000</td>\n",
       "      <td>0.014208</td>\n",
       "      <td>0.011407</td>\n",
       "      <td>0.018515</td>\n",
       "      <td>0.000000</td>\n",
       "      <td>0.000000</td>\n",
       "      <td>0.000000</td>\n",
       "      <td>0.014127</td>\n",
       "      <td>0.000000</td>\n",
       "      <td>0.000000</td>\n",
       "    </tr>\n",
       "    <tr>\n",
       "      <th>50%</th>\n",
       "      <td>0.000000</td>\n",
       "      <td>0.000000</td>\n",
       "      <td>0.000000</td>\n",
       "      <td>0.000000</td>\n",
       "      <td>0.000000</td>\n",
       "      <td>0.000000</td>\n",
       "      <td>0.000000</td>\n",
       "      <td>0.000000</td>\n",
       "      <td>0.026553</td>\n",
       "      <td>0.019106</td>\n",
       "      <td>...</td>\n",
       "      <td>0.000000</td>\n",
       "      <td>0.015614</td>\n",
       "      <td>0.012535</td>\n",
       "      <td>0.020348</td>\n",
       "      <td>0.010940</td>\n",
       "      <td>0.000000</td>\n",
       "      <td>0.000000</td>\n",
       "      <td>0.015525</td>\n",
       "      <td>0.000000</td>\n",
       "      <td>0.000000</td>\n",
       "    </tr>\n",
       "    <tr>\n",
       "      <th>75%</th>\n",
       "      <td>0.000000</td>\n",
       "      <td>0.000000</td>\n",
       "      <td>0.000000</td>\n",
       "      <td>0.000000</td>\n",
       "      <td>0.010130</td>\n",
       "      <td>0.000000</td>\n",
       "      <td>0.000000</td>\n",
       "      <td>0.000000</td>\n",
       "      <td>0.029470</td>\n",
       "      <td>0.020455</td>\n",
       "      <td>...</td>\n",
       "      <td>0.000000</td>\n",
       "      <td>0.016717</td>\n",
       "      <td>0.013421</td>\n",
       "      <td>0.022583</td>\n",
       "      <td>0.011713</td>\n",
       "      <td>0.000000</td>\n",
       "      <td>0.000000</td>\n",
       "      <td>0.016622</td>\n",
       "      <td>0.010467</td>\n",
       "      <td>0.000000</td>\n",
       "    </tr>\n",
       "    <tr>\n",
       "      <th>max</th>\n",
       "      <td>0.089998</td>\n",
       "      <td>0.112394</td>\n",
       "      <td>0.156594</td>\n",
       "      <td>0.087900</td>\n",
       "      <td>0.159922</td>\n",
       "      <td>0.142714</td>\n",
       "      <td>0.204823</td>\n",
       "      <td>0.169400</td>\n",
       "      <td>0.217327</td>\n",
       "      <td>0.142062</td>\n",
       "      <td>...</td>\n",
       "      <td>0.150110</td>\n",
       "      <td>0.185388</td>\n",
       "      <td>0.131485</td>\n",
       "      <td>0.193178</td>\n",
       "      <td>0.089291</td>\n",
       "      <td>0.139233</td>\n",
       "      <td>0.113793</td>\n",
       "      <td>0.164871</td>\n",
       "      <td>0.141949</td>\n",
       "      <td>0.075847</td>\n",
       "    </tr>\n",
       "  </tbody>\n",
       "</table>\n",
       "<p>8 rows × 70 columns</p>\n",
       "</div>"
      ],
      "text/plain": [
       "                0            1            2            3            4   \\\n",
       "count  7198.000000  7198.000000  7198.000000  7198.000000  7198.000000   \n",
       "mean      0.001912     0.002638     0.003467     0.001384     0.005746   \n",
       "std       0.008229     0.009958     0.011397     0.006786     0.012522   \n",
       "min       0.000000     0.000000     0.000000     0.000000     0.000000   \n",
       "25%       0.000000     0.000000     0.000000     0.000000     0.000000   \n",
       "50%       0.000000     0.000000     0.000000     0.000000     0.000000   \n",
       "75%       0.000000     0.000000     0.000000     0.000000     0.010130   \n",
       "max       0.089998     0.112394     0.156594     0.087900     0.159922   \n",
       "\n",
       "                5            6            7            8            9   \\\n",
       "count  7198.000000  7198.000000  7198.000000  7198.000000  7198.000000   \n",
       "mean      0.002264     0.002784     0.001745     0.032617     0.023174   \n",
       "std       0.009020     0.010427     0.007902     0.015776     0.012978   \n",
       "min       0.000000     0.000000     0.000000     0.000000     0.000000   \n",
       "25%       0.000000     0.000000     0.000000     0.024162     0.017385   \n",
       "50%       0.000000     0.000000     0.000000     0.026553     0.019106   \n",
       "75%       0.000000     0.000000     0.000000     0.029470     0.020455   \n",
       "max       0.142714     0.204823     0.169400     0.217327     0.142062   \n",
       "\n",
       "          ...                60           61           62           63  \\\n",
       "count     ...       7198.000000  7198.000000  7198.000000  7198.000000   \n",
       "mean      ...          0.002672     0.018814     0.014707     0.025377   \n",
       "std       ...          0.009818     0.012191     0.012341     0.014426   \n",
       "min       ...          0.000000     0.000000     0.000000     0.000000   \n",
       "25%       ...          0.000000     0.014208     0.011407     0.018515   \n",
       "50%       ...          0.000000     0.015614     0.012535     0.020348   \n",
       "75%       ...          0.000000     0.016717     0.013421     0.022583   \n",
       "max       ...          0.150110     0.185388     0.131485     0.193178   \n",
       "\n",
       "                64           65           66           67           68  \\\n",
       "count  7198.000000  7198.000000  7198.000000  7198.000000  7198.000000   \n",
       "mean      0.010754     0.002098     0.003007     0.019018     0.006722   \n",
       "std       0.011933     0.008947     0.010625     0.012025     0.011647   \n",
       "min       0.000000     0.000000     0.000000     0.000000     0.000000   \n",
       "25%       0.000000     0.000000     0.000000     0.014127     0.000000   \n",
       "50%       0.010940     0.000000     0.000000     0.015525     0.000000   \n",
       "75%       0.011713     0.000000     0.000000     0.016622     0.010467   \n",
       "max       0.089291     0.139233     0.113793     0.164871     0.141949   \n",
       "\n",
       "                69  \n",
       "count  7198.000000  \n",
       "mean      0.001007  \n",
       "std       0.005722  \n",
       "min       0.000000  \n",
       "25%       0.000000  \n",
       "50%       0.000000  \n",
       "75%       0.000000  \n",
       "max       0.075847  \n",
       "\n",
       "[8 rows x 70 columns]"
      ]
     },
     "execution_count": 355,
     "metadata": {},
     "output_type": "execute_result"
    }
   ],
   "source": [
    "X.describe()"
   ]
  },
  {
   "cell_type": "markdown",
   "metadata": {},
   "source": [
    "**Let's look at the distribution of scores for each topic**"
   ]
  },
  {
   "cell_type": "code",
   "execution_count": 356,
   "metadata": {},
   "outputs": [
    {
     "data": {
      "image/png": "[encoded data removed]",
      "text/plain": [
       "<Figure size 432x288 with 72 Axes>"
      ]
     },
     "metadata": {
      "needs_background": "light"
     },
     "output_type": "display_data"
    }
   ],
   "source": [
    "X.hist()\n",
    "plt.show()"
   ]
  },
  {
   "cell_type": "code",
   "execution_count": 22,
   "metadata": {},
   "outputs": [],
   "source": [
    "from sklearn.preprocessing import StandardScaler\n",
    "from sklearn.model_selection import train_test_split\n",
    "from sklearn.model_selection import GridSearchCV\n",
    "from sklearn.decomposition import PCA\n",
    "from sklearn.ensemble import RandomForestClassifier\n",
    "from sklearn.metrics import confusion_matrix\n",
    "from sklearn import metrics\n",
    "from time import time"
   ]
  },
  {
   "cell_type": "markdown",
   "metadata": {},
   "source": [
    "**Function to report results from grid search**"
   ]
  },
  {
   "cell_type": "code",
   "execution_count": 23,
   "metadata": {},
   "outputs": [],
   "source": [
    "def report(results, n_top=3):\n",
    "    for i in range(1, n_top + 1):\n",
    "        candidates = np.flatnonzero(results['rank_test_score'] == i)\n",
    "        for candidate in candidates:\n",
    "            print(\"Model with rank: {0}\".format(i))\n",
    "            print(\"Mean validation score: {0:.3f} (std: {1:.3f})\".format(\n",
    "                  results['mean_test_score'][candidate],\n",
    "                  results['std_test_score'][candidate]))\n",
    "            print(\"Parameters: {0}\".format(results['params'][candidate]))\n",
    "            print(\"\")"
   ]
  },
  {
   "cell_type": "markdown",
   "metadata": {},
   "source": [
    "**Let's try training some Random Forest Classifiers on the features and use Grid Search to find the best parameters**"
   ]
  },
  {
   "cell_type": "code",
   "execution_count": 24,
   "metadata": {},
   "outputs": [],
   "source": [
    "clf = RandomForestClassifier(random_state=42)\n",
    "target = reviews['Code']"
   ]
  },
  {
   "cell_type": "code",
   "execution_count": 185,
   "metadata": {},
   "outputs": [
    {
     "name": "stdout",
     "output_type": "stream",
     "text": [
      "GridSearchCV took 557.00 seconds for 48 candidate parameter settings.\n",
      "Model with rank: 1\n",
      "Mean validation score: 0.713 (std: 0.009)\n",
      "Parameters: {'bootstrap': True, 'criterion': 'gini', 'max_features': 'log2', 'min_samples_split': 10, 'n_estimators': 200}\n",
      "\n",
      "Model with rank: 2\n",
      "Mean validation score: 0.711 (std: 0.007)\n",
      "Parameters: {'bootstrap': True, 'criterion': 'gini', 'max_features': 'log2', 'min_samples_split': 10, 'n_estimators': 300}\n",
      "\n",
      "Model with rank: 3\n",
      "Mean validation score: 0.711 (std: 0.007)\n",
      "Parameters: {'bootstrap': True, 'criterion': 'entropy', 'max_features': 'log2', 'min_samples_split': 5, 'n_estimators': 300}\n",
      "\n"
     ]
    }
   ],
   "source": [
    "X = pd.DataFrame(review_topic_scores_dict).fillna(0)\n",
    "X_train, X_test, y_train, y_test = train_test_split(pd.DataFrame(X), target, test_size=0.15, random_state=42)\n",
    "param_grid = {\"n_estimators\": [200, 300],\n",
    "              \"min_samples_split\": [2, 5, 10],\n",
    "              \"max_features\": ['sqrt', 'log2'],\n",
    "              \"bootstrap\": [True, False],\n",
    "              \"criterion\": [\"gini\", \"entropy\"]}\n",
    "\n",
    "# run grid search\n",
    "grid_search = GridSearchCV(clf, param_grid=param_grid, cv=5)\n",
    "start = time()\n",
    "grid_search.fit(X_train, y_train)\n",
    "\n",
    "print(\"GridSearchCV took %.2f seconds for %d candidate parameter settings.\"\n",
    "      % (time() - start, len(grid_search.cv_results_['params'])))\n",
    "report(grid_search.cv_results_)"
   ]
  },
  {
   "cell_type": "markdown",
   "metadata": {},
   "source": [
    "**The mean validation score of the best model (0.713) is already better than the baseline model!!!  Let's see where the mistakes are happening using a confusion matrix.**"
   ]
  },
  {
   "cell_type": "code",
   "execution_count": 186,
   "metadata": {},
   "outputs": [
    {
     "name": "stdout",
     "output_type": "stream",
     "text": [
      "[[119  31 100]\n",
      " [ 29 154  99]\n",
      " [ 22  69 457]]\n"
     ]
    }
   ],
   "source": [
    "best_clf = grid_search.best_estimator_\n",
    "print(confusion_matrix(y_test, best_clf.predict(X_test)))"
   ]
  },
  {
   "cell_type": "markdown",
   "metadata": {},
   "source": [
    "**Looks like each category was \"mostly\" predicted correctly, but they each have a LOT of errors, especially category \"1\" representing rooms that need renovation.  Recently renovated rooms look like they are easiest to predict.  Let's try another approach.  Maybe scaling the data first will improve the validation score.**  "
   ]
  },
  {
   "cell_type": "code",
   "execution_count": 187,
   "metadata": {},
   "outputs": [
    {
     "name": "stdout",
     "output_type": "stream",
     "text": [
      "GridSearchCV took 567.82 seconds for 48 candidate parameter settings.\n",
      "Model with rank: 1\n",
      "Mean validation score: 0.712 (std: 0.010)\n",
      "Parameters: {'bootstrap': True, 'criterion': 'gini', 'max_features': 'sqrt', 'min_samples_split': 10, 'n_estimators': 200}\n",
      "\n",
      "Model with rank: 2\n",
      "Mean validation score: 0.712 (std: 0.009)\n",
      "Parameters: {'bootstrap': True, 'criterion': 'entropy', 'max_features': 'log2', 'min_samples_split': 10, 'n_estimators': 300}\n",
      "\n",
      "Model with rank: 3\n",
      "Mean validation score: 0.711 (std: 0.009)\n",
      "Parameters: {'bootstrap': True, 'criterion': 'entropy', 'max_features': 'log2', 'min_samples_split': 10, 'n_estimators': 200}\n",
      "\n"
     ]
    }
   ],
   "source": [
    "scaler = StandardScaler()\n",
    "X = pd.DataFrame(review_topic_scores_dict).fillna(0)\n",
    "X_train, X_test, y_train, y_test = train_test_split(pd.DataFrame(scaler.fit_transform(X)), target, test_size=0.15, random_state=42)\n",
    "param_grid = {\"n_estimators\": [200, 300],\n",
    "              \"min_samples_split\": [2, 5, 10],\n",
    "              \"max_features\": ['sqrt', 'log2'],\n",
    "              \"bootstrap\": [True, False],\n",
    "              \"criterion\": [\"gini\", \"entropy\"]}\n",
    "\n",
    "# run grid search\n",
    "grid_search = GridSearchCV(clf, param_grid=param_grid, cv=5)\n",
    "start = time()\n",
    "grid_search.fit(X_train, y_train)\n",
    "\n",
    "print(\"GridSearchCV took %.2f seconds for %d candidate parameter settings.\"\n",
    "      % (time() - start, len(grid_search.cv_results_['params'])))\n",
    "report(grid_search.cv_results_)"
   ]
  },
  {
   "cell_type": "markdown",
   "metadata": {},
   "source": [
    "**The validation score did NOT improve with scaling of the features.  Let's look at the confusion matrix again.**"
   ]
  },
  {
   "cell_type": "code",
   "execution_count": 188,
   "metadata": {},
   "outputs": [
    {
     "name": "stdout",
     "output_type": "stream",
     "text": [
      "[[122  30  98]\n",
      " [ 26 160  96]\n",
      " [ 21  68 459]]\n"
     ]
    }
   ],
   "source": [
    "best_clf = grid_search.best_estimator_\n",
    "print(confusion_matrix(y_test, best_clf.predict(X_test)))"
   ]
  },
  {
   "cell_type": "markdown",
   "metadata": {},
   "source": [
    "**The confusion matrix looks pretty similar.  No major changes here.  Let's try another approach.  Maybe running PCA on the scaled features will help because some of the topic scores are likely to be correlated judging by the LDA visualization.**"
   ]
  },
  {
   "cell_type": "code",
   "execution_count": 189,
   "metadata": {},
   "outputs": [
    {
     "data": {
      "image/png": "[encoded data removed]",
      "text/plain": [
       "<Figure size 432x288 with 6 Axes>"
      ]
     },
     "metadata": {
      "needs_background": "light"
     },
     "output_type": "display_data"
    }
   ],
   "source": [
    "scaler = StandardScaler()\n",
    "pca = PCA(n_components=5)\n",
    "X = pd.DataFrame(review_topic_scores_dict).fillna(0)\n",
    "X_pca = pca.fit_transform(scaler.fit_transform(X))\n",
    "                  \n",
    "pd.DataFrame(X_pca).hist()\n",
    "plt.show()"
   ]
  },
  {
   "cell_type": "code",
   "execution_count": 190,
   "metadata": {},
   "outputs": [
    {
     "name": "stdout",
     "output_type": "stream",
     "text": [
      "GridSearchCV took 760.96 seconds for 48 candidate parameter settings.\n",
      "Model with rank: 1\n",
      "Mean validation score: 0.636 (std: 0.009)\n",
      "Parameters: {'bootstrap': True, 'criterion': 'entropy', 'max_features': 'sqrt', 'min_samples_split': 10, 'n_estimators': 300}\n",
      "\n",
      "Model with rank: 1\n",
      "Mean validation score: 0.636 (std: 0.009)\n",
      "Parameters: {'bootstrap': True, 'criterion': 'entropy', 'max_features': 'log2', 'min_samples_split': 10, 'n_estimators': 300}\n",
      "\n",
      "Model with rank: 3\n",
      "Mean validation score: 0.636 (std: 0.011)\n",
      "Parameters: {'bootstrap': True, 'criterion': 'gini', 'max_features': 'sqrt', 'min_samples_split': 10, 'n_estimators': 200}\n",
      "\n",
      "Model with rank: 3\n",
      "Mean validation score: 0.636 (std: 0.011)\n",
      "Parameters: {'bootstrap': True, 'criterion': 'gini', 'max_features': 'log2', 'min_samples_split': 10, 'n_estimators': 200}\n",
      "\n"
     ]
    }
   ],
   "source": [
    "X_train, X_test, y_train, y_test = train_test_split(X_pca, target, test_size=0.15, random_state=42)\n",
    "param_grid = {\"n_estimators\": [200, 300],\n",
    "              \"min_samples_split\": [2, 5, 10],\n",
    "              \"max_features\": ['sqrt', 'log2'],\n",
    "              \"bootstrap\": [True, False],\n",
    "              \"criterion\": [\"gini\", \"entropy\"]}\n",
    "\n",
    "# run grid search\n",
    "grid_search = GridSearchCV(clf, param_grid=param_grid, cv=5)\n",
    "start = time()\n",
    "grid_search.fit(X_train, y_train)\n",
    "\n",
    "print(\"GridSearchCV took %.2f seconds for %d candidate parameter settings.\"\n",
    "      % (time() - start, len(grid_search.cv_results_['params'])))\n",
    "report(grid_search.cv_results_)"
   ]
  },
  {
   "cell_type": "markdown",
   "metadata": {},
   "source": [
    "**The validation score actually decreased quite a bit here.  Let's abandon this approach.**"
   ]
  },
  {
   "cell_type": "markdown",
   "metadata": {
    "scrolled": true
   },
   "source": [
    "**Let's try feature selection using a RFC with the parameters we found in the first grid search.**"
   ]
  },
  {
   "cell_type": "code",
   "execution_count": 418,
   "metadata": {},
   "outputs": [
    {
     "data": {
      "text/plain": [
       "SelectFromModel(estimator=RandomForestClassifier(bootstrap=True, class_weight=None, criterion='gini',\n",
       "            max_depth=None, max_features='log2', max_leaf_nodes=None,\n",
       "            min_impurity_decrease=0.0, min_impurity_split=None,\n",
       "            min_samples_leaf=1, min_samples_split=10,\n",
       "            min_weight_fraction_leaf=0.0, n_estimators=200, n_jobs=None,\n",
       "            oob_score=False, random_state=42, verbose=0, warm_start=False),\n",
       "        max_features=None, norm_order=1, prefit=False, threshold=None)"
      ]
     },
     "execution_count": 418,
     "metadata": {},
     "output_type": "execute_result"
    }
   ],
   "source": [
    "from sklearn.feature_selection import SelectFromModel\n",
    "\n",
    "X = pd.DataFrame(review_topic_scores_dict).fillna(0)\n",
    "rfc = SelectFromModel(RandomForestClassifier(bootstrap = True,\n",
    "                             criterion = 'gini',\n",
    "                             max_features = 'log2',\n",
    "                             min_samples_split = 10,\n",
    "                             n_estimators = 200,\n",
    "                             random_state = 42))\n",
    "\n",
    "X_train, X_test, y_train, y_test = train_test_split(X, target, test_size=0.15, random_state=42)\n",
    "\n",
    "rfc.fit(X_train, y_train)"
   ]
  },
  {
   "cell_type": "code",
   "execution_count": 419,
   "metadata": {},
   "outputs": [
    {
     "name": "stdout",
     "output_type": "stream",
     "text": [
      "[8, 9, 10, 19, 23, 29, 35, 39, 47, 49, 50, 56, 57, 60, 61, 62, 63, 67]\n"
     ]
    }
   ],
   "source": [
    "best_feat = list(X_train.columns[(rfc.get_support())])\n",
    "print(best_feat)\n",
    "\n",
    "X_train_selected = X_train[best_feat]\n",
    "X_test_selected = X_test[best_feat]"
   ]
  },
  {
   "cell_type": "markdown",
   "metadata": {},
   "source": [
    "**Grid search RFC using only the selected features**"
   ]
  },
  {
   "cell_type": "code",
   "execution_count": 420,
   "metadata": {},
   "outputs": [
    {
     "name": "stdout",
     "output_type": "stream",
     "text": [
      "GridSearchCV took 456.91 seconds for 48 candidate parameter settings.\n",
      "Model with rank: 1\n",
      "Mean validation score: 0.695 (std: 0.005)\n",
      "Parameters: {'bootstrap': True, 'criterion': 'entropy', 'max_features': 'sqrt', 'min_samples_split': 10, 'n_estimators': 200}\n",
      "\n",
      "Model with rank: 1\n",
      "Mean validation score: 0.695 (std: 0.005)\n",
      "Parameters: {'bootstrap': True, 'criterion': 'entropy', 'max_features': 'log2', 'min_samples_split': 10, 'n_estimators': 200}\n",
      "\n",
      "Model with rank: 3\n",
      "Mean validation score: 0.695 (std: 0.005)\n",
      "Parameters: {'bootstrap': True, 'criterion': 'entropy', 'max_features': 'sqrt', 'min_samples_split': 10, 'n_estimators': 300}\n",
      "\n",
      "Model with rank: 3\n",
      "Mean validation score: 0.695 (std: 0.005)\n",
      "Parameters: {'bootstrap': True, 'criterion': 'entropy', 'max_features': 'log2', 'min_samples_split': 10, 'n_estimators': 300}\n",
      "\n"
     ]
    }
   ],
   "source": [
    "param_grid = {\"n_estimators\": [200, 300],\n",
    "              \"min_samples_split\": [2, 5, 10],\n",
    "              \"max_features\": ['sqrt', 'log2'],\n",
    "              \"bootstrap\": [True, False],\n",
    "              \"criterion\": [\"gini\", \"entropy\"]}\n",
    "\n",
    "# run grid search\n",
    "grid_search = GridSearchCV(clf, param_grid=param_grid, cv=5)\n",
    "start = time()\n",
    "grid_search.fit(X_train_selected, y_train)\n",
    "\n",
    "print(\"GridSearchCV took %.2f seconds for %d candidate parameter settings.\"\n",
    "      % (time() - start, len(grid_search.cv_results_['params'])))\n",
    "report(grid_search.cv_results_)"
   ]
  },
  {
   "cell_type": "markdown",
   "metadata": {},
   "source": [
    "**Get accuracy of new model on test set**"
   ]
  },
  {
   "cell_type": "code",
   "execution_count": 423,
   "metadata": {},
   "outputs": [
    {
     "data": {
      "text/plain": [
       "0.6555555555555556"
      ]
     },
     "execution_count": 423,
     "metadata": {},
     "output_type": "execute_result"
    }
   ],
   "source": [
    "rfc_selected = grid_search.best_estimator_\n",
    "rfc_selected.score(X_test_selected, y_test)"
   ]
  },
  {
   "cell_type": "markdown",
   "metadata": {},
   "source": [
    "**Oh no!  Accuracy decreased from 0.713 to 0.656 after feature selection.**"
   ]
  },
  {
   "cell_type": "markdown",
   "metadata": {},
   "source": [
    "**Let's try another type of classifier: AdaBoost**"
   ]
  },
  {
   "cell_type": "code",
   "execution_count": 221,
   "metadata": {},
   "outputs": [],
   "source": [
    "from sklearn.ensemble import AdaBoostClassifier\n",
    "from sklearn.tree import DecisionTreeClassifier\n",
    "\n",
    "adb = AdaBoostClassifier(DecisionTreeClassifier(max_depth=2))"
   ]
  },
  {
   "cell_type": "markdown",
   "metadata": {},
   "source": [
    "**Let's try the same datasets: X, X_std, X_pca and selected features**"
   ]
  },
  {
   "cell_type": "code",
   "execution_count": 228,
   "metadata": {},
   "outputs": [
    {
     "name": "stdout",
     "output_type": "stream",
     "text": [
      "GridSearchCV took 151.50 seconds for 16 candidate parameter settings.\n",
      "Model with rank: 1\n",
      "Mean validation score: 0.697 (std: 0.005)\n",
      "Parameters: {'learning_rate': 0.05, 'n_estimators': 500}\n",
      "\n",
      "Model with rank: 2\n",
      "Mean validation score: 0.697 (std: 0.004)\n",
      "Parameters: {'learning_rate': 0.1, 'n_estimators': 250}\n",
      "\n",
      "Model with rank: 3\n",
      "Mean validation score: 0.695 (std: 0.005)\n",
      "Parameters: {'learning_rate': 0.1, 'n_estimators': 150}\n",
      "\n"
     ]
    }
   ],
   "source": [
    "param_grid = {\"n_estimators\": [100, 150, 250, 500],\n",
    "             \"learning_rate\": [0.01, 0.05, 0.1, 0.3]\n",
    "             }\n",
    "\n",
    "grid_search = GridSearchCV(adb, param_grid=param_grid, cv=5)\n",
    "start = time()\n",
    "grid_search.fit(X_train, y_train)\n",
    "\n",
    "print(\"GridSearchCV took %.2f seconds for %d candidate parameter settings.\"\n",
    "      % (time() - start, len(grid_search.cv_results_['params'])))\n",
    "report(grid_search.cv_results_)"
   ]
  },
  {
   "cell_type": "markdown",
   "metadata": {},
   "source": [
    "**Not too bad.  Similar accuracy as the Random Forest Classifier, but not quite as good.  Let's try the scaled features.**"
   ]
  },
  {
   "cell_type": "code",
   "execution_count": 229,
   "metadata": {},
   "outputs": [
    {
     "name": "stdout",
     "output_type": "stream",
     "text": [
      "GridSearchCV took 152.41 seconds for 16 candidate parameter settings.\n",
      "Model with rank: 1\n",
      "Mean validation score: 0.698 (std: 0.005)\n",
      "Parameters: {'learning_rate': 0.05, 'n_estimators': 250}\n",
      "\n",
      "Model with rank: 2\n",
      "Mean validation score: 0.697 (std: 0.004)\n",
      "Parameters: {'learning_rate': 0.05, 'n_estimators': 500}\n",
      "\n",
      "Model with rank: 3\n",
      "Mean validation score: 0.697 (std: 0.008)\n",
      "Parameters: {'learning_rate': 0.3, 'n_estimators': 100}\n",
      "\n"
     ]
    }
   ],
   "source": [
    "param_grid = {\"n_estimators\": [100, 150, 250, 500],\n",
    "             \"learning_rate\": [0.01, 0.05, 0.1, 0.3]\n",
    "             }\n",
    "\n",
    "grid_search = GridSearchCV(adb, param_grid=param_grid, cv=5)\n",
    "start = time()\n",
    "grid_search.fit(pd.DataFrame(scaler.fit_transform(X_train)), y_train)\n",
    "\n",
    "print(\"GridSearchCV took %.2f seconds for %d candidate parameter settings.\"\n",
    "      % (time() - start, len(grid_search.cv_results_['params'])))\n",
    "report(grid_search.cv_results_)"
   ]
  },
  {
   "cell_type": "markdown",
   "metadata": {},
   "source": [
    "**Let's check the confusion matrix**"
   ]
  },
  {
   "cell_type": "code",
   "execution_count": 230,
   "metadata": {},
   "outputs": [
    {
     "name": "stdout",
     "output_type": "stream",
     "text": [
      "[[116  40  94]\n",
      " [ 31 151 100]\n",
      " [ 24  76 448]]\n"
     ]
    }
   ],
   "source": [
    "best_adb = grid_search.best_estimator_\n",
    "print(confusion_matrix(y_test, best_adb.predict(scaler.fit_transform(X_test))))"
   ]
  },
  {
   "cell_type": "markdown",
   "metadata": {},
   "source": [
    "**OK...no improvement here over Random Forest Classifier.  Let's try the PCA one more time.**"
   ]
  },
  {
   "cell_type": "code",
   "execution_count": 231,
   "metadata": {},
   "outputs": [
    {
     "name": "stdout",
     "output_type": "stream",
     "text": [
      "GridSearchCV took 113.32 seconds for 16 candidate parameter settings.\n",
      "Model with rank: 1\n",
      "Mean validation score: 0.634 (std: 0.007)\n",
      "Parameters: {'learning_rate': 0.1, 'n_estimators': 150}\n",
      "\n",
      "Model with rank: 2\n",
      "Mean validation score: 0.633 (std: 0.005)\n",
      "Parameters: {'learning_rate': 0.1, 'n_estimators': 100}\n",
      "\n",
      "Model with rank: 3\n",
      "Mean validation score: 0.631 (std: 0.010)\n",
      "Parameters: {'learning_rate': 0.05, 'n_estimators': 100}\n",
      "\n"
     ]
    }
   ],
   "source": [
    "X_train, X_test, y_train, y_test = train_test_split(X_pca, target, test_size=0.15, random_state=42)\n",
    "param_grid = {\"n_estimators\": [100, 150, 250, 500],\n",
    "             \"learning_rate\": [0.01, 0.05, 0.1, 0.3]\n",
    "             }\n",
    "\n",
    "grid_search = GridSearchCV(adb, param_grid=param_grid, cv=5)\n",
    "start = time()\n",
    "grid_search.fit(X_train, y_train)\n",
    "\n",
    "print(\"GridSearchCV took %.2f seconds for %d candidate parameter settings.\"\n",
    "      % (time() - start, len(grid_search.cv_results_['params'])))\n",
    "report(grid_search.cv_results_)"
   ]
  },
  {
   "cell_type": "markdown",
   "metadata": {},
   "source": [
    "**Check the confusion matrix one more time**"
   ]
  },
  {
   "cell_type": "code",
   "execution_count": 233,
   "metadata": {},
   "outputs": [
    {
     "name": "stdout",
     "output_type": "stream",
     "text": [
      "[[ 57  72 121]\n",
      " [ 27 115 140]\n",
      " [ 18  53 477]]\n"
     ]
    }
   ],
   "source": [
    "best_adb = grid_search.best_estimator_\n",
    "print(confusion_matrix(y_test, best_adb.predict(scaler.fit_transform(X_test))))"
   ]
  },
  {
   "cell_type": "markdown",
   "metadata": {},
   "source": [
    "**Seems like Random Forest Classifier trained on the unscaled topic scores as features still gives the best performance.  Let's see if we can do better than 0.713 validation accuracy using Artificial Neural Networks.**"
   ]
  },
  {
   "cell_type": "markdown",
   "metadata": {},
   "source": [
    "**Import Keras goodies for ANNs**"
   ]
  },
  {
   "cell_type": "code",
   "execution_count": 31,
   "metadata": {},
   "outputs": [],
   "source": [
    "import keras\n",
    "from keras import regularizers\n",
    "from keras.models import Sequential\n",
    "from keras.layers import Dense, Dropout, Activation, BatchNormalization\n",
    "from keras.callbacks import ModelCheckpoint"
   ]
  },
  {
   "cell_type": "markdown",
   "metadata": {},
   "source": [
    "**Let's get some new training and testing data splits**"
   ]
  },
  {
   "cell_type": "code",
   "execution_count": 358,
   "metadata": {},
   "outputs": [],
   "source": [
    "X = pd.DataFrame(X)\n",
    "X_train, X_test, y_train, y_test = train_test_split(X, target, test_size=0.15, random_state=42)"
   ]
  },
  {
   "cell_type": "markdown",
   "metadata": {},
   "source": [
    "**Adjust the category values from 1-3 to 0-2**"
   ]
  },
  {
   "cell_type": "code",
   "execution_count": 359,
   "metadata": {},
   "outputs": [],
   "source": [
    "y_train = [int(category-1) for category in y_train]\n",
    "y_test = [int(category-1) for category in y_test]"
   ]
  },
  {
   "cell_type": "markdown",
   "metadata": {},
   "source": [
    "**Categorically encode the targets and cast everything to numpy arrays**"
   ]
  },
  {
   "cell_type": "code",
   "execution_count": 360,
   "metadata": {},
   "outputs": [],
   "source": [
    "num_classes = 3\n",
    "y_train = np.array(keras.utils.to_categorical(y_train, num_classes))\n",
    "y_test = np.array(keras.utils.to_categorical(y_test, num_classes))\n",
    "X_train = np.array(X_train)\n",
    "X_test = np.array(X_test)"
   ]
  },
  {
   "cell_type": "markdown",
   "metadata": {},
   "source": [
    "**Let's build a Deep Neural Network.  Played around with a lot of different architectures and this one seemed to train OK.  There are likely to be better architectures out there.**"
   ]
  },
  {
   "cell_type": "code",
   "execution_count": 361,
   "metadata": {},
   "outputs": [
    {
     "name": "stdout",
     "output_type": "stream",
     "text": [
      "_________________________________________________________________\n",
      "Layer (type)                 Output Shape              Param #   \n",
      "=================================================================\n",
      "dense_121 (Dense)            (None, 128)               9088      \n",
      "_________________________________________________________________\n",
      "batch_normalization_68 (Batc (None, 128)               512       \n",
      "_________________________________________________________________\n",
      "dropout_91 (Dropout)         (None, 128)               0         \n",
      "_________________________________________________________________\n",
      "dense_122 (Dense)            (None, 32)                4128      \n",
      "_________________________________________________________________\n",
      "batch_normalization_69 (Batc (None, 32)                128       \n",
      "_________________________________________________________________\n",
      "dropout_92 (Dropout)         (None, 32)                0         \n",
      "_________________________________________________________________\n",
      "dense_123 (Dense)            (None, 8)                 264       \n",
      "_________________________________________________________________\n",
      "batch_normalization_70 (Batc (None, 8)                 32        \n",
      "_________________________________________________________________\n",
      "dropout_93 (Dropout)         (None, 8)                 0         \n",
      "_________________________________________________________________\n",
      "dense_124 (Dense)            (None, 3)                 27        \n",
      "=================================================================\n",
      "Total params: 14,179\n",
      "Trainable params: 13,843\n",
      "Non-trainable params: 336\n",
      "_________________________________________________________________\n"
     ]
    }
   ],
   "source": [
    "model = Sequential()\n",
    "model.add(Dense(128, activation='relu', input_shape=(70,)))\n",
    "model.add(BatchNormalization())\n",
    "model.add(Dropout(.2))\n",
    "model.add(Dense(32, activation='relu'))\n",
    "model.add(BatchNormalization())\n",
    "model.add(Dropout(.1))\n",
    "model.add(Dense(8, activation='relu'))\n",
    "model.add(BatchNormalization())\n",
    "model.add(Dropout(.1))\n",
    "model.add(Dense(3, activation='softmax'))\n",
    "model.compile(loss='categorical_crossentropy', optimizer='adam', metrics=['accuracy'])\n",
    "model.summary()"
   ]
  },
  {
   "cell_type": "markdown",
   "metadata": {},
   "source": [
    "**Let's train the model and save the weights for the best one along the way.  Best one is the model with greatest validation accuracy in a run.**"
   ]
  },
  {
   "cell_type": "code",
   "execution_count": 362,
   "metadata": {},
   "outputs": [
    {
     "name": "stdout",
     "output_type": "stream",
     "text": [
      "\n",
      "Epoch 00001: val_acc improved from -inf to 0.54684, saving model to weights.best.hdf5\n",
      "\n",
      "Epoch 00002: val_acc improved from 0.54684 to 0.58606, saving model to weights.best.hdf5\n",
      "\n",
      "Epoch 00003: val_acc improved from 0.58606 to 0.61057, saving model to weights.best.hdf5\n",
      "\n",
      "Epoch 00004: val_acc improved from 0.61057 to 0.63780, saving model to weights.best.hdf5\n",
      "\n",
      "Epoch 00005: val_acc improved from 0.63780 to 0.65468, saving model to weights.best.hdf5\n",
      "\n",
      "Epoch 00006: val_acc improved from 0.65468 to 0.66122, saving model to weights.best.hdf5\n",
      "\n",
      "Epoch 00007: val_acc did not improve from 0.66122\n",
      "\n",
      "Epoch 00008: val_acc improved from 0.66122 to 0.66285, saving model to weights.best.hdf5\n",
      "\n",
      "Epoch 00009: val_acc did not improve from 0.66285\n",
      "\n",
      "Epoch 00010: val_acc did not improve from 0.66285\n",
      "\n",
      "Epoch 00011: val_acc did not improve from 0.66285\n",
      "\n",
      "Epoch 00012: val_acc did not improve from 0.66285\n",
      "\n",
      "Epoch 00013: val_acc did not improve from 0.66285\n",
      "\n",
      "Epoch 00014: val_acc improved from 0.66285 to 0.66449, saving model to weights.best.hdf5\n",
      "\n",
      "Epoch 00015: val_acc improved from 0.66449 to 0.67593, saving model to weights.best.hdf5\n",
      "\n",
      "Epoch 00016: val_acc improved from 0.67593 to 0.68246, saving model to weights.best.hdf5\n",
      "\n",
      "Epoch 00017: val_acc improved from 0.68246 to 0.68791, saving model to weights.best.hdf5\n",
      "\n",
      "Epoch 00018: val_acc did not improve from 0.68791\n",
      "\n",
      "Epoch 00019: val_acc did not improve from 0.68791\n",
      "\n",
      "Epoch 00020: val_acc did not improve from 0.68791\n",
      "\n",
      "Epoch 00021: val_acc did not improve from 0.68791\n",
      "\n",
      "Epoch 00022: val_acc did not improve from 0.68791\n",
      "\n",
      "Epoch 00023: val_acc did not improve from 0.68791\n",
      "\n",
      "Epoch 00024: val_acc did not improve from 0.68791\n",
      "\n",
      "Epoch 00025: val_acc improved from 0.68791 to 0.69172, saving model to weights.best.hdf5\n",
      "\n",
      "Epoch 00026: val_acc did not improve from 0.69172\n",
      "\n",
      "Epoch 00027: val_acc did not improve from 0.69172\n",
      "\n",
      "Epoch 00028: val_acc did not improve from 0.69172\n",
      "\n",
      "Epoch 00029: val_acc did not improve from 0.69172\n",
      "\n",
      "Epoch 00030: val_acc did not improve from 0.69172\n",
      "\n",
      "Epoch 00031: val_acc did not improve from 0.69172\n",
      "\n",
      "Epoch 00032: val_acc did not improve from 0.69172\n",
      "\n",
      "Epoch 00033: val_acc improved from 0.69172 to 0.69662, saving model to weights.best.hdf5\n",
      "\n",
      "Epoch 00034: val_acc did not improve from 0.69662\n",
      "\n",
      "Epoch 00035: val_acc did not improve from 0.69662\n",
      "\n",
      "Epoch 00036: val_acc improved from 0.69662 to 0.69880, saving model to weights.best.hdf5\n",
      "\n",
      "Epoch 00037: val_acc did not improve from 0.69880\n",
      "\n",
      "Epoch 00038: val_acc did not improve from 0.69880\n",
      "\n",
      "Epoch 00039: val_acc did not improve from 0.69880\n",
      "\n",
      "Epoch 00040: val_acc did not improve from 0.69880\n",
      "\n",
      "Epoch 00041: val_acc did not improve from 0.69880\n",
      "\n",
      "Epoch 00042: val_acc did not improve from 0.69880\n",
      "\n",
      "Epoch 00043: val_acc did not improve from 0.69880\n",
      "\n",
      "Epoch 00044: val_acc did not improve from 0.69880\n",
      "\n",
      "Epoch 00045: val_acc did not improve from 0.69880\n",
      "\n",
      "Epoch 00046: val_acc did not improve from 0.69880\n",
      "\n",
      "Epoch 00047: val_acc did not improve from 0.69880\n",
      "\n",
      "Epoch 00048: val_acc did not improve from 0.69880\n",
      "\n",
      "Epoch 00049: val_acc did not improve from 0.69880\n",
      "\n",
      "Epoch 00050: val_acc did not improve from 0.69880\n"
     ]
    },
    {
     "data": {
      "text/plain": [
       "<keras.callbacks.History at 0x7f0e5ed50c18>"
      ]
     },
     "execution_count": 362,
     "metadata": {},
     "output_type": "execute_result"
    }
   ],
   "source": [
    "filepath = 'weights.best.hdf5'\n",
    "checkpoint = ModelCheckpoint(filepath, monitor='val_acc', verbose=1, save_best_only=True, mode='max')\n",
    "callbacks_list = [checkpoint]\n",
    "model.fit(X_train, y_train, validation_split=0.3, epochs=50, batch_size=500, callbacks=callbacks_list, verbose=0)"
   ]
  },
  {
   "cell_type": "markdown",
   "metadata": {},
   "source": [
    "**Best validation accuracy achieved on by this model was only 0.69880.  That's worse than the Random Forest Classifier!  Let's see if this can be improved.  But first, let's check performance on the test data set.**"
   ]
  },
  {
   "cell_type": "code",
   "execution_count": 363,
   "metadata": {},
   "outputs": [],
   "source": [
    "best_model = Sequential()\n",
    "best_model.add(Dense(128, activation='relu', input_shape=(70,)))\n",
    "best_model.add(BatchNormalization())\n",
    "best_model.add(Dropout(.2))\n",
    "best_model.add(Dense(32, activation='relu'))\n",
    "best_model.add(BatchNormalization())\n",
    "best_model.add(Dropout(.1))\n",
    "best_model.add(Dense(8, activation='relu'))\n",
    "best_model.add(BatchNormalization())\n",
    "best_model.add(Dropout(.1))\n",
    "best_model.add(Dense(3, activation='softmax'))\n",
    "best_model.load_weights('weights.best.hdf5')\n",
    "best_model.compile(loss='categorical_crossentropy', optimizer='adam', metrics=['accuracy'])"
   ]
  },
  {
   "cell_type": "markdown",
   "metadata": {},
   "source": [
    "**Now we have a new model compiled using the best weights from the prior run.  Let's see how it predicts the targets using the features from the test data set**"
   ]
  },
  {
   "cell_type": "code",
   "execution_count": 364,
   "metadata": {},
   "outputs": [
    {
     "name": "stdout",
     "output_type": "stream",
     "text": [
      "Accuracy:  0.6583333333333333\n"
     ]
    }
   ],
   "source": [
    "score = best_model.evaluate(X_test, y_test, verbose=0)\n",
    "print(\"Accuracy: \", score[1])"
   ]
  },
  {
   "cell_type": "markdown",
   "metadata": {},
   "source": [
    "**A function to get IDs from the already generated corpus**"
   ]
  },
  {
   "cell_type": "code",
   "execution_count": 17,
   "metadata": {},
   "outputs": [],
   "source": [
    "def get_ids(corpus):\n",
    "    entries = []\n",
    "    for entry in corpus:\n",
    "        items = []\n",
    "        for item in entry:\n",
    "            items.append(item[0])\n",
    "        entries.append(items)\n",
    "    return entries"
   ]
  },
  {
   "cell_type": "markdown",
   "metadata": {},
   "source": [
    "**Let's re-load the lemmatized reviews as a starting point**"
   ]
  },
  {
   "cell_type": "code",
   "execution_count": 18,
   "metadata": {},
   "outputs": [],
   "source": [
    "X = reviews_lemmatized"
   ]
  },
  {
   "cell_type": "markdown",
   "metadata": {},
   "source": [
    "**Import some more Keras goodies to tokenize the lemmatized reviews.  Keep only 1000 words after tokenization**"
   ]
  },
  {
   "cell_type": "code",
   "execution_count": 19,
   "metadata": {},
   "outputs": [
    {
     "name": "stderr",
     "output_type": "stream",
     "text": [
      "Using TensorFlow backend.\n"
     ]
    }
   ],
   "source": [
    "from keras.preprocessing.text import Tokenizer"
   ]
  },
  {
   "cell_type": "code",
   "execution_count": 20,
   "metadata": {},
   "outputs": [],
   "source": [
    "num_words = 1000\n",
    "tokenizer = Tokenizer(num_words=num_words)"
   ]
  },
  {
   "cell_type": "markdown",
   "metadata": {},
   "source": [
    "**Let's get a new train / test split from the tokenized reviews**"
   ]
  },
  {
   "cell_type": "code",
   "execution_count": 68,
   "metadata": {},
   "outputs": [],
   "source": [
    "X_train, X_test, y_train, y_test = train_test_split(X, target, test_size=0.3, random_state=42)"
   ]
  },
  {
   "cell_type": "markdown",
   "metadata": {},
   "source": [
    "**Get the topic scores for the X_train and X_test reviews.  These can be concatenated with the one-hot encodings later.**"
   ]
  },
  {
   "cell_type": "code",
   "execution_count": 69,
   "metadata": {},
   "outputs": [
    {
     "ename": "NameError",
     "evalue": "name 'lda_model' is not defined",
     "output_type": "error",
     "traceback": [
      "\u001b[0;31m---------------------------------------------------------------------------\u001b[0m",
      "\u001b[0;31mNameError\u001b[0m                                 Traceback (most recent call last)",
      "\u001b[0;32m<ipython-input-69-461b6b128696>\u001b[0m in \u001b[0;36m<module>\u001b[0;34m\u001b[0m\n\u001b[0;32m----> 1\u001b[0;31m \u001b[0mX_train_topics\u001b[0m \u001b[0;34m=\u001b[0m \u001b[0mget_topic_scores\u001b[0m\u001b[0;34m(\u001b[0m\u001b[0mmodel\u001b[0m\u001b[0;34m=\u001b[0m\u001b[0mlda_model\u001b[0m\u001b[0;34m,\u001b[0m \u001b[0mdictionary\u001b[0m\u001b[0;34m=\u001b[0m\u001b[0mid2word\u001b[0m\u001b[0;34m,\u001b[0m \u001b[0mreviews\u001b[0m\u001b[0;34m=\u001b[0m\u001b[0mX_train\u001b[0m\u001b[0;34m)\u001b[0m\u001b[0;34m\u001b[0m\u001b[0;34m\u001b[0m\u001b[0m\n\u001b[0m\u001b[1;32m      2\u001b[0m \u001b[0mX_test_topics\u001b[0m \u001b[0;34m=\u001b[0m \u001b[0mget_topic_scores\u001b[0m\u001b[0;34m(\u001b[0m\u001b[0mmodel\u001b[0m\u001b[0;34m=\u001b[0m\u001b[0mlda_model\u001b[0m\u001b[0;34m,\u001b[0m \u001b[0mdictionary\u001b[0m\u001b[0;34m=\u001b[0m\u001b[0mid2word\u001b[0m\u001b[0;34m,\u001b[0m \u001b[0mreviews\u001b[0m\u001b[0;34m=\u001b[0m\u001b[0mX_test\u001b[0m\u001b[0;34m)\u001b[0m\u001b[0;34m\u001b[0m\u001b[0;34m\u001b[0m\u001b[0m\n\u001b[1;32m      3\u001b[0m \u001b[0mX_train_topic_scores\u001b[0m \u001b[0;34m=\u001b[0m \u001b[0mpd\u001b[0m\u001b[0;34m.\u001b[0m\u001b[0mDataFrame\u001b[0m\u001b[0;34m(\u001b[0m\u001b[0;34m[\u001b[0m\u001b[0mdict\u001b[0m\u001b[0;34m(\u001b[0m\u001b[0mscore\u001b[0m\u001b[0;34m)\u001b[0m \u001b[0;32mfor\u001b[0m \u001b[0mscore\u001b[0m \u001b[0;32min\u001b[0m \u001b[0mX_train_topics\u001b[0m\u001b[0;34m]\u001b[0m\u001b[0;34m)\u001b[0m\u001b[0;34m.\u001b[0m\u001b[0mfillna\u001b[0m\u001b[0;34m(\u001b[0m\u001b[0;36m0\u001b[0m\u001b[0;34m)\u001b[0m\u001b[0;34m\u001b[0m\u001b[0;34m\u001b[0m\u001b[0m\n\u001b[1;32m      4\u001b[0m \u001b[0mX_test_topic_scores\u001b[0m \u001b[0;34m=\u001b[0m \u001b[0mpd\u001b[0m\u001b[0;34m.\u001b[0m\u001b[0mDataFrame\u001b[0m\u001b[0;34m(\u001b[0m\u001b[0;34m[\u001b[0m\u001b[0mdict\u001b[0m\u001b[0;34m(\u001b[0m\u001b[0mscore\u001b[0m\u001b[0;34m)\u001b[0m \u001b[0;32mfor\u001b[0m \u001b[0mscore\u001b[0m \u001b[0;32min\u001b[0m \u001b[0mX_test_topics\u001b[0m\u001b[0;34m]\u001b[0m\u001b[0;34m)\u001b[0m\u001b[0;34m.\u001b[0m\u001b[0mfillna\u001b[0m\u001b[0;34m(\u001b[0m\u001b[0;36m0\u001b[0m\u001b[0;34m)\u001b[0m\u001b[0;34m\u001b[0m\u001b[0;34m\u001b[0m\u001b[0m\n",
      "\u001b[0;31mNameError\u001b[0m: name 'lda_model' is not defined"
     ]
    }
   ],
   "source": [
    "X_train_topics = get_topic_scores(model=lda_model, dictionary=id2word, reviews=X_train)\n",
    "X_test_topics = get_topic_scores(model=lda_model, dictionary=id2word, reviews=X_test)\n",
    "X_train_topic_scores = pd.DataFrame([dict(score) for score in X_train_topics]).fillna(0)\n",
    "X_test_topic_scores = pd.DataFrame([dict(score) for score in X_test_topics]).fillna(0)"
   ]
  },
  {
   "cell_type": "markdown",
   "metadata": {},
   "source": [
    "**Convert X_train and X_test reviews into corpora and get the word ids for each review**"
   ]
  },
  {
   "cell_type": "code",
   "execution_count": 70,
   "metadata": {},
   "outputs": [],
   "source": [
    "X_train = get_ids([id2word.doc2bow(review) for review in X_train])\n",
    "X_test = get_ids([id2word.doc2bow(review) for review in X_test])"
   ]
  },
  {
   "cell_type": "markdown",
   "metadata": {},
   "source": [
    "**One-hot encode each lemmatized review**"
   ]
  },
  {
   "cell_type": "code",
   "execution_count": 71,
   "metadata": {},
   "outputs": [],
   "source": [
    "X_train = tokenizer.sequences_to_matrix(X_train, mode='binary')\n",
    "X_test = tokenizer.sequences_to_matrix(X_test, mode='binary')"
   ]
  },
  {
   "cell_type": "markdown",
   "metadata": {},
   "source": [
    "**Concatenate the one-hot encoded features with the topic scores.  Can be used as an augmented feature set.**"
   ]
  },
  {
   "cell_type": "code",
   "execution_count": 72,
   "metadata": {},
   "outputs": [
    {
     "ename": "NameError",
     "evalue": "name 'X_train_topic_scores' is not defined",
     "output_type": "error",
     "traceback": [
      "\u001b[0;31m---------------------------------------------------------------------------\u001b[0m",
      "\u001b[0;31mNameError\u001b[0m                                 Traceback (most recent call last)",
      "\u001b[0;32m<ipython-input-72-f2c227d369ba>\u001b[0m in \u001b[0;36m<module>\u001b[0;34m\u001b[0m\n\u001b[0;32m----> 1\u001b[0;31m \u001b[0mX_train_concat\u001b[0m \u001b[0;34m=\u001b[0m \u001b[0mnp\u001b[0m\u001b[0;34m.\u001b[0m\u001b[0mconcatenate\u001b[0m\u001b[0;34m(\u001b[0m\u001b[0;34m(\u001b[0m\u001b[0mX_train\u001b[0m\u001b[0;34m,\u001b[0m \u001b[0mX_train_topic_scores\u001b[0m\u001b[0;34m)\u001b[0m\u001b[0;34m,\u001b[0m \u001b[0maxis\u001b[0m\u001b[0;34m=\u001b[0m\u001b[0;36m1\u001b[0m\u001b[0;34m)\u001b[0m\u001b[0;34m\u001b[0m\u001b[0;34m\u001b[0m\u001b[0m\n\u001b[0m\u001b[1;32m      2\u001b[0m \u001b[0mX_test_concat\u001b[0m \u001b[0;34m=\u001b[0m \u001b[0mnp\u001b[0m\u001b[0;34m.\u001b[0m\u001b[0mconcatenate\u001b[0m\u001b[0;34m(\u001b[0m\u001b[0;34m(\u001b[0m\u001b[0mX_test\u001b[0m\u001b[0;34m,\u001b[0m \u001b[0mX_test_topic_scores\u001b[0m\u001b[0;34m)\u001b[0m\u001b[0;34m,\u001b[0m \u001b[0maxis\u001b[0m\u001b[0;34m=\u001b[0m\u001b[0;36m1\u001b[0m\u001b[0;34m)\u001b[0m\u001b[0;34m\u001b[0m\u001b[0;34m\u001b[0m\u001b[0m\n",
      "\u001b[0;31mNameError\u001b[0m: name 'X_train_topic_scores' is not defined"
     ]
    }
   ],
   "source": [
    "X_train_concat = np.concatenate((X_train, X_train_topic_scores), axis=1)\n",
    "X_test_concat = np.concatenate((X_test, X_test_topic_scores), axis=1)"
   ]
  },
  {
   "cell_type": "markdown",
   "metadata": {},
   "source": [
    "**Categorically encode the targets and cast everything to numpy arrays**"
   ]
  },
  {
   "cell_type": "code",
   "execution_count": 73,
   "metadata": {},
   "outputs": [],
   "source": [
    "num_classes = 3\n",
    "y_train = [int(category-1) for category in y_train]\n",
    "y_test = [int(category-1) for category in y_test]\n",
    "y_train = np.array(keras.utils.to_categorical(y_train, num_classes))\n",
    "y_test = np.array(keras.utils.to_categorical(y_test, num_classes))"
   ]
  },
  {
   "cell_type": "markdown",
   "metadata": {},
   "source": [
    "**Build a new model to train on the one-hot encoded features**"
   ]
  },
  {
   "cell_type": "code",
   "execution_count": 402,
   "metadata": {},
   "outputs": [
    {
     "name": "stdout",
     "output_type": "stream",
     "text": [
      "_________________________________________________________________\n",
      "Layer (type)                 Output Shape              Param #   \n",
      "=================================================================\n",
      "dense_169 (Dense)            (None, 128)               128128    \n",
      "_________________________________________________________________\n",
      "dropout_127 (Dropout)        (None, 128)               0         \n",
      "_________________________________________________________________\n",
      "dense_170 (Dense)            (None, 32)                4128      \n",
      "_________________________________________________________________\n",
      "batch_normalization_94 (Batc (None, 32)                128       \n",
      "_________________________________________________________________\n",
      "dropout_128 (Dropout)        (None, 32)                0         \n",
      "_________________________________________________________________\n",
      "dense_171 (Dense)            (None, 8)                 264       \n",
      "_________________________________________________________________\n",
      "batch_normalization_95 (Batc (None, 8)                 32        \n",
      "_________________________________________________________________\n",
      "dropout_129 (Dropout)        (None, 8)                 0         \n",
      "_________________________________________________________________\n",
      "dense_172 (Dense)            (None, 3)                 27        \n",
      "=================================================================\n",
      "Total params: 132,707\n",
      "Trainable params: 132,627\n",
      "Non-trainable params: 80\n",
      "_________________________________________________________________\n"
     ]
    }
   ],
   "source": [
    "model_one_hot = Sequential()\n",
    "model_one_hot.add(Dense(128, activation='relu', input_shape=(num_words,), kernel_regularizer=regularizers.l2(0.01)))\n",
    "model_one_hot.add(Dropout(.1))\n",
    "model_one_hot.add(Dense(32, activation='relu', kernel_regularizer=regularizers.l2(0.01)))\n",
    "model_one_hot.add(BatchNormalization())\n",
    "model_one_hot.add(Dropout(.1))\n",
    "model_one_hot.add(Dense(8, activation='relu', kernel_regularizer=regularizers.l2(0.01)))\n",
    "model_one_hot.add(BatchNormalization())\n",
    "model_one_hot.add(Dropout(.1))\n",
    "model_one_hot.add(Dense(3, activation='softmax'))\n",
    "model_one_hot.compile(loss='categorical_crossentropy', optimizer='adam', metrics=['accuracy'])\n",
    "model_one_hot.summary()"
   ]
  },
  {
   "cell_type": "markdown",
   "metadata": {},
   "source": [
    "**Train the new model using checkpointing to save the best weights**"
   ]
  },
  {
   "cell_type": "code",
   "execution_count": 403,
   "metadata": {},
   "outputs": [
    {
     "name": "stdout",
     "output_type": "stream",
     "text": [
      "\n",
      "Epoch 00001: val_acc improved from -inf to 0.72123, saving model to weights.best_one_hot.hdf5\n",
      "\n",
      "Epoch 00002: val_acc improved from 0.72123 to 0.76290, saving model to weights.best_one_hot.hdf5\n",
      "\n",
      "Epoch 00003: val_acc improved from 0.76290 to 0.78671, saving model to weights.best_one_hot.hdf5\n",
      "\n",
      "Epoch 00004: val_acc did not improve from 0.78671\n",
      "\n",
      "Epoch 00005: val_acc improved from 0.78671 to 0.79464, saving model to weights.best_one_hot.hdf5\n",
      "\n",
      "Epoch 00006: val_acc did not improve from 0.79464\n",
      "\n",
      "Epoch 00007: val_acc did not improve from 0.79464\n",
      "\n",
      "Epoch 00008: val_acc did not improve from 0.79464\n",
      "\n",
      "Epoch 00009: val_acc did not improve from 0.79464\n",
      "\n",
      "Epoch 00010: val_acc did not improve from 0.79464\n",
      "\n",
      "Epoch 00011: val_acc did not improve from 0.79464\n",
      "\n",
      "Epoch 00012: val_acc did not improve from 0.79464\n",
      "\n",
      "Epoch 00013: val_acc did not improve from 0.79464\n",
      "\n",
      "Epoch 00014: val_acc did not improve from 0.79464\n",
      "\n",
      "Epoch 00015: val_acc did not improve from 0.79464\n",
      "\n",
      "Epoch 00016: val_acc did not improve from 0.79464\n",
      "\n",
      "Epoch 00017: val_acc did not improve from 0.79464\n",
      "\n",
      "Epoch 00018: val_acc did not improve from 0.79464\n",
      "\n",
      "Epoch 00019: val_acc did not improve from 0.79464\n",
      "\n",
      "Epoch 00020: val_acc did not improve from 0.79464\n",
      "\n",
      "Epoch 00021: val_acc did not improve from 0.79464\n",
      "\n",
      "Epoch 00022: val_acc did not improve from 0.79464\n",
      "\n",
      "Epoch 00023: val_acc did not improve from 0.79464\n",
      "\n",
      "Epoch 00024: val_acc did not improve from 0.79464\n",
      "\n",
      "Epoch 00025: val_acc did not improve from 0.79464\n",
      "\n",
      "Epoch 00026: val_acc did not improve from 0.79464\n",
      "\n",
      "Epoch 00027: val_acc did not improve from 0.79464\n",
      "\n",
      "Epoch 00028: val_acc did not improve from 0.79464\n",
      "\n",
      "Epoch 00029: val_acc did not improve from 0.79464\n",
      "\n",
      "Epoch 00030: val_acc did not improve from 0.79464\n",
      "\n",
      "Epoch 00031: val_acc did not improve from 0.79464\n",
      "\n",
      "Epoch 00032: val_acc did not improve from 0.79464\n",
      "\n",
      "Epoch 00033: val_acc did not improve from 0.79464\n",
      "\n",
      "Epoch 00034: val_acc did not improve from 0.79464\n",
      "\n",
      "Epoch 00035: val_acc did not improve from 0.79464\n",
      "\n",
      "Epoch 00036: val_acc did not improve from 0.79464\n",
      "\n",
      "Epoch 00037: val_acc did not improve from 0.79464\n",
      "\n",
      "Epoch 00038: val_acc did not improve from 0.79464\n",
      "\n",
      "Epoch 00039: val_acc did not improve from 0.79464\n",
      "\n",
      "Epoch 00040: val_acc did not improve from 0.79464\n",
      "\n",
      "Epoch 00041: val_acc did not improve from 0.79464\n",
      "\n",
      "Epoch 00042: val_acc did not improve from 0.79464\n",
      "\n",
      "Epoch 00043: val_acc did not improve from 0.79464\n",
      "\n",
      "Epoch 00044: val_acc did not improve from 0.79464\n",
      "\n",
      "Epoch 00045: val_acc did not improve from 0.79464\n",
      "\n",
      "Epoch 00046: val_acc did not improve from 0.79464\n",
      "\n",
      "Epoch 00047: val_acc did not improve from 0.79464\n",
      "\n",
      "Epoch 00048: val_acc did not improve from 0.79464\n",
      "\n",
      "Epoch 00049: val_acc did not improve from 0.79464\n",
      "\n",
      "Epoch 00050: val_acc did not improve from 0.79464\n",
      "\n",
      "Epoch 00051: val_acc did not improve from 0.79464\n",
      "\n",
      "Epoch 00052: val_acc did not improve from 0.79464\n",
      "\n",
      "Epoch 00053: val_acc did not improve from 0.79464\n",
      "\n",
      "Epoch 00054: val_acc did not improve from 0.79464\n",
      "\n",
      "Epoch 00055: val_acc did not improve from 0.79464\n",
      "\n",
      "Epoch 00056: val_acc did not improve from 0.79464\n",
      "\n",
      "Epoch 00057: val_acc did not improve from 0.79464\n",
      "\n",
      "Epoch 00058: val_acc did not improve from 0.79464\n",
      "\n",
      "Epoch 00059: val_acc did not improve from 0.79464\n",
      "\n",
      "Epoch 00060: val_acc did not improve from 0.79464\n",
      "\n",
      "Epoch 00061: val_acc did not improve from 0.79464\n",
      "\n",
      "Epoch 00062: val_acc did not improve from 0.79464\n",
      "\n",
      "Epoch 00063: val_acc did not improve from 0.79464\n",
      "\n",
      "Epoch 00064: val_acc did not improve from 0.79464\n",
      "\n",
      "Epoch 00065: val_acc did not improve from 0.79464\n",
      "\n",
      "Epoch 00066: val_acc did not improve from 0.79464\n",
      "\n",
      "Epoch 00067: val_acc did not improve from 0.79464\n",
      "\n",
      "Epoch 00068: val_acc did not improve from 0.79464\n",
      "\n",
      "Epoch 00069: val_acc did not improve from 0.79464\n",
      "\n",
      "Epoch 00070: val_acc did not improve from 0.79464\n",
      "\n",
      "Epoch 00071: val_acc did not improve from 0.79464\n",
      "\n",
      "Epoch 00072: val_acc did not improve from 0.79464\n",
      "\n",
      "Epoch 00073: val_acc did not improve from 0.79464\n",
      "\n",
      "Epoch 00074: val_acc did not improve from 0.79464\n",
      "\n",
      "Epoch 00075: val_acc did not improve from 0.79464\n",
      "\n",
      "Epoch 00076: val_acc did not improve from 0.79464\n",
      "\n",
      "Epoch 00077: val_acc did not improve from 0.79464\n",
      "\n",
      "Epoch 00078: val_acc did not improve from 0.79464\n",
      "\n",
      "Epoch 00079: val_acc did not improve from 0.79464\n",
      "\n",
      "Epoch 00080: val_acc did not improve from 0.79464\n",
      "\n",
      "Epoch 00081: val_acc did not improve from 0.79464\n",
      "\n",
      "Epoch 00082: val_acc did not improve from 0.79464\n",
      "\n",
      "Epoch 00083: val_acc did not improve from 0.79464\n",
      "\n",
      "Epoch 00084: val_acc did not improve from 0.79464\n",
      "\n",
      "Epoch 00085: val_acc did not improve from 0.79464\n",
      "\n",
      "Epoch 00086: val_acc did not improve from 0.79464\n",
      "\n",
      "Epoch 00087: val_acc did not improve from 0.79464\n",
      "\n",
      "Epoch 00088: val_acc did not improve from 0.79464\n",
      "\n",
      "Epoch 00089: val_acc did not improve from 0.79464\n",
      "\n",
      "Epoch 00090: val_acc did not improve from 0.79464\n",
      "\n",
      "Epoch 00091: val_acc did not improve from 0.79464\n",
      "\n",
      "Epoch 00092: val_acc did not improve from 0.79464\n",
      "\n",
      "Epoch 00093: val_acc did not improve from 0.79464\n",
      "\n",
      "Epoch 00094: val_acc did not improve from 0.79464\n",
      "\n",
      "Epoch 00095: val_acc did not improve from 0.79464\n",
      "\n",
      "Epoch 00096: val_acc did not improve from 0.79464\n",
      "\n",
      "Epoch 00097: val_acc did not improve from 0.79464\n",
      "\n",
      "Epoch 00098: val_acc did not improve from 0.79464\n",
      "\n",
      "Epoch 00099: val_acc did not improve from 0.79464\n",
      "\n",
      "Epoch 00100: val_acc did not improve from 0.79464\n",
      "\n",
      "Epoch 00101: val_acc did not improve from 0.79464\n",
      "\n",
      "Epoch 00102: val_acc did not improve from 0.79464\n",
      "\n",
      "Epoch 00103: val_acc did not improve from 0.79464\n",
      "\n",
      "Epoch 00104: val_acc did not improve from 0.79464\n",
      "\n",
      "Epoch 00105: val_acc did not improve from 0.79464\n",
      "\n",
      "Epoch 00106: val_acc did not improve from 0.79464\n",
      "\n",
      "Epoch 00107: val_acc did not improve from 0.79464\n",
      "\n",
      "Epoch 00108: val_acc did not improve from 0.79464\n",
      "\n",
      "Epoch 00109: val_acc did not improve from 0.79464\n",
      "\n",
      "Epoch 00110: val_acc did not improve from 0.79464\n",
      "\n",
      "Epoch 00111: val_acc did not improve from 0.79464\n",
      "\n",
      "Epoch 00112: val_acc did not improve from 0.79464\n",
      "\n",
      "Epoch 00113: val_acc did not improve from 0.79464\n",
      "\n",
      "Epoch 00114: val_acc did not improve from 0.79464\n",
      "\n",
      "Epoch 00115: val_acc did not improve from 0.79464\n",
      "\n",
      "Epoch 00116: val_acc did not improve from 0.79464\n",
      "\n",
      "Epoch 00117: val_acc did not improve from 0.79464\n",
      "\n",
      "Epoch 00118: val_acc did not improve from 0.79464\n",
      "\n",
      "Epoch 00119: val_acc did not improve from 0.79464\n",
      "\n",
      "Epoch 00120: val_acc did not improve from 0.79464\n",
      "\n",
      "Epoch 00121: val_acc did not improve from 0.79464\n",
      "\n",
      "Epoch 00122: val_acc did not improve from 0.79464\n",
      "\n",
      "Epoch 00123: val_acc did not improve from 0.79464\n",
      "\n",
      "Epoch 00124: val_acc did not improve from 0.79464\n",
      "\n",
      "Epoch 00125: val_acc did not improve from 0.79464\n",
      "\n",
      "Epoch 00126: val_acc did not improve from 0.79464\n",
      "\n",
      "Epoch 00127: val_acc did not improve from 0.79464\n",
      "\n",
      "Epoch 00128: val_acc did not improve from 0.79464\n",
      "\n",
      "Epoch 00129: val_acc did not improve from 0.79464\n",
      "\n",
      "Epoch 00130: val_acc did not improve from 0.79464\n",
      "\n",
      "Epoch 00131: val_acc did not improve from 0.79464\n",
      "\n",
      "Epoch 00132: val_acc did not improve from 0.79464\n",
      "\n",
      "Epoch 00133: val_acc did not improve from 0.79464\n",
      "\n",
      "Epoch 00134: val_acc did not improve from 0.79464\n",
      "\n",
      "Epoch 00135: val_acc did not improve from 0.79464\n",
      "\n",
      "Epoch 00136: val_acc did not improve from 0.79464\n",
      "\n",
      "Epoch 00137: val_acc did not improve from 0.79464\n",
      "\n",
      "Epoch 00138: val_acc did not improve from 0.79464\n",
      "\n",
      "Epoch 00139: val_acc did not improve from 0.79464\n",
      "\n",
      "Epoch 00140: val_acc did not improve from 0.79464\n",
      "\n",
      "Epoch 00141: val_acc did not improve from 0.79464\n",
      "\n",
      "Epoch 00142: val_acc did not improve from 0.79464\n",
      "\n",
      "Epoch 00143: val_acc did not improve from 0.79464\n",
      "\n",
      "Epoch 00144: val_acc did not improve from 0.79464\n",
      "\n",
      "Epoch 00145: val_acc did not improve from 0.79464\n",
      "\n",
      "Epoch 00146: val_acc did not improve from 0.79464\n",
      "\n",
      "Epoch 00147: val_acc did not improve from 0.79464\n",
      "\n",
      "Epoch 00148: val_acc did not improve from 0.79464\n",
      "\n",
      "Epoch 00149: val_acc did not improve from 0.79464\n",
      "\n",
      "Epoch 00150: val_acc did not improve from 0.79464\n"
     ]
    },
    {
     "data": {
      "text/plain": [
       "<keras.callbacks.History at 0x7f0b5e29ce80>"
      ]
     },
     "execution_count": 403,
     "metadata": {},
     "output_type": "execute_result"
    }
   ],
   "source": [
    "filepath = 'weights.best_one_hot.hdf5'\n",
    "checkpoint = ModelCheckpoint(filepath, monitor='val_acc', verbose=1, save_best_only=True, mode='max')\n",
    "callbacks_list = [checkpoint]\n",
    "model_one_hot.fit(X_train, y_train, validation_split=0.2, epochs=150, batch_size=100, callbacks=callbacks_list, verbose=0)"
   ]
  },
  {
   "cell_type": "markdown",
   "metadata": {},
   "source": [
    "**Load the best weights and use the trained model to predict test targets from test features**"
   ]
  },
  {
   "cell_type": "code",
   "execution_count": 74,
   "metadata": {},
   "outputs": [],
   "source": [
    "best_model_one_hot = Sequential()\n",
    "best_model_one_hot.add(Dense(128, activation='relu', input_shape=(num_words,), kernel_regularizer=regularizers.l2(0.02)))\n",
    "best_model_one_hot.add(Dropout(.1))\n",
    "best_model_one_hot.add(Dense(32, activation='relu', kernel_regularizer=regularizers.l2(0.02)))\n",
    "best_model_one_hot.add(BatchNormalization())\n",
    "best_model_one_hot.add(Dropout(.1))\n",
    "best_model_one_hot.add(Dense(8, activation='relu', kernel_regularizer=regularizers.l2(0.02)))\n",
    "best_model_one_hot.add(BatchNormalization())\n",
    "best_model_one_hot.add(Dropout(.1))\n",
    "best_model_one_hot.add(Dense(3, activation='softmax'))\n",
    "best_model_one_hot.load_weights('weights.best_one_hot.hdf5')\n",
    "best_model_one_hot.compile(loss='categorical_crossentropy', optimizer='adam', metrics=['accuracy'])"
   ]
  },
  {
   "cell_type": "code",
   "execution_count": 75,
   "metadata": {},
   "outputs": [
    {
     "name": "stdout",
     "output_type": "stream",
     "text": [
      "Accuracy:  0.7722222222222223\n"
     ]
    }
   ],
   "source": [
    "score = best_model_one_hot.evaluate(X_test, y_test, verbose=0)\n",
    "print(\"Accuracy: \", score[1])"
   ]
  },
  {
   "cell_type": "markdown",
   "metadata": {},
   "source": [
    "**Not bad after only 150 epochs.  More training might yield higher accuracy, but this is already a great improvement over the baseline model.**"
   ]
  },
  {
   "cell_type": "code",
   "execution_count": 77,
   "metadata": {},
   "outputs": [
    {
     "name": "stdout",
     "output_type": "stream",
     "text": [
      "[[ 288   67  146]\n",
      " [  29  340  148]\n",
      " [  26   76 1040]]\n"
     ]
    }
   ],
   "source": [
    "y_predicted = best_model_one_hot.predict(X_test)\n",
    "print(confusion_matrix(np.argmax(y_test, 1), np.argmax(y_predicted, 1)))"
   ]
  },
  {
   "cell_type": "markdown",
   "metadata": {},
   "source": [
    "**Let's revisit Random Forest Classifier using the one-hot encoded reviews**"
   ]
  },
  {
   "cell_type": "code",
   "execution_count": 80,
   "metadata": {},
   "outputs": [
    {
     "name": "stdout",
     "output_type": "stream",
     "text": [
      "GridSearchCV took 1167.57 seconds for 48 candidate parameter settings.\n",
      "Model with rank: 1\n",
      "Mean validation score: 0.740 (std: 0.004)\n",
      "Parameters: {'bootstrap': False, 'criterion': 'entropy', 'max_features': 'sqrt', 'min_samples_split': 10, 'n_estimators': 200}\n",
      "\n",
      "Model with rank: 2\n",
      "Mean validation score: 0.739 (std: 0.004)\n",
      "Parameters: {'bootstrap': False, 'criterion': 'entropy', 'max_features': 'sqrt', 'min_samples_split': 10, 'n_estimators': 300}\n",
      "\n",
      "Model with rank: 3\n",
      "Mean validation score: 0.739 (std: 0.009)\n",
      "Parameters: {'bootstrap': False, 'criterion': 'entropy', 'max_features': 'sqrt', 'min_samples_split': 5, 'n_estimators': 200}\n",
      "\n"
     ]
    }
   ],
   "source": [
    "param_grid = {\"n_estimators\": [200, 300],\n",
    "              \"min_samples_split\": [2, 5, 10],\n",
    "              \"max_features\": ['sqrt', 'log2'],\n",
    "              \"bootstrap\": [True, False],\n",
    "              \"criterion\": [\"gini\", \"entropy\"]}\n",
    "\n",
    "# run grid search\n",
    "grid_search = GridSearchCV(clf, param_grid=param_grid, cv=5)\n",
    "start = time()\n",
    "grid_search.fit(X_train, y_train)\n",
    "\n",
    "print(\"GridSearchCV took %.2f seconds for %d candidate parameter settings.\"\n",
    "      % (time() - start, len(grid_search.cv_results_['params'])))\n",
    "report(grid_search.cv_results_)"
   ]
  },
  {
   "cell_type": "markdown",
   "metadata": {},
   "source": [
    "**Looks like a slight improvement over using the topic models, but the Deep Neural Network still wins out.**"
   ]
  },
  {
   "cell_type": "code",
   "execution_count": 81,
   "metadata": {},
   "outputs": [],
   "source": [
    "best_clf_one_hot = grid_search.best_estimator_\n",
    "y_predicted = best_clf_one_hot.predict(X_test)"
   ]
  },
  {
   "cell_type": "code",
   "execution_count": 82,
   "metadata": {},
   "outputs": [
    {
     "name": "stdout",
     "output_type": "stream",
     "text": [
      "[[367  28 106]\n",
      " [110 304 103]\n",
      " [ 91  63 988]]\n"
     ]
    }
   ],
   "source": [
    "print(confusion_matrix(np.argmax(y_test, 1), np.argmax(y_predicted, 1)))"
   ]
  },
  {
   "cell_type": "code",
   "execution_count": 84,
   "metadata": {},
   "outputs": [
    {
     "data": {
      "text/plain": [
       "0.7351851851851852"
      ]
     },
     "execution_count": 84,
     "metadata": {},
     "output_type": "execute_result"
    }
   ],
   "source": [
    "best_clf_one_hot.score(X_test, y_test)"
   ]
  },
  {
   "cell_type": "code",
   "execution_count": null,
   "metadata": {},
   "outputs": [],
   "source": []
  }
 ],
 "metadata": {
  "kernelspec": {
   "display_name": "Python 3",
   "language": "python",
   "name": "python3"
  },
  "language_info": {
   "codemirror_mode": {
    "name": "ipython",
    "version": 3
   },
   "file_extension": ".py",
   "mimetype": "text/x-python",
   "name": "python",
   "nbconvert_exporter": "python",
   "pygments_lexer": "ipython3",
   "version": "3.6.7"
  }
 },
 "nbformat": 4,
 "nbformat_minor": 2
}
